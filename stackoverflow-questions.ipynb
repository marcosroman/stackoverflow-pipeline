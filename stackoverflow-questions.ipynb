{
 "cells": [
  {
   "cell_type": "code",
   "execution_count": 0,
   "metadata": {
    "application/vnd.databricks.v1+cell": {
     "cellMetadata": {
      "byteLimit": 2048000,
      "rowLimit": 10000
     },
     "inputWidgets": {},
     "nuid": "5450cb18-1f29-4af9-8f75-b9bbc45911e7",
     "showTitle": false,
     "tableResultSettingsMap": {},
     "title": ""
    }
   },
   "outputs": [],
   "source": [
    "import requests\n",
    "\n",
    "# uploaded stackoverflow api key using databricks-cli (docker image)\n",
    "api_key = dbutils.secrets.get('so_api_scope', 'so_api_key')\n",
    "\n",
    "def fetch_page(page):\n",
    "    url = \"https://api.stackexchange.com/2.3/questions\"\n",
    "    params = {\n",
    "        \"page\": page,\n",
    "        \"pagesize\": 100,\n",
    "        \"order\": \"desc\",\n",
    "        \"sort\": \"creation\",\n",
    "        \"site\": \"stackoverflow\",\n",
    "        \"key\": api_key\n",
    "    }\n",
    "    data = requests.get(url, params=params).json()\n",
    "    return data.get(\"items\", [])"
   ]
  },
  {
   "cell_type": "code",
   "execution_count": 0,
   "metadata": {
    "application/vnd.databricks.v1+cell": {
     "cellMetadata": {
      "byteLimit": 2048000,
      "rowLimit": 10000
     },
     "inputWidgets": {},
     "nuid": "4e8fb826-759f-475d-b3ac-ede3c8e8bbf5",
     "showTitle": false,
     "tableResultSettingsMap": {},
     "title": ""
    }
   },
   "outputs": [],
   "source": [
    "# example\n",
    "fetch_page(1)"
   ]
  },
  {
   "cell_type": "code",
   "execution_count": 0,
   "metadata": {
    "application/vnd.databricks.v1+cell": {
     "cellMetadata": {
      "byteLimit": 2048000,
      "rowLimit": 10000
     },
     "inputWidgets": {},
     "nuid": "00e32bca-7a71-43e4-ab71-689a0d833c12",
     "showTitle": false,
     "tableResultSettingsMap": {},
     "title": ""
    }
   },
   "outputs": [],
   "source": [
    "from pyspark.sql import functions as F\n",
    "import json\n",
    "\n",
    "def process_page(page):\n",
    "    items = fetch_page(page)\n",
    "    if not items:\n",
    "        return\n",
    "    \n",
    "    # convert problematic nested fields to JSON strings\n",
    "    for item in items:\n",
    "        complex_fields = ['migrated_to', 'migrated_from', 'posted_by_collectives', 'owner', 'closed_details']\n",
    "        \n",
    "        for field in complex_fields:\n",
    "            if field in item and item[field] is not None:\n",
    "                item[field] = json.dumps(item[field])\n",
    "\n",
    "    df = spark.createDataFrame(items) \\\n",
    "            .withColumn(\"question_id\", F.col(\"question_id\").cast(\"long\")) \\\n",
    "            .withColumn(\"creation_date\", F.col(\"creation_date\").cast(\"long\")) \\\n",
    "            .withColumn(\"creation_period\", F.floor(F.col(\"creation_date\") / 1e6).cast(\"long\")) \\\n",
    "            .withColumn(\"last_activity_date\", F.col(\"last_activity_date\").cast(\"long\"))\n",
    "    # dates are in unix time (unix epoch, seconds since 1970-01-01), so we divide by 1e7 ~= 100 days, to partition data later using this column\n",
    "    df = df.select(\"question_id\", \"creation_date\", \"creation_period\", \"last_activity_date\",\n",
    "                   *[c for c in df.columns if c not in [\"question_id\", \"creation_date\", \"creation_period\", \"last_activity_date\"]])\n",
    "    \n",
    "    return df"
   ]
  },
  {
   "cell_type": "code",
   "execution_count": 0,
   "metadata": {
    "application/vnd.databricks.v1+cell": {
     "cellMetadata": {
      "byteLimit": 2048000,
      "rowLimit": 10000
     },
     "inputWidgets": {},
     "nuid": "312e3b11-6402-4b10-a101-e4e6c3709483",
     "showTitle": false,
     "tableResultSettingsMap": {},
     "title": ""
    }
   },
   "outputs": [],
   "source": [
    "process_page(1).display()"
   ]
  },
  {
   "cell_type": "code",
   "execution_count": 0,
   "metadata": {
    "application/vnd.databricks.v1+cell": {
     "cellMetadata": {
      "byteLimit": 2048000,
      "implicitDf": true,
      "rowLimit": 10000
     },
     "inputWidgets": {},
     "nuid": "79477af5-2779-4972-87fd-821359046ce1",
     "showTitle": false,
     "tableResultSettingsMap": {},
     "title": ""
    }
   },
   "outputs": [],
   "source": [
    "%sql\n",
    "CREATE DATABASE IF NOT EXISTS bronze;\n",
    "CREATE DATABASE IF NOT EXISTS silver;\n",
    "CREATE DATABASE IF NOT EXISTS gold;\n",
    "\n",
    "CREATE TABLE IF NOT EXISTS bronze.questions\n",
    "USING DELTA\n",
    "LOCATION '/mnt/bronze/questions';\n",
    "\n",
    "CREATE TABLE IF NOT EXISTS silver.questions\n",
    "USING DELTA\n",
    "LOCATION '/mnt/silver/questions';"
   ]
  },
  {
   "cell_type": "markdown",
   "metadata": {
    "application/vnd.databricks.v1+cell": {
     "cellMetadata": {},
     "inputWidgets": {},
     "nuid": "eb415ad5-5446-471e-8dfa-37f9e964e5c3",
     "showTitle": false,
     "tableResultSettingsMap": {},
     "title": ""
    }
   },
   "source": [
    "With a given (API key, IP) pair, we have 1000 API calls per day.\n",
    "\n",
    "Each call gives us 100 entries (questions).\n",
    "\n",
    "To avoid hitting the limit (since we've made some calls already), let's say we have 900.\n",
    "\n",
    "What we could do is to use 10 workers in parallel..."
   ]
  },
  {
   "cell_type": "code",
   "execution_count": 0,
   "metadata": {
    "application/vnd.databricks.v1+cell": {
     "cellMetadata": {
      "byteLimit": 2048000,
      "rowLimit": 10000
     },
     "inputWidgets": {},
     "nuid": "dde5d140-9b33-46ae-9875-d098f103c7b2",
     "showTitle": false,
     "tableResultSettingsMap": {},
     "title": ""
    }
   },
   "outputs": [],
   "source": [
    "from concurrent.futures import ThreadPoolExecutor\n",
    "from typing import List\n",
    "from functools import reduce\n",
    "\n",
    "def fetch_and_write_parallel(\n",
    "    pages: List[int],\n",
    "    table_name: str = \"bronze.questions\",\n",
    "    max_workers: int = 10\n",
    "):\n",
    "    \n",
    "    # fetch  in parallel\n",
    "    dfs = []\n",
    "    with ThreadPoolExecutor(max_workers=max_workers) as executor:\n",
    "        results = executor.map(process_page, pages)\n",
    "        dfs = [df for df in results if df is not None]\n",
    "    \n",
    "    # combine using unionByName (handles different columns)\n",
    "    combined_df = reduce(\n",
    "        lambda df1, df2: df1.unionByName(df2, allowMissingColumns=True),\n",
    "        dfs\n",
    "    )\n",
    "    \n",
    "    # write to delta lake\n",
    "    combined_df.write \\\n",
    "        .format(\"delta\") \\\n",
    "        .mode(\"append\") \\\n",
    "        .partitionBy(\"creation_period\") \\\n",
    "        .saveAsTable(\"bronze.questions\")\n",
    "\n",
    "fetch_and_write_parallel(\n",
    "    pages=range(1,901),\n",
    "    table_name=\"bronze.questions\",\n",
    "    max_workers=10\n",
    ")"
   ]
  },
  {
   "cell_type": "code",
   "execution_count": 0,
   "metadata": {
    "application/vnd.databricks.v1+cell": {
     "cellMetadata": {
      "byteLimit": 2048000,
      "implicitDf": true,
      "rowLimit": 10000
     },
     "inputWidgets": {},
     "nuid": "ce04e537-b441-4ed5-825c-b6c6f74f2185",
     "showTitle": false,
     "tableResultSettingsMap": {},
     "title": ""
    }
   },
   "outputs": [],
   "source": [
    "%sql\n",
    "DESCRIBE DETAIL bronze.questions;"
   ]
  },
  {
   "cell_type": "code",
   "execution_count": 0,
   "metadata": {
    "application/vnd.databricks.v1+cell": {
     "cellMetadata": {
      "byteLimit": 2048000,
      "implicitDf": true,
      "rowLimit": 10000
     },
     "inputWidgets": {},
     "nuid": "e5527f7d-461f-4a2f-b238-d07d2406669e",
     "showTitle": false,
     "tableResultSettingsMap": {},
     "title": ""
    }
   },
   "outputs": [],
   "source": [
    "%sql\n",
    "OPTIMIZE bronze.questions \n",
    "ZORDER BY (question_id)"
   ]
  },
  {
   "cell_type": "code",
   "execution_count": 0,
   "metadata": {
    "application/vnd.databricks.v1+cell": {
     "cellMetadata": {
      "byteLimit": 2048000,
      "implicitDf": true,
      "rowLimit": 10000
     },
     "inputWidgets": {},
     "nuid": "dc5fdb80-299e-45fc-aeb0-e87d5184cc12",
     "showTitle": false,
     "tableResultSettingsMap": {},
     "title": ""
    }
   },
   "outputs": [],
   "source": [
    "%sql\n",
    "DESCRIBE DETAIL bronze.questions"
   ]
  },
  {
   "cell_type": "code",
   "execution_count": 0,
   "metadata": {
    "application/vnd.databricks.v1+cell": {
     "cellMetadata": {
      "byteLimit": 2048000,
      "rowLimit": 10000
     },
     "inputWidgets": {},
     "nuid": "57ad4337-ce3d-4fa2-8697-a0651b5863c0",
     "showTitle": false,
     "tableResultSettingsMap": {},
     "title": ""
    }
   },
   "outputs": [],
   "source": [
    "# now the silver layer\n",
    "from pyspark.sql import functions as F\n",
    "\n",
    "bronze_df = spark.table(\"bronze.questions\")\n",
    "\n",
    "silver_df = bronze_df.select(\n",
    "    F.col(\"question_id\"),\n",
    "    F.from_unixtime(F.col(\"creation_date\")).cast(\"timestamp\").alias(\"creation_date\"),\n",
    "    F.col(\"creation_period\"),\n",
    "    F.from_unixtime(F.col(\"last_activity_date\")).cast(\"timestamp\").alias(\"last_activity_date\"),\n",
    "    F.col(\"tags\"),\n",
    "    F.col(\"answer_count\").cast(\"int\"),\n",
    "    F.col(\"is_answered\").cast(\"boolean\"),\n",
    "    F.col(\"view_count\").cast(\"int\")\n",
    ").filter(\n",
    "    F.col(\"question_id\").isNotNull()\n",
    ").dropDuplicates([\"question_id\"])\n",
    "\n",
    "silver_df.write \\\n",
    "    .format(\"delta\") \\\n",
    "    .mode(\"overwrite\") \\\n",
    "    .option(\"overwriteSchema\", \"true\") \\\n",
    "    .partitionBy(\"creation_period\") \\\n",
    "    .saveAsTable(\"silver.questions\")"
   ]
  },
  {
   "cell_type": "code",
   "execution_count": 0,
   "metadata": {
    "application/vnd.databricks.v1+cell": {
     "cellMetadata": {
      "byteLimit": 2048000,
      "implicitDf": true,
      "rowLimit": 10000
     },
     "inputWidgets": {},
     "nuid": "6156b4a1-b8d8-4c15-857a-d3dc7cba23d9",
     "showTitle": false,
     "tableResultSettingsMap": {},
     "title": ""
    }
   },
   "outputs": [],
   "source": [
    "%sql SELECT * FROM silver.questions LIMIT 20"
   ]
  }
 ],
 "metadata": {
  "application/vnd.databricks.v1+notebook": {
   "computePreferences": null,
   "dashboards": [],
   "environmentMetadata": {
    "base_environment": "",
    "environment_version": "3"
   },
   "inputWidgetPreferences": null,
   "language": "python",
   "notebookMetadata": {
    "mostRecentlyExecutedCommandWithImplicitDF": {
     "commandId": 4817661498311888,
     "dataframes": [
      "_sqldf"
     ]
    },
    "pythonIndentUnit": 4
   },
   "notebookName": "stackoverflow-questions",
   "widgets": {}
  },
  "language_info": {
   "name": "python"
  }
 },
 "nbformat": 4,
 "nbformat_minor": 0
}
