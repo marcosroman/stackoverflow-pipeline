{
 "cells": [
  {
   "cell_type": "code",
   "execution_count": 0,
   "metadata": {
    "application/vnd.databricks.v1+cell": {
     "cellMetadata": {
      "byteLimit": 2048000,
      "rowLimit": 10000
     },
     "inputWidgets": {},
     "nuid": "54684f7a-4751-4654-8581-f1791b2f3fa1",
     "showTitle": false,
     "tableResultSettingsMap": {},
     "title": ""
    },
    "jupyter": {
     "outputs_hidden": true
    }
   },
   "outputs": [
    {
     "output_type": "stream",
     "name": "stdout",
     "output_type": "stream",
     "text": [
      "Wrote 78023 bytes.\nWrote 78148 bytes.\nWrote 79329 bytes.\nWrote 78471 bytes.\nWrote 78030 bytes.\nWrote 79024 bytes.\nWrote 79865 bytes.\nWrote 80391 bytes.\nWrote 79840 bytes.\nWrote 78380 bytes.\nWrote 77130 bytes.\nWrote 79577 bytes.\nWrote 78734 bytes.\nWrote 79918 bytes.\nWrote 78405 bytes.\nWrote 80197 bytes.\nWrote 78072 bytes.\nWrote 80955 bytes.\nWrote 78602 bytes.\nWrote 79809 bytes.\nWrote 77903 bytes.\nWrote 79456 bytes.\nWrote 80355 bytes.\nWrote 79831 bytes.\nWrote 79053 bytes.\nWrote 78542 bytes.\nWrote 78803 bytes.\nWrote 78487 bytes.\nWrote 80435 bytes.\nWrote 78027 bytes.\nWrote 79472 bytes.\nWrote 78902 bytes.\nWrote 80302 bytes.\nWrote 76719 bytes.\nWrote 77712 bytes.\nWrote 78512 bytes.\nWrote 78829 bytes.\nWrote 78285 bytes.\nWrote 79511 bytes.\nWrote 78933 bytes.\nWrote 77272 bytes.\nWrote 79269 bytes.\nWrote 77632 bytes.\nWrote 76966 bytes.\nWrote 77373 bytes.\nWrote 77870 bytes.\nWrote 77262 bytes.\nWrote 78070 bytes.\nWrote 76298 bytes.\nWrote 77957 bytes.\nWrote 77129 bytes.\nWrote 78801 bytes.\nWrote 77751 bytes.\nWrote 78140 bytes.\nWrote 78095 bytes.\nWrote 78385 bytes.\nWrote 78897 bytes.\nWrote 79186 bytes.\nWrote 79017 bytes.\nWrote 78167 bytes.\nWrote 76654 bytes.\nWrote 79903 bytes.\nWrote 78720 bytes.\nWrote 77437 bytes.\nWrote 77450 bytes.\nWrote 78218 bytes.\nWrote 80240 bytes.\nWrote 78182 bytes.\nWrote 77997 bytes.\nWrote 78646 bytes.\nWrote 78141 bytes.\nWrote 79325 bytes.\nWrote 81419 bytes.\nWrote 79705 bytes.\nWrote 77216 bytes.\nWrote 80065 bytes.\nWrote 79777 bytes.\nWrote 81233 bytes.\nWrote 77969 bytes.\nWrote 79828 bytes.\nWrote 79613 bytes.\nWrote 78858 bytes.\nWrote 79286 bytes.\nWrote 78182 bytes.\nWrote 78711 bytes.\nWrote 79245 bytes.\nWrote 77631 bytes.\nWrote 79662 bytes.\nWrote 78792 bytes.\nWrote 79862 bytes.\nWrote 77947 bytes.\nWrote 76986 bytes.\nWrote 78701 bytes.\nWrote 77772 bytes.\nWrote 78423 bytes.\nWrote 77311 bytes.\nWrote 78132 bytes.\nWrote 77652 bytes.\nWrote 77812 bytes.\nWrote 77941 bytes.\nWrote 78375 bytes.\nWrote 77353 bytes.\nWrote 77819 bytes.\nWrote 79250 bytes.\nWrote 78127 bytes.\nWrote 78984 bytes.\nWrote 78725 bytes.\nWrote 77501 bytes.\nWrote 78447 bytes.\nWrote 78384 bytes.\nWrote 80618 bytes.\nWrote 78285 bytes.\nWrote 77983 bytes.\nWrote 79633 bytes.\nWrote 78138 bytes.\nWrote 78499 bytes.\nWrote 79028 bytes.\nWrote 78852 bytes.\nWrote 79004 bytes.\nWrote 79142 bytes.\nWrote 78169 bytes.\nWrote 77842 bytes.\nWrote 79248 bytes.\nWrote 77850 bytes.\nWrote 78676 bytes.\nWrote 77868 bytes.\nWrote 77746 bytes.\nWrote 78254 bytes.\nWrote 78536 bytes.\nWrote 77663 bytes.\nWrote 77874 bytes.\nWrote 78934 bytes.\nWrote 78215 bytes.\nWrote 77734 bytes.\nWrote 77594 bytes.\nWrote 78256 bytes.\nWrote 77824 bytes.\nWrote 78413 bytes.\nWrote 78520 bytes.\nWrote 76744 bytes.\nWrote 79287 bytes.\nWrote 78314 bytes.\nWrote 77701 bytes.\nWrote 78632 bytes.\nWrote 78077 bytes.\nWrote 79693 bytes.\nWrote 77925 bytes.\nWrote 77145 bytes.\nWrote 79677 bytes.\nWrote 78158 bytes.\nWrote 78369 bytes.\nWrote 79368 bytes.\nWrote 77808 bytes.\nWrote 79184 bytes.\nWrote 77688 bytes.\nWrote 78527 bytes.\nWrote 77990 bytes.\nWrote 77524 bytes.\nWrote 78648 bytes.\nWrote 78848 bytes.\nWrote 78002 bytes.\nWrote 78721 bytes.\nWrote 78146 bytes.\nWrote 78112 bytes.\nWrote 78033 bytes.\nWrote 78211 bytes.\nWrote 78140 bytes.\nWrote 77978 bytes.\nWrote 78289 bytes.\nWrote 79850 bytes.\nWrote 78351 bytes.\nWrote 78899 bytes.\nWrote 78301 bytes.\nWrote 78455 bytes.\nWrote 76287 bytes.\nWrote 77892 bytes.\nWrote 78357 bytes.\nWrote 78834 bytes.\nWrote 78405 bytes.\nWrote 79040 bytes.\nWrote 77187 bytes.\nWrote 79076 bytes.\nWrote 79838 bytes.\nWrote 78081 bytes.\nWrote 77907 bytes.\nWrote 78428 bytes.\nWrote 78747 bytes.\nWrote 78325 bytes.\nWrote 79252 bytes.\nWrote 78195 bytes.\nWrote 78602 bytes.\nWrote 77652 bytes.\nWrote 78144 bytes.\nWrote 78054 bytes.\nWrote 79830 bytes.\nWrote 78018 bytes.\nWrote 79167 bytes.\nWrote 78751 bytes.\nWrote 78431 bytes.\nWrote 78374 bytes.\nWrote 77953 bytes.\nWrote 78732 bytes.\nWrote 78763 bytes.\nWrote 77667 bytes.\nWrote 78119 bytes.\nWrote 79035 bytes.\nWrote 77626 bytes.\nWrote 78100 bytes.\nWrote 78169 bytes.\nWrote 78819 bytes.\nWrote 77104 bytes.\nWrote 79782 bytes.\nWrote 78405 bytes.\nWrote 77628 bytes.\nWrote 79125 bytes.\nWrote 77823 bytes.\nWrote 78382 bytes.\nWrote 78898 bytes.\nWrote 78316 bytes.\nWrote 78755 bytes.\nWrote 77425 bytes.\nWrote 77897 bytes.\nWrote 77383 bytes.\nWrote 78017 bytes.\nWrote 78129 bytes.\nWrote 78960 bytes.\nWrote 78472 bytes.\nWrote 77402 bytes.\nWrote 78270 bytes.\nWrote 77780 bytes.\nWrote 78304 bytes.\nWrote 78157 bytes.\nWrote 77959 bytes.\nWrote 77251 bytes.\nWrote 78426 bytes.\nWrote 78004 bytes.\nWrote 78489 bytes.\nWrote 77201 bytes.\nWrote 77545 bytes.\nWrote 78682 bytes.\nWrote 77053 bytes.\nWrote 77966 bytes.\nWrote 77809 bytes.\nWrote 78224 bytes.\nWrote 77907 bytes.\nWrote 77923 bytes.\nWrote 78014 bytes.\nWrote 78174 bytes.\nWrote 77772 bytes.\nWrote 77597 bytes.\nWrote 78192 bytes.\nWrote 77766 bytes.\nWrote 78450 bytes.\nWrote 76804 bytes.\nWrote 77419 bytes.\nWrote 77783 bytes.\nWrote 77987 bytes.\nWrote 78329 bytes.\nWrote 78323 bytes.\nWrote 78314 bytes.\nWrote 77306 bytes.\nWrote 78095 bytes.\nWrote 78760 bytes.\nWrote 77318 bytes.\nWrote 78379 bytes.\nWrote 78460 bytes.\nWrote 76764 bytes.\nWrote 78586 bytes.\nWrote 77940 bytes.\nWrote 78439 bytes.\nWrote 77793 bytes.\nWrote 76859 bytes.\nWrote 78960 bytes.\nWrote 77372 bytes.\nWrote 78545 bytes.\nWrote 78004 bytes.\nWrote 77445 bytes.\nWrote 78024 bytes.\nWrote 78636 bytes.\nWrote 76947 bytes.\nWrote 77269 bytes.\nWrote 77255 bytes.\nWrote 78779 bytes.\nWrote 78455 bytes.\nWrote 78000 bytes.\nWrote 78762 bytes.\nWrote 78725 bytes.\nWrote 78639 bytes.\nWrote 79460 bytes.\nWrote 77722 bytes.\nWrote 77609 bytes.\nWrote 78328 bytes.\nWrote 77699 bytes.\nWrote 78080 bytes.\nWrote 77311 bytes.\nWrote 77877 bytes.\nWrote 78213 bytes.\nWrote 79647 bytes.\nWrote 77528 bytes.\nWrote 77788 bytes.\nWrote 77894 bytes.\nWrote 78536 bytes.\nWrote 79527 bytes.\nWrote 78026 bytes.\nWrote 77141 bytes.\nWrote 77493 bytes.\nWrote 78749 bytes.\nWrote 78777 bytes.\nWrote 78889 bytes.\nWrote 77873 bytes.\nWrote 79503 bytes.\nWrote 78371 bytes.\nWrote 77744 bytes.\nWrote 77428 bytes.\nWrote 78435 bytes.\nWrote 78128 bytes.\nWrote 77758 bytes.\nWrote 78651 bytes.\nWrote 76951 bytes.\nWrote 79467 bytes.\nWrote 78920 bytes.\nWrote 77564 bytes.\nWrote 78594 bytes.\nWrote 78501 bytes.\nWrote 78256 bytes.\nWrote 77207 bytes.\nWrote 77745 bytes.\nWrote 77300 bytes.\nWrote 78392 bytes.\nWrote 78766 bytes.\nWrote 77972 bytes.\nWrote 77071 bytes.\nWrote 78667 bytes.\nWrote 78746 bytes.\nWrote 77306 bytes.\nWrote 78327 bytes.\nWrote 78026 bytes.\nWrote 78596 bytes.\nWrote 77445 bytes.\nWrote 78798 bytes.\nWrote 77828 bytes.\nWrote 78036 bytes.\nWrote 78407 bytes.\nWrote 77237 bytes.\nWrote 77333 bytes.\nWrote 79087 bytes.\nWrote 78190 bytes.\nWrote 77989 bytes.\nWrote 77832 bytes.\nWrote 77733 bytes.\nWrote 77963 bytes.\nWrote 78753 bytes.\nWrote 78167 bytes.\nWrote 79804 bytes.\nWrote 76695 bytes.\nWrote 78511 bytes.\nWrote 77713 bytes.\nWrote 77304 bytes.\nWrote 80081 bytes.\nWrote 77552 bytes.\nWrote 77799 bytes.\nWrote 77643 bytes.\nWrote 78837 bytes.\nWrote 77243 bytes.\nWrote 77540 bytes.\nWrote 77873 bytes.\nWrote 77861 bytes.\nWrote 78281 bytes.\nWrote 77950 bytes.\nWrote 77907 bytes.\nWrote 78518 bytes.\nWrote 77662 bytes.\nWrote 78342 bytes.\nWrote 77837 bytes.\nWrote 79885 bytes.\nWrote 77228 bytes.\nWrote 77167 bytes.\nWrote 78960 bytes.\nWrote 78797 bytes.\nWrote 76898 bytes.\nWrote 78505 bytes.\nWrote 78030 bytes.\nWrote 78258 bytes.\nWrote 77879 bytes.\nWrote 78260 bytes.\nWrote 77856 bytes.\nWrote 78167 bytes.\nWrote 77174 bytes.\nWrote 77978 bytes.\nWrote 76499 bytes.\nWrote 78499 bytes.\nWrote 78518 bytes.\nWrote 77619 bytes.\nWrote 77352 bytes.\nWrote 77210 bytes.\nWrote 78891 bytes.\nWrote 77413 bytes.\nWrote 78143 bytes.\nWrote 78099 bytes.\nWrote 77765 bytes.\nWrote 78057 bytes.\nWrote 77627 bytes.\nWrote 78118 bytes.\nWrote 77242 bytes.\nWrote 77899 bytes.\nWrote 78246 bytes.\nWrote 76853 bytes.\nWrote 77947 bytes.\nWrote 77971 bytes.\nWrote 78152 bytes.\nWrote 78373 bytes.\nWrote 77724 bytes.\nWrote 78510 bytes.\nWrote 77966 bytes.\nWrote 78136 bytes.\nWrote 76768 bytes.\nWrote 76926 bytes.\nWrote 78720 bytes.\nWrote 79189 bytes.\nWrote 77823 bytes.\nWrote 77140 bytes.\nWrote 78089 bytes.\nWrote 78518 bytes.\nWrote 76749 bytes.\nWrote 78911 bytes.\nWrote 77604 bytes.\nWrote 78622 bytes.\nWrote 78392 bytes.\nWrote 76817 bytes.\nWrote 79205 bytes.\nWrote 77464 bytes.\nWrote 77511 bytes.\nWrote 78340 bytes.\nWrote 78539 bytes.\nWrote 78530 bytes.\nWrote 78785 bytes.\nWrote 79973 bytes.\nWrote 77727 bytes.\nWrote 77729 bytes.\nWrote 78047 bytes.\nWrote 78478 bytes.\nWrote 76877 bytes.\nWrote 79554 bytes.\nWrote 78552 bytes.\nWrote 77802 bytes.\nWrote 77982 bytes.\nWrote 78054 bytes.\nWrote 78212 bytes.\nWrote 77814 bytes.\nWrote 79070 bytes.\nWrote 78700 bytes.\nWrote 78422 bytes.\nWrote 77588 bytes.\nWrote 77928 bytes.\nWrote 77468 bytes.\nWrote 77088 bytes.\nWrote 77647 bytes.\nWrote 77365 bytes.\nWrote 77356 bytes.\nWrote 77380 bytes.\nWrote 77984 bytes.\nWrote 79797 bytes.\nWrote 77630 bytes.\nWrote 76093 bytes.\nWrote 78004 bytes.\nWrote 78769 bytes.\nWrote 78280 bytes.\nWrote 77890 bytes.\nWrote 77425 bytes.\nWrote 77088 bytes.\nWrote 78428 bytes.\nWrote 78553 bytes.\nWrote 78444 bytes.\nWrote 78119 bytes.\nWrote 78749 bytes.\nWrote 78658 bytes.\nWrote 78107 bytes.\nWrote 76824 bytes.\nWrote 78889 bytes.\nWrote 76963 bytes.\nWrote 77725 bytes.\nWrote 77575 bytes.\nWrote 77262 bytes.\nWrote 78220 bytes.\nWrote 78161 bytes.\nWrote 77803 bytes.\nWrote 78139 bytes.\nWrote 78227 bytes.\nWrote 77300 bytes.\nWrote 77827 bytes.\nWrote 77224 bytes.\nWrote 77637 bytes.\nWrote 78061 bytes.\nWrote 78859 bytes.\nWrote 78682 bytes.\nWrote 78911 bytes.\nWrote 79446 bytes.\nWrote 77749 bytes.\nWrote 78659 bytes.\nWrote 78087 bytes.\nWrote 78618 bytes.\nWrote 77941 bytes.\nWrote 77675 bytes.\nWrote 76946 bytes.\nWrote 78272 bytes.\nWrote 78109 bytes.\nWrote 78321 bytes.\nWrote 78120 bytes.\nWrote 78665 bytes.\nWrote 78021 bytes.\nWrote 78611 bytes.\nWrote 78373 bytes.\nWrote 78012 bytes.\nWrote 77515 bytes.\nWrote 77118 bytes.\nWrote 77916 bytes.\nWrote 79695 bytes.\nWrote 77555 bytes.\nWrote 77614 bytes.\nWrote 78324 bytes.\nWrote 77645 bytes.\nWrote 78128 bytes.\nWrote 77429 bytes.\nWrote 78458 bytes.\nWrote 77779 bytes.\nWrote 77443 bytes.\nWrote 78225 bytes.\nWrote 78967 bytes.\nWrote 78025 bytes.\nWrote 78537 bytes.\nWrote 77668 bytes.\nWrote 78560 bytes.\nWrote 77630 bytes.\nWrote 78683 bytes.\nWrote 77451 bytes.\nWrote 78282 bytes.\nWrote 77396 bytes.\nWrote 77614 bytes.\nWrote 78237 bytes.\nWrote 78209 bytes.\nWrote 78575 bytes.\nWrote 77806 bytes.\nWrote 78409 bytes.\nWrote 77278 bytes.\nWrote 78243 bytes.\nWrote 77848 bytes.\nWrote 77816 bytes.\nWrote 78383 bytes.\nWrote 77684 bytes.\nWrote 77405 bytes.\nWrote 78806 bytes.\nWrote 77491 bytes.\nWrote 76810 bytes.\nWrote 77602 bytes.\nWrote 78267 bytes.\nWrote 76394 bytes.\nWrote 76761 bytes.\nWrote 76857 bytes.\nWrote 78114 bytes.\nWrote 78220 bytes.\nWrote 78247 bytes.\nWrote 77609 bytes.\nWrote 77926 bytes.\nWrote 76915 bytes.\nWrote 82153 bytes.\nWrote 78358 bytes.\nWrote 77503 bytes.\nWrote 77994 bytes.\nWrote 78522 bytes.\nWrote 78329 bytes.\nWrote 78427 bytes.\nWrote 78322 bytes.\nWrote 77718 bytes.\nWrote 79262 bytes.\nWrote 77254 bytes.\nWrote 77946 bytes.\nWrote 77230 bytes.\nWrote 78393 bytes.\nWrote 77527 bytes.\nWrote 77832 bytes.\nWrote 76488 bytes.\nWrote 76829 bytes.\nWrote 76375 bytes.\nWrote 76791 bytes.\nWrote 76460 bytes.\nWrote 76434 bytes.\nWrote 76966 bytes.\nWrote 78328 bytes.\nWrote 77319 bytes.\nWrote 77526 bytes.\nWrote 78197 bytes.\nWrote 76685 bytes.\nWrote 78013 bytes.\nWrote 77414 bytes.\nWrote 78660 bytes.\nWrote 77923 bytes.\nWrote 77295 bytes.\nWrote 77187 bytes.\nWrote 78522 bytes.\nWrote 76949 bytes.\nWrote 77518 bytes.\nWrote 76842 bytes.\nWrote 76984 bytes.\nWrote 79304 bytes.\nWrote 78080 bytes.\nWrote 78170 bytes.\nWrote 77186 bytes.\nWrote 77467 bytes.\nWrote 78688 bytes.\nWrote 77205 bytes.\nWrote 77739 bytes.\nWrote 76835 bytes.\nWrote 78150 bytes.\nWrote 77746 bytes.\nWrote 77382 bytes.\nWrote 76713 bytes.\nWrote 77797 bytes.\nWrote 77906 bytes.\nWrote 77496 bytes.\nWrote 78203 bytes.\nWrote 77027 bytes.\nWrote 80045 bytes.\nWrote 77768 bytes.\nWrote 77038 bytes.\nWrote 77201 bytes.\nWrote 77316 bytes.\nWrote 76213 bytes.\nWrote 77476 bytes.\nWrote 78189 bytes.\nWrote 78532 bytes.\nWrote 76575 bytes.\nWrote 77705 bytes.\nWrote 76968 bytes.\nWrote 77985 bytes.\nWrote 78100 bytes.\nWrote 77188 bytes.\nWrote 78039 bytes.\nWrote 78950 bytes.\nWrote 77561 bytes.\nWrote 77470 bytes.\nWrote 77662 bytes.\nWrote 77927 bytes.\nWrote 76647 bytes.\nWrote 76264 bytes.\nWrote 77729 bytes.\nWrote 78437 bytes.\nWrote 77068 bytes.\nWrote 76634 bytes.\nWrote 77909 bytes.\nWrote 76881 bytes.\nWrote 77168 bytes.\nWrote 78408 bytes.\nWrote 78079 bytes.\nWrote 78683 bytes.\nWrote 77810 bytes.\nWrote 78610 bytes.\nWrote 77511 bytes.\nWrote 77095 bytes.\nWrote 77642 bytes.\nWrote 77182 bytes.\nWrote 78743 bytes.\nWrote 78552 bytes.\nWrote 77545 bytes.\nWrote 76804 bytes.\nWrote 78092 bytes.\nWrote 77455 bytes.\nWrote 77624 bytes.\nWrote 78874 bytes.\nWrote 77915 bytes.\nWrote 75948 bytes.\nWrote 79401 bytes.\nWrote 77420 bytes.\nWrote 78884 bytes.\nWrote 78170 bytes.\nWrote 77944 bytes.\nWrote 78210 bytes.\nWrote 78710 bytes.\nWrote 77465 bytes.\nWrote 75896 bytes.\nWrote 75970 bytes.\nWrote 77905 bytes.\nWrote 78923 bytes.\nWrote 78469 bytes.\nWrote 77998 bytes.\nWrote 78976 bytes.\nWrote 76585 bytes.\nWrote 77384 bytes.\nWrote 77701 bytes.\nWrote 78189 bytes.\nWrote 76678 bytes.\nWrote 76931 bytes.\nWrote 77722 bytes.\nWrote 78002 bytes.\nWrote 77536 bytes.\nWrote 77624 bytes.\nWrote 78651 bytes.\nWrote 78503 bytes.\nWrote 78575 bytes.\nWrote 77340 bytes.\nWrote 77675 bytes.\nWrote 78540 bytes.\nWrote 76460 bytes.\nWrote 77239 bytes.\nWrote 77670 bytes.\nWrote 77604 bytes.\nWrote 77484 bytes.\nWrote 77401 bytes.\nWrote 77690 bytes.\nWrote 76161 bytes.\nWrote 76829 bytes.\nWrote 77591 bytes.\nWrote 78389 bytes.\nWrote 77680 bytes.\nWrote 78897 bytes.\nWrote 78891 bytes.\nWrote 78739 bytes.\nWrote 78313 bytes.\nWrote 77100 bytes.\nWrote 78719 bytes.\nWrote 78080 bytes.\nWrote 76704 bytes.\nWrote 76984 bytes.\nWrote 77361 bytes.\nWrote 76896 bytes.\nWrote 77763 bytes.\nWrote 77372 bytes.\nWrote 78427 bytes.\nWrote 77156 bytes.\nWrote 77294 bytes.\nWrote 77585 bytes.\nWrote 76754 bytes.\nWrote 78046 bytes.\nWrote 78123 bytes.\nWrote 77511 bytes.\nWrote 79052 bytes.\nWrote 77304 bytes.\nWrote 77962 bytes.\nWrote 77049 bytes.\nWrote 76879 bytes.\nWrote 77107 bytes.\nWrote 77663 bytes.\nWrote 77785 bytes.\nWrote 77084 bytes.\nWrote 77458 bytes.\nWrote 77815 bytes.\nWrote 77319 bytes.\nWrote 77368 bytes.\nWrote 76833 bytes.\nWrote 77971 bytes.\nWrote 78704 bytes.\nWrote 76864 bytes.\nWrote 76555 bytes.\nWrote 76891 bytes.\nWrote 77222 bytes.\nWrote 77672 bytes.\nWrote 77593 bytes.\nWrote 76739 bytes.\nWrote 77092 bytes.\nWrote 77345 bytes.\nWrote 77925 bytes.\nWrote 77030 bytes.\nWrote 77923 bytes.\nWrote 77552 bytes.\nWrote 77936 bytes.\nWrote 76980 bytes.\nWrote 78163 bytes.\nWrote 77640 bytes.\nWrote 78702 bytes.\nWrote 77907 bytes.\nWrote 78047 bytes.\nWrote 76972 bytes.\nWrote 78523 bytes.\nWrote 77352 bytes.\nWrote 77301 bytes.\nWrote 76768 bytes.\nWrote 77627 bytes.\nWrote 76860 bytes.\nWrote 77042 bytes.\nWrote 78194 bytes.\nWrote 78729 bytes.\nWrote 77842 bytes.\nWrote 77760 bytes.\nWrote 77007 bytes.\nWrote 77432 bytes.\nWrote 77455 bytes.\nWrote 76883 bytes.\nWrote 76779 bytes.\nWrote 77998 bytes.\nWrote 79138 bytes.\nWrote 76916 bytes.\nWrote 77211 bytes.\nWrote 77474 bytes.\nWrote 78019 bytes.\nWrote 77103 bytes.\nWrote 76874 bytes.\nWrote 78232 bytes.\nWrote 77819 bytes.\nWrote 78580 bytes.\nWrote 77382 bytes.\nWrote 78133 bytes.\nWrote 77293 bytes.\nWrote 78510 bytes.\nWrote 77783 bytes.\nWrote 77379 bytes.\nWrote 77142 bytes.\nWrote 76584 bytes.\nWrote 78543 bytes.\nWrote 77600 bytes.\nWrote 77709 bytes.\nWrote 78332 bytes.\nWrote 77523 bytes.\nWrote 77280 bytes.\nWrote 77994 bytes.\nWrote 78206 bytes.\nWrote 78287 bytes.\nWrote 76837 bytes.\nWrote 78017 bytes.\nWrote 77870 bytes.\nWrote 77796 bytes.\nWrote 78972 bytes.\nWrote 77307 bytes.\nWrote 78023 bytes.\nWrote 77501 bytes.\nWrote 77317 bytes.\nWrote 77326 bytes.\nWrote 76245 bytes.\nWrote 76895 bytes.\nWrote 77656 bytes.\nWrote 76638 bytes.\nWrote 77260 bytes.\nWrote 76288 bytes.\nWrote 77212 bytes.\nWrote 78645 bytes.\nWrote 79729 bytes.\nWrote 77659 bytes.\nWrote 77377 bytes.\nWrote 77428 bytes.\nWrote 76276 bytes.\nWrote 77324 bytes.\nWrote 78022 bytes.\nWrote 77257 bytes.\nWrote 76733 bytes.\nWrote 78558 bytes.\nWrote 77528 bytes.\nWrote 78135 bytes.\nWrote 77946 bytes.\nWrote 77853 bytes.\nWrote 77378 bytes.\nWrote 77375 bytes.\nWrote 78996 bytes.\nWrote 76646 bytes.\nWrote 77886 bytes.\nWrote 76852 bytes.\nWrote 76366 bytes.\nWrote 77670 bytes.\nWrote 78561 bytes.\nWrote 77567 bytes.\nWrote 77761 bytes.\nWrote 77934 bytes.\nWrote 78542 bytes.\nWrote 77988 bytes.\nWrote 78111 bytes.\nWrote 79083 bytes.\nWrote 77416 bytes.\nWrote 77766 bytes.\nWrote 78406 bytes.\nWrote 76904 bytes.\nWrote 76496 bytes.\nWrote 78663 bytes.\nWrote 78234 bytes.\nWrote 78092 bytes.\nWrote 76722 bytes.\nWrote 77581 bytes.\nWrote 77861 bytes.\nWrote 77584 bytes.\nWrote 78654 bytes.\nWrote 76870 bytes.\nWrote 78626 bytes.\nWrote 77633 bytes.\nWrote 77333 bytes.\nWrote 77913 bytes.\nWrote 76436 bytes.\nWrote 77179 bytes.\nWrote 77732 bytes.\nWrote 77608 bytes.\nWrote 77262 bytes.\nWrote 77032 bytes.\nWrote 76892 bytes.\nWrote 78298 bytes.\nWrote 77824 bytes.\nWrote 76545 bytes.\nWrote 78627 bytes.\nWrote 78125 bytes.\nWrote 78063 bytes.\nWrote 77238 bytes.\nWrote 77734 bytes.\nWrote 78445 bytes.\nWrote 77324 bytes.\nWrote 78158 bytes.\nWrote 77842 bytes.\nWrote 78329 bytes.\nWrote 77168 bytes.\nWrote 79077 bytes.\nWrote 78506 bytes.\nWrote 77221 bytes.\nWrote 77847 bytes.\nWrote 78175 bytes.\nWrote 77932 bytes.\nWrote 77828 bytes.\nWrote 77573 bytes.\nWrote 77871 bytes.\nWrote 77712 bytes.\nWrote 78099 bytes.\nWrote 78018 bytes.\nWrote 78334 bytes.\nWrote 78232 bytes.\nWrote 77951 bytes.\nWrote 77291 bytes.\nWrote 79470 bytes.\nWrote 77420 bytes.\nWrote 77548 bytes.\nWrote 76789 bytes.\nWrote 75672 bytes.\nWrote 78835 bytes.\nWrote 77555 bytes.\nWrote 77246 bytes.\nWrote 77455 bytes.\nWrote 76904 bytes.\nWrote 78124 bytes.\nWrote 78231 bytes.\nWrote 77542 bytes.\nWrote 77237 bytes.\nWrote 77743 bytes.\nWrote 78759 bytes.\nWrote 77994 bytes.\nWrote 78707 bytes.\nWrote 77708 bytes.\nWrote 77264 bytes.\nWrote 78008 bytes.\nWrote 76498 bytes.\nWrote 77549 bytes.\nWrote 77671 bytes.\nWrote 78130 bytes.\nWrote 77790 bytes.\nWrote 77424 bytes.\nWrote 77179 bytes.\nWrote 77998 bytes.\nWrote 78407 bytes.\nWrote 76304 bytes.\nWrote 76867 bytes.\nWrote 77969 bytes.\nWrote 76802 bytes.\nWrote 77114 bytes.\nWrote 76898 bytes.\nWrote 77814 bytes.\nWrote 76183 bytes.\nWrote 78363 bytes.\nWrote 77664 bytes.\nWrote 77646 bytes.\nWrote 77466 bytes.\nWrote 78280 bytes.\nWrote 77274 bytes.\nWrote 78578 bytes.\nWrote 77715 bytes.\nWrote 77122 bytes.\nWrote 77240 bytes.\nWrote 77090 bytes.\nWrote 78312 bytes.\nWrote 76950 bytes.\nWrote 78415 bytes.\nWrote 77370 bytes.\nWrote 77618 bytes.\nWrote 79194 bytes.\nWrote 77228 bytes.\nWrote 77807 bytes.\nWrote 78304 bytes.\nWrote 76731 bytes.\nWrote 77033 bytes.\nWrote 76604 bytes.\nWrote 77180 bytes.\nWrote 77292 bytes.\nWrote 77520 bytes.\nWrote 76656 bytes.\nWrote 76770 bytes.\nWrote 77293 bytes.\nWrote 77947 bytes.\nWrote 78406 bytes.\nWrote 77286 bytes.\nWrote 77835 bytes.\nWrote 77244 bytes.\nWrote 78408 bytes.\nWrote 87030 bytes.\nWrote 78399 bytes.\nWrote 78673 bytes.\nWrote 78415 bytes.\nWrote 77710 bytes.\nWrote 76239 bytes.\nWrote 77481 bytes.\nWrote 76842 bytes.\nWrote 77167 bytes.\nWrote 78309 bytes.\nWrote 76533 bytes.\nWrote 76814 bytes.\nWrote 76342 bytes.\nWrote 78665 bytes.\nWrote 78116 bytes.\nWrote 76483 bytes.\nWrote 77417 bytes.\nWrote 77973 bytes.\nWrote 78088 bytes.\nWrote 77743 bytes.\nWrote 77110 bytes.\nWrote 76847 bytes.\nWrote 77979 bytes.\nWrote 76234 bytes.\nWrote 78428 bytes.\nWrote 77082 bytes.\nWrote 77354 bytes.\nWrote 76674 bytes.\nWrote 78356 bytes.\nWrote 78576 bytes.\nWrote 76545 bytes.\nWrote 78110 bytes.\nWrote 77858 bytes.\nWrote 77157 bytes.\nWrote 78770 bytes.\nWrote 77156 bytes.\nWrote 78716 bytes.\nWrote 77437 bytes.\nWrote 77818 bytes.\nWrote 78296 bytes.\nWrote 76586 bytes.\nWrote 79419 bytes.\nWrote 78386 bytes.\nWrote 76881 bytes.\nWrote 77834 bytes.\nWrote 78083 bytes.\nWrote 77804 bytes.\nWrote 77141 bytes.\nWrote 77511 bytes.\nWrote 76699 bytes.\nWrote 77860 bytes.\nWrote 77316 bytes.\nWrote 77026 bytes.\nWrote 78080 bytes.\nWrote 78167 bytes.\nWrote 77492 bytes.\nWrote 77865 bytes.\nWrote 77774 bytes.\nWrote 76617 bytes.\nWrote 77861 bytes.\nWrote 77421 bytes.\nWrote 77830 bytes.\nWrote 76967 bytes.\nWrote 77668 bytes.\nWrote 77563 bytes.\nWrote 77456 bytes.\nWrote 78167 bytes.\nWrote 77576 bytes.\nWrote 76669 bytes.\nWrote 76705 bytes.\nWrote 77318 bytes.\nWrote 77679 bytes.\nWrote 77859 bytes.\nWrote 78134 bytes.\nWrote 76923 bytes.\nWrote 76194 bytes.\nWrote 78490 bytes.\nWrote 78065 bytes.\nWrote 79370 bytes.\nWrote 78244 bytes.\nWrote 77596 bytes.\nWrote 77525 bytes.\nWrote 77422 bytes.\nWrote 75484 bytes.\nWrote 78105 bytes.\nWrote 77703 bytes.\nWrote 76637 bytes.\nWrote 78229 bytes.\nWrote 77796 bytes.\nWrote 78030 bytes.\nWrote 78454 bytes.\nWrote 77528 bytes.\nWrote 77085 bytes.\nWrote 79235 bytes.\nWrote 77297 bytes.\nWrote 77996 bytes.\nWrote 77737 bytes.\nWrote 77452 bytes.\nWrote 77253 bytes.\nWrote 76878 bytes.\nWrote 78624 bytes.\nWrote 77819 bytes.\nWrote 77267 bytes.\nWrote 76439 bytes.\nWrote 77818 bytes.\nWrote 77367 bytes.\nWrote 77834 bytes.\nWrote 78881 bytes.\nWrote 78393 bytes.\nWrote 78119 bytes.\nWrote 77416 bytes.\nWrote 78656 bytes.\nWrote 77576 bytes.\nWrote 77883 bytes.\nWrote 78147 bytes.\nWrote 77135 bytes.\nWrote 78403 bytes.\nWrote 77650 bytes.\nWrote 78001 bytes.\nWrote 77499 bytes.\nWrote 77726 bytes.\nWrote 77702 bytes.\nWrote 76361 bytes.\nWrote 77524 bytes.\nWrote 78108 bytes.\nWrote 78578 bytes.\nWrote 80555 bytes.\nWrote 77107 bytes.\nWrote 77517 bytes.\nWrote 76571 bytes.\nWrote 77750 bytes.\nWrote 76853 bytes.\nWrote 78162 bytes.\nWrote 76882 bytes.\nWrote 78168 bytes.\nWrote 76838 bytes.\nWrote 77158 bytes.\nWrote 76536 bytes.\nWrote 77854 bytes.\nWrote 77618 bytes.\nWrote 76928 bytes.\nWrote 78412 bytes.\nWrote 77709 bytes.\nWrote 77379 bytes.\nWrote 77842 bytes.\nWrote 79367 bytes.\nWrote 77593 bytes.\nWrote 77664 bytes.\nWrote 78197 bytes.\nWrote 77151 bytes.\nWrote 78047 bytes.\nWrote 77397 bytes.\nWrote 77451 bytes.\nWrote 77379 bytes.\nWrote 77175 bytes.\nWrote 76770 bytes.\nWrote 77984 bytes.\nWrote 78229 bytes.\nWrote 78709 bytes.\nWrote 77626 bytes.\nWrote 77714 bytes.\nWrote 76712 bytes.\nWrote 77461 bytes.\nWrote 76949 bytes.\nWrote 76719 bytes.\nWrote 77377 bytes.\nWrote 78422 bytes.\nWrote 79332 bytes.\nWrote 77884 bytes.\nWrote 77186 bytes.\nWrote 77079 bytes.\nWrote 77245 bytes.\nWrote 76743 bytes.\nWrote 76561 bytes.\nWrote 78203 bytes.\nWrote 78119 bytes.\nWrote 77833 bytes.\nWrote 78083 bytes.\nWrote 77459 bytes.\nWrote 77142 bytes.\nWrote 78869 bytes.\nWrote 78493 bytes.\nWrote 77515 bytes.\nWrote 77779 bytes.\nWrote 78486 bytes.\nWrote 78112 bytes.\nWrote 78242 bytes.\nWrote 78445 bytes.\nWrote 77721 bytes.\nWrote 78308 bytes.\nWrote 77284 bytes.\nWrote 77879 bytes.\nWrote 77794 bytes.\nWrote 78700 bytes.\nWrote 77984 bytes.\nWrote 78311 bytes.\nWrote 78812 bytes.\nWrote 77542 bytes.\nWrote 77816 bytes.\nWrote 77807 bytes.\nWrote 78495 bytes.\nWrote 77289 bytes.\nWrote 78370 bytes.\nWrote 76906 bytes.\nWrote 76535 bytes.\nWrote 77781 bytes.\nWrote 77778 bytes.\nWrote 77123 bytes.\nWrote 78556 bytes.\nWrote 77673 bytes.\nWrote 78050 bytes.\nWrote 77687 bytes.\nWrote 77144 bytes.\nWrote 77068 bytes.\nWrote 78134 bytes.\nWrote 77936 bytes.\nWrote 77005 bytes.\nWrote 77175 bytes.\nWrote 78696 bytes.\nWrote 76599 bytes.\nWrote 76278 bytes.\nWrote 77400 bytes.\nWrote 76770 bytes.\nWrote 78121 bytes.\nWrote 77836 bytes.\nWrote 77157 bytes.\nWrote 78447 bytes.\nWrote 78244 bytes.\nWrote 77771 bytes.\nWrote 76701 bytes.\nWrote 77021 bytes.\nWrote 78046 bytes.\nWrote 77692 bytes.\nWrote 78513 bytes.\nWrote 77128 bytes.\nWrote 78211 bytes.\nWrote 77967 bytes.\nWrote 77858 bytes.\nWrote 77180 bytes.\nWrote 77613 bytes.\nWrote 75933 bytes.\nWrote 77852 bytes.\nWrote 77710 bytes.\nWrote 76447 bytes.\nWrote 77530 bytes.\nWrote 77093 bytes.\nWrote 77003 bytes.\nWrote 77938 bytes.\nWrote 77405 bytes.\nWrote 77149 bytes.\nWrote 77707 bytes.\nWrote 78139 bytes.\nWrote 77610 bytes.\nWrote 78588 bytes.\nWrote 77340 bytes.\nWrote 77994 bytes.\nWrote 77846 bytes.\nWrote 76203 bytes.\nWrote 76998 bytes.\nWrote 77715 bytes.\nWrote 77513 bytes.\nWrote 78039 bytes.\nWrote 77516 bytes.\nWrote 77711 bytes.\nWrote 77213 bytes.\nWrote 77168 bytes.\nWrote 78703 bytes.\nWrote 78282 bytes.\nWrote 76369 bytes.\nWrote 76869 bytes.\nWrote 76712 bytes.\nWrote 77364 bytes.\nWrote 76238 bytes.\nWrote 77331 bytes.\nWrote 77091 bytes.\nWrote 76927 bytes.\nWrote 77925 bytes.\nWrote 78155 bytes.\nWrote 77364 bytes.\nWrote 77312 bytes.\nWrote 77685 bytes.\nWrote 76674 bytes.\nWrote 77274 bytes.\nWrote 77466 bytes.\nWrote 78033 bytes.\nWrote 76971 bytes.\nWrote 78211 bytes.\nWrote 77009 bytes.\nWrote 77799 bytes.\nWrote 78406 bytes.\nWrote 78113 bytes.\nWrote 76949 bytes.\nWrote 78052 bytes.\nWrote 77595 bytes.\nWrote 76516 bytes.\nWrote 76067 bytes.\nWrote 77163 bytes.\nWrote 77865 bytes.\nWrote 77345 bytes.\nWrote 77391 bytes.\nWrote 77202 bytes.\nWrote 77802 bytes.\nWrote 76797 bytes.\nWrote 77912 bytes.\nWrote 77719 bytes.\nWrote 78317 bytes.\nWrote 78461 bytes.\nWrote 76885 bytes.\nWrote 78111 bytes.\nWrote 76624 bytes.\nWrote 77576 bytes.\nWrote 77824 bytes.\nWrote 77621 bytes.\nWrote 77156 bytes.\nWrote 76251 bytes.\nWrote 77713 bytes.\nWrote 77697 bytes.\nWrote 77890 bytes.\nWrote 77255 bytes.\nWrote 77480 bytes.\nWrote 77865 bytes.\nWrote 77277 bytes.\nWrote 77277 bytes.\nWrote 77391 bytes.\nWrote 77921 bytes.\nWrote 77051 bytes.\nWrote 77536 bytes.\nWrote 77400 bytes.\nWrote 78515 bytes.\nWrote 76657 bytes.\nWrote 77256 bytes.\nWrote 76739 bytes.\nWrote 75724 bytes.\nWrote 76598 bytes.\nWrote 77499 bytes.\nWrote 77814 bytes.\nWrote 78201 bytes.\nWrote 76745 bytes.\nWrote 77467 bytes.\nWrote 77575 bytes.\nWrote 76735 bytes.\nWrote 76346 bytes.\nWrote 76876 bytes.\nWrote 77416 bytes.\nWrote 77716 bytes.\nWrote 77281 bytes.\nWrote 77522 bytes.\nWrote 77139 bytes.\nWrote 78416 bytes.\nWrote 77058 bytes.\nWrote 76031 bytes.\nWrote 77983 bytes.\nWrote 77017 bytes.\nWrote 77497 bytes.\nWrote 76652 bytes.\nWrote 76238 bytes.\nWrote 77599 bytes.\nWrote 77588 bytes.\nWrote 76444 bytes.\nWrote 77722 bytes.\nWrote 76898 bytes.\nWrote 77252 bytes.\nWrote 77556 bytes.\nWrote 77758 bytes.\nWrote 77645 bytes.\nWrote 77036 bytes.\nWrote 77093 bytes.\nWrote 77517 bytes.\nWrote 77642 bytes.\nWrote 76112 bytes.\nWrote 76737 bytes.\nWrote 76893 bytes.\nWrote 77399 bytes.\nWrote 77438 bytes.\nWrote 77302 bytes.\nWrote 76595 bytes.\nWrote 77578 bytes.\nWrote 77836 bytes.\nWrote 77489 bytes.\nWrote 77427 bytes.\nWrote 77564 bytes.\nWrote 76877 bytes.\nWrote 77636 bytes.\nWrote 76115 bytes.\nWrote 77296 bytes.\nWrote 76631 bytes.\nWrote 77528 bytes.\nWrote 76357 bytes.\nWrote 77676 bytes.\nWrote 78186 bytes.\nWrote 76799 bytes.\nWrote 76895 bytes.\nWrote 77552 bytes.\nWrote 76623 bytes.\nWrote 77647 bytes.\nWrote 77162 bytes.\nWrote 78143 bytes.\nWrote 77454 bytes.\nWrote 76980 bytes.\nWrote 78263 bytes.\nWrote 76836 bytes.\nWrote 78004 bytes.\nWrote 77024 bytes.\nWrote 76150 bytes.\nWrote 77739 bytes.\nWrote 76457 bytes.\nWrote 78493 bytes.\nWrote 77133 bytes.\nWrote 79199 bytes.\nWrote 77864 bytes.\nWrote 76413 bytes.\nWrote 77327 bytes.\nWrote 77391 bytes.\nWrote 76476 bytes.\nWrote 77665 bytes.\nWrote 77322 bytes.\nWrote 78588 bytes.\nWrote 77161 bytes.\nWrote 77690 bytes.\nWrote 77382 bytes.\nWrote 77348 bytes.\nWrote 77209 bytes.\nWrote 77622 bytes.\nWrote 77673 bytes.\nWrote 76820 bytes.\nWrote 76845 bytes.\nWrote 78002 bytes.\nWrote 77553 bytes.\nWrote 78144 bytes.\nWrote 76829 bytes.\nWrote 77389 bytes.\nWrote 78505 bytes.\nWrote 77626 bytes.\nWrote 77242 bytes.\nWrote 76930 bytes.\nWrote 76836 bytes.\nWrote 77418 bytes.\nWrote 77631 bytes.\nWrote 77804 bytes.\nWrote 76643 bytes.\nWrote 78613 bytes.\nWrote 76812 bytes.\nWrote 76819 bytes.\nWrote 78009 bytes.\nWrote 77154 bytes.\nWrote 77183 bytes.\nWrote 77258 bytes.\nWrote 78784 bytes.\nWrote 85732 bytes.\nWrote 78158 bytes.\nWrote 77942 bytes.\nWrote 78389 bytes.\nWrote 78584 bytes.\nWrote 77271 bytes.\nWrote 78063 bytes.\nWrote 76897 bytes.\nWrote 76497 bytes.\nWrote 76750 bytes.\nWrote 76963 bytes.\nWrote 77137 bytes.\nWrote 77399 bytes.\nWrote 77568 bytes.\nWrote 77735 bytes.\nWrote 76575 bytes.\nWrote 77765 bytes.\nWrote 77425 bytes.\nWrote 77243 bytes.\nWrote 77618 bytes.\nWrote 77852 bytes.\nWrote 77281 bytes.\nWrote 77051 bytes.\nWrote 75766 bytes.\nWrote 77838 bytes.\nWrote 77284 bytes.\nWrote 76651 bytes.\nWrote 77574 bytes.\nWrote 78368 bytes.\nWrote 78345 bytes.\nWrote 77554 bytes.\nWrote 77587 bytes.\nWrote 77087 bytes.\nWrote 77712 bytes.\nWrote 77140 bytes.\nWrote 77015 bytes.\nWrote 79093 bytes.\nWrote 78501 bytes.\nWrote 76796 bytes.\nWrote 76885 bytes.\nWrote 76486 bytes.\nWrote 77273 bytes.\nWrote 77659 bytes.\nWrote 76405 bytes.\nWrote 76760 bytes.\nWrote 78041 bytes.\nWrote 77909 bytes.\nWrote 78338 bytes.\nWrote 78139 bytes.\nWrote 77850 bytes.\nWrote 77972 bytes.\nWrote 77063 bytes.\nWrote 77737 bytes.\nWrote 76634 bytes.\nWrote 77352 bytes.\nWrote 77232 bytes.\nWrote 77142 bytes.\nWrote 76960 bytes.\nWrote 77138 bytes.\nWrote 77530 bytes.\nWrote 77057 bytes.\nWrote 78120 bytes.\nWrote 78824 bytes.\nWrote 78156 bytes.\nWrote 77673 bytes.\nWrote 77198 bytes.\nWrote 77078 bytes.\nWrote 78197 bytes.\nWrote 76638 bytes.\nWrote 78043 bytes.\nWrote 78399 bytes.\nWrote 77126 bytes.\nWrote 78398 bytes.\nWrote 78272 bytes.\nWrote 77666 bytes.\nWrote 77047 bytes.\nWrote 77836 bytes.\nWrote 76924 bytes.\nWrote 78596 bytes.\nWrote 78733 bytes.\nWrote 76935 bytes.\nWrote 77505 bytes.\nWrote 77714 bytes.\nWrote 78238 bytes.\nWrote 77778 bytes.\nWrote 77549 bytes.\nWrote 77205 bytes.\nWrote 77625 bytes.\nWrote 77941 bytes.\nWrote 77701 bytes.\nWrote 78267 bytes.\nWrote 77240 bytes.\nWrote 78697 bytes.\nWrote 77643 bytes.\nWrote 77585 bytes.\nWrote 76841 bytes.\nWrote 77537 bytes.\nWrote 77189 bytes.\nWrote 76471 bytes.\nWrote 76830 bytes.\nWrote 77967 bytes.\nWrote 76748 bytes.\nWrote 78083 bytes.\nWrote 77796 bytes.\nWrote 76944 bytes.\nWrote 77409 bytes.\nWrote 77475 bytes.\nWrote 77741 bytes.\nWrote 75577 bytes.\nWrote 77419 bytes.\nWrote 77781 bytes.\nWrote 78420 bytes.\nWrote 77468 bytes.\nWrote 78040 bytes.\nWrote 78211 bytes.\nWrote 78633 bytes.\nWrote 77477 bytes.\nWrote 77193 bytes.\nWrote 77023 bytes.\nWrote 77893 bytes.\nWrote 77109 bytes.\nWrote 77991 bytes.\nWrote 78171 bytes.\nWrote 77371 bytes.\nWrote 77618 bytes.\nWrote 77617 bytes.\nWrote 77674 bytes.\nWrote 77109 bytes.\nWrote 77512 bytes.\nWrote 77922 bytes.\nWrote 76999 bytes.\nWrote 76339 bytes.\nWrote 79300 bytes.\nWrote 76310 bytes.\nWrote 78181 bytes.\nWrote 78311 bytes.\nWrote 78676 bytes.\nWrote 77795 bytes.\nWrote 77028 bytes.\nWrote 77555 bytes.\nWrote 77343 bytes.\nWrote 76816 bytes.\nWrote 77811 bytes.\nWrote 77827 bytes.\nWrote 77211 bytes.\nWrote 78634 bytes.\nWrote 78162 bytes.\nWrote 78119 bytes.\nWrote 77992 bytes.\nWrote 77035 bytes.\nWrote 78032 bytes.\nWrote 77673 bytes.\nWrote 77571 bytes.\nWrote 78118 bytes.\nWrote 76827 bytes.\nWrote 78095 bytes.\nWrote 77092 bytes.\nWrote 77460 bytes.\nWrote 77333 bytes.\nWrote 77479 bytes.\nWrote 77747 bytes.\nWrote 78051 bytes.\nWrote 78133 bytes.\nWrote 78024 bytes.\nWrote 77357 bytes.\nWrote 77918 bytes.\nWrote 76499 bytes.\nWrote 77538 bytes.\nWrote 78939 bytes.\nWrote 77237 bytes.\nWrote 76128 bytes.\nWrote 78175 bytes.\nWrote 76813 bytes.\nWrote 78130 bytes.\nWrote 77997 bytes.\nWrote 78495 bytes.\nWrote 77048 bytes.\nWrote 78026 bytes.\nWrote 76840 bytes.\nWrote 77457 bytes.\nWrote 77556 bytes.\nWrote 77668 bytes.\nWrote 77542 bytes.\nWrote 77484 bytes.\nWrote 77801 bytes.\nWrote 77735 bytes.\nWrote 77651 bytes.\nWrote 76624 bytes.\nWrote 76994 bytes.\nWrote 78309 bytes.\nWrote 77790 bytes.\nWrote 78349 bytes.\nWrote 78270 bytes.\nWrote 78366 bytes.\nWrote 77707 bytes.\nWrote 78279 bytes.\nWrote 77426 bytes.\nWrote 76589 bytes.\nWrote 77430 bytes.\nWrote 76502 bytes.\nWrote 77994 bytes.\nWrote 77215 bytes.\nWrote 77317 bytes.\nWrote 77333 bytes.\nWrote 78049 bytes.\nWrote 77179 bytes.\nWrote 77774 bytes.\nWrote 77450 bytes.\nWrote 78357 bytes.\nWrote 77994 bytes.\nWrote 77589 bytes.\nWrote 78195 bytes.\nWrote 77391 bytes.\nWrote 77102 bytes.\nWrote 78607 bytes.\nWrote 78401 bytes.\nWrote 77682 bytes.\nWrote 77162 bytes.\nWrote 77092 bytes.\nWrote 79392 bytes.\nWrote 78093 bytes.\nWrote 78099 bytes.\nWrote 77626 bytes.\nWrote 78060 bytes.\nWrote 76640 bytes.\nWrote 78627 bytes.\nWrote 77867 bytes.\nWrote 77205 bytes.\nWrote 76918 bytes.\nWrote 77032 bytes.\nWrote 77362 bytes.\nWrote 76631 bytes.\nWrote 78111 bytes.\nWrote 77585 bytes.\nWrote 77764 bytes.\nWrote 77766 bytes.\nWrote 77677 bytes.\nWrote 76834 bytes.\nWrote 76612 bytes.\nWrote 77600 bytes.\nWrote 77218 bytes.\nWrote 76942 bytes.\nWrote 76357 bytes.\nWrote 76609 bytes.\nWrote 77264 bytes.\nWrote 77565 bytes.\nWrote 78079 bytes.\nWrote 78233 bytes.\nWrote 76727 bytes.\nWrote 77303 bytes.\nWrote 77161 bytes.\nWrote 76256 bytes.\nWrote 77722 bytes.\nWrote 77760 bytes.\nWrote 76737 bytes.\nWrote 77980 bytes.\nWrote 77503 bytes.\nWrote 78526 bytes.\nWrote 77576 bytes.\nWrote 76358 bytes.\nWrote 77220 bytes.\nWrote 76675 bytes.\nWrote 76262 bytes.\nWrote 77364 bytes.\nWrote 77763 bytes.\nWrote 77436 bytes.\nWrote 77923 bytes.\nWrote 77693 bytes.\nWrote 77480 bytes.\nWrote 76745 bytes.\nWrote 77719 bytes.\nWrote 78569 bytes.\nWrote 78087 bytes.\nWrote 77129 bytes.\nWrote 77017 bytes.\nWrote 77756 bytes.\nWrote 76904 bytes.\nWrote 77592 bytes.\nWrote 77616 bytes.\nWrote 77346 bytes.\nWrote 77289 bytes.\nWrote 76942 bytes.\nWrote 77560 bytes.\nWrote 77765 bytes.\nWrote 77942 bytes.\nWrote 76778 bytes.\nWrote 76595 bytes.\nWrote 76970 bytes.\nWrote 77465 bytes.\nWrote 78218 bytes.\nWrote 77398 bytes.\nWrote 76898 bytes.\nWrote 76979 bytes.\nWrote 78668 bytes.\nWrote 78033 bytes.\nWrote 77921 bytes.\nWrote 76976 bytes.\nWrote 77952 bytes.\nWrote 77546 bytes.\nWrote 78615 bytes.\nWrote 78489 bytes.\nWrote 77061 bytes.\nWrote 78152 bytes.\nWrote 77270 bytes.\nWrote 76483 bytes.\nWrote 76839 bytes.\nWrote 76627 bytes.\nWrote 77128 bytes.\nWrote 78629 bytes.\nWrote 76824 bytes.\nWrote 75908 bytes.\nWrote 77271 bytes.\nWrote 76382 bytes.\nWrote 76818 bytes.\nWrote 78323 bytes.\nWrote 77120 bytes.\nWrote 77240 bytes.\nWrote 76527 bytes.\nWrote 77095 bytes.\nWrote 77107 bytes.\nWrote 76624 bytes.\nWrote 77716 bytes.\nWrote 77124 bytes.\nWrote 76672 bytes.\nWrote 77778 bytes.\nWrote 76607 bytes.\nWrote 77542 bytes.\nWrote 77060 bytes.\nWrote 77475 bytes.\nWrote 77375 bytes.\nWrote 77465 bytes.\nWrote 77460 bytes.\nWrote 76534 bytes.\nWrote 78000 bytes.\nWrote 77034 bytes.\nWrote 77751 bytes.\nWrote 77201 bytes.\nWrote 77751 bytes.\nWrote 77158 bytes.\nWrote 76971 bytes.\nWrote 77820 bytes.\nWrote 77419 bytes.\nWrote 77775 bytes.\nWrote 77180 bytes.\nWrote 76699 bytes.\nWrote 77159 bytes.\nWrote 77937 bytes.\nWrote 77744 bytes.\nWrote 77267 bytes.\nWrote 76446 bytes.\nWrote 77024 bytes.\nWrote 77679 bytes.\nWrote 77937 bytes.\nWrote 77138 bytes.\nWrote 78289 bytes.\nWrote 76561 bytes.\nWrote 77092 bytes.\nWrote 77963 bytes.\nWrote 76712 bytes.\nWrote 77952 bytes.\nWrote 77108 bytes.\nWrote 77958 bytes.\nWrote 77635 bytes.\nWrote 77340 bytes.\nWrote 77301 bytes.\nWrote 77492 bytes.\nWrote 78261 bytes.\nWrote 77101 bytes.\nWrote 78218 bytes.\nWrote 77927 bytes.\nWrote 76913 bytes.\nWrote 78146 bytes.\nWrote 77512 bytes.\nWrote 76563 bytes.\nWrote 77896 bytes.\nWrote 77940 bytes.\nWrote 77940 bytes.\nWrote 77522 bytes.\nWrote 77146 bytes.\nWrote 76154 bytes.\nWrote 77247 bytes.\nWrote 76804 bytes.\nWrote 76878 bytes.\nWrote 76950 bytes.\nWrote 78199 bytes.\nWrote 77652 bytes.\nWrote 77626 bytes.\nWrote 78802 bytes.\nWrote 77047 bytes.\nWrote 76316 bytes.\nWrote 76514 bytes.\nWrote 77825 bytes.\nWrote 75594 bytes.\nWrote 77365 bytes.\nWrote 77068 bytes.\nWrote 77691 bytes.\nWrote 77418 bytes.\nWrote 77251 bytes.\nWrote 77758 bytes.\nWrote 78946 bytes.\nWrote 77345 bytes.\nWrote 77058 bytes.\nWrote 77244 bytes.\nWrote 77678 bytes.\nWrote 77282 bytes.\nWrote 76609 bytes.\nWrote 78066 bytes.\nWrote 78040 bytes.\nWrote 76537 bytes.\nWrote 77028 bytes.\nWrote 77725 bytes.\nWrote 77535 bytes.\nWrote 77964 bytes.\nWrote 77435 bytes.\nWrote 76672 bytes.\nWrote 76706 bytes.\nWrote 78004 bytes.\nWrote 77779 bytes.\nWrote 79077 bytes.\nWrote 76301 bytes.\nWrote 76924 bytes.\nWrote 77671 bytes.\nWrote 77857 bytes.\nWrote 77170 bytes.\nWrote 77776 bytes.\nWrote 76434 bytes.\nWrote 78208 bytes.\nWrote 78167 bytes.\nWrote 77837 bytes.\nWrote 78237 bytes.\nWrote 78148 bytes.\nWrote 78423 bytes.\nWrote 77196 bytes.\nWrote 78127 bytes.\nWrote 77948 bytes.\nWrote 77252 bytes.\nWrote 77178 bytes.\nWrote 77334 bytes.\nWrote 77289 bytes.\nWrote 77504 bytes.\nWrote 76741 bytes.\nWrote 78229 bytes.\nWrote 77186 bytes.\nWrote 78556 bytes.\nWrote 77040 bytes.\nWrote 78399 bytes.\nWrote 77766 bytes.\nWrote 77157 bytes.\nWrote 77475 bytes.\nWrote 78552 bytes.\nWrote 76807 bytes.\nWrote 77545 bytes.\nWrote 77294 bytes.\nWrote 77801 bytes.\nWrote 77812 bytes.\nWrote 77793 bytes.\nWrote 77510 bytes.\nWrote 77422 bytes.\nWrote 77417 bytes.\nWrote 77372 bytes.\nWrote 78221 bytes.\nWrote 78076 bytes.\nWrote 76573 bytes.\nWrote 77608 bytes.\nWrote 78286 bytes.\nWrote 77108 bytes.\nWrote 78009 bytes.\nWrote 77101 bytes.\nWrote 77371 bytes.\nWrote 77095 bytes.\nWrote 77605 bytes.\nWrote 77621 bytes.\nWrote 77955 bytes.\nWrote 77756 bytes.\nWrote 77200 bytes.\nWrote 77890 bytes.\nWrote 77838 bytes.\nWrote 77466 bytes.\nWrote 77397 bytes.\nWrote 76500 bytes.\nWrote 78175 bytes.\nWrote 78598 bytes.\nWrote 77996 bytes.\nWrote 78589 bytes.\nWrote 77705 bytes.\nWrote 78294 bytes.\nWrote 77681 bytes.\nWrote 77476 bytes.\nWrote 77319 bytes.\nWrote 76744 bytes.\nWrote 77772 bytes.\nWrote 78031 bytes.\nWrote 77247 bytes.\nWrote 77664 bytes.\nWrote 78064 bytes.\nWrote 76755 bytes.\nWrote 77643 bytes.\nWrote 76298 bytes.\nWrote 77840 bytes.\nWrote 77770 bytes.\nWrote 78581 bytes.\nWrote 76821 bytes.\nWrote 76989 bytes.\nWrote 78295 bytes.\nWrote 77712 bytes.\nWrote 77980 bytes.\nWrote 77267 bytes.\nWrote 77559 bytes.\nWrote 78096 bytes.\nWrote 77783 bytes.\nWrote 77759 bytes.\nWrote 77346 bytes.\nWrote 77626 bytes.\nWrote 77697 bytes.\nWrote 78139 bytes.\nWrote 77380 bytes.\nWrote 76483 bytes.\nWrote 76939 bytes.\nWrote 76893 bytes.\nWrote 77995 bytes.\nWrote 76859 bytes.\nWrote 77634 bytes.\nWrote 77872 bytes.\nWrote 78428 bytes.\nWrote 76164 bytes.\nWrote 77416 bytes.\nWrote 77191 bytes.\nWrote 77271 bytes.\nWrote 77612 bytes.\nWrote 77653 bytes.\nWrote 77148 bytes.\nWrote 78554 bytes.\nWrote 76814 bytes.\nWrote 76966 bytes.\nWrote 77665 bytes.\nWrote 77844 bytes.\nWrote 76522 bytes.\nWrote 77215 bytes.\nWrote 77294 bytes.\nWrote 77185 bytes.\nWrote 77982 bytes.\nWrote 78355 bytes.\nWrote 77727 bytes.\nWrote 77548 bytes.\nWrote 77153 bytes.\nWrote 77999 bytes.\nWrote 76870 bytes.\nWrote 78171 bytes.\nWrote 78042 bytes.\nWrote 78032 bytes.\nWrote 78212 bytes.\nWrote 77037 bytes.\nWrote 76775 bytes.\nWrote 78376 bytes.\nWrote 78786 bytes.\nWrote 77632 bytes.\nWrote 78440 bytes.\nWrote 77667 bytes.\nWrote 76680 bytes.\nWrote 76450 bytes.\nWrote 77023 bytes.\nWrote 77422 bytes.\nWrote 78034 bytes.\nWrote 76981 bytes.\nWrote 77903 bytes.\nWrote 77926 bytes.\nWrote 77223 bytes.\nWrote 77866 bytes.\nWrote 77670 bytes.\nWrote 77901 bytes.\nWrote 77550 bytes.\nWrote 77169 bytes.\nWrote 76055 bytes.\nWrote 78456 bytes.\nWrote 77899 bytes.\nWrote 77923 bytes.\nWrote 77176 bytes.\nWrote 78010 bytes.\nWrote 76785 bytes.\nWrote 77490 bytes.\nWrote 77743 bytes.\nWrote 77425 bytes.\nWrote 77749 bytes.\nWrote 78996 bytes.\nWrote 78100 bytes.\nWrote 77990 bytes.\nWrote 78154 bytes.\nWrote 77549 bytes.\nWrote 77813 bytes.\nWrote 77579 bytes.\nWrote 77520 bytes.\nWrote 78689 bytes.\nWrote 77523 bytes.\nWrote 77426 bytes.\nWrote 77878 bytes.\nWrote 76956 bytes.\nWrote 77123 bytes.\nWrote 78279 bytes.\nWrote 78580 bytes.\nWrote 76871 bytes.\nWrote 76723 bytes.\nWrote 79023 bytes.\nWrote 78357 bytes.\nWrote 76841 bytes.\nWrote 77859 bytes.\nWrote 78239 bytes.\nWrote 77895 bytes.\nWrote 77496 bytes.\nWrote 77337 bytes.\nWrote 77571 bytes.\nWrote 77564 bytes.\nWrote 78330 bytes.\nWrote 77942 bytes.\nWrote 77487 bytes.\nWrote 77904 bytes.\nWrote 77495 bytes.\nWrote 79700 bytes.\nWrote 77869 bytes.\nWrote 77139 bytes.\nWrote 78529 bytes.\nWrote 77812 bytes.\nWrote 76808 bytes.\nWrote 78254 bytes.\nWrote 78226 bytes.\nWrote 77919 bytes.\nWrote 78900 bytes.\nWrote 78581 bytes.\nWrote 77690 bytes.\nWrote 78548 bytes.\nWrote 77928 bytes.\nWrote 82536 bytes.\nWrote 78370 bytes.\nWrote 78241 bytes.\nWrote 78005 bytes.\nWrote 76121 bytes.\nWrote 78927 bytes.\nWrote 78662 bytes.\nWrote 76992 bytes.\nWrote 77816 bytes.\nWrote 78462 bytes.\nWrote 77268 bytes.\nWrote 79105 bytes.\nWrote 78398 bytes.\nWrote 78661 bytes.\nWrote 78113 bytes.\nWrote 77286 bytes.\nWrote 78223 bytes.\nWrote 77348 bytes.\nWrote 77740 bytes.\nWrote 78077 bytes.\nWrote 78230 bytes.\nWrote 76897 bytes.\nWrote 77896 bytes.\nWrote 77811 bytes.\nWrote 77932 bytes.\nWrote 77949 bytes.\nWrote 77180 bytes.\nWrote 77674 bytes.\nWrote 78586 bytes.\nWrote 77228 bytes.\nWrote 79090 bytes.\nWrote 77780 bytes.\nWrote 77698 bytes.\nWrote 77061 bytes.\nWrote 77660 bytes.\nWrote 77845 bytes.\nWrote 77618 bytes.\nWrote 78678 bytes.\nWrote 78804 bytes.\nWrote 78626 bytes.\nWrote 78645 bytes.\nWrote 79196 bytes.\nWrote 77486 bytes.\nWrote 78746 bytes.\nWrote 78728 bytes.\nWrote 76976 bytes.\nWrote 77501 bytes.\nWrote 77854 bytes.\nWrote 78027 bytes.\nWrote 77889 bytes.\nWrote 77947 bytes.\nWrote 77592 bytes.\nWrote 78966 bytes.\nWrote 77949 bytes.\nWrote 78709 bytes.\nWrote 78912 bytes.\nWrote 79410 bytes.\nWrote 78040 bytes.\nWrote 78182 bytes.\nWrote 77646 bytes.\nWrote 77633 bytes.\nWrote 77323 bytes.\nWrote 77660 bytes.\nWrote 76741 bytes.\nWrote 77973 bytes.\nWrote 77816 bytes.\nWrote 77526 bytes.\nWrote 77607 bytes.\nWrote 77108 bytes.\nWrote 76987 bytes.\nWrote 76952 bytes.\nWrote 78627 bytes.\nWrote 76646 bytes.\nWrote 77479 bytes.\nWrote 78605 bytes.\nWrote 77948 bytes.\nWrote 77389 bytes.\nWrote 78077 bytes.\nWrote 78163 bytes.\nWrote 78442 bytes.\nWrote 78684 bytes.\nWrote 78354 bytes.\nWrote 76564 bytes.\nWrote 77002 bytes.\nWrote 77718 bytes.\nWrote 79390 bytes.\nWrote 78041 bytes.\nWrote 78873 bytes.\nWrote 77831 bytes.\nWrote 77578 bytes.\nWrote 77642 bytes.\nWrote 77554 bytes.\nWrote 77995 bytes.\nWrote 78277 bytes.\nWrote 78552 bytes.\nWrote 76136 bytes.\nWrote 78081 bytes.\nWrote 77050 bytes.\nWrote 76967 bytes.\nWrote 78301 bytes.\nWrote 76754 bytes.\nWrote 77313 bytes.\nWrote 77052 bytes.\nWrote 76731 bytes.\nWrote 78469 bytes.\nWrote 77605 bytes.\nWrote 77409 bytes.\nWrote 77554 bytes.\nWrote 78246 bytes.\nWrote 77970 bytes.\nWrote 77936 bytes.\nWrote 78285 bytes.\nWrote 78750 bytes.\nWrote 78030 bytes.\nWrote 78045 bytes.\nWrote 77340 bytes.\nWrote 77478 bytes.\nWrote 77859 bytes.\nWrote 78801 bytes.\nWrote 78196 bytes.\nWrote 77681 bytes.\nWrote 78291 bytes.\nWrote 77134 bytes.\nWrote 77796 bytes.\nWrote 77588 bytes.\nWrote 77609 bytes.\nWrote 77562 bytes.\nWrote 78546 bytes.\nWrote 79301 bytes.\nWrote 77842 bytes.\nWrote 77200 bytes.\nWrote 77856 bytes.\nWrote 78605 bytes.\nWrote 76311 bytes.\nWrote 77223 bytes.\nWrote 77019 bytes.\nWrote 77970 bytes.\nWrote 77453 bytes.\nWrote 77442 bytes.\nWrote 77709 bytes.\nWrote 77088 bytes.\nWrote 78834 bytes.\nWrote 78716 bytes.\nWrote 77410 bytes.\nWrote 77953 bytes.\nWrote 77253 bytes.\nWrote 76771 bytes.\nWrote 77733 bytes.\nWrote 78339 bytes.\nWrote 78443 bytes.\nWrote 77419 bytes.\nWrote 76072 bytes.\nWrote 77900 bytes.\nWrote 77052 bytes.\nWrote 78433 bytes.\nWrote 77558 bytes.\nWrote 77909 bytes.\nWrote 77457 bytes.\nWrote 76558 bytes.\nWrote 78304 bytes.\nWrote 78011 bytes.\nWrote 78493 bytes.\nWrote 77143 bytes.\nWrote 77050 bytes.\nWrote 77734 bytes.\nWrote 77865 bytes.\nWrote 77784 bytes.\nWrote 77501 bytes.\nWrote 78392 bytes.\nWrote 78542 bytes.\nWrote 77593 bytes.\nWrote 77676 bytes.\nWrote 77999 bytes.\nWrote 78139 bytes.\nWrote 80293 bytes.\nWrote 78592 bytes.\nWrote 78205 bytes.\nWrote 78617 bytes.\nWrote 77167 bytes.\nWrote 76703 bytes.\nWrote 77915 bytes.\nWrote 78418 bytes.\nWrote 78081 bytes.\nWrote 78180 bytes.\nWrote 77784 bytes.\nWrote 77488 bytes.\nWrote 78011 bytes.\nWrote 77827 bytes.\nWrote 78491 bytes.\nWrote 78250 bytes.\nWrote 76419 bytes.\nWrote 77766 bytes.\nWrote 76887 bytes.\nWrote 78164 bytes.\nWrote 77832 bytes.\nWrote 77578 bytes.\nWrote 77626 bytes.\nWrote 76644 bytes.\nWrote 78059 bytes.\nWrote 78791 bytes.\nWrote 77847 bytes.\nWrote 77908 bytes.\nWrote 77976 bytes.\nWrote 77997 bytes.\nWrote 78905 bytes.\nWrote 78742 bytes.\nWrote 77793 bytes.\nWrote 78534 bytes.\nWrote 78000 bytes.\nWrote 78480 bytes.\nWrote 78964 bytes.\nWrote 78087 bytes.\nWrote 78133 bytes.\nWrote 78213 bytes.\nWrote 77558 bytes.\nWrote 77840 bytes.\nWrote 77864 bytes.\nWrote 77847 bytes.\nWrote 77555 bytes.\nWrote 77696 bytes.\nWrote 78973 bytes.\nWrote 77417 bytes.\nWrote 79106 bytes.\nWrote 77963 bytes.\nWrote 77966 bytes.\nWrote 76941 bytes.\nWrote 77758 bytes.\nWrote 77933 bytes.\nWrote 77063 bytes.\nWrote 78679 bytes.\nWrote 77541 bytes.\nWrote 77898 bytes.\nWrote 78495 bytes.\nWrote 77185 bytes.\nWrote 77334 bytes.\nWrote 77945 bytes.\nWrote 76885 bytes.\nWrote 78914 bytes.\nWrote 78407 bytes.\nWrote 77983 bytes.\nWrote 78393 bytes.\nWrote 77616 bytes.\nWrote 77662 bytes.\nWrote 78383 bytes.\nWrote 78155 bytes.\nWrote 77641 bytes.\nWrote 77539 bytes.\nWrote 78575 bytes.\nWrote 77258 bytes.\nWrote 76722 bytes.\nWrote 78248 bytes.\nWrote 75875 bytes.\nWrote 78522 bytes.\nWrote 77738 bytes.\nWrote 78378 bytes.\nWrote 78542 bytes.\nWrote 78703 bytes.\nWrote 78351 bytes.\nWrote 77694 bytes.\nWrote 79214 bytes.\nWrote 78301 bytes.\nWrote 77056 bytes.\nWrote 77602 bytes.\nWrote 76976 bytes.\nWrote 78274 bytes.\nWrote 76967 bytes.\nWrote 78751 bytes.\nWrote 78645 bytes.\nWrote 76883 bytes.\nWrote 77394 bytes.\nWrote 78493 bytes.\nWrote 78211 bytes.\nWrote 78319 bytes.\nWrote 76898 bytes.\nWrote 78964 bytes.\nWrote 77712 bytes.\nWrote 78384 bytes.\nWrote 76765 bytes.\nWrote 78728 bytes.\nWrote 77700 bytes.\nWrote 77686 bytes.\nWrote 76935 bytes.\nWrote 76598 bytes.\nWrote 78487 bytes.\nWrote 78716 bytes.\nWrote 78333 bytes.\nWrote 78058 bytes.\nWrote 78634 bytes.\nWrote 77057 bytes.\nWrote 78895 bytes.\nWrote 78759 bytes.\nWrote 78699 bytes.\nWrote 77306 bytes.\nWrote 77097 bytes.\nWrote 78337 bytes.\nWrote 77884 bytes.\nWrote 78006 bytes.\nWrote 77232 bytes.\nWrote 77532 bytes.\nWrote 76941 bytes.\nWrote 78208 bytes.\nWrote 78878 bytes.\nWrote 78655 bytes.\nWrote 77957 bytes.\nWrote 78228 bytes.\nWrote 77036 bytes.\nWrote 77252 bytes.\nWrote 78323 bytes.\nWrote 77680 bytes.\nWrote 78161 bytes.\nWrote 77796 bytes.\nWrote 78335 bytes.\nWrote 78752 bytes.\nWrote 77450 bytes.\nWrote 78059 bytes.\nWrote 76628 bytes.\nWrote 76849 bytes.\nWrote 77892 bytes.\nWrote 77491 bytes.\nWrote 77335 bytes.\nWrote 77733 bytes.\nWrote 79127 bytes.\nWrote 78902 bytes.\nWrote 77492 bytes.\nWrote 76541 bytes.\nWrote 77569 bytes.\nWrote 77606 bytes.\nWrote 76829 bytes.\nWrote 79636 bytes.\nWrote 77528 bytes.\nWrote 77690 bytes.\nWrote 77814 bytes.\nWrote 77587 bytes.\nWrote 77255 bytes.\nWrote 77268 bytes.\nWrote 78038 bytes.\nWrote 77790 bytes.\nWrote 78607 bytes.\nWrote 76927 bytes.\nWrote 77263 bytes.\nWrote 77401 bytes.\nWrote 77543 bytes.\nWrote 77640 bytes.\nWrote 76518 bytes.\nWrote 77386 bytes.\nWrote 76748 bytes.\nWrote 78706 bytes.\nWrote 77614 bytes.\nWrote 78372 bytes.\nWrote 77924 bytes.\nWrote 77478 bytes.\nWrote 77852 bytes.\nWrote 77993 bytes.\nWrote 77944 bytes.\nWrote 77274 bytes.\nWrote 77273 bytes.\nWrote 78238 bytes.\nWrote 77811 bytes.\nWrote 77710 bytes.\nWrote 76833 bytes.\nWrote 76540 bytes.\nWrote 77772 bytes.\nWrote 77447 bytes.\nWrote 77837 bytes.\nWrote 77634 bytes.\nWrote 78237 bytes.\nWrote 78233 bytes.\nWrote 78017 bytes.\nWrote 77469 bytes.\nWrote 77889 bytes.\nWrote 77973 bytes.\nWrote 77562 bytes.\nWrote 76876 bytes.\nWrote 77858 bytes.\nWrote 78067 bytes.\nWrote 78159 bytes.\nWrote 78069 bytes.\nWrote 78216 bytes.\nWrote 76702 bytes.\nWrote 77835 bytes.\nWrote 77561 bytes.\nWrote 77561 bytes.\nWrote 78488 bytes.\nWrote 77149 bytes.\nWrote 77980 bytes.\nWrote 78196 bytes.\nWrote 77382 bytes.\nWrote 76697 bytes.\nWrote 78933 bytes.\nWrote 77147 bytes.\nWrote 78277 bytes.\nWrote 77723 bytes.\nWrote 79087 bytes.\nWrote 77319 bytes.\nWrote 77570 bytes.\nWrote 76460 bytes.\nWrote 78066 bytes.\nWrote 85021 bytes.\nWrote 79057 bytes.\nWrote 77613 bytes.\nWrote 77682 bytes.\nWrote 76669 bytes.\nWrote 78072 bytes.\nWrote 77425 bytes.\nWrote 77529 bytes.\nWrote 78163 bytes.\nWrote 76309 bytes.\nWrote 77880 bytes.\nWrote 77529 bytes.\nWrote 77577 bytes.\nWrote 77442 bytes.\nWrote 77413 bytes.\nWrote 77720 bytes.\nWrote 76374 bytes.\nWrote 78289 bytes.\nWrote 77392 bytes.\nWrote 77844 bytes.\nWrote 78353 bytes.\nWrote 77306 bytes.\nWrote 78563 bytes.\nWrote 82817 bytes.\nWrote 77210 bytes.\nWrote 77345 bytes.\nWrote 78536 bytes.\nWrote 76842 bytes.\nWrote 76694 bytes.\nWrote 76942 bytes.\nWrote 76674 bytes.\nWrote 78266 bytes.\nWrote 77977 bytes.\nWrote 78545 bytes.\nWrote 77674 bytes.\nWrote 77589 bytes.\nWrote 76882 bytes.\nWrote 77231 bytes.\nWrote 76971 bytes.\nWrote 77703 bytes.\nWrote 77232 bytes.\nWrote 77252 bytes.\nWrote 75705 bytes.\nWrote 78179 bytes.\nWrote 76563 bytes.\nWrote 77259 bytes.\nWrote 77531 bytes.\nWrote 78257 bytes.\nWrote 78493 bytes.\nWrote 77517 bytes.\nWrote 77136 bytes.\nWrote 77327 bytes.\nWrote 77159 bytes.\nWrote 76950 bytes.\nWrote 77780 bytes.\nWrote 78145 bytes.\nWrote 78305 bytes.\nWrote 78544 bytes.\nWrote 77077 bytes.\nWrote 77540 bytes.\nWrote 78285 bytes.\nWrote 76733 bytes.\nWrote 77653 bytes.\nWrote 78317 bytes.\nWrote 77387 bytes.\nWrote 76846 bytes.\nWrote 77448 bytes.\nWrote 79446 bytes.\nWrote 78268 bytes.\nWrote 76750 bytes.\nWrote 78110 bytes.\nWrote 77769 bytes.\nWrote 76571 bytes.\nWrote 77687 bytes.\nWrote 77564 bytes.\nWrote 77070 bytes.\nWrote 78393 bytes.\nWrote 77838 bytes.\nWrote 78043 bytes.\nWrote 77650 bytes.\nWrote 77462 bytes.\nWrote 77883 bytes.\nWrote 77218 bytes.\nWrote 78249 bytes.\nWrote 76956 bytes.\nWrote 78873 bytes.\nWrote 77383 bytes.\nWrote 77700 bytes.\nWrote 77253 bytes.\nWrote 78136 bytes.\nWrote 78651 bytes.\nWrote 78695 bytes.\nWrote 77969 bytes.\nWrote 77893 bytes.\nWrote 77410 bytes.\nWrote 77519 bytes.\nWrote 77128 bytes.\nWrote 77615 bytes.\nWrote 77922 bytes.\nWrote 78749 bytes.\nWrote 78335 bytes.\nWrote 78705 bytes.\nWrote 76324 bytes.\nWrote 77248 bytes.\nWrote 77677 bytes.\nWrote 77536 bytes.\nWrote 77876 bytes.\nWrote 76985 bytes.\nWrote 77157 bytes.\nWrote 77718 bytes.\nWrote 77374 bytes.\nWrote 76778 bytes.\nWrote 77120 bytes.\nWrote 76989 bytes.\nWrote 77595 bytes.\nWrote 77183 bytes.\nWrote 77625 bytes.\nWrote 77461 bytes.\nWrote 77964 bytes.\nWrote 77765 bytes.\nWrote 75863 bytes.\nWrote 77702 bytes.\nWrote 77367 bytes.\nWrote 77998 bytes.\nWrote 78318 bytes.\nWrote 77686 bytes.\nWrote 77872 bytes.\nWrote 77998 bytes.\nWrote 77911 bytes.\nWrote 77523 bytes.\nWrote 78074 bytes.\nWrote 78473 bytes.\nWrote 77052 bytes.\nWrote 77387 bytes.\nWrote 77229 bytes.\nWrote 78099 bytes.\nWrote 77091 bytes.\nWrote 77464 bytes.\nWrote 78180 bytes.\nWrote 77547 bytes.\nWrote 78653 bytes.\nWrote 78053 bytes.\nWrote 77492 bytes.\nWrote 78908 bytes.\nWrote 76763 bytes.\nWrote 77734 bytes.\nWrote 77096 bytes.\nWrote 77028 bytes.\nWrote 77424 bytes.\nWrote 78485 bytes.\nWrote 77020 bytes.\nWrote 77157 bytes.\nWrote 75874 bytes.\nWrote 77640 bytes.\nWrote 78443 bytes.\nWrote 76629 bytes.\nWrote 77415 bytes.\nWrote 78050 bytes.\nWrote 76780 bytes.\nWrote 77370 bytes.\nWrote 77398 bytes.\nWrote 78163 bytes.\nWrote 77640 bytes.\nWrote 77649 bytes.\nWrote 78435 bytes.\nWrote 78500 bytes.\nWrote 78092 bytes.\nWrote 77501 bytes.\nWrote 78152 bytes.\nWrote 76774 bytes.\nWrote 79101 bytes.\nWrote 77042 bytes.\nWrote 76643 bytes.\nWrote 77369 bytes.\nWrote 77325 bytes.\nWrote 78477 bytes.\nWrote 78356 bytes.\nWrote 77403 bytes.\nWrote 77888 bytes.\nWrote 76962 bytes.\nWrote 77590 bytes.\nWrote 77901 bytes.\nWrote 78869 bytes.\nWrote 78190 bytes.\nWrote 78416 bytes.\nWrote 78328 bytes.\nWrote 77616 bytes.\nWrote 78213 bytes.\nWrote 77016 bytes.\nWrote 77680 bytes.\nWrote 78110 bytes.\nWrote 77768 bytes.\nWrote 77155 bytes.\nWrote 77589 bytes.\nWrote 77591 bytes.\nWrote 77802 bytes.\nWrote 78053 bytes.\nWrote 77841 bytes.\nWrote 77508 bytes.\nWrote 77424 bytes.\nWrote 77498 bytes.\nWrote 77521 bytes.\nWrote 76444 bytes.\nWrote 77194 bytes.\nWrote 78288 bytes.\nWrote 77765 bytes.\nWrote 77639 bytes.\nWrote 76679 bytes.\nWrote 77816 bytes.\nWrote 78003 bytes.\nWrote 77331 bytes.\nWrote 77690 bytes.\nWrote 77267 bytes.\nWrote 77987 bytes.\nWrote 77516 bytes.\nWrote 78401 bytes.\nWrote 76775 bytes.\nWrote 77537 bytes.\nWrote 76622 bytes.\nWrote 77322 bytes.\nWrote 77706 bytes.\nWrote 77691 bytes.\nWrote 78225 bytes.\nWrote 77948 bytes.\nWrote 79124 bytes.\nWrote 77187 bytes.\nWrote 77986 bytes.\nWrote 78376 bytes.\nWrote 77868 bytes.\nWrote 77696 bytes.\nWrote 78408 bytes.\nWrote 78132 bytes.\nWrote 77374 bytes.\nWrote 77256 bytes.\nWrote 77808 bytes.\nWrote 78858 bytes.\nWrote 78021 bytes.\nWrote 77992 bytes.\nWrote 76877 bytes.\nWrote 78349 bytes.\nWrote 76862 bytes.\nWrote 78306 bytes.\nWrote 78283 bytes.\nWrote 78712 bytes.\nWrote 78390 bytes.\nWrote 77812 bytes.\nWrote 77505 bytes.\nWrote 77326 bytes.\nWrote 76865 bytes.\nWrote 77479 bytes.\nWrote 77916 bytes.\nWrote 77292 bytes.\nWrote 78082 bytes.\nWrote 77757 bytes.\nWrote 77765 bytes.\nWrote 77585 bytes.\nWrote 78667 bytes.\nWrote 78796 bytes.\nWrote 78578 bytes.\nWrote 77873 bytes.\nWrote 78024 bytes.\nWrote 77023 bytes.\nWrote 77015 bytes.\nWrote 78361 bytes.\nWrote 76912 bytes.\nWrote 77067 bytes.\nWrote 77597 bytes.\nWrote 78738 bytes.\nWrote 78356 bytes.\nWrote 77853 bytes.\nWrote 77333 bytes.\nWrote 77865 bytes.\nWrote 78520 bytes.\nWrote 77665 bytes.\nWrote 77818 bytes.\nWrote 77405 bytes.\nWrote 78247 bytes.\nWrote 77570 bytes.\nWrote 76841 bytes.\nWrote 77466 bytes.\nWrote 77972 bytes.\nWrote 77959 bytes.\nWrote 77148 bytes.\nWrote 77396 bytes.\nWrote 77067 bytes.\nWrote 77687 bytes.\nWrote 77608 bytes.\nWrote 77095 bytes.\nWrote 77237 bytes.\nWrote 77988 bytes.\nWrote 77547 bytes.\nWrote 78571 bytes.\nWrote 79084 bytes.\nWrote 78555 bytes.\nWrote 77842 bytes.\nWrote 77892 bytes.\nWrote 78365 bytes.\nWrote 78123 bytes.\nWrote 77713 bytes.\nWrote 77419 bytes.\nWrote 76285 bytes.\nWrote 76576 bytes.\nWrote 78191 bytes.\nWrote 78022 bytes.\nWrote 77149 bytes.\nWrote 77430 bytes.\nWrote 76947 bytes.\nWrote 77528 bytes.\nWrote 78207 bytes.\nWrote 77266 bytes.\nWrote 78305 bytes.\nWrote 77009 bytes.\nWrote 77288 bytes.\nWrote 76818 bytes.\nWrote 78273 bytes.\nWrote 78971 bytes.\nWrote 76734 bytes.\nWrote 77393 bytes.\nWrote 77158 bytes.\nWrote 77458 bytes.\nWrote 77379 bytes.\nWrote 77573 bytes.\nWrote 76950 bytes.\nWrote 77118 bytes.\nWrote 77720 bytes.\nWrote 78295 bytes.\nWrote 77429 bytes.\nWrote 77477 bytes.\nWrote 76797 bytes.\nWrote 78040 bytes.\nWrote 77367 bytes.\nWrote 77203 bytes.\nWrote 77924 bytes.\nWrote 78441 bytes.\nWrote 77284 bytes.\nWrote 78299 bytes.\nWrote 77321 bytes.\nWrote 78322 bytes.\nWrote 77860 bytes.\nWrote 76451 bytes.\nWrote 76851 bytes.\nWrote 78316 bytes.\nWrote 77750 bytes.\nWrote 78172 bytes.\nWrote 77786 bytes.\nWrote 77670 bytes.\nWrote 78525 bytes.\nWrote 77436 bytes.\nWrote 77110 bytes.\nWrote 76901 bytes.\nWrote 77795 bytes.\nWrote 78593 bytes.\nWrote 77962 bytes.\nWrote 77376 bytes.\nWrote 77954 bytes.\nWrote 78094 bytes.\nWrote 77742 bytes.\nWrote 78213 bytes.\nWrote 77423 bytes.\nWrote 77547 bytes.\nWrote 76939 bytes.\nWrote 77860 bytes.\nWrote 77043 bytes.\nWrote 77382 bytes.\nWrote 77575 bytes.\nWrote 77549 bytes.\nWrote 78319 bytes.\nWrote 77145 bytes.\nWrote 77626 bytes.\nWrote 77863 bytes.\nWrote 77215 bytes.\nWrote 78017 bytes.\nWrote 77437 bytes.\nWrote 77459 bytes.\nWrote 77332 bytes.\nWrote 78116 bytes.\nWrote 78100 bytes.\nWrote 76736 bytes.\nWrote 77942 bytes.\nWrote 78225 bytes.\nWrote 78852 bytes.\nWrote 78243 bytes.\nWrote 77456 bytes.\nWrote 77786 bytes.\nWrote 77507 bytes.\nWrote 77442 bytes.\nWrote 77221 bytes.\nWrote 77535 bytes.\nWrote 77552 bytes.\nWrote 77668 bytes.\nWrote 78046 bytes.\nWrote 77594 bytes.\nWrote 77907 bytes.\nWrote 77931 bytes.\nWrote 78008 bytes.\nWrote 76886 bytes.\nWrote 77609 bytes.\nWrote 77104 bytes.\nWrote 78617 bytes.\nWrote 77529 bytes.\nWrote 78284 bytes.\nWrote 78817 bytes.\nWrote 77671 bytes.\nWrote 78217 bytes.\nWrote 77630 bytes.\nWrote 77905 bytes.\nWrote 77396 bytes.\nWrote 76827 bytes.\nWrote 77675 bytes.\nWrote 77541 bytes.\nWrote 77677 bytes.\nWrote 77274 bytes.\nWrote 76381 bytes.\nWrote 78907 bytes.\nWrote 79199 bytes.\nWrote 78489 bytes.\nWrote 77310 bytes.\nWrote 77939 bytes.\nWrote 77620 bytes.\nWrote 76904 bytes.\nWrote 78062 bytes.\nWrote 77433 bytes.\nWrote 77817 bytes.\nWrote 77224 bytes.\nWrote 77456 bytes.\nWrote 77895 bytes.\nWrote 78662 bytes.\nWrote 77262 bytes.\nWrote 79092 bytes.\nWrote 77342 bytes.\nWrote 77786 bytes.\nWrote 77286 bytes.\nWrote 77531 bytes.\nWrote 78122 bytes.\nWrote 78199 bytes.\nWrote 78711 bytes.\nWrote 76917 bytes.\nWrote 78736 bytes.\nWrote 76942 bytes.\nWrote 79227 bytes.\nWrote 78238 bytes.\nWrote 78523 bytes.\nWrote 76857 bytes.\nWrote 77297 bytes.\nWrote 77420 bytes.\nWrote 77372 bytes.\nWrote 77375 bytes.\nWrote 77244 bytes.\nWrote 78677 bytes.\nWrote 78268 bytes.\nWrote 78029 bytes.\nWrote 78578 bytes.\nWrote 76404 bytes.\nWrote 77862 bytes.\nWrote 78095 bytes.\nWrote 77350 bytes.\nWrote 77059 bytes.\nWrote 77781 bytes.\nWrote 77372 bytes.\nWrote 77165 bytes.\nWrote 77831 bytes.\nWrote 76654 bytes.\nWrote 77662 bytes.\nWrote 77453 bytes.\nWrote 78752 bytes.\nWrote 77029 bytes.\nWrote 77717 bytes.\nWrote 77701 bytes.\nWrote 78325 bytes.\nWrote 77166 bytes.\nWrote 76724 bytes.\nWrote 77743 bytes.\nWrote 77496 bytes.\nWrote 77391 bytes.\nWrote 77682 bytes.\nWrote 77870 bytes.\nWrote 77393 bytes.\nWrote 77187 bytes.\nWrote 77227 bytes.\nWrote 77897 bytes.\nWrote 77085 bytes.\nWrote 78895 bytes.\nWrote 77673 bytes.\nWrote 78021 bytes.\nWrote 77711 bytes.\nWrote 78303 bytes.\nWrote 76392 bytes.\nWrote 77410 bytes.\nWrote 76661 bytes.\nWrote 77618 bytes.\nWrote 78425 bytes.\nWrote 79235 bytes.\nWrote 76545 bytes.\nWrote 78317 bytes.\nWrote 76915 bytes.\nWrote 77690 bytes.\nWrote 76376 bytes.\nWrote 77726 bytes.\nWrote 78275 bytes.\nWrote 77099 bytes.\nWrote 77280 bytes.\nWrote 77214 bytes.\nWrote 77747 bytes.\nWrote 77767 bytes.\nWrote 76898 bytes.\nWrote 77032 bytes.\nWrote 78112 bytes.\nWrote 77843 bytes.\nWrote 76721 bytes.\nWrote 78584 bytes.\nWrote 78314 bytes.\nWrote 77176 bytes.\nWrote 77817 bytes.\nWrote 77908 bytes.\nWrote 77998 bytes.\nWrote 77347 bytes.\nWrote 77508 bytes.\nWrote 76871 bytes.\nWrote 77485 bytes.\nWrote 77525 bytes.\nWrote 77884 bytes.\nWrote 76883 bytes.\nWrote 77194 bytes.\nWrote 76892 bytes.\nWrote 78390 bytes.\nWrote 78005 bytes.\nWrote 77344 bytes.\nWrote 77681 bytes.\nWrote 76947 bytes.\nWrote 77509 bytes.\nWrote 78205 bytes.\nWrote 77025 bytes.\nWrote 77425 bytes.\nWrote 77873 bytes.\nWrote 77777 bytes.\nWrote 77650 bytes.\nWrote 77882 bytes.\nWrote 77955 bytes.\nWrote 77372 bytes.\nWrote 77431 bytes.\nWrote 77564 bytes.\nWrote 78193 bytes.\nWrote 78420 bytes.\nWrote 77187 bytes.\nWrote 77736 bytes.\nWrote 77709 bytes.\nWrote 77813 bytes.\nWrote 77412 bytes.\nWrote 77859 bytes.\nWrote 77626 bytes.\nWrote 77349 bytes.\nWrote 77951 bytes.\nWrote 76737 bytes.\nWrote 77567 bytes.\nWrote 78086 bytes.\nWrote 76905 bytes.\nWrote 77343 bytes.\nWrote 77050 bytes.\nWrote 76847 bytes.\nWrote 76836 bytes.\nWrote 77848 bytes.\nWrote 77773 bytes.\nWrote 76734 bytes.\nWrote 77720 bytes.\nWrote 77917 bytes.\nWrote 77816 bytes.\nWrote 76893 bytes.\nWrote 77249 bytes.\nWrote 77924 bytes.\nWrote 77458 bytes.\nWrote 77556 bytes.\nWrote 77354 bytes.\nWrote 77865 bytes.\nWrote 77949 bytes.\nWrote 78158 bytes.\nWrote 77342 bytes.\nWrote 77118 bytes.\nWrote 77390 bytes.\nWrote 77848 bytes.\nWrote 76688 bytes.\nWrote 77117 bytes.\nWrote 77573 bytes.\nWrote 77408 bytes.\nWrote 76117 bytes.\nWrote 77469 bytes.\nWrote 76776 bytes.\nWrote 77776 bytes.\nWrote 78431 bytes.\nWrote 76458 bytes.\nWrote 76677 bytes.\nWrote 78832 bytes.\nWrote 77173 bytes.\nWrote 78038 bytes.\nWrote 77955 bytes.\nWrote 77547 bytes.\nWrote 77284 bytes.\nWrote 77392 bytes.\nWrote 77514 bytes.\nWrote 76604 bytes.\nWrote 77438 bytes.\nWrote 78383 bytes.\nWrote 78396 bytes.\nWrote 76944 bytes.\nWrote 77516 bytes.\nWrote 78142 bytes.\nWrote 77521 bytes.\nWrote 78216 bytes.\nWrote 77248 bytes.\nWrote 77119 bytes.\nWrote 77595 bytes.\nWrote 77045 bytes.\nWrote 78865 bytes.\nWrote 78221 bytes.\nWrote 78239 bytes.\nWrote 75713 bytes.\nWrote 77782 bytes.\nWrote 76912 bytes.\nWrote 78113 bytes.\nWrote 78968 bytes.\nWrote 77545 bytes.\nWrote 77426 bytes.\nWrote 77149 bytes.\nWrote 78486 bytes.\nWrote 78134 bytes.\nWrote 76292 bytes.\nWrote 76878 bytes.\nWrote 78020 bytes.\nWrote 77973 bytes.\nWrote 78214 bytes.\nWrote 78044 bytes.\nWrote 76628 bytes.\nWrote 78566 bytes.\nWrote 77139 bytes.\nWrote 77257 bytes.\nWrote 78770 bytes.\nWrote 76953 bytes.\nWrote 78742 bytes.\nWrote 76965 bytes.\nWrote 77362 bytes.\nWrote 78037 bytes.\nWrote 76928 bytes.\nWrote 76809 bytes.\nWrote 79092 bytes.\nWrote 76944 bytes.\nWrote 78355 bytes.\nWrote 77928 bytes.\nWrote 77361 bytes.\nWrote 77870 bytes.\nWrote 77827 bytes.\nWrote 76973 bytes.\nWrote 77431 bytes.\nWrote 77459 bytes.\nWrote 77592 bytes.\nWrote 79172 bytes.\nWrote 78462 bytes.\nWrote 77211 bytes.\nWrote 77768 bytes.\nWrote 77519 bytes.\nWrote 78515 bytes.\nWrote 78255 bytes.\nWrote 78183 bytes.\nWrote 76758 bytes.\nWrote 77711 bytes.\nWrote 77040 bytes.\nWrote 76918 bytes.\nWrote 77406 bytes.\nWrote 77023 bytes.\nWrote 78395 bytes.\nWrote 77124 bytes.\nWrote 77975 bytes.\nWrote 77205 bytes.\nWrote 78673 bytes.\nWrote 77877 bytes.\nWrote 77904 bytes.\nWrote 76764 bytes.\nWrote 78371 bytes.\nWrote 77286 bytes.\nWrote 77664 bytes.\nWrote 77319 bytes.\nWrote 78411 bytes.\nWrote 77259 bytes.\nWrote 77504 bytes.\nWrote 77194 bytes.\nWrote 77047 bytes.\nWrote 78638 bytes.\nWrote 78035 bytes.\nWrote 77136 bytes.\nWrote 77619 bytes.\nWrote 77081 bytes.\nWrote 78198 bytes.\nWrote 76653 bytes.\nWrote 77572 bytes.\nWrote 77033 bytes.\nWrote 76319 bytes.\nWrote 76792 bytes.\nWrote 77643 bytes.\nWrote 78380 bytes.\nWrote 77785 bytes.\nWrote 78631 bytes.\nWrote 78129 bytes.\nWrote 77291 bytes.\nWrote 78237 bytes.\nWrote 77931 bytes.\nWrote 76937 bytes.\nWrote 77343 bytes.\nWrote 77987 bytes.\nWrote 77893 bytes.\nWrote 77879 bytes.\nWrote 77514 bytes.\nWrote 76779 bytes.\nWrote 77640 bytes.\nWrote 77969 bytes.\nWrote 78207 bytes.\nWrote 79327 bytes.\nWrote 77993 bytes.\nWrote 77969 bytes.\nWrote 77370 bytes.\nWrote 78192 bytes.\nWrote 78425 bytes.\nWrote 78019 bytes.\nWrote 78177 bytes.\nWrote 77419 bytes.\nWrote 78087 bytes.\nWrote 76893 bytes.\nWrote 77107 bytes.\nWrote 76585 bytes.\nWrote 77863 bytes.\nWrote 78108 bytes.\nWrote 77641 bytes.\nWrote 78098 bytes.\nWrote 78172 bytes.\nWrote 76668 bytes.\nWrote 78240 bytes.\nWrote 79067 bytes.\nWrote 78090 bytes.\nWrote 78023 bytes.\nWrote 76813 bytes.\nWrote 77915 bytes.\nWrote 76314 bytes.\nWrote 76927 bytes.\nWrote 79024 bytes.\nWrote 77051 bytes.\nWrote 78211 bytes.\nWrote 77933 bytes.\nWrote 76946 bytes.\nWrote 76441 bytes.\nWrote 76574 bytes.\nWrote 78244 bytes.\nWrote 77333 bytes.\nWrote 76741 bytes.\nWrote 76908 bytes.\nWrote 76528 bytes.\nWrote 76893 bytes.\nWrote 77324 bytes.\nWrote 77743 bytes.\nWrote 78174 bytes.\nWrote 77963 bytes.\nWrote 75706 bytes.\nWrote 78076 bytes.\nWrote 77434 bytes.\nWrote 77100 bytes.\nWrote 77930 bytes.\nWrote 78719 bytes.\nWrote 76850 bytes.\nWrote 77508 bytes.\nWrote 78082 bytes.\nWrote 77355 bytes.\nWrote 77414 bytes.\nWrote 76726 bytes.\nWrote 78065 bytes.\nWrote 78035 bytes.\nWrote 78789 bytes.\nWrote 77391 bytes.\nWrote 77487 bytes.\nWrote 76775 bytes.\nWrote 77768 bytes.\nWrote 78053 bytes.\nWrote 76888 bytes.\nWrote 77611 bytes.\nWrote 77582 bytes.\nWrote 77848 bytes.\nWrote 78320 bytes.\nWrote 77768 bytes.\nWrote 77598 bytes.\nWrote 77069 bytes.\nWrote 77611 bytes.\nWrote 76804 bytes.\nWrote 78220 bytes.\nWrote 77656 bytes.\nWrote 76811 bytes.\nWrote 77457 bytes.\nWrote 77699 bytes.\nWrote 77916 bytes.\nWrote 76464 bytes.\nWrote 76618 bytes.\nWrote 77492 bytes.\nWrote 78577 bytes.\nWrote 77918 bytes.\nWrote 78070 bytes.\nWrote 79416 bytes.\nWrote 77354 bytes.\nWrote 77647 bytes.\nWrote 77357 bytes.\nWrote 76901 bytes.\nWrote 77183 bytes.\nWrote 77535 bytes.\nWrote 76533 bytes.\nWrote 78210 bytes.\nWrote 77541 bytes.\nWrote 77923 bytes.\nWrote 76636 bytes.\nWrote 78420 bytes.\nWrote 77747 bytes.\nWrote 76852 bytes.\nWrote 76916 bytes.\nWrote 77807 bytes.\nWrote 77302 bytes.\nWrote 78197 bytes.\nWrote 77291 bytes.\nWrote 78532 bytes.\nWrote 77888 bytes.\nWrote 77133 bytes.\nWrote 78377 bytes.\nWrote 77731 bytes.\nWrote 76876 bytes.\nWrote 77929 bytes.\nWrote 78142 bytes.\nWrote 78757 bytes.\nWrote 77561 bytes.\nWrote 77254 bytes.\nWrote 76856 bytes.\nWrote 77586 bytes.\nWrote 76987 bytes.\nWrote 76665 bytes.\nWrote 78175 bytes.\nWrote 79441 bytes.\nWrote 77837 bytes.\nWrote 78275 bytes.\nWrote 78708 bytes.\nWrote 77754 bytes.\nWrote 79227 bytes.\nWrote 78152 bytes.\nWrote 77750 bytes.\nWrote 78037 bytes.\nWrote 78524 bytes.\nWrote 76510 bytes.\nWrote 76938 bytes.\nWrote 78143 bytes.\nWrote 76769 bytes.\nWrote 79111 bytes.\nWrote 76561 bytes.\nWrote 77343 bytes.\nWrote 78129 bytes.\nWrote 75794 bytes.\nWrote 76837 bytes.\nWrote 77449 bytes.\nWrote 77084 bytes.\nWrote 77577 bytes.\nWrote 77934 bytes.\nWrote 77942 bytes.\nWrote 77145 bytes.\nWrote 77811 bytes.\nWrote 77038 bytes.\nWrote 77264 bytes.\nWrote 77389 bytes.\nWrote 78427 bytes.\nWrote 79096 bytes.\nWrote 77565 bytes.\nWrote 77898 bytes.\nWrote 77701 bytes.\nWrote 78218 bytes.\nWrote 77317 bytes.\nWrote 77646 bytes.\nWrote 77649 bytes.\nWrote 78263 bytes.\nWrote 77598 bytes.\nWrote 78060 bytes.\nWrote 77375 bytes.\nWrote 77126 bytes.\nWrote 78181 bytes.\nWrote 76836 bytes.\nWrote 78103 bytes.\nWrote 76605 bytes.\nWrote 76456 bytes.\nWrote 78323 bytes.\nWrote 78665 bytes.\nWrote 77187 bytes.\nWrote 77232 bytes.\nWrote 77144 bytes.\nWrote 77640 bytes.\nWrote 78125 bytes.\nWrote 77398 bytes.\nWrote 77215 bytes.\nWrote 77627 bytes.\nWrote 76557 bytes.\nWrote 77815 bytes.\nWrote 76789 bytes.\nWrote 78848 bytes.\nWrote 77143 bytes.\nWrote 75884 bytes.\nWrote 77814 bytes.\nWrote 77401 bytes.\nWrote 78019 bytes.\nWrote 77438 bytes.\nWrote 77615 bytes.\nWrote 77575 bytes.\nWrote 77136 bytes.\nWrote 78506 bytes.\nWrote 77184 bytes.\nWrote 76857 bytes.\nWrote 78769 bytes.\nWrote 77060 bytes.\nWrote 77447 bytes.\nWrote 77646 bytes.\nWrote 78257 bytes.\nWrote 78110 bytes.\nWrote 79473 bytes.\nWrote 79196 bytes.\nWrote 78154 bytes.\nWrote 77566 bytes.\nWrote 78005 bytes.\nWrote 76840 bytes.\nWrote 76344 bytes.\nWrote 77248 bytes.\nWrote 77226 bytes.\nWrote 77264 bytes.\nWrote 77297 bytes.\nWrote 77665 bytes.\nWrote 75737 bytes.\nWrote 77322 bytes.\nWrote 77992 bytes.\nWrote 77654 bytes.\nWrote 77279 bytes.\nWrote 76597 bytes.\nWrote 78333 bytes.\nWrote 78314 bytes.\nWrote 77901 bytes.\nWrote 78596 bytes.\nWrote 76925 bytes.\nWrote 77144 bytes.\nWrote 77151 bytes.\nWrote 78033 bytes.\nWrote 78658 bytes.\nWrote 78081 bytes.\nWrote 77741 bytes.\nWrote 77540 bytes.\nWrote 76859 bytes.\nWrote 78148 bytes.\nWrote 76949 bytes.\nWrote 77466 bytes.\nWrote 76518 bytes.\nWrote 77429 bytes.\nWrote 78086 bytes.\nWrote 77838 bytes.\nWrote 75977 bytes.\nWrote 77135 bytes.\nWrote 77809 bytes.\nWrote 77859 bytes.\nWrote 77106 bytes.\nWrote 76388 bytes.\nWrote 76827 bytes.\nWrote 77863 bytes.\nWrote 77171 bytes.\nWrote 77198 bytes.\nWrote 77457 bytes.\nWrote 78584 bytes.\nWrote 76128 bytes.\nWrote 78018 bytes.\nWrote 77556 bytes.\nWrote 78128 bytes.\nWrote 78463 bytes.\nWrote 77720 bytes.\nWrote 76084 bytes.\nWrote 77546 bytes.\nWrote 76372 bytes.\nWrote 77717 bytes.\nWrote 76846 bytes.\nWrote 77226 bytes.\nWrote 76961 bytes.\nWrote 77388 bytes.\nWrote 78091 bytes.\nWrote 77205 bytes.\nWrote 77591 bytes.\nWrote 77601 bytes.\nWrote 76117 bytes.\nWrote 77013 bytes.\nWrote 77330 bytes.\nWrote 77412 bytes.\nWrote 76736 bytes.\nWrote 77117 bytes.\nWrote 77983 bytes.\nWrote 78092 bytes.\nWrote 78393 bytes.\nWrote 77432 bytes.\nWrote 77801 bytes.\nWrote 76327 bytes.\nWrote 77023 bytes.\nWrote 78273 bytes.\nWrote 78249 bytes.\nWrote 77549 bytes.\nWrote 77769 bytes.\nWrote 77103 bytes.\nWrote 76261 bytes.\nWrote 77064 bytes.\nWrote 77486 bytes.\nWrote 76974 bytes.\nWrote 77495 bytes.\nWrote 77672 bytes.\nWrote 77769 bytes.\nWrote 77088 bytes.\nWrote 78731 bytes.\nWrote 77475 bytes.\nWrote 77433 bytes.\nWrote 78468 bytes.\nWrote 76937 bytes.\nWrote 77324 bytes.\nWrote 77662 bytes.\nWrote 77659 bytes.\nWrote 77673 bytes.\nWrote 77666 bytes.\nWrote 76817 bytes.\nWrote 76962 bytes.\nWrote 77377 bytes.\nWrote 78329 bytes.\nWrote 77829 bytes.\nWrote 79031 bytes.\nWrote 78245 bytes.\nWrote 77164 bytes.\nWrote 77944 bytes.\nWrote 78946 bytes.\nWrote 77775 bytes.\nWrote 76270 bytes.\nWrote 77887 bytes.\nWrote 76759 bytes.\nWrote 76932 bytes.\nWrote 77387 bytes.\nWrote 77139 bytes.\nWrote 77898 bytes.\nWrote 76643 bytes.\nWrote 76216 bytes.\nWrote 77498 bytes.\nWrote 76803 bytes.\nWrote 77765 bytes.\nWrote 78705 bytes.\nWrote 78110 bytes.\nWrote 75480 bytes.\nWrote 76989 bytes.\nWrote 77965 bytes.\nWrote 76738 bytes.\nWrote 78282 bytes.\nWrote 78020 bytes.\nWrote 77322 bytes.\nWrote 76720 bytes.\nWrote 78370 bytes.\nWrote 76617 bytes.\nWrote 77407 bytes.\nWrote 76465 bytes.\nWrote 77802 bytes.\nWrote 77572 bytes.\nWrote 75854 bytes.\nWrote 77598 bytes.\nWrote 78580 bytes.\nWrote 77052 bytes.\nWrote 78603 bytes.\nWrote 78783 bytes.\nWrote 77416 bytes.\nWrote 76522 bytes.\nWrote 77979 bytes.\nWrote 78047 bytes.\nWrote 75999 bytes.\nWrote 78596 bytes.\nWrote 78020 bytes.\nWrote 76665 bytes.\nWrote 77631 bytes.\nWrote 77174 bytes.\nWrote 79134 bytes.\nWrote 77268 bytes.\nWrote 77613 bytes.\nWrote 77745 bytes.\nWrote 77110 bytes.\nWrote 76772 bytes.\nWrote 76979 bytes.\nWrote 78448 bytes.\nWrote 76682 bytes.\nWrote 78254 bytes.\nWrote 77164 bytes.\nWrote 78237 bytes.\nWrote 77482 bytes.\nWrote 78552 bytes.\nWrote 77624 bytes.\nWrote 78484 bytes.\nWrote 77347 bytes.\nWrote 78763 bytes.\nWrote 76263 bytes.\nWrote 76259 bytes.\nWrote 77829 bytes.\nWrote 77134 bytes.\nWrote 78637 bytes.\nWrote 76312 bytes.\nWrote 77673 bytes.\nWrote 77092 bytes.\nWrote 78087 bytes.\nWrote 78472 bytes.\nWrote 76608 bytes.\nWrote 77276 bytes.\nWrote 77719 bytes.\nWrote 76799 bytes.\nWrote 77859 bytes.\nWrote 77119 bytes.\nWrote 76660 bytes.\nWrote 77238 bytes.\nWrote 77855 bytes.\nWrote 76302 bytes.\nWrote 76587 bytes.\nWrote 77069 bytes.\nWrote 76967 bytes.\nWrote 78360 bytes.\nWrote 76800 bytes.\nWrote 77281 bytes.\nWrote 76553 bytes.\nWrote 77545 bytes.\nWrote 76929 bytes.\nWrote 78755 bytes.\nWrote 77522 bytes.\nWrote 76179 bytes.\nWrote 77553 bytes.\nWrote 78213 bytes.\nWrote 77242 bytes.\nWrote 76677 bytes.\nWrote 77844 bytes.\nWrote 78721 bytes.\nWrote 76762 bytes.\nWrote 77369 bytes.\nWrote 77221 bytes.\nWrote 78376 bytes.\nWrote 77093 bytes.\nWrote 77102 bytes.\nWrote 77293 bytes.\nWrote 78554 bytes.\nWrote 77794 bytes.\nWrote 77245 bytes.\nWrote 78402 bytes.\nWrote 77576 bytes.\nWrote 77065 bytes.\nWrote 77212 bytes.\nWrote 76082 bytes.\nWrote 76956 bytes.\nWrote 77377 bytes.\nWrote 77061 bytes.\nWrote 77895 bytes.\nWrote 78268 bytes.\nWrote 76398 bytes.\nWrote 77236 bytes.\nWrote 78772 bytes.\nWrote 77478 bytes.\nWrote 77564 bytes.\nWrote 75666 bytes.\nWrote 77739 bytes.\nWrote 78204 bytes.\nWrote 77077 bytes.\nWrote 78396 bytes.\nWrote 77942 bytes.\nWrote 76196 bytes.\nWrote 77322 bytes.\nWrote 78376 bytes.\nWrote 76596 bytes.\nWrote 76361 bytes.\nWrote 77095 bytes.\nWrote 78367 bytes.\nWrote 78097 bytes.\nWrote 78316 bytes.\nWrote 77957 bytes.\nWrote 76675 bytes.\nWrote 78340 bytes.\nWrote 76221 bytes.\nWrote 77773 bytes.\nWrote 77078 bytes.\nWrote 77726 bytes.\nWrote 76611 bytes.\nWrote 77580 bytes.\nWrote 77551 bytes.\nWrote 77447 bytes.\nWrote 77600 bytes.\nWrote 77152 bytes.\nWrote 77165 bytes.\nWrote 76810 bytes.\nWrote 77831 bytes.\nWrote 78018 bytes.\nWrote 77707 bytes.\nWrote 78293 bytes.\nWrote 78631 bytes.\nWrote 76535 bytes.\nWrote 77001 bytes.\nWrote 77475 bytes.\nWrote 78035 bytes.\nWrote 77928 bytes.\nWrote 77796 bytes.\nWrote 77516 bytes.\nWrote 78123 bytes.\nWrote 76886 bytes.\nWrote 77875 bytes.\nWrote 77343 bytes.\nWrote 77037 bytes.\nWrote 76907 bytes.\nWrote 77186 bytes.\nWrote 76872 bytes.\nWrote 77259 bytes.\nWrote 84679 bytes.\nWrote 77693 bytes.\nWrote 77991 bytes.\nWrote 78108 bytes.\nWrote 77835 bytes.\nWrote 76402 bytes.\nWrote 76934 bytes.\nWrote 77427 bytes.\nWrote 77004 bytes.\nWrote 78325 bytes.\nWrote 79618 bytes.\nWrote 78301 bytes.\nWrote 78138 bytes.\nWrote 78178 bytes.\nWrote 76739 bytes.\nWrote 77413 bytes.\nWrote 76879 bytes.\nWrote 78804 bytes.\nWrote 77169 bytes.\nWrote 77384 bytes.\nWrote 77215 bytes.\nWrote 78064 bytes.\nWrote 76628 bytes.\nWrote 76882 bytes.\nWrote 78066 bytes.\nWrote 77022 bytes.\nWrote 77840 bytes.\nWrote 76708 bytes.\nWrote 77923 bytes.\nWrote 78008 bytes.\nWrote 76552 bytes.\nWrote 77908 bytes.\nWrote 78258 bytes.\nWrote 77678 bytes.\nWrote 77199 bytes.\nWrote 77433 bytes.\nWrote 77573 bytes.\nWrote 77022 bytes.\nWrote 77270 bytes.\nWrote 77806 bytes.\nWrote 76518 bytes.\nWrote 76489 bytes.\nWrote 78665 bytes.\nWrote 76622 bytes.\nWrote 76211 bytes.\nWrote 78884 bytes.\nWrote 77835 bytes.\nWrote 77763 bytes.\nWrote 78101 bytes.\nWrote 77772 bytes.\nWrote 78121 bytes.\nWrote 77902 bytes.\nWrote 78192 bytes.\nWrote 78373 bytes.\nWrote 76596 bytes.\nWrote 79079 bytes.\nWrote 76029 bytes.\nWrote 77827 bytes.\nWrote 77568 bytes.\nWrote 77989 bytes.\nWrote 77159 bytes.\nWrote 76641 bytes.\nWrote 78218 bytes.\nWrote 77144 bytes.\nWrote 77419 bytes.\nWrote 78058 bytes.\nWrote 77617 bytes.\nWrote 77897 bytes.\nWrote 78685 bytes.\nWrote 76977 bytes.\nWrote 77826 bytes.\nWrote 76669 bytes.\nWrote 78158 bytes.\nWrote 75742 bytes.\nWrote 78394 bytes.\nWrote 78360 bytes.\nWrote 75569 bytes.\nWrote 77109 bytes.\nWrote 78072 bytes.\nWrote 77427 bytes.\nWrote 77928 bytes.\nWrote 77451 bytes.\nWrote 78332 bytes.\nWrote 77026 bytes.\nWrote 78430 bytes.\nWrote 77020 bytes.\nWrote 77262 bytes.\nWrote 77632 bytes.\nWrote 76839 bytes.\nWrote 76963 bytes.\nWrote 76115 bytes.\nWrote 77931 bytes.\nWrote 76281 bytes.\nWrote 78340 bytes.\nWrote 78570 bytes.\nWrote 78068 bytes.\nWrote 78745 bytes.\nWrote 78238 bytes.\nWrote 77455 bytes.\nWrote 75494 bytes.\nWrote 78111 bytes.\nWrote 77797 bytes.\nWrote 78131 bytes.\nWrote 77416 bytes.\nWrote 77210 bytes.\nWrote 76699 bytes.\nWrote 78107 bytes.\nWrote 77839 bytes.\nWrote 77722 bytes.\nWrote 79139 bytes.\nWrote 77794 bytes.\nWrote 77142 bytes.\nWrote 78008 bytes.\nWrote 77107 bytes.\nWrote 76998 bytes.\nWrote 77691 bytes.\nWrote 76375 bytes.\nWrote 77062 bytes.\nWrote 78666 bytes.\nWrote 76335 bytes.\nWrote 77581 bytes.\nWrote 77493 bytes.\nWrote 76919 bytes.\nWrote 77483 bytes.\nWrote 76989 bytes.\nWrote 78277 bytes.\nWrote 78035 bytes.\nWrote 77788 bytes.\nWrote 76730 bytes.\nWrote 80039 bytes.\nWrote 77532 bytes.\nWrote 77107 bytes.\nWrote 76907 bytes.\nWrote 77611 bytes.\nWrote 78022 bytes.\nWrote 77887 bytes.\nWrote 76906 bytes.\nWrote 78243 bytes.\nWrote 76782 bytes.\nWrote 77135 bytes.\nWrote 77598 bytes.\nWrote 78210 bytes.\nWrote 77431 bytes.\nWrote 78030 bytes.\nWrote 78490 bytes.\nWrote 77294 bytes.\nWrote 77496 bytes.\nWrote 78213 bytes.\nWrote 77274 bytes.\nWrote 77148 bytes.\nWrote 78152 bytes.\nWrote 78123 bytes.\nWrote 77337 bytes.\nWrote 77172 bytes.\nWrote 77301 bytes.\nWrote 77659 bytes.\nWrote 79050 bytes.\nWrote 77140 bytes.\nWrote 76582 bytes.\nWrote 75955 bytes.\nWrote 77664 bytes.\nWrote 76796 bytes.\nWrote 77316 bytes.\nWrote 76899 bytes.\nWrote 76375 bytes.\nWrote 77588 bytes.\nWrote 77579 bytes.\nWrote 78123 bytes.\nWrote 77035 bytes.\nWrote 78772 bytes.\nWrote 77517 bytes.\nWrote 78314 bytes.\nWrote 76838 bytes.\nWrote 76840 bytes.\nWrote 77745 bytes.\nWrote 78571 bytes.\nWrote 76617 bytes.\nWrote 77135 bytes.\nWrote 76908 bytes.\nWrote 77698 bytes.\nWrote 77649 bytes.\nWrote 78795 bytes.\nWrote 77647 bytes.\nWrote 77978 bytes.\nWrote 76715 bytes.\nWrote 77679 bytes.\nWrote 77179 bytes.\nWrote 76649 bytes.\nWrote 78354 bytes.\nWrote 78679 bytes.\nWrote 76801 bytes.\nWrote 77741 bytes.\nWrote 77823 bytes.\nWrote 79383 bytes.\nWrote 76429 bytes.\nWrote 78086 bytes.\nWrote 77650 bytes.\nWrote 78464 bytes.\nWrote 77482 bytes.\nWrote 77904 bytes.\nWrote 77216 bytes.\nWrote 76674 bytes.\nWrote 78176 bytes.\nWrote 77653 bytes.\nWrote 76849 bytes.\nWrote 76873 bytes.\nWrote 77783 bytes.\nWrote 77205 bytes.\nWrote 77471 bytes.\nWrote 78132 bytes.\nWrote 77554 bytes.\nWrote 77166 bytes.\nWrote 77880 bytes.\nWrote 78387 bytes.\nWrote 77464 bytes.\nWrote 77465 bytes.\nWrote 78006 bytes.\nWrote 76492 bytes.\nWrote 77428 bytes.\nWrote 76417 bytes.\nWrote 77551 bytes.\nWrote 77301 bytes.\nWrote 78043 bytes.\nWrote 77969 bytes.\nWrote 76801 bytes.\nWrote 77842 bytes.\nWrote 77460 bytes.\nWrote 79010 bytes.\nWrote 77170 bytes.\nWrote 77939 bytes.\nWrote 78017 bytes.\nWrote 77009 bytes.\nWrote 76886 bytes.\nWrote 77315 bytes.\nWrote 76338 bytes.\nWrote 76888 bytes.\nWrote 76980 bytes.\nWrote 78592 bytes.\nWrote 77949 bytes.\nWrote 77401 bytes.\nWrote 76023 bytes.\nWrote 77662 bytes.\nWrote 77063 bytes.\nWrote 77548 bytes.\nWrote 77343 bytes.\nWrote 77835 bytes.\nWrote 80118 bytes.\nWrote 78541 bytes.\nWrote 76898 bytes.\nWrote 76353 bytes.\nWrote 77631 bytes.\nWrote 77912 bytes.\nWrote 78238 bytes.\nWrote 76149 bytes.\nWrote 77924 bytes.\nWrote 77089 bytes.\nWrote 78143 bytes.\nWrote 77861 bytes.\nWrote 78189 bytes.\nWrote 77830 bytes.\nWrote 77465 bytes.\nWrote 77069 bytes.\nWrote 77483 bytes.\nWrote 78386 bytes.\nWrote 77915 bytes.\nWrote 77567 bytes.\nWrote 77051 bytes.\nWrote 78023 bytes.\nWrote 77761 bytes.\nWrote 78022 bytes.\nWrote 77485 bytes.\nWrote 77832 bytes.\nWrote 76269 bytes.\nWrote 77611 bytes.\nWrote 77680 bytes.\nWrote 75606 bytes.\nWrote 78393 bytes.\nWrote 78089 bytes.\nWrote 77117 bytes.\nWrote 77342 bytes.\nWrote 78655 bytes.\nWrote 78763 bytes.\nWrote 77324 bytes.\nWrote 77196 bytes.\nWrote 77893 bytes.\nWrote 77472 bytes.\nWrote 77576 bytes.\nWrote 77389 bytes.\nWrote 77604 bytes.\nWrote 77097 bytes.\nWrote 77852 bytes.\nWrote 77479 bytes.\nWrote 77087 bytes.\nWrote 77755 bytes.\nWrote 77261 bytes.\nWrote 77084 bytes.\nWrote 76576 bytes.\nWrote 78093 bytes.\nWrote 77911 bytes.\nWrote 78620 bytes.\nWrote 76729 bytes.\nWrote 78908 bytes.\nWrote 77811 bytes.\nWrote 78358 bytes.\nWrote 77902 bytes.\nWrote 77327 bytes.\nWrote 77875 bytes.\nWrote 77492 bytes.\nWrote 77787 bytes.\nWrote 77628 bytes.\nWrote 77867 bytes.\nWrote 77385 bytes.\nWrote 77022 bytes.\nWrote 78181 bytes.\nWrote 78103 bytes.\nWrote 77160 bytes.\nWrote 77868 bytes.\nWrote 78572 bytes.\nWrote 78164 bytes.\nWrote 76485 bytes.\nWrote 78422 bytes.\nWrote 77501 bytes.\nWrote 77241 bytes.\nWrote 77007 bytes.\nWrote 77828 bytes.\nWrote 78113 bytes.\nWrote 77764 bytes.\nWrote 78056 bytes.\nWrote 76576 bytes.\nWrote 77361 bytes.\nWrote 77433 bytes.\nWrote 78111 bytes.\nWrote 76790 bytes.\nWrote 76567 bytes.\nWrote 77427 bytes.\nWrote 77195 bytes.\nWrote 78002 bytes.\nWrote 78170 bytes.\nWrote 78588 bytes.\nWrote 76728 bytes.\nWrote 77797 bytes.\nWrote 77961 bytes.\nWrote 76602 bytes.\nWrote 77745 bytes.\nWrote 77669 bytes.\nWrote 76642 bytes.\nWrote 78277 bytes.\nWrote 77192 bytes.\nWrote 77177 bytes.\nWrote 77533 bytes.\nWrote 76923 bytes.\nWrote 78154 bytes.\nWrote 77462 bytes.\nWrote 77433 bytes.\nWrote 77558 bytes.\nWrote 78263 bytes.\nWrote 78154 bytes.\nWrote 77050 bytes.\nWrote 78078 bytes.\nWrote 77679 bytes.\nWrote 77547 bytes.\nWrote 78491 bytes.\nWrote 77035 bytes.\nWrote 77332 bytes.\nWrote 77733 bytes.\nWrote 76890 bytes.\nWrote 79628 bytes.\nWrote 77662 bytes.\nWrote 76646 bytes.\nWrote 78811 bytes.\nWrote 76937 bytes.\nWrote 78301 bytes.\nWrote 77876 bytes.\nWrote 77322 bytes.\nWrote 75926 bytes.\nWrote 76984 bytes.\nWrote 75658 bytes.\nWrote 76728 bytes.\nWrote 78487 bytes.\nWrote 77011 bytes.\nWrote 78164 bytes.\nWrote 77184 bytes.\nWrote 78007 bytes.\nWrote 77899 bytes.\nWrote 77570 bytes.\nWrote 78852 bytes.\nWrote 77742 bytes.\nWrote 77655 bytes.\nWrote 78299 bytes.\nWrote 78200 bytes.\nWrote 78766 bytes.\nWrote 77253 bytes.\nWrote 76988 bytes.\nWrote 77307 bytes.\nWrote 77847 bytes.\nWrote 77202 bytes.\nWrote 77834 bytes.\nWrote 77155 bytes.\nWrote 77172 bytes.\nWrote 76210 bytes.\nWrote 77620 bytes.\nWrote 78324 bytes.\nWrote 77727 bytes.\nWrote 78222 bytes.\nWrote 77012 bytes.\nWrote 76961 bytes.\nWrote 77908 bytes.\nWrote 76978 bytes.\nWrote 76818 bytes.\nWrote 77026 bytes.\nWrote 77365 bytes.\nWrote 77268 bytes.\nWrote 76632 bytes.\nWrote 77646 bytes.\nWrote 78510 bytes.\nWrote 78606 bytes.\nWrote 78227 bytes.\nWrote 78721 bytes.\nWrote 78316 bytes.\nWrote 78036 bytes.\nWrote 78207 bytes.\nWrote 78089 bytes.\nWrote 78272 bytes.\nWrote 77880 bytes.\nWrote 78703 bytes.\nWrote 78731 bytes.\nWrote 77139 bytes.\nWrote 77669 bytes.\nWrote 78457 bytes.\nWrote 76483 bytes.\nWrote 77758 bytes.\nWrote 77673 bytes.\nWrote 78297 bytes.\nWrote 76925 bytes.\nWrote 77811 bytes.\nWrote 77704 bytes.\nWrote 76266 bytes.\nWrote 77890 bytes.\nWrote 76947 bytes.\nWrote 77493 bytes.\nWrote 77596 bytes.\nWrote 77248 bytes.\nWrote 77398 bytes.\nWrote 76564 bytes.\nWrote 77801 bytes.\nWrote 77610 bytes.\nWrote 77107 bytes.\nWrote 76497 bytes.\nWrote 78743 bytes.\nWrote 77221 bytes.\nWrote 77484 bytes.\nWrote 77695 bytes.\nWrote 77725 bytes.\nWrote 77118 bytes.\nWrote 75838 bytes.\nWrote 77800 bytes.\nWrote 77643 bytes.\nWrote 78235 bytes.\nWrote 77649 bytes.\nWrote 77708 bytes.\nWrote 78232 bytes.\nWrote 76579 bytes.\nWrote 77767 bytes.\nWrote 79198 bytes.\nWrote 77692 bytes.\nWrote 77573 bytes.\nWrote 77704 bytes.\nWrote 78730 bytes.\nWrote 78265 bytes.\nWrote 78173 bytes.\nWrote 77430 bytes.\nWrote 76973 bytes.\nWrote 78288 bytes.\nWrote 77205 bytes.\nWrote 77260 bytes.\nWrote 77870 bytes.\nWrote 77896 bytes.\nWrote 77108 bytes.\nWrote 76243 bytes.\nWrote 76837 bytes.\nWrote 77636 bytes.\nWrote 76498 bytes.\nWrote 77561 bytes.\nWrote 77200 bytes.\nWrote 77243 bytes.\nWrote 76813 bytes.\nWrote 78426 bytes.\nWrote 77988 bytes.\nWrote 75690 bytes.\nWrote 78065 bytes.\nWrote 76890 bytes.\nWrote 76632 bytes.\nWrote 76938 bytes.\nWrote 77315 bytes.\nWrote 78998 bytes.\nWrote 77381 bytes.\nWrote 76777 bytes.\nWrote 76970 bytes.\nWrote 77611 bytes.\nWrote 77526 bytes.\nWrote 76674 bytes.\nWrote 77560 bytes.\nWrote 76827 bytes.\nWrote 77131 bytes.\nWrote 76914 bytes.\nWrote 78085 bytes.\nWrote 76625 bytes.\nWrote 77736 bytes.\nWrote 76455 bytes.\nWrote 78035 bytes.\nWrote 77969 bytes.\nWrote 78716 bytes.\nWrote 76047 bytes.\nWrote 77598 bytes.\nWrote 77901 bytes.\nWrote 77542 bytes.\nWrote 77706 bytes.\nWrote 76463 bytes.\nWrote 78778 bytes.\nWrote 76394 bytes.\nWrote 76330 bytes.\nWrote 77274 bytes.\nWrote 78313 bytes.\nWrote 78090 bytes.\nWrote 76828 bytes.\nWrote 76661 bytes.\nWrote 77493 bytes.\nWrote 77626 bytes.\nWrote 77235 bytes.\nWrote 77332 bytes.\nWrote 76678 bytes.\nWrote 76816 bytes.\nWrote 78484 bytes.\nWrote 77210 bytes.\nWrote 76989 bytes.\nWrote 77817 bytes.\nWrote 77467 bytes.\nWrote 77972 bytes.\nWrote 77516 bytes.\nWrote 77778 bytes.\nWrote 77112 bytes.\nWrote 78493 bytes.\nWrote 77589 bytes.\nWrote 77068 bytes.\nWrote 76602 bytes.\nWrote 77778 bytes.\nWrote 76875 bytes.\nWrote 76833 bytes.\nWrote 77835 bytes.\nWrote 78285 bytes.\nWrote 76999 bytes.\nWrote 76945 bytes.\nWrote 77249 bytes.\nWrote 77742 bytes.\nWrote 76320 bytes.\nWrote 77031 bytes.\nWrote 77724 bytes.\nWrote 77806 bytes.\nWrote 78504 bytes.\nWrote 78019 bytes.\nWrote 76332 bytes.\nWrote 77383 bytes.\nWrote 76724 bytes.\nWrote 77518 bytes.\nWrote 77504 bytes.\nWrote 76938 bytes.\nWrote 77329 bytes.\nWrote 77943 bytes.\nWrote 76971 bytes.\nWrote 78135 bytes.\nWrote 78137 bytes.\nWrote 76865 bytes.\nWrote 77304 bytes.\nWrote 75660 bytes.\nWrote 77494 bytes.\nWrote 77366 bytes.\nWrote 77274 bytes.\nWrote 77003 bytes.\nWrote 77349 bytes.\nWrote 77174 bytes.\nWrote 77741 bytes.\nWrote 76810 bytes.\nWrote 76134 bytes.\nWrote 77626 bytes.\nWrote 76809 bytes.\nWrote 77353 bytes.\nWrote 77028 bytes.\nWrote 76239 bytes.\nWrote 76892 bytes.\nWrote 77913 bytes.\nWrote 77535 bytes.\nWrote 77260 bytes.\nWrote 76209 bytes.\nWrote 78344 bytes.\nWrote 77026 bytes.\nWrote 78387 bytes.\nWrote 77081 bytes.\nWrote 77517 bytes.\nWrote 77024 bytes.\nWrote 79055 bytes.\nWrote 78291 bytes.\nWrote 76489 bytes.\nWrote 77960 bytes.\nWrote 77184 bytes.\nWrote 77321 bytes.\nWrote 76877 bytes.\nWrote 78373 bytes.\nWrote 77734 bytes.\nWrote 75702 bytes.\nWrote 76826 bytes.\nWrote 77294 bytes.\nWrote 77197 bytes.\nWrote 76106 bytes.\nWrote 77792 bytes.\nWrote 78206 bytes.\nWrote 76201 bytes.\nWrote 76599 bytes.\nWrote 78282 bytes.\nWrote 77397 bytes.\nWrote 77934 bytes.\nWrote 77320 bytes.\nWrote 77408 bytes.\nWrote 77490 bytes.\nWrote 77316 bytes.\nWrote 77642 bytes.\nWrote 77586 bytes.\nWrote 76616 bytes.\nWrote 76779 bytes.\nWrote 76970 bytes.\nWrote 75225 bytes.\nWrote 76293 bytes.\nWrote 78555 bytes.\nWrote 77729 bytes.\nWrote 78165 bytes.\nWrote 76991 bytes.\nWrote 76915 bytes.\nWrote 77088 bytes.\nWrote 77877 bytes.\nWrote 77182 bytes.\nWrote 76323 bytes.\nWrote 76598 bytes.\nWrote 76816 bytes.\nWrote 77778 bytes.\nWrote 77160 bytes.\nWrote 77345 bytes.\nWrote 78397 bytes.\nWrote 78455 bytes.\nWrote 78286 bytes.\nWrote 77149 bytes.\nWrote 76873 bytes.\nWrote 76812 bytes.\nWrote 76587 bytes.\nWrote 77621 bytes.\nWrote 77104 bytes.\nWrote 77859 bytes.\nWrote 78282 bytes.\nWrote 79369 bytes.\nWrote 76482 bytes.\nWrote 77139 bytes.\nWrote 77416 bytes.\nWrote 77318 bytes.\nWrote 77867 bytes.\nWrote 76933 bytes.\nWrote 76753 bytes.\nWrote 77622 bytes.\nWrote 77112 bytes.\nWrote 76548 bytes.\nWrote 77279 bytes.\nWrote 78762 bytes.\nWrote 77173 bytes.\nWrote 76820 bytes.\nWrote 77287 bytes.\nWrote 77269 bytes.\nWrote 77145 bytes.\nWrote 77411 bytes.\nWrote 76582 bytes.\nWrote 76517 bytes.\nWrote 76698 bytes.\nWrote 77699 bytes.\nWrote 77255 bytes.\nWrote 77245 bytes.\nWrote 78129 bytes.\nWrote 77515 bytes.\nWrote 77129 bytes.\nWrote 76723 bytes.\nWrote 77423 bytes.\nWrote 77690 bytes.\nWrote 78905 bytes.\nWrote 77001 bytes.\nWrote 78250 bytes.\nWrote 77067 bytes.\nWrote 77181 bytes.\nWrote 78008 bytes.\nWrote 76950 bytes.\nWrote 77492 bytes.\nWrote 78026 bytes.\nWrote 77229 bytes.\nWrote 77572 bytes.\nWrote 77225 bytes.\nWrote 77323 bytes.\nWrote 77872 bytes.\nWrote 77330 bytes.\nWrote 76843 bytes.\nWrote 77338 bytes.\nWrote 76996 bytes.\nWrote 78022 bytes.\nWrote 76384 bytes.\nWrote 77623 bytes.\nWrote 77689 bytes.\nWrote 77240 bytes.\nWrote 76813 bytes.\nWrote 77068 bytes.\nWrote 76832 bytes.\nWrote 77736 bytes.\nWrote 75961 bytes.\nWrote 77753 bytes.\nWrote 77132 bytes.\nWrote 78014 bytes.\nWrote 77733 bytes.\nWrote 77931 bytes.\nWrote 78109 bytes.\nWrote 77383 bytes.\nWrote 76616 bytes.\nWrote 77287 bytes.\nWrote 78207 bytes.\nWrote 76996 bytes.\nWrote 77333 bytes.\nWrote 76154 bytes.\nWrote 77154 bytes.\nWrote 77722 bytes.\nWrote 77855 bytes.\nWrote 77564 bytes.\nWrote 77162 bytes.\nWrote 78423 bytes.\nWrote 76310 bytes.\nWrote 77806 bytes.\nWrote 77178 bytes.\nWrote 76916 bytes.\nWrote 77583 bytes.\nWrote 77771 bytes.\nWrote 77454 bytes.\nWrote 77868 bytes.\nWrote 78427 bytes.\nWrote 77241 bytes.\nWrote 76606 bytes.\nWrote 77050 bytes.\nWrote 76505 bytes.\nWrote 77265 bytes.\nWrote 77278 bytes.\nWrote 75991 bytes.\nWrote 77948 bytes.\nWrote 76572 bytes.\nWrote 76758 bytes.\nWrote 77523 bytes.\nWrote 77290 bytes.\nWrote 77512 bytes.\nWrote 76664 bytes.\nWrote 76810 bytes.\nWrote 76420 bytes.\nWrote 77286 bytes.\nWrote 78122 bytes.\nWrote 77100 bytes.\nWrote 76775 bytes.\nWrote 76132 bytes.\nWrote 78707 bytes.\nWrote 77341 bytes.\nWrote 78123 bytes.\nWrote 77819 bytes.\nWrote 76655 bytes.\nWrote 77298 bytes.\nWrote 77535 bytes.\nWrote 77274 bytes.\nWrote 77326 bytes.\nWrote 78290 bytes.\nWrote 76904 bytes.\nWrote 78602 bytes.\nWrote 76971 bytes.\nWrote 76618 bytes.\nWrote 77459 bytes.\nWrote 77182 bytes.\nWrote 77008 bytes.\nWrote 77197 bytes.\nWrote 77875 bytes.\nWrote 77811 bytes.\nWrote 78037 bytes.\nWrote 76949 bytes.\nWrote 78515 bytes.\nWrote 77221 bytes.\nWrote 77185 bytes.\nWrote 77568 bytes.\nWrote 77035 bytes.\nWrote 76987 bytes.\nWrote 77362 bytes.\nWrote 77046 bytes.\nWrote 77650 bytes.\nWrote 77373 bytes.\nWrote 77397 bytes.\nWrote 76789 bytes.\nWrote 76276 bytes.\nWrote 77948 bytes.\nWrote 77717 bytes.\nWrote 77517 bytes.\nWrote 76815 bytes.\nWrote 77232 bytes.\nWrote 77526 bytes.\nWrote 77158 bytes.\nWrote 78574 bytes.\nWrote 77173 bytes.\nWrote 78039 bytes.\nWrote 77685 bytes.\nWrote 76771 bytes.\nWrote 78445 bytes.\nWrote 77220 bytes.\nWrote 75542 bytes.\nWrote 77117 bytes.\nWrote 76428 bytes.\nWrote 76138 bytes.\nWrote 77939 bytes.\nWrote 77758 bytes.\nWrote 76387 bytes.\nWrote 76455 bytes.\nWrote 77622 bytes.\nWrote 77834 bytes.\nWrote 77372 bytes.\nWrote 78309 bytes.\nWrote 77212 bytes.\nWrote 79896 bytes.\nWrote 76970 bytes.\nWrote 77363 bytes.\nWrote 76528 bytes.\nWrote 77660 bytes.\nWrote 76346 bytes.\nWrote 76621 bytes.\nWrote 77520 bytes.\nWrote 76153 bytes.\nWrote 76986 bytes.\nWrote 76750 bytes.\nWrote 77052 bytes.\nWrote 77304 bytes.\nWrote 77529 bytes.\nWrote 76810 bytes.\nWrote 76987 bytes.\nWrote 77091 bytes.\nWrote 76292 bytes.\nWrote 76438 bytes.\nWrote 76764 bytes.\nWrote 77114 bytes.\nWrote 76380 bytes.\nWrote 76880 bytes.\nWrote 76660 bytes.\nWrote 77980 bytes.\nWrote 77439 bytes.\nWrote 77488 bytes.\nWrote 76798 bytes.\nWrote 76596 bytes.\nWrote 75936 bytes.\nWrote 76267 bytes.\nWrote 76243 bytes.\nWrote 77584 bytes.\nWrote 77651 bytes.\nWrote 77008 bytes.\nWrote 79034 bytes.\nWrote 77233 bytes.\nWrote 78700 bytes.\nWrote 75037 bytes.\nWrote 77407 bytes.\nWrote 77144 bytes.\nWrote 77146 bytes.\nWrote 77403 bytes.\nWrote 76998 bytes.\nWrote 76680 bytes.\nWrote 77046 bytes.\nWrote 76396 bytes.\nWrote 78058 bytes.\nWrote 76803 bytes.\nWrote 76513 bytes.\nWrote 78154 bytes.\nWrote 76965 bytes.\nWrote 76309 bytes.\nWrote 85725 bytes.\nWrote 77943 bytes.\nWrote 77169 bytes.\nWrote 76674 bytes.\nWrote 77302 bytes.\nWrote 76661 bytes.\nWrote 77709 bytes.\nWrote 77376 bytes.\nWrote 77931 bytes.\nWrote 77399 bytes.\nWrote 78397 bytes.\nWrote 77693 bytes.\nWrote 76903 bytes.\nWrote 76884 bytes.\nWrote 78006 bytes.\nWrote 78905 bytes.\nWrote 77630 bytes.\nWrote 76219 bytes.\nWrote 77345 bytes.\nWrote 76743 bytes.\nWrote 79540 bytes.\nWrote 77477 bytes.\nWrote 77112 bytes.\nWrote 77572 bytes.\nWrote 78249 bytes.\nWrote 76679 bytes.\nWrote 77480 bytes.\nWrote 77242 bytes.\nWrote 76118 bytes.\nWrote 76797 bytes.\nWrote 77595 bytes.\nWrote 76676 bytes.\nWrote 88235 bytes.\nWrote 77537 bytes.\nWrote 78177 bytes.\nWrote 76871 bytes.\nWrote 77982 bytes.\nWrote 78040 bytes.\nWrote 77388 bytes.\nWrote 77512 bytes.\nWrote 77971 bytes.\nWrote 78140 bytes.\nWrote 77081 bytes.\nWrote 76911 bytes.\nWrote 77415 bytes.\nWrote 76259 bytes.\nWrote 76674 bytes.\nWrote 77162 bytes.\nWrote 77791 bytes.\nWrote 76468 bytes.\nWrote 76807 bytes.\nWrote 78450 bytes.\nWrote 77858 bytes.\nWrote 76421 bytes.\nWrote 77113 bytes.\nWrote 77265 bytes.\nWrote 77124 bytes.\nWrote 77226 bytes.\nWrote 77725 bytes.\nWrote 78247 bytes.\nWrote 76867 bytes.\nWrote 76965 bytes.\nWrote 76974 bytes.\nWrote 78205 bytes.\nWrote 76494 bytes.\nWrote 76168 bytes.\nWrote 76814 bytes.\nWrote 76774 bytes.\nWrote 77298 bytes.\nWrote 78072 bytes.\nWrote 77800 bytes.\nWrote 78470 bytes.\nWrote 77408 bytes.\nWrote 77349 bytes.\nWrote 78247 bytes.\nWrote 76692 bytes.\nWrote 76968 bytes.\nWrote 77077 bytes.\nWrote 75747 bytes.\nWrote 76627 bytes.\nWrote 75580 bytes.\nWrote 78169 bytes.\nWrote 76362 bytes.\nWrote 77220 bytes.\nWrote 76860 bytes.\nWrote 77244 bytes.\nWrote 77001 bytes.\nWrote 77766 bytes.\nWrote 76445 bytes.\nWrote 77110 bytes.\nWrote 76782 bytes.\nWrote 76802 bytes.\nWrote 76892 bytes.\nWrote 75669 bytes.\nWrote 77466 bytes.\nWrote 77215 bytes.\nWrote 78480 bytes.\nWrote 77173 bytes.\nWrote 76754 bytes.\nWrote 78125 bytes.\nWrote 76303 bytes.\nWrote 77644 bytes.\nWrote 77676 bytes.\nWrote 76727 bytes.\nWrote 77596 bytes.\nWrote 77194 bytes.\nWrote 79721 bytes.\nWrote 77324 bytes.\nWrote 79866 bytes.\nWrote 77569 bytes.\nWrote 77985 bytes.\nWrote 76817 bytes.\nWrote 77120 bytes.\nWrote 76795 bytes.\nWrote 78140 bytes.\nWrote 77045 bytes.\nWrote 78152 bytes.\nWrote 77111 bytes.\nWrote 76626 bytes.\nWrote 78583 bytes.\nWrote 77514 bytes.\nWrote 77137 bytes.\nWrote 76839 bytes.\nWrote 77499 bytes.\nWrote 77908 bytes.\nWrote 78749 bytes.\nWrote 78507 bytes.\nWrote 79022 bytes.\nWrote 78269 bytes.\nWrote 78077 bytes.\nWrote 76932 bytes.\nWrote 77715 bytes.\nWrote 77632 bytes.\nWrote 77602 bytes.\nWrote 77239 bytes.\nWrote 77128 bytes.\nWrote 77020 bytes.\nWrote 76877 bytes.\nWrote 77159 bytes.\nWrote 77351 bytes.\nWrote 75931 bytes.\nWrote 76586 bytes.\nWrote 77747 bytes.\nWrote 77623 bytes.\nWrote 77462 bytes.\nWrote 78689 bytes.\nWrote 77020 bytes.\nWrote 77873 bytes.\nWrote 78590 bytes.\nWrote 77584 bytes.\nWrote 76979 bytes.\nWrote 77264 bytes.\nWrote 76842 bytes.\nWrote 76582 bytes.\nWrote 76375 bytes.\nWrote 78464 bytes.\nWrote 77866 bytes.\nWrote 76531 bytes.\nWrote 77479 bytes.\nWrote 77515 bytes.\nWrote 76787 bytes.\nWrote 77901 bytes.\nWrote 77084 bytes.\nWrote 77622 bytes.\nWrote 77588 bytes.\nWrote 77978 bytes.\nWrote 76843 bytes.\nWrote 76668 bytes.\nWrote 77221 bytes.\nWrote 77943 bytes.\nWrote 76754 bytes.\nWrote 77382 bytes.\nWrote 77335 bytes.\nWrote 77005 bytes.\nWrote 77223 bytes.\nWrote 78223 bytes.\nWrote 76845 bytes.\nWrote 75987 bytes.\nWrote 77251 bytes.\nWrote 77408 bytes.\nWrote 77089 bytes.\nWrote 76720 bytes.\nWrote 76168 bytes.\nWrote 77111 bytes.\nWrote 77038 bytes.\nWrote 76917 bytes.\nWrote 77111 bytes.\nWrote 75929 bytes.\nWrote 76584 bytes.\nWrote 77312 bytes.\nWrote 77601 bytes.\nWrote 77182 bytes.\nWrote 77255 bytes.\nWrote 76066 bytes.\nWrote 77404 bytes.\nWrote 76268 bytes.\nWrote 76648 bytes.\nWrote 75811 bytes.\nWrote 77474 bytes.\nWrote 76324 bytes.\nWrote 78552 bytes.\nWrote 76556 bytes.\nWrote 76949 bytes.\nWrote 78250 bytes.\nWrote 77184 bytes.\nWrote 78083 bytes.\nWrote 77637 bytes.\nWrote 76488 bytes.\nWrote 77055 bytes.\nWrote 78078 bytes.\nWrote 76508 bytes.\nWrote 78160 bytes.\nWrote 77488 bytes.\nWrote 77564 bytes.\nWrote 77479 bytes.\nWrote 77398 bytes.\nWrote 76946 bytes.\nWrote 77099 bytes.\nWrote 76799 bytes.\nWrote 75231 bytes.\nWrote 77375 bytes.\nWrote 76808 bytes.\nWrote 75897 bytes.\nWrote 75285 bytes.\nWrote 77474 bytes.\nWrote 76155 bytes.\nWrote 78842 bytes.\nWrote 76559 bytes.\nWrote 77355 bytes.\nWrote 76944 bytes.\nWrote 76165 bytes.\nWrote 78833 bytes.\nWrote 78368 bytes.\nWrote 75938 bytes.\nWrote 77102 bytes.\nWrote 76836 bytes.\nWrote 77827 bytes.\nWrote 77728 bytes.\nWrote 77446 bytes.\nWrote 77689 bytes.\nWrote 76959 bytes.\nWrote 77305 bytes.\nWrote 77171 bytes.\nWrote 76867 bytes.\nWrote 76318 bytes.\nWrote 77809 bytes.\nWrote 76320 bytes.\nWrote 76457 bytes.\nWrote 77042 bytes.\nWrote 77903 bytes.\nWrote 77982 bytes.\nWrote 76517 bytes.\nWrote 77417 bytes.\nWrote 77634 bytes.\nWrote 78396 bytes.\nWrote 77476 bytes.\nWrote 76558 bytes.\nWrote 76134 bytes.\nWrote 77422 bytes.\nWrote 77109 bytes.\nWrote 77347 bytes.\nWrote 76382 bytes.\nWrote 77644 bytes.\nWrote 77247 bytes.\nWrote 77841 bytes.\nWrote 75498 bytes.\nWrote 76479 bytes.\nWrote 77849 bytes.\nWrote 76604 bytes.\nWrote 77379 bytes.\nWrote 77790 bytes.\nWrote 76366 bytes.\nWrote 76806 bytes.\nWrote 77010 bytes.\nWrote 77310 bytes.\nWrote 77441 bytes.\nWrote 77740 bytes.\nWrote 75586 bytes.\nWrote 77547 bytes.\nWrote 77198 bytes.\nWrote 77490 bytes.\nWrote 76672 bytes.\nWrote 77270 bytes.\nWrote 77887 bytes.\nWrote 77322 bytes.\nWrote 76671 bytes.\nWrote 78830 bytes.\nWrote 76627 bytes.\nWrote 77668 bytes.\nWrote 76633 bytes.\nWrote 78222 bytes.\nWrote 77711 bytes.\nWrote 76985 bytes.\nWrote 76339 bytes.\nWrote 77710 bytes.\nWrote 75668 bytes.\nWrote 77132 bytes.\nWrote 76606 bytes.\nWrote 76147 bytes.\nWrote 76785 bytes.\nWrote 76455 bytes.\nWrote 76505 bytes.\nWrote 77192 bytes.\nWrote 77742 bytes.\nWrote 77495 bytes.\nWrote 76662 bytes.\nWrote 77767 bytes.\nWrote 77744 bytes.\nWrote 76846 bytes.\nWrote 76974 bytes.\nWrote 77613 bytes.\nWrote 76713 bytes.\nWrote 77253 bytes.\nWrote 78165 bytes.\nWrote 78070 bytes.\nWrote 77530 bytes.\nWrote 76565 bytes.\nWrote 76909 bytes.\nWrote 76920 bytes.\nWrote 77884 bytes.\nWrote 76836 bytes.\nWrote 77871 bytes.\nWrote 76773 bytes.\nWrote 76979 bytes.\nWrote 77096 bytes.\nWrote 75647 bytes.\nWrote 76373 bytes.\nWrote 77624 bytes.\nWrote 78001 bytes.\nWrote 78453 bytes.\nWrote 77748 bytes.\nWrote 76862 bytes.\nWrote 76524 bytes.\nWrote 78053 bytes.\nWrote 77394 bytes.\nWrote 78478 bytes.\nWrote 77594 bytes.\nWrote 76556 bytes.\nWrote 77132 bytes.\nWrote 77070 bytes.\nWrote 77037 bytes.\nWrote 77168 bytes.\nWrote 76314 bytes.\nWrote 78922 bytes.\nWrote 77431 bytes.\nWrote 76504 bytes.\nWrote 77358 bytes.\nWrote 76743 bytes.\nWrote 77410 bytes.\nWrote 78440 bytes.\nWrote 77833 bytes.\nWrote 76906 bytes.\nWrote 77139 bytes.\nWrote 76688 bytes.\nWrote 76514 bytes.\nWrote 76735 bytes.\nWrote 76728 bytes.\nWrote 77369 bytes.\nWrote 76739 bytes.\nWrote 77775 bytes.\nWrote 77592 bytes.\nWrote 76774 bytes.\nWrote 77708 bytes.\nWrote 76503 bytes.\nWrote 76385 bytes.\nWrote 74975 bytes.\nWrote 76837 bytes.\nWrote 76776 bytes.\nWrote 77515 bytes.\nWrote 77462 bytes.\nWrote 77609 bytes.\nWrote 76095 bytes.\nWrote 76021 bytes.\nWrote 77914 bytes.\nWrote 77939 bytes.\nWrote 77420 bytes.\nWrote 77881 bytes.\nWrote 77464 bytes.\nWrote 77464 bytes.\nWrote 76881 bytes.\nWrote 76980 bytes.\nWrote 75954 bytes.\nWrote 75945 bytes.\n"
     ]
    },
    {
     "output_type": "display_data",
     "data": {
      "text/plain": [
       "com.databricks.backend.common.rpc.CommandCancelledException\n",
       "\tat com.databricks.spark.chauffeur.SequenceExecutionState.$anonfun$cancel$5(SequenceExecutionState.scala:132)\n",
       "\tat scala.Option.getOrElse(Option.scala:201)\n",
       "\tat com.databricks.spark.chauffeur.SequenceExecutionState.$anonfun$cancel$3(SequenceExecutionState.scala:132)\n",
       "\tat com.databricks.spark.chauffeur.SequenceExecutionState.$anonfun$cancel$3$adapted(SequenceExecutionState.scala:129)\n",
       "\tat scala.collection.immutable.Range.foreach(Range.scala:190)\n",
       "\tat com.databricks.spark.chauffeur.SequenceExecutionState.cancel(SequenceExecutionState.scala:129)\n",
       "\tat com.databricks.spark.chauffeur.ExecContextState.cancelRunningSequence(ExecContextState.scala:715)\n",
       "\tat com.databricks.spark.chauffeur.ExecContextState.$anonfun$cancel$1(ExecContextState.scala:435)\n",
       "\tat scala.Option.getOrElse(Option.scala:201)\n",
       "\tat com.databricks.spark.chauffeur.ExecContextState.cancel(ExecContextState.scala:435)\n",
       "\tat com.databricks.spark.chauffeur.ExecutionContextManagerV1.cancelExecution(ExecutionContextManagerV1.scala:465)\n",
       "\tat com.databricks.spark.chauffeur.ChauffeurState.$anonfun$process$1(ChauffeurState.scala:741)\n",
       "\tat com.databricks.logging.UsageLogging.$anonfun$recordOperation$1(UsageLogging.scala:510)\n",
       "\tat com.databricks.logging.UsageLogging.executeThunkAndCaptureResultTags$1(UsageLogging.scala:616)\n",
       "\tat com.databricks.logging.UsageLogging.$anonfun$recordOperationWithResultTags$4(UsageLogging.scala:643)\n",
       "\tat com.databricks.logging.AttributionContextTracing.$anonfun$withAttributionContext$1(AttributionContextTracing.scala:49)\n",
       "\tat com.databricks.logging.AttributionContext$.$anonfun$withValue$1(AttributionContext.scala:328)\n",
       "\tat scala.util.DynamicVariable.withValue(DynamicVariable.scala:59)\n",
       "\tat com.databricks.logging.AttributionContext$.withValue(AttributionContext.scala:324)\n",
       "\tat com.databricks.logging.AttributionContextTracing.withAttributionContext(AttributionContextTracing.scala:47)\n",
       "\tat com.databricks.logging.AttributionContextTracing.withAttributionContext$(AttributionContextTracing.scala:44)\n",
       "\tat com.databricks.spark.chauffeur.ChauffeurState.withAttributionContext(ChauffeurState.scala:84)\n",
       "\tat com.databricks.logging.AttributionContextTracing.withAttributionTags(AttributionContextTracing.scala:96)\n",
       "\tat com.databricks.logging.AttributionContextTracing.withAttributionTags$(AttributionContextTracing.scala:77)\n",
       "\tat com.databricks.spark.chauffeur.ChauffeurState.withAttributionTags(ChauffeurState.scala:84)\n",
       "\tat com.databricks.logging.UsageLogging.recordOperationWithResultTags(UsageLogging.scala:611)\n",
       "\tat com.databricks.logging.UsageLogging.recordOperationWithResultTags$(UsageLogging.scala:519)\n",
       "\tat com.databricks.spark.chauffeur.ChauffeurState.recordOperationWithResultTags(ChauffeurState.scala:84)\n",
       "\tat com.databricks.logging.UsageLogging.recordOperation(UsageLogging.scala:511)\n",
       "\tat com.databricks.logging.UsageLogging.recordOperation$(UsageLogging.scala:475)\n",
       "\tat com.databricks.spark.chauffeur.ChauffeurState.recordOperation(ChauffeurState.scala:84)\n",
       "\tat com.databricks.spark.chauffeur.ChauffeurState.process(ChauffeurState.scala:719)\n",
       "\tat com.databricks.spark.chauffeur.Chauffeur$$anon$1$$anonfun$com$databricks$spark$chauffeur$Chauffeur$$nestedInanon$$receiveInternal$1.handleDriverRequest$1(Chauffeur.scala:922)\n",
       "\tat com.databricks.spark.chauffeur.Chauffeur$$anon$1$$anonfun$com$databricks$spark$chauffeur$Chauffeur$$nestedInanon$$receiveInternal$1.$anonfun$applyOrElse$3(Chauffeur.scala:948)\n",
       "\tat com.databricks.logging.UsageLogging.executeThunkAndCaptureResultTags$1(UsageLogging.scala:616)\n",
       "\tat com.databricks.logging.UsageLogging.$anonfun$recordOperationWithResultTags$4(UsageLogging.scala:643)\n",
       "\tat com.databricks.logging.AttributionContextTracing.$anonfun$withAttributionContext$1(AttributionContextTracing.scala:49)\n",
       "\tat com.databricks.logging.AttributionContext$.$anonfun$withValue$1(AttributionContext.scala:328)\n",
       "\tat scala.util.DynamicVariable.withValue(DynamicVariable.scala:59)\n",
       "\tat com.databricks.logging.AttributionContext$.withValue(AttributionContext.scala:324)\n",
       "\tat com.databricks.logging.AttributionContextTracing.withAttributionContext(AttributionContextTracing.scala:47)\n",
       "\tat com.databricks.logging.AttributionContextTracing.withAttributionContext$(AttributionContextTracing.scala:44)\n",
       "\tat com.databricks.rpc.ServerBackend.withAttributionContext(ServerBackend.scala:22)\n",
       "\tat com.databricks.logging.AttributionContextTracing.withAttributionTags(AttributionContextTracing.scala:96)\n",
       "\tat com.databricks.logging.AttributionContextTracing.withAttributionTags$(AttributionContextTracing.scala:77)\n",
       "\tat com.databricks.rpc.ServerBackend.withAttributionTags(ServerBackend.scala:22)\n",
       "\tat com.databricks.logging.UsageLogging.recordOperationWithResultTags(UsageLogging.scala:611)\n",
       "\tat com.databricks.logging.UsageLogging.recordOperationWithResultTags$(UsageLogging.scala:519)\n",
       "\tat com.databricks.rpc.ServerBackend.recordOperationWithResultTags(ServerBackend.scala:22)\n",
       "\tat com.databricks.spark.chauffeur.Chauffeur$$anon$1$$anonfun$com$databricks$spark$chauffeur$Chauffeur$$nestedInanon$$receiveInternal$1.handleDriverRequestWithUsageLogging$1(Chauffeur.scala:947)\n",
       "\tat com.databricks.spark.chauffeur.Chauffeur$$anon$1$$anonfun$com$databricks$spark$chauffeur$Chauffeur$$nestedInanon$$receiveInternal$1.applyOrElse(Chauffeur.scala:1002)\n",
       "\tat com.databricks.spark.chauffeur.Chauffeur$$anon$1$$anonfun$com$databricks$spark$chauffeur$Chauffeur$$nestedInanon$$receiveInternal$1.applyOrElse(Chauffeur.scala:795)\n",
       "\tat scala.runtime.AbstractPartialFunction.apply(AbstractPartialFunction.scala:35)\n",
       "\tat com.databricks.spark.chauffeur.Chauffeur$$anon$1$$anonfun$receive$1.applyOrElse(Chauffeur.scala:791)\n",
       "\tat com.databricks.spark.chauffeur.Chauffeur$$anon$1$$anonfun$receive$1.applyOrElse(Chauffeur.scala:786)\n",
       "\tat com.databricks.rpc.ServerBackend.$anonfun$internalReceive0$2(ServerBackend.scala:174)\n",
       "\tat com.databricks.rpc.ServerBackend$$anonfun$commonReceive$1.applyOrElse(ServerBackend.scala:200)\n",
       "\tat com.databricks.rpc.ServerBackend$$anonfun$commonReceive$1.applyOrElse(ServerBackend.scala:200)\n",
       "\tat com.databricks.rpc.ServerBackend.internalReceive0(ServerBackend.scala:171)\n",
       "\tat com.databricks.rpc.ServerBackend.$anonfun$internalReceive$1(ServerBackend.scala:147)\n",
       "\tat com.databricks.logging.UsageLogging.$anonfun$recordOperation$1(UsageLogging.scala:510)\n",
       "\tat com.databricks.logging.UsageLogging.executeThunkAndCaptureResultTags$1(UsageLogging.scala:616)\n",
       "\tat com.databricks.logging.UsageLogging.$anonfun$recordOperationWithResultTags$4(UsageLogging.scala:643)\n",
       "\tat com.databricks.logging.AttributionContextTracing.$anonfun$withAttributionContext$1(AttributionContextTracing.scala:49)\n",
       "\tat com.databricks.logging.AttributionContext$.$anonfun$withValue$1(AttributionContext.scala:328)\n",
       "\tat scala.util.DynamicVariable.withValue(DynamicVariable.scala:59)\n",
       "\tat com.databricks.logging.AttributionContext$.withValue(AttributionContext.scala:324)\n",
       "\tat com.databricks.logging.AttributionContextTracing.withAttributionContext(AttributionContextTracing.scala:47)\n",
       "\tat com.databricks.logging.AttributionContextTracing.withAttributionContext$(AttributionContextTracing.scala:44)\n",
       "\tat com.databricks.rpc.ServerBackend.withAttributionContext(ServerBackend.scala:22)\n",
       "\tat com.databricks.logging.AttributionContextTracing.withAttributionTags(AttributionContextTracing.scala:96)\n",
       "\tat com.databricks.logging.AttributionContextTracing.withAttributionTags$(AttributionContextTracing.scala:77)\n",
       "\tat com.databricks.rpc.ServerBackend.withAttributionTags(ServerBackend.scala:22)\n",
       "\tat com.databricks.logging.UsageLogging.recordOperationWithResultTags(UsageLogging.scala:611)\n",
       "\tat com.databricks.logging.UsageLogging.recordOperationWithResultTags$(UsageLogging.scala:519)\n",
       "\tat com.databricks.rpc.ServerBackend.recordOperationWithResultTags(ServerBackend.scala:22)\n",
       "\tat com.databricks.logging.UsageLogging.recordOperation(UsageLogging.scala:511)\n",
       "\tat com.databricks.logging.UsageLogging.recordOperation$(UsageLogging.scala:475)\n",
       "\tat com.databricks.rpc.ServerBackend.recordOperation(ServerBackend.scala:22)\n",
       "\tat com.databricks.rpc.ServerBackend.internalReceive(ServerBackend.scala:146)\n",
       "\tat com.databricks.rpc.JettyServer$RequestManager.handleRPC(JettyServer.scala:997)\n",
       "\tat com.databricks.rpc.JettyServer$RequestManager.handleRequestAndRespond(JettyServer.scala:917)\n",
       "\tat com.databricks.rpc.JettyServer$RequestManager.$anonfun$handleHttp$5(JettyServer.scala:557)\n",
       "\tat com.databricks.rpc.JettyServer$RequestManager.$anonfun$handleHttp$5$adapted(JettyServer.scala:522)\n",
       "\tat com.databricks.logging.activity.ActivityContextFactory$.$anonfun$withActivityInternal$12(ActivityContextFactory.scala:918)\n",
       "\tat com.databricks.logging.AttributionContextTracing.$anonfun$withAttributionContext$1(AttributionContextTracing.scala:49)\n",
       "\tat com.databricks.logging.AttributionContext$.$anonfun$withValue$1(AttributionContext.scala:328)\n",
       "\tat scala.util.DynamicVariable.withValue(DynamicVariable.scala:59)\n",
       "\tat com.databricks.logging.AttributionContext$.withValue(AttributionContext.scala:324)\n",
       "\tat com.databricks.logging.AttributionContextTracing.withAttributionContext(AttributionContextTracing.scala:47)\n",
       "\tat com.databricks.logging.AttributionContextTracing.withAttributionContext$(AttributionContextTracing.scala:44)\n",
       "\tat com.databricks.logging.activity.ActivityContextFactory$.withAttributionContext(ActivityContextFactory.scala:58)\n",
       "\tat com.databricks.logging.activity.ActivityContextFactory$.$anonfun$withActivityInternal$2(ActivityContextFactory.scala:918)\n",
       "\tat com.databricks.context.integrity.IntegrityCheckContext$ThreadLocalStorage$.withValue(IntegrityCheckContext.scala:73)\n",
       "\tat com.databricks.logging.activity.ActivityContextFactory$.withActivityInternal(ActivityContextFactory.scala:881)\n",
       "\tat com.databricks.logging.activity.ActivityContextFactory$.withActivityInternal(ActivityContextFactory.scala:863)\n",
       "\tat com.databricks.logging.activity.ActivityContextFactory$.$anonfun$withServiceRequestActivity$26(ActivityContextFactory.scala:335)\n",
       "\tat com.databricks.logging.AttributionContextTracing.$anonfun$withAttributionContext$1(AttributionContextTracing.scala:49)\n",
       "\tat com.databricks.logging.AttributionContext$.$anonfun$withValue$1(AttributionContext.scala:328)\n",
       "\tat scala.util.DynamicVariable.withValue(DynamicVariable.scala:59)\n",
       "\tat com.databricks.logging.AttributionContext$.withValue(AttributionContext.scala:324)\n",
       "\tat com.databricks.logging.AttributionContextTracing.withAttributionContext(AttributionContextTracing.scala:47)\n",
       "\tat com.databricks.logging.AttributionContextTracing.withAttributionContext$(AttributionContextTracing.scala:44)\n",
       "\tat com.databricks.logging.activity.ActivityContextFactory$.withAttributionContext(ActivityContextFactory.scala:58)\n",
       "\tat com.databricks.logging.activity.ActivityContextFactory$.withServiceRequestActivity(ActivityContextFactory.scala:335)\n",
       "\tat com.databricks.rpc.JettyServer$RequestManager.handleHttp(JettyServer.scala:522)\n",
       "\tat com.databricks.rpc.JettyServer$RequestManager.doPost(JettyServer.scala:417)\n",
       "\tat javax.servlet.http.HttpServlet.service(HttpServlet.java:665)\n",
       "\tat com.databricks.rpc.HttpServletWithPatch.service(HttpServletWithPatch.scala:33)\n",
       "\tat javax.servlet.http.HttpServlet.service(HttpServlet.java:750)\n",
       "\tat org.eclipse.jetty.servlet.ServletHolder.handle(ServletHolder.java:799)\n",
       "\tat org.eclipse.jetty.servlet.ServletHandler.doHandle(ServletHandler.java:554)\n",
       "\tat org.eclipse.jetty.server.handler.ScopedHandler.nextScope(ScopedHandler.java:190)\n",
       "\tat org.eclipse.jetty.servlet.ServletHandler.doScope(ServletHandler.java:505)\n",
       "\tat org.eclipse.jetty.server.handler.ScopedHandler.handle(ScopedHandler.java:141)\n",
       "\tat org.eclipse.jetty.server.handler.HandlerWrapper.handle(HandlerWrapper.java:127)\n",
       "\tat org.eclipse.jetty.server.Server.handle(Server.java:516)\n",
       "\tat org.eclipse.jetty.server.HttpChannel.lambda$handle$1(HttpChannel.java:487)\n",
       "\tat org.eclipse.jetty.server.HttpChannel.dispatch(HttpChannel.java:732)\n",
       "\tat org.eclipse.jetty.server.HttpChannel.handle(HttpChannel.java:479)\n",
       "\tat org.eclipse.jetty.server.HttpConnection.onFillable(HttpConnection.java:277)\n",
       "\tat org.eclipse.jetty.io.AbstractConnection$ReadCallback.succeeded(AbstractConnection.java:311)\n",
       "\tat org.eclipse.jetty.io.FillInterest.fillable(FillInterest.java:105)\n",
       "\tat org.eclipse.jetty.io.ssl.SslConnection$DecryptedEndPoint.onFillable(SslConnection.java:555)\n",
       "\tat org.eclipse.jetty.io.ssl.SslConnection.onFillable(SslConnection.java:410)\n",
       "\tat org.eclipse.jetty.io.ssl.SslConnection$2.succeeded(SslConnection.java:164)\n",
       "\tat org.eclipse.jetty.io.FillInterest.fillable(FillInterest.java:105)\n",
       "\tat org.eclipse.jetty.io.ChannelEndPoint$1.run(ChannelEndPoint.java:104)\n",
       "\tat org.eclipse.jetty.util.thread.strategy.EatWhatYouKill.runTask(EatWhatYouKill.java:338)\n",
       "\tat org.eclipse.jetty.util.thread.strategy.EatWhatYouKill.doProduce(EatWhatYouKill.java:315)\n",
       "\tat org.eclipse.jetty.util.thread.strategy.EatWhatYouKill.tryProduce(EatWhatYouKill.java:173)\n",
       "\tat org.eclipse.jetty.util.thread.strategy.EatWhatYouKill.run(EatWhatYouKill.java:131)\n",
       "\tat org.eclipse.jetty.util.thread.ReservedThreadExecutor$ReservedThread.run(ReservedThreadExecutor.java:409)\n",
       "\tat com.databricks.rpc.InstrumentedQueuedThreadPool$$anon$1.$anonfun$run$2(InstrumentedQueuedThreadPool.scala:111)\n",
       "\tat scala.runtime.java8.JFunction0$mcV$sp.apply(JFunction0$mcV$sp.scala:18)\n",
       "\tat com.databricks.logging.AttributionContextTracing.$anonfun$withAttributionContext$1(AttributionContextTracing.scala:49)\n",
       "\tat com.databricks.logging.AttributionContext$.$anonfun$withValue$1(AttributionContext.scala:328)\n",
       "\tat scala.util.DynamicVariable.withValue(DynamicVariable.scala:59)\n",
       "\tat com.databricks.logging.AttributionContext$.withValue(AttributionContext.scala:324)\n",
       "\tat com.databricks.logging.AttributionContextTracing.withAttributionContext(AttributionContextTracing.scala:47)\n",
       "\tat com.databricks.logging.AttributionContextTracing.withAttributionContext$(AttributionContextTracing.scala:44)\n",
       "\tat com.databricks.rpc.InstrumentedQueuedThreadPool.withAttributionContext(InstrumentedQueuedThreadPool.scala:46)\n",
       "\tat com.databricks.rpc.InstrumentedQueuedThreadPool$$anon$1.$anonfun$run$1(InstrumentedQueuedThreadPool.scala:111)\n",
       "\tat scala.runtime.java8.JFunction0$mcV$sp.apply(JFunction0$mcV$sp.scala:18)\n",
       "\tat com.databricks.instrumentation.QueuedThreadPoolInstrumenter.trackActiveThreads(QueuedThreadPoolInstrumenter.scala:132)\n",
       "\tat com.databricks.instrumentation.QueuedThreadPoolInstrumenter.trackActiveThreads$(QueuedThreadPoolInstrumenter.scala:129)\n",
       "\tat com.databricks.rpc.InstrumentedQueuedThreadPool.trackActiveThreads(InstrumentedQueuedThreadPool.scala:46)\n",
       "\tat com.databricks.rpc.InstrumentedQueuedThreadPool$$anon$1.run(InstrumentedQueuedThreadPool.scala:93)\n",
       "\tat org.eclipse.jetty.util.thread.QueuedThreadPool.runJob(QueuedThreadPool.java:883)\n",
       "\tat org.eclipse.jetty.util.thread.QueuedThreadPool$Runner.run(QueuedThreadPool.java:1034)\n",
       "\tat java.base/java.lang.Thread.run(Thread.java:840)"
      ]
     },
     "metadata": {
      "application/vnd.databricks.v1+output": {
       "addedWidgets": {},
       "arguments": {},
       "datasetInfos": [],
       "jupyterProps": null,
       "metadata": {
        "errorSummary": "Cancelled"
       },
       "removedWidgets": [],
       "sqlProps": null,
       "stackFrames": [
        "com.databricks.backend.common.rpc.CommandCancelledException",
        "\tat com.databricks.spark.chauffeur.SequenceExecutionState.$anonfun$cancel$5(SequenceExecutionState.scala:132)",
        "\tat scala.Option.getOrElse(Option.scala:201)",
        "\tat com.databricks.spark.chauffeur.SequenceExecutionState.$anonfun$cancel$3(SequenceExecutionState.scala:132)",
        "\tat com.databricks.spark.chauffeur.SequenceExecutionState.$anonfun$cancel$3$adapted(SequenceExecutionState.scala:129)",
        "\tat scala.collection.immutable.Range.foreach(Range.scala:190)",
        "\tat com.databricks.spark.chauffeur.SequenceExecutionState.cancel(SequenceExecutionState.scala:129)",
        "\tat com.databricks.spark.chauffeur.ExecContextState.cancelRunningSequence(ExecContextState.scala:715)",
        "\tat com.databricks.spark.chauffeur.ExecContextState.$anonfun$cancel$1(ExecContextState.scala:435)",
        "\tat scala.Option.getOrElse(Option.scala:201)",
        "\tat com.databricks.spark.chauffeur.ExecContextState.cancel(ExecContextState.scala:435)",
        "\tat com.databricks.spark.chauffeur.ExecutionContextManagerV1.cancelExecution(ExecutionContextManagerV1.scala:465)",
        "\tat com.databricks.spark.chauffeur.ChauffeurState.$anonfun$process$1(ChauffeurState.scala:741)",
        "\tat com.databricks.logging.UsageLogging.$anonfun$recordOperation$1(UsageLogging.scala:510)",
        "\tat com.databricks.logging.UsageLogging.executeThunkAndCaptureResultTags$1(UsageLogging.scala:616)",
        "\tat com.databricks.logging.UsageLogging.$anonfun$recordOperationWithResultTags$4(UsageLogging.scala:643)",
        "\tat com.databricks.logging.AttributionContextTracing.$anonfun$withAttributionContext$1(AttributionContextTracing.scala:49)",
        "\tat com.databricks.logging.AttributionContext$.$anonfun$withValue$1(AttributionContext.scala:328)",
        "\tat scala.util.DynamicVariable.withValue(DynamicVariable.scala:59)",
        "\tat com.databricks.logging.AttributionContext$.withValue(AttributionContext.scala:324)",
        "\tat com.databricks.logging.AttributionContextTracing.withAttributionContext(AttributionContextTracing.scala:47)",
        "\tat com.databricks.logging.AttributionContextTracing.withAttributionContext$(AttributionContextTracing.scala:44)",
        "\tat com.databricks.spark.chauffeur.ChauffeurState.withAttributionContext(ChauffeurState.scala:84)",
        "\tat com.databricks.logging.AttributionContextTracing.withAttributionTags(AttributionContextTracing.scala:96)",
        "\tat com.databricks.logging.AttributionContextTracing.withAttributionTags$(AttributionContextTracing.scala:77)",
        "\tat com.databricks.spark.chauffeur.ChauffeurState.withAttributionTags(ChauffeurState.scala:84)",
        "\tat com.databricks.logging.UsageLogging.recordOperationWithResultTags(UsageLogging.scala:611)",
        "\tat com.databricks.logging.UsageLogging.recordOperationWithResultTags$(UsageLogging.scala:519)",
        "\tat com.databricks.spark.chauffeur.ChauffeurState.recordOperationWithResultTags(ChauffeurState.scala:84)",
        "\tat com.databricks.logging.UsageLogging.recordOperation(UsageLogging.scala:511)",
        "\tat com.databricks.logging.UsageLogging.recordOperation$(UsageLogging.scala:475)",
        "\tat com.databricks.spark.chauffeur.ChauffeurState.recordOperation(ChauffeurState.scala:84)",
        "\tat com.databricks.spark.chauffeur.ChauffeurState.process(ChauffeurState.scala:719)",
        "\tat com.databricks.spark.chauffeur.Chauffeur$$anon$1$$anonfun$com$databricks$spark$chauffeur$Chauffeur$$nestedInanon$$receiveInternal$1.handleDriverRequest$1(Chauffeur.scala:922)",
        "\tat com.databricks.spark.chauffeur.Chauffeur$$anon$1$$anonfun$com$databricks$spark$chauffeur$Chauffeur$$nestedInanon$$receiveInternal$1.$anonfun$applyOrElse$3(Chauffeur.scala:948)",
        "\tat com.databricks.logging.UsageLogging.executeThunkAndCaptureResultTags$1(UsageLogging.scala:616)",
        "\tat com.databricks.logging.UsageLogging.$anonfun$recordOperationWithResultTags$4(UsageLogging.scala:643)",
        "\tat com.databricks.logging.AttributionContextTracing.$anonfun$withAttributionContext$1(AttributionContextTracing.scala:49)",
        "\tat com.databricks.logging.AttributionContext$.$anonfun$withValue$1(AttributionContext.scala:328)",
        "\tat scala.util.DynamicVariable.withValue(DynamicVariable.scala:59)",
        "\tat com.databricks.logging.AttributionContext$.withValue(AttributionContext.scala:324)",
        "\tat com.databricks.logging.AttributionContextTracing.withAttributionContext(AttributionContextTracing.scala:47)",
        "\tat com.databricks.logging.AttributionContextTracing.withAttributionContext$(AttributionContextTracing.scala:44)",
        "\tat com.databricks.rpc.ServerBackend.withAttributionContext(ServerBackend.scala:22)",
        "\tat com.databricks.logging.AttributionContextTracing.withAttributionTags(AttributionContextTracing.scala:96)",
        "\tat com.databricks.logging.AttributionContextTracing.withAttributionTags$(AttributionContextTracing.scala:77)",
        "\tat com.databricks.rpc.ServerBackend.withAttributionTags(ServerBackend.scala:22)",
        "\tat com.databricks.logging.UsageLogging.recordOperationWithResultTags(UsageLogging.scala:611)",
        "\tat com.databricks.logging.UsageLogging.recordOperationWithResultTags$(UsageLogging.scala:519)",
        "\tat com.databricks.rpc.ServerBackend.recordOperationWithResultTags(ServerBackend.scala:22)",
        "\tat com.databricks.spark.chauffeur.Chauffeur$$anon$1$$anonfun$com$databricks$spark$chauffeur$Chauffeur$$nestedInanon$$receiveInternal$1.handleDriverRequestWithUsageLogging$1(Chauffeur.scala:947)",
        "\tat com.databricks.spark.chauffeur.Chauffeur$$anon$1$$anonfun$com$databricks$spark$chauffeur$Chauffeur$$nestedInanon$$receiveInternal$1.applyOrElse(Chauffeur.scala:1002)",
        "\tat com.databricks.spark.chauffeur.Chauffeur$$anon$1$$anonfun$com$databricks$spark$chauffeur$Chauffeur$$nestedInanon$$receiveInternal$1.applyOrElse(Chauffeur.scala:795)",
        "\tat scala.runtime.AbstractPartialFunction.apply(AbstractPartialFunction.scala:35)",
        "\tat com.databricks.spark.chauffeur.Chauffeur$$anon$1$$anonfun$receive$1.applyOrElse(Chauffeur.scala:791)",
        "\tat com.databricks.spark.chauffeur.Chauffeur$$anon$1$$anonfun$receive$1.applyOrElse(Chauffeur.scala:786)",
        "\tat com.databricks.rpc.ServerBackend.$anonfun$internalReceive0$2(ServerBackend.scala:174)",
        "\tat com.databricks.rpc.ServerBackend$$anonfun$commonReceive$1.applyOrElse(ServerBackend.scala:200)",
        "\tat com.databricks.rpc.ServerBackend$$anonfun$commonReceive$1.applyOrElse(ServerBackend.scala:200)",
        "\tat com.databricks.rpc.ServerBackend.internalReceive0(ServerBackend.scala:171)",
        "\tat com.databricks.rpc.ServerBackend.$anonfun$internalReceive$1(ServerBackend.scala:147)",
        "\tat com.databricks.logging.UsageLogging.$anonfun$recordOperation$1(UsageLogging.scala:510)",
        "\tat com.databricks.logging.UsageLogging.executeThunkAndCaptureResultTags$1(UsageLogging.scala:616)",
        "\tat com.databricks.logging.UsageLogging.$anonfun$recordOperationWithResultTags$4(UsageLogging.scala:643)",
        "\tat com.databricks.logging.AttributionContextTracing.$anonfun$withAttributionContext$1(AttributionContextTracing.scala:49)",
        "\tat com.databricks.logging.AttributionContext$.$anonfun$withValue$1(AttributionContext.scala:328)",
        "\tat scala.util.DynamicVariable.withValue(DynamicVariable.scala:59)",
        "\tat com.databricks.logging.AttributionContext$.withValue(AttributionContext.scala:324)",
        "\tat com.databricks.logging.AttributionContextTracing.withAttributionContext(AttributionContextTracing.scala:47)",
        "\tat com.databricks.logging.AttributionContextTracing.withAttributionContext$(AttributionContextTracing.scala:44)",
        "\tat com.databricks.rpc.ServerBackend.withAttributionContext(ServerBackend.scala:22)",
        "\tat com.databricks.logging.AttributionContextTracing.withAttributionTags(AttributionContextTracing.scala:96)",
        "\tat com.databricks.logging.AttributionContextTracing.withAttributionTags$(AttributionContextTracing.scala:77)",
        "\tat com.databricks.rpc.ServerBackend.withAttributionTags(ServerBackend.scala:22)",
        "\tat com.databricks.logging.UsageLogging.recordOperationWithResultTags(UsageLogging.scala:611)",
        "\tat com.databricks.logging.UsageLogging.recordOperationWithResultTags$(UsageLogging.scala:519)",
        "\tat com.databricks.rpc.ServerBackend.recordOperationWithResultTags(ServerBackend.scala:22)",
        "\tat com.databricks.logging.UsageLogging.recordOperation(UsageLogging.scala:511)",
        "\tat com.databricks.logging.UsageLogging.recordOperation$(UsageLogging.scala:475)",
        "\tat com.databricks.rpc.ServerBackend.recordOperation(ServerBackend.scala:22)",
        "\tat com.databricks.rpc.ServerBackend.internalReceive(ServerBackend.scala:146)",
        "\tat com.databricks.rpc.JettyServer$RequestManager.handleRPC(JettyServer.scala:997)",
        "\tat com.databricks.rpc.JettyServer$RequestManager.handleRequestAndRespond(JettyServer.scala:917)",
        "\tat com.databricks.rpc.JettyServer$RequestManager.$anonfun$handleHttp$5(JettyServer.scala:557)",
        "\tat com.databricks.rpc.JettyServer$RequestManager.$anonfun$handleHttp$5$adapted(JettyServer.scala:522)",
        "\tat com.databricks.logging.activity.ActivityContextFactory$.$anonfun$withActivityInternal$12(ActivityContextFactory.scala:918)",
        "\tat com.databricks.logging.AttributionContextTracing.$anonfun$withAttributionContext$1(AttributionContextTracing.scala:49)",
        "\tat com.databricks.logging.AttributionContext$.$anonfun$withValue$1(AttributionContext.scala:328)",
        "\tat scala.util.DynamicVariable.withValue(DynamicVariable.scala:59)",
        "\tat com.databricks.logging.AttributionContext$.withValue(AttributionContext.scala:324)",
        "\tat com.databricks.logging.AttributionContextTracing.withAttributionContext(AttributionContextTracing.scala:47)",
        "\tat com.databricks.logging.AttributionContextTracing.withAttributionContext$(AttributionContextTracing.scala:44)",
        "\tat com.databricks.logging.activity.ActivityContextFactory$.withAttributionContext(ActivityContextFactory.scala:58)",
        "\tat com.databricks.logging.activity.ActivityContextFactory$.$anonfun$withActivityInternal$2(ActivityContextFactory.scala:918)",
        "\tat com.databricks.context.integrity.IntegrityCheckContext$ThreadLocalStorage$.withValue(IntegrityCheckContext.scala:73)",
        "\tat com.databricks.logging.activity.ActivityContextFactory$.withActivityInternal(ActivityContextFactory.scala:881)",
        "\tat com.databricks.logging.activity.ActivityContextFactory$.withActivityInternal(ActivityContextFactory.scala:863)",
        "\tat com.databricks.logging.activity.ActivityContextFactory$.$anonfun$withServiceRequestActivity$26(ActivityContextFactory.scala:335)",
        "\tat com.databricks.logging.AttributionContextTracing.$anonfun$withAttributionContext$1(AttributionContextTracing.scala:49)",
        "\tat com.databricks.logging.AttributionContext$.$anonfun$withValue$1(AttributionContext.scala:328)",
        "\tat scala.util.DynamicVariable.withValue(DynamicVariable.scala:59)",
        "\tat com.databricks.logging.AttributionContext$.withValue(AttributionContext.scala:324)",
        "\tat com.databricks.logging.AttributionContextTracing.withAttributionContext(AttributionContextTracing.scala:47)",
        "\tat com.databricks.logging.AttributionContextTracing.withAttributionContext$(AttributionContextTracing.scala:44)",
        "\tat com.databricks.logging.activity.ActivityContextFactory$.withAttributionContext(ActivityContextFactory.scala:58)",
        "\tat com.databricks.logging.activity.ActivityContextFactory$.withServiceRequestActivity(ActivityContextFactory.scala:335)",
        "\tat com.databricks.rpc.JettyServer$RequestManager.handleHttp(JettyServer.scala:522)",
        "\tat com.databricks.rpc.JettyServer$RequestManager.doPost(JettyServer.scala:417)",
        "\tat javax.servlet.http.HttpServlet.service(HttpServlet.java:665)",
        "\tat com.databricks.rpc.HttpServletWithPatch.service(HttpServletWithPatch.scala:33)",
        "\tat javax.servlet.http.HttpServlet.service(HttpServlet.java:750)",
        "\tat org.eclipse.jetty.servlet.ServletHolder.handle(ServletHolder.java:799)",
        "\tat org.eclipse.jetty.servlet.ServletHandler.doHandle(ServletHandler.java:554)",
        "\tat org.eclipse.jetty.server.handler.ScopedHandler.nextScope(ScopedHandler.java:190)",
        "\tat org.eclipse.jetty.servlet.ServletHandler.doScope(ServletHandler.java:505)",
        "\tat org.eclipse.jetty.server.handler.ScopedHandler.handle(ScopedHandler.java:141)",
        "\tat org.eclipse.jetty.server.handler.HandlerWrapper.handle(HandlerWrapper.java:127)",
        "\tat org.eclipse.jetty.server.Server.handle(Server.java:516)",
        "\tat org.eclipse.jetty.server.HttpChannel.lambda$handle$1(HttpChannel.java:487)",
        "\tat org.eclipse.jetty.server.HttpChannel.dispatch(HttpChannel.java:732)",
        "\tat org.eclipse.jetty.server.HttpChannel.handle(HttpChannel.java:479)",
        "\tat org.eclipse.jetty.server.HttpConnection.onFillable(HttpConnection.java:277)",
        "\tat org.eclipse.jetty.io.AbstractConnection$ReadCallback.succeeded(AbstractConnection.java:311)",
        "\tat org.eclipse.jetty.io.FillInterest.fillable(FillInterest.java:105)",
        "\tat org.eclipse.jetty.io.ssl.SslConnection$DecryptedEndPoint.onFillable(SslConnection.java:555)",
        "\tat org.eclipse.jetty.io.ssl.SslConnection.onFillable(SslConnection.java:410)",
        "\tat org.eclipse.jetty.io.ssl.SslConnection$2.succeeded(SslConnection.java:164)",
        "\tat org.eclipse.jetty.io.FillInterest.fillable(FillInterest.java:105)",
        "\tat org.eclipse.jetty.io.ChannelEndPoint$1.run(ChannelEndPoint.java:104)",
        "\tat org.eclipse.jetty.util.thread.strategy.EatWhatYouKill.runTask(EatWhatYouKill.java:338)",
        "\tat org.eclipse.jetty.util.thread.strategy.EatWhatYouKill.doProduce(EatWhatYouKill.java:315)",
        "\tat org.eclipse.jetty.util.thread.strategy.EatWhatYouKill.tryProduce(EatWhatYouKill.java:173)",
        "\tat org.eclipse.jetty.util.thread.strategy.EatWhatYouKill.run(EatWhatYouKill.java:131)",
        "\tat org.eclipse.jetty.util.thread.ReservedThreadExecutor$ReservedThread.run(ReservedThreadExecutor.java:409)",
        "\tat com.databricks.rpc.InstrumentedQueuedThreadPool$$anon$1.$anonfun$run$2(InstrumentedQueuedThreadPool.scala:111)",
        "\tat scala.runtime.java8.JFunction0$mcV$sp.apply(JFunction0$mcV$sp.scala:18)",
        "\tat com.databricks.logging.AttributionContextTracing.$anonfun$withAttributionContext$1(AttributionContextTracing.scala:49)",
        "\tat com.databricks.logging.AttributionContext$.$anonfun$withValue$1(AttributionContext.scala:328)",
        "\tat scala.util.DynamicVariable.withValue(DynamicVariable.scala:59)",
        "\tat com.databricks.logging.AttributionContext$.withValue(AttributionContext.scala:324)",
        "\tat com.databricks.logging.AttributionContextTracing.withAttributionContext(AttributionContextTracing.scala:47)",
        "\tat com.databricks.logging.AttributionContextTracing.withAttributionContext$(AttributionContextTracing.scala:44)",
        "\tat com.databricks.rpc.InstrumentedQueuedThreadPool.withAttributionContext(InstrumentedQueuedThreadPool.scala:46)",
        "\tat com.databricks.rpc.InstrumentedQueuedThreadPool$$anon$1.$anonfun$run$1(InstrumentedQueuedThreadPool.scala:111)",
        "\tat scala.runtime.java8.JFunction0$mcV$sp.apply(JFunction0$mcV$sp.scala:18)",
        "\tat com.databricks.instrumentation.QueuedThreadPoolInstrumenter.trackActiveThreads(QueuedThreadPoolInstrumenter.scala:132)",
        "\tat com.databricks.instrumentation.QueuedThreadPoolInstrumenter.trackActiveThreads$(QueuedThreadPoolInstrumenter.scala:129)",
        "\tat com.databricks.rpc.InstrumentedQueuedThreadPool.trackActiveThreads(InstrumentedQueuedThreadPool.scala:46)",
        "\tat com.databricks.rpc.InstrumentedQueuedThreadPool$$anon$1.run(InstrumentedQueuedThreadPool.scala:93)",
        "\tat org.eclipse.jetty.util.thread.QueuedThreadPool.runJob(QueuedThreadPool.java:883)",
        "\tat org.eclipse.jetty.util.thread.QueuedThreadPool$Runner.run(QueuedThreadPool.java:1034)",
        "\tat java.base/java.lang.Thread.run(Thread.java:840)"
       ],
       "type": "baseError"
      }
     },
     "output_type": "display_data"
    }
   ],
   "source": [
    "import requests, json\n",
    "\n",
    "base_url = \"https://api.stackexchange.com/2.3/questions\"\n",
    "page = 1\n",
    "while True:\n",
    "    params = {\n",
    "        \"order\": \"desc\",\n",
    "        \"sort\": \"creation\",\n",
    "        \"site\": \"stackoverflow\",\n",
    "        \"pagesize\": 100,\n",
    "        \"page\": page,\n",
    "        \"key\": \"rl_M1ZjooB6SNUAif5gAuSiS4Uzw\" # TODO: store this in key vault later\n",
    "    }\n",
    "    resp = requests.get(base_url, params=params).json()\n",
    "    if not resp.get(\"items\"):\n",
    "        break\n",
    "    \n",
    "    path = f\"/mnt/so/bronze/questions_page={page}.json\"\n",
    "    dbutils.fs.put(path, json.dumps(resp), overwrite=True)\n",
    "    \n",
    "    if not ( resp.get(\"has_more\", False) or resp.get(\"quota_remaining\", 0) > 0 ):\n",
    "        break\n",
    "    page += 1\n"
   ]
  },
  {
   "cell_type": "code",
   "execution_count": 0,
   "metadata": {
    "application/vnd.databricks.v1+cell": {
     "cellMetadata": {
      "byteLimit": 2048000,
      "rowLimit": 10000
     },
     "inputWidgets": {},
     "nuid": "e6a78d48-1294-4f17-a798-aac59f2a3874",
     "showTitle": false,
     "tableResultSettingsMap": {},
     "title": ""
    }
   },
   "outputs": [],
   "source": [
    "from pyspark.sql.functions import col, explode\n",
    "\n",
    "df = spark.read.json(\"/mnt/so/bronze/*.json\")\n",
    "\n",
    "# Items array → rows\n",
    "df_items = df.select(explode(\"items\").alias(\"q\"))\n",
    "\n",
    "# Flatten minimal schema\n",
    "df_flat = df_items.select(\n",
    "    col(\"q.question_id\").alias(\"id\"),\n",
    "    col(\"q.title\"),\n",
    "    col(\"q.view_count\"),\n",
    "    col(\"q.creation_date\"),\n",
    "    col(\"q.tags\")\n",
    ")\n",
    "\n",
    "df_flat.write.format(\"delta\").mode(\"overwrite\").save(\"/mnt/so/silver/questions\")\n"
   ]
  },
  {
   "cell_type": "code",
   "execution_count": 0,
   "metadata": {
    "application/vnd.databricks.v1+cell": {
     "cellMetadata": {
      "byteLimit": 2048000,
      "implicitDf": true,
      "rowLimit": 10000
     },
     "inputWidgets": {},
     "nuid": "8e456888-4dd8-4435-bdc6-49c4322554ed",
     "showTitle": false,
     "tableResultSettingsMap": {},
     "title": ""
    }
   },
   "outputs": [],
   "source": [
    "%sql\n",
    "CREATE TABLE IF NOT EXISTS stackoverflow_questions\n",
    "USING DELTA\n",
    "LOCATION '/mnt/so/silver/questions';\n"
   ]
  },
  {
   "cell_type": "code",
   "execution_count": 0,
   "metadata": {
    "application/vnd.databricks.v1+cell": {
     "cellMetadata": {
      "byteLimit": 2048000,
      "implicitDf": true,
      "rowLimit": 10000
     },
     "inputWidgets": {},
     "nuid": "71ff7666-c58a-4d2c-8d65-b40f9999e75b",
     "showTitle": false,
     "tableResultSettingsMap": {},
     "title": ""
    }
   },
   "outputs": [
    {
     "output_type": "display_data",
     "data": {
      "text/html": [
       "<style scoped>\n",
       "  .table-result-container {\n",
       "    max-height: 300px;\n",
       "    overflow: auto;\n",
       "  }\n",
       "  table, th, td {\n",
       "    border: 1px solid black;\n",
       "    border-collapse: collapse;\n",
       "  }\n",
       "  th, td {\n",
       "    padding: 5px;\n",
       "  }\n",
       "  th {\n",
       "    text-align: left;\n",
       "  }\n",
       "</style><div class='table-result-container'><table class='table-result'><thead style='background-color: white'><tr><th>id</th><th>title</th><th>view_count</th><th>creation_date</th><th>tags</th></tr></thead><tbody><tr><td>79777115</td><td>Split-Plot Design Analysis using Base R</td><td>3</td><td>1759031968</td><td>List(anova)</td></tr><tr><td>79777107</td><td>When a projection of a variety is a variety</td><td>12</td><td>1759031264</td><td>List(math)</td></tr><tr><td>79777103</td><td>iText7 Pdfwriter failing</td><td>18</td><td>1759030796</td><td>List(c#, .net, itext)</td></tr><tr><td>79777101</td><td>Looking for advice on how to work with json files that sort data in atypical format</td><td>27</td><td>1759029945</td><td>List(r, json)</td></tr><tr><td>79777097</td><td>How to get room availability from opera OHIP APIs?</td><td>16</td><td>1759029534</td><td>List(java, opera)</td></tr><tr><td>79777096</td><td>Run Custom Tflite Model in Flutter | Didn&#39;t find op for builtin opcode &#39;CAST&#39; version &#39;5&#39;</td><td>13</td><td>1759029292</td><td>List(flutter, runtime-error, tflite)</td></tr><tr><td>79777090</td><td>GDB exiting my program when exit() shouldn&#39;t be invoked</td><td>14</td><td>1759028589</td><td>List(gdb, reverse-engineering, elf)</td></tr><tr><td>79777086</td><td>Consuming message from weblogic jms queue in wso2 mi</td><td>25</td><td>1759027609</td><td>List(wso2, wso2-enterprise-integrator)</td></tr><tr><td>79777083</td><td>Why does running a shader program trigger multiple OpenGL error?</td><td>27</td><td>1759026664</td><td>List(c++, opengl, error-handling)</td></tr><tr><td>79777082</td><td>Spring Boot MissingServletRequestPartException for &#39;occurrence&#39; despite correct @RequestPart in List MultipartFile upload</td><td>22</td><td>1759026278</td><td>List(spring, spring-boot, react-native)</td></tr></tbody></table></div>"
      ]
     },
     "metadata": {
      "application/vnd.databricks.v1+output": {
       "addedWidgets": {},
       "aggData": [],
       "aggError": "",
       "aggOverflow": false,
       "aggSchema": [],
       "aggSeriesLimitReached": false,
       "aggType": "",
       "arguments": {},
       "columnCustomDisplayInfos": {},
       "data": [
        [
         79777115,
         "Split-Plot Design Analysis using Base R",
         3,
         1759031968,
         [
          "anova"
         ]
        ],
        [
         79777107,
         "When a projection of a variety is a variety",
         12,
         1759031264,
         [
          "math"
         ]
        ],
        [
         79777103,
         "iText7 Pdfwriter failing",
         18,
         1759030796,
         [
          "c#",
          ".net",
          "itext"
         ]
        ],
        [
         79777101,
         "Looking for advice on how to work with json files that sort data in atypical format",
         27,
         1759029945,
         [
          "r",
          "json"
         ]
        ],
        [
         79777097,
         "How to get room availability from opera OHIP APIs?",
         16,
         1759029534,
         [
          "java",
          "opera"
         ]
        ],
        [
         79777096,
         "Run Custom Tflite Model in Flutter | Didn&#39;t find op for builtin opcode &#39;CAST&#39; version &#39;5&#39;",
         13,
         1759029292,
         [
          "flutter",
          "runtime-error",
          "tflite"
         ]
        ],
        [
         79777090,
         "GDB exiting my program when exit() shouldn&#39;t be invoked",
         14,
         1759028589,
         [
          "gdb",
          "reverse-engineering",
          "elf"
         ]
        ],
        [
         79777086,
         "Consuming message from weblogic jms queue in wso2 mi",
         25,
         1759027609,
         [
          "wso2",
          "wso2-enterprise-integrator"
         ]
        ],
        [
         79777083,
         "Why does running a shader program trigger multiple OpenGL error?",
         27,
         1759026664,
         [
          "c++",
          "opengl",
          "error-handling"
         ]
        ],
        [
         79777082,
         "Spring Boot MissingServletRequestPartException for &#39;occurrence&#39; despite correct @RequestPart in List MultipartFile upload",
         22,
         1759026278,
         [
          "spring",
          "spring-boot",
          "react-native"
         ]
        ]
       ],
       "datasetInfos": [
        {
         "name": "_sqldf",
         "schema": {
          "fields": [
           {
            "metadata": {},
            "name": "id",
            "nullable": true,
            "type": "long"
           },
           {
            "metadata": {},
            "name": "title",
            "nullable": true,
            "type": "string"
           },
           {
            "metadata": {},
            "name": "view_count",
            "nullable": true,
            "type": "long"
           },
           {
            "metadata": {},
            "name": "creation_date",
            "nullable": true,
            "type": "long"
           },
           {
            "metadata": {},
            "name": "tags",
            "nullable": true,
            "type": {
             "containsNull": true,
             "elementType": "string",
             "type": "array"
            }
           }
          ],
          "type": "struct"
         },
         "tableIdentifier": null,
         "typeStr": "pyspark.sql.dataframe.DataFrame"
        }
       ],
       "dbfsResultPath": null,
       "isJsonSchema": true,
       "metadata": {
        "createTempViewForImplicitDf": true,
        "dataframeName": "_sqldf",
        "executionCount": 9
       },
       "overflow": false,
       "plotOptions": {
        "customPlotOptions": {},
        "displayType": "table",
        "pivotAggregation": null,
        "pivotColumns": null,
        "xColumns": null,
        "yColumns": null
       },
       "removedWidgets": [],
       "schema": [
        {
         "metadata": "{}",
         "name": "id",
         "type": "\"long\""
        },
        {
         "metadata": "{}",
         "name": "title",
         "type": "\"string\""
        },
        {
         "metadata": "{}",
         "name": "view_count",
         "type": "\"long\""
        },
        {
         "metadata": "{}",
         "name": "creation_date",
         "type": "\"long\""
        },
        {
         "metadata": "{}",
         "name": "tags",
         "type": "{\"type\":\"array\",\"elementType\":\"string\",\"containsNull\":true}"
        }
       ],
       "type": "table"
      }
     },
     "output_type": "display_data"
    }
   ],
   "source": [
    "%sql\n",
    "SELECT * FROM stackoverflow_questions ORDER BY id DESC LIMIT 10;"
   ]
  },
  {
   "cell_type": "code",
   "execution_count": 0,
   "metadata": {
    "application/vnd.databricks.v1+cell": {
     "cellMetadata": {
      "byteLimit": 2048000,
      "implicitDf": true,
      "rowLimit": 10000
     },
     "inputWidgets": {},
     "nuid": "4df042a5-49c0-44c4-a277-c839ec8922dd",
     "showTitle": false,
     "tableResultSettingsMap": {},
     "title": ""
    }
   },
   "outputs": [
    {
     "output_type": "display_data",
     "data": {
      "text/html": [
       "<style scoped>\n",
       "  .table-result-container {\n",
       "    max-height: 300px;\n",
       "    overflow: auto;\n",
       "  }\n",
       "  table, th, td {\n",
       "    border: 1px solid black;\n",
       "    border-collapse: collapse;\n",
       "  }\n",
       "  th, td {\n",
       "    padding: 5px;\n",
       "  }\n",
       "  th {\n",
       "    text-align: left;\n",
       "  }\n",
       "</style><div class='table-result-container'><table class='table-result'><thead style='background-color: white'><tr><th>id</th><th>title</th><th>view_count</th><th>creation_date</th><th>tags</th></tr></thead><tbody><tr><td>77905667</td><td>Dynamic unicode message content</td><td>87</td><td>1706610950</td><td>List(unicode, clickatell)</td></tr><tr><td>77905674</td><td>Google Cloud Shell VM not starting</td><td>679</td><td>1706611069</td><td>List(google-cloud-platform, google-cloud-shell)</td></tr><tr><td>77905677</td><td>OpenModelica - All examples including EnergyPlus_9_6_0 fail</td><td>334</td><td>1706611079</td><td>List(modelica, openmodelica, energyplus)</td></tr><tr><td>77905682</td><td>Problem using a dynamic array as a member of a struct</td><td>86</td><td>1706611115</td><td>List(arrays, c, struct, dynamic-arrays)</td></tr><tr><td>77905685</td><td>How to use a header only library in C++ using cmake</td><td>251</td><td>1706611128</td><td>List(c++, cmake)</td></tr><tr><td>77905689</td><td>Excel: Charting graphs for different row numbers</td><td>32</td><td>1706611167</td><td>List(excel)</td></tr><tr><td>77905696</td><td>RecyclerView is not refreshed in real time when adding data</td><td>30</td><td>1706611229</td><td>List(java, android, kotlin, android-recyclerview)</td></tr><tr><td>77905699</td><td>Problems with minutes in timestamps when inserting data into InfluxDB via PowerShell</td><td>114</td><td>1706611239</td><td>List(database, powershell, influxdb, influxql)</td></tr><tr><td>77905706</td><td>Return to same ViewComponent from Controller action</td><td>52</td><td>1706611338</td><td>List(c#, asp.net-core, razor, asp.net-core-mvc)</td></tr><tr><td>77905707</td><td>Is the docs of the cnosdb wrong?</td><td>13</td><td>1706611339</td><td>List(cnosdb)</td></tr></tbody></table></div>"
      ]
     },
     "metadata": {
      "application/vnd.databricks.v1+output": {
       "addedWidgets": {},
       "aggData": [],
       "aggError": "",
       "aggOverflow": false,
       "aggSchema": [],
       "aggSeriesLimitReached": false,
       "aggType": "",
       "arguments": {},
       "columnCustomDisplayInfos": {},
       "data": [
        [
         77905667,
         "Dynamic unicode message content",
         87,
         1706610950,
         [
          "unicode",
          "clickatell"
         ]
        ],
        [
         77905674,
         "Google Cloud Shell VM not starting",
         679,
         1706611069,
         [
          "google-cloud-platform",
          "google-cloud-shell"
         ]
        ],
        [
         77905677,
         "OpenModelica - All examples including EnergyPlus_9_6_0 fail",
         334,
         1706611079,
         [
          "modelica",
          "openmodelica",
          "energyplus"
         ]
        ],
        [
         77905682,
         "Problem using a dynamic array as a member of a struct",
         86,
         1706611115,
         [
          "arrays",
          "c",
          "struct",
          "dynamic-arrays"
         ]
        ],
        [
         77905685,
         "How to use a header only library in C++ using cmake",
         251,
         1706611128,
         [
          "c++",
          "cmake"
         ]
        ],
        [
         77905689,
         "Excel: Charting graphs for different row numbers",
         32,
         1706611167,
         [
          "excel"
         ]
        ],
        [
         77905696,
         "RecyclerView is not refreshed in real time when adding data",
         30,
         1706611229,
         [
          "java",
          "android",
          "kotlin",
          "android-recyclerview"
         ]
        ],
        [
         77905699,
         "Problems with minutes in timestamps when inserting data into InfluxDB via PowerShell",
         114,
         1706611239,
         [
          "database",
          "powershell",
          "influxdb",
          "influxql"
         ]
        ],
        [
         77905706,
         "Return to same ViewComponent from Controller action",
         52,
         1706611338,
         [
          "c#",
          "asp.net-core",
          "razor",
          "asp.net-core-mvc"
         ]
        ],
        [
         77905707,
         "Is the docs of the cnosdb wrong?",
         13,
         1706611339,
         [
          "cnosdb"
         ]
        ]
       ],
       "datasetInfos": [
        {
         "name": "_sqldf",
         "schema": {
          "fields": [
           {
            "metadata": {},
            "name": "id",
            "nullable": true,
            "type": "long"
           },
           {
            "metadata": {},
            "name": "title",
            "nullable": true,
            "type": "string"
           },
           {
            "metadata": {},
            "name": "view_count",
            "nullable": true,
            "type": "long"
           },
           {
            "metadata": {},
            "name": "creation_date",
            "nullable": true,
            "type": "long"
           },
           {
            "metadata": {},
            "name": "tags",
            "nullable": true,
            "type": {
             "containsNull": true,
             "elementType": "string",
             "type": "array"
            }
           }
          ],
          "type": "struct"
         },
         "tableIdentifier": null,
         "typeStr": "pyspark.sql.dataframe.DataFrame"
        }
       ],
       "dbfsResultPath": null,
       "isJsonSchema": true,
       "metadata": {
        "createTempViewForImplicitDf": true,
        "dataframeName": "_sqldf",
        "executionCount": 2
       },
       "overflow": false,
       "plotOptions": {
        "customPlotOptions": {},
        "displayType": "table",
        "pivotAggregation": null,
        "pivotColumns": null,
        "xColumns": null,
        "yColumns": null
       },
       "removedWidgets": [],
       "schema": [
        {
         "metadata": "{}",
         "name": "id",
         "type": "\"long\""
        },
        {
         "metadata": "{}",
         "name": "title",
         "type": "\"string\""
        },
        {
         "metadata": "{}",
         "name": "view_count",
         "type": "\"long\""
        },
        {
         "metadata": "{}",
         "name": "creation_date",
         "type": "\"long\""
        },
        {
         "metadata": "{}",
         "name": "tags",
         "type": "{\"type\":\"array\",\"elementType\":\"string\",\"containsNull\":true}"
        }
       ],
       "type": "table"
      }
     },
     "output_type": "display_data"
    }
   ],
   "source": [
    "%sql\n",
    "SELECT * FROM stackoverflow_questions ORDER BY id LIMIT 10;"
   ]
  },
  {
   "cell_type": "code",
   "execution_count": 0,
   "metadata": {
    "application/vnd.databricks.v1+cell": {
     "cellMetadata": {
      "byteLimit": 2048000,
      "implicitDf": true,
      "rowLimit": 10000
     },
     "inputWidgets": {},
     "nuid": "88107f5d-dfb4-4f6b-bd9e-2d1c61011e11",
     "showTitle": false,
     "tableResultSettingsMap": {},
     "title": ""
    }
   },
   "outputs": [
    {
     "output_type": "display_data",
     "data": {
      "text/html": [
       "<style scoped>\n",
       "  .table-result-container {\n",
       "    max-height: 300px;\n",
       "    overflow: auto;\n",
       "  }\n",
       "  table, th, td {\n",
       "    border: 1px solid black;\n",
       "    border-collapse: collapse;\n",
       "  }\n",
       "  th, td {\n",
       "    padding: 5px;\n",
       "  }\n",
       "  th {\n",
       "    text-align: left;\n",
       "  }\n",
       "</style><div class='table-result-container'><table class='table-result'><thead style='background-color: white'><tr><th>count(1)</th></tr></thead><tbody><tr><td>493700</td></tr></tbody></table></div>"
      ]
     },
     "metadata": {
      "application/vnd.databricks.v1+output": {
       "addedWidgets": {},
       "aggData": [],
       "aggError": "",
       "aggOverflow": false,
       "aggSchema": [],
       "aggSeriesLimitReached": false,
       "aggType": "",
       "arguments": {},
       "columnCustomDisplayInfos": {},
       "data": [
        [
         493700
        ]
       ],
       "datasetInfos": [
        {
         "name": "_sqldf",
         "schema": {
          "fields": [
           {
            "metadata": {
             "__autoGeneratedAlias": "true"
            },
            "name": "count(1)",
            "nullable": false,
            "type": "long"
           }
          ],
          "type": "struct"
         },
         "tableIdentifier": null,
         "typeStr": "pyspark.sql.dataframe.DataFrame"
        }
       ],
       "dbfsResultPath": null,
       "isJsonSchema": true,
       "metadata": {
        "createTempViewForImplicitDf": true,
        "dataframeName": "_sqldf",
        "executionCount": 3
       },
       "overflow": false,
       "plotOptions": {
        "customPlotOptions": {},
        "displayType": "table",
        "pivotAggregation": null,
        "pivotColumns": null,
        "xColumns": null,
        "yColumns": null
       },
       "removedWidgets": [],
       "schema": [
        {
         "metadata": "{\"__autoGeneratedAlias\":\"true\"}",
         "name": "count(1)",
         "type": "\"long\""
        }
       ],
       "type": "table"
      }
     },
     "output_type": "display_data"
    }
   ],
   "source": [
    "%sql\n",
    "SELECT COUNT(*) FROM stackoverflow_questions;"
   ]
  },
  {
   "cell_type": "code",
   "execution_count": 0,
   "metadata": {
    "application/vnd.databricks.v1+cell": {
     "cellMetadata": {
      "byteLimit": 2048000,
      "rowLimit": 10000
     },
     "inputWidgets": {},
     "nuid": "cc41a3de-0815-42c4-a7c4-07e156aa43b9",
     "showTitle": false,
     "tableResultSettingsMap": {},
     "title": ""
    }
   },
   "outputs": [
    {
     "output_type": "stream",
     "name": "stdout",
     "output_type": "stream",
     "text": [
      "0.3569591445848346 gb\n"
     ]
    }
   ],
   "source": [
    "files = dbutils.fs.ls(\"/mnt/so/bronze/\")\n",
    "print(sum([f.size for f in files])/(1024**3), 'gb')"
   ]
  },
  {
   "cell_type": "code",
   "execution_count": 0,
   "metadata": {
    "application/vnd.databricks.v1+cell": {
     "cellMetadata": {
      "byteLimit": 2048000,
      "implicitDf": true,
      "rowLimit": 10000
     },
     "inputWidgets": {},
     "nuid": "fceb8c05-fd6d-432a-b488-45b93d03c86e",
     "showTitle": false,
     "tableResultSettingsMap": {
      "0": {
       "dataGridStateBlob": "{\"version\":1,\"tableState\":{\"columnPinning\":{\"left\":[\"#row_number#\"],\"right\":[]},\"columnSizing\":{},\"columnVisibility\":{}},\"settings\":{\"columns\":{}},\"syncTimestamp\":1759157402669}",
       "filterBlob": null,
       "queryPlanFiltersBlob": null,
       "tableResultIndex": 0
      }
     },
     "title": ""
    }
   },
   "outputs": [
    {
     "output_type": "display_data",
     "data": {
      "text/html": [
       "<style scoped>\n",
       "  .table-result-container {\n",
       "    max-height: 300px;\n",
       "    overflow: auto;\n",
       "  }\n",
       "  table, th, td {\n",
       "    border: 1px solid black;\n",
       "    border-collapse: collapse;\n",
       "  }\n",
       "  th, td {\n",
       "    padding: 5px;\n",
       "  }\n",
       "  th {\n",
       "    text-align: left;\n",
       "  }\n",
       "</style><div class='table-result-container'><table class='table-result'><thead style='background-color: white'><tr><th>dayish</th><th>c</th></tr></thead><tbody><tr><td>17420</td><td>363</td></tr><tr><td>17389</td><td>802</td></tr><tr><td>17437</td><td>762</td></tr><tr><td>17346</td><td>1058</td></tr><tr><td>17378</td><td>518</td></tr><tr><td>17396</td><td>424</td></tr><tr><td>17392</td><td>982</td></tr><tr><td>17525</td><td>404</td></tr><tr><td>17430</td><td>897</td></tr><tr><td>17554</td><td>141</td></tr><tr><td>17588</td><td>471</td></tr><tr><td>17388</td><td>927</td></tr><tr><td>17397</td><td>620</td></tr><tr><td>17347</td><td>676</td></tr><tr><td>17353</td><td>614</td></tr><tr><td>17297</td><td>1332</td></tr><tr><td>17542</td><td>172</td></tr><tr><td>17281</td><td>606</td></tr><tr><td>17549</td><td>255</td></tr><tr><td>17312</td><td>592</td></tr><tr><td>17539</td><td>311</td></tr><tr><td>17573</td><td>279</td></tr><tr><td>17545</td><td>305</td></tr><tr><td>17345</td><td>1150</td></tr><tr><td>17423</td><td>925</td></tr><tr><td>17331</td><td>1080</td></tr><tr><td>17544</td><td>317</td></tr><tr><td>17566</td><td>137</td></tr><tr><td>17563</td><td>300</td></tr><tr><td>17400</td><td>922</td></tr><tr><td>17386</td><td>951</td></tr><tr><td>17285</td><td>1278</td></tr><tr><td>17547</td><td>112</td></tr><tr><td>17585</td><td>376</td></tr><tr><td>17350</td><td>620</td></tr><tr><td>17519</td><td>390</td></tr><tr><td>17377</td><td>879</td></tr><tr><td>17531</td><td>342</td></tr><tr><td>17382</td><td>909</td></tr><tr><td>17543</td><td>319</td></tr><tr><td>17398</td><td>992</td></tr><tr><td>17318</td><td>648</td></tr><tr><td>17589</td><td>304</td></tr><tr><td>17551</td><td>256</td></tr><tr><td>17556</td><td>299</td></tr><tr><td>17332</td><td>1246</td></tr><tr><td>17564</td><td>363</td></tr><tr><td>17433</td><td>340</td></tr><tr><td>17399</td><td>1040</td></tr><tr><td>17307</td><td>1152</td></tr><tr><td>17313</td><td>1045</td></tr><tr><td>17283</td><td>1290</td></tr><tr><td>17419</td><td>761</td></tr><tr><td>17560</td><td>137</td></tr><tr><td>17394</td><td>999</td></tr><tr><td>17570</td><td>297</td></tr><tr><td>17336</td><td>581</td></tr><tr><td>17357</td><td>436</td></tr><tr><td>17407</td><td>829</td></tr><tr><td>17342</td><td>559</td></tr><tr><td>17330</td><td>557</td></tr><tr><td>17572</td><td>134</td></tr><tr><td>17571</td><td>185</td></tr><tr><td>17362</td><td>939</td></tr><tr><td>17385</td><td>704</td></tr><tr><td>17373</td><td>888</td></tr><tr><td>17429</td><td>922</td></tr><tr><td>17286</td><td>977</td></tr><tr><td>17427</td><td>528</td></tr><tr><td>17567</td><td>274</td></tr><tr><td>17528</td><td>257</td></tr><tr><td>17335</td><td>754</td></tr><tr><td>17314</td><td>1231</td></tr><tr><td>17435</td><td>685</td></tr><tr><td>17305</td><td>642</td></tr><tr><td>17550</td><td>265</td></tr><tr><td>17384</td><td>482</td></tr><tr><td>17282</td><td>870</td></tr><tr><td>17358</td><td>842</td></tr><tr><td>17424</td><td>926</td></tr><tr><td>17359</td><td>738</td></tr><tr><td>17586</td><td>425</td></tr><tr><td>17395</td><td>770</td></tr><tr><td>17522</td><td>336</td></tr><tr><td>17417</td><td>934</td></tr><tr><td>17334</td><td>1208</td></tr><tr><td>17414</td><td>390</td></tr><tr><td>17533</td><td>316</td></tr><tr><td>17279</td><td>1252</td></tr><tr><td>17431</td><td>749</td></tr><tr><td>17548</td><td>152</td></tr><tr><td>17434</td><td>757</td></tr><tr><td>17374</td><td>1036</td></tr><tr><td>17379</td><td>819</td></tr><tr><td>17428</td><td>864</td></tr><tr><td>17308</td><td>1165</td></tr><tr><td>17381</td><td>901</td></tr><tr><td>17339</td><td>1196</td></tr><tr><td>17365</td><td>811</td></tr><tr><td>17278</td><td>1335</td></tr><tr><td>17328</td><td>1153</td></tr><tr><td>17530</td><td>222</td></tr><tr><td>17406</td><td>902</td></tr><tr><td>17316</td><td>1204</td></tr><tr><td>17432</td><td>392</td></tr><tr><td>17300</td><td>687</td></tr><tr><td>17338</td><td>1185</td></tr><tr><td>17529</td><td>184</td></tr><tr><td>17552</td><td>238</td></tr><tr><td>17405</td><td>1022</td></tr><tr><td>17369</td><td>1038</td></tr><tr><td>17558</td><td>236</td></tr><tr><td>17413</td><td>760</td></tr><tr><td>17409</td><td>563</td></tr><tr><td>17343</td><td>977</td></tr><tr><td>17526</td><td>375</td></tr><tr><td>17436</td><td>826</td></tr><tr><td>17546</td><td>223</td></tr><tr><td>17333</td><td>1254</td></tr><tr><td>17309</td><td>1293</td></tr><tr><td>17370</td><td>989</td></tr><tr><td>17553</td><td>119</td></tr><tr><td>17364</td><td>976</td></tr><tr><td>17520</td><td>410</td></tr><tr><td>17559</td><td>156</td></tr><tr><td>17408</td><td>453</td></tr><tr><td>17356</td><td>575</td></tr><tr><td>17303</td><td>1272</td></tr><tr><td>17280</td><td>1117</td></tr><tr><td>17372</td><td>542</td></tr><tr><td>17540</td><td>245</td></tr><tr><td>17340</td><td>1203</td></tr><tr><td>17421</td><td>458</td></tr><tr><td>17411</td><td>981</td></tr><tr><td>17403</td><td>653</td></tr><tr><td>17351</td><td>519</td></tr><tr><td>17425</td><td>863</td></tr><tr><td>17368</td><td>978</td></tr><tr><td>17310</td><td>1176</td></tr><tr><td>17537</td><td>354</td></tr><tr><td>17371</td><td>821</td></tr><tr><td>17311</td><td>633</td></tr><tr><td>17352</td><td>750</td></tr><tr><td>17426</td><td>464</td></tr><tr><td>17354</td><td>507</td></tr><tr><td>17393</td><td>1030</td></tr><tr><td>17366</td><td>528</td></tr><tr><td>17304</td><td>1027</td></tr><tr><td>17387</td><td>996</td></tr><tr><td>17349</td><td>810</td></tr><tr><td>17590</td><td>65</td></tr><tr><td>17298</td><td>1187</td></tr><tr><td>17348</td><td>487</td></tr><tr><td>17306</td><td>630</td></tr><tr><td>17418</td><td>804</td></tr><tr><td>17363</td><td>1062</td></tr><tr><td>17376</td><td>1032</td></tr><tr><td>17422</td><td>899</td></tr><tr><td>17390</td><td>513</td></tr><tr><td>17360</td><td>626</td></tr><tr><td>17416</td><td>899</td></tr><tr><td>17569</td><td>380</td></tr><tr><td>17315</td><td>1327</td></tr><tr><td>17532</td><td>337</td></tr><tr><td>17568</td><td>355</td></tr><tr><td>17375</td><td>932</td></tr><tr><td>17367</td><td>835</td></tr><tr><td>17329</td><td>685</td></tr><tr><td>17355</td><td>660</td></tr><tr><td>17284</td><td>1410</td></tr><tr><td>17317</td><td>597</td></tr><tr><td>17410</td><td>909</td></tr><tr><td>17401</td><td>798</td></tr><tr><td>17557</td><td>302</td></tr><tr><td>17302</td><td>1322</td></tr><tr><td>17555</td><td>290</td></tr><tr><td>17412</td><td>990</td></tr><tr><td>17361</td><td>854</td></tr><tr><td>17561</td><td>241</td></tr><tr><td>17402</td><td>409</td></tr><tr><td>17344</td><td>1049</td></tr><tr><td>17404</td><td>969</td></tr><tr><td>17341</td><td>685</td></tr><tr><td>17562</td><td>304</td></tr><tr><td>17301</td><td>1368</td></tr><tr><td>17527</td><td>320</td></tr><tr><td>17415</td><td>488</td></tr><tr><td>17299</td><td>601</td></tr><tr><td>17587</td><td>501</td></tr><tr><td>17383</td><td>812</td></tr><tr><td>17337</td><td>968</td></tr><tr><td>17565</td><td>165</td></tr><tr><td>17391</td><td>628</td></tr><tr><td>17541</td><td>114</td></tr><tr><td>17521</td><td>344</td></tr><tr><td>17277</td><td>1463</td></tr><tr><td>17538</td><td>347</td></tr><tr><td>17193</td><td>1534</td></tr><tr><td>17223</td><td>1203</td></tr><tr><td>17190</td><td>761</td></tr><tr><td>17438</td><td>370</td></tr><tr><td>17213</td><td>1546</td></tr><tr><td>17502</td><td>401</td></tr><tr><td>17265</td><td>1140</td></tr><tr><td>17067</td><td>2367</td></tr><tr><td>17253</td><td>1077</td></tr><tr><td>17508</td><td>410</td></tr><tr><td>17196</td><td>783</td></tr><tr><td>17207</td><td>1512</td></tr><tr><td>17244</td><td>918</td></tr><tr><td>17584</td><td>187</td></tr><tr><td>17496</td><td>407</td></tr><tr><td>17448</td><td>679</td></tr><tr><td>17259</td><td>1178</td></tr><tr><td>17536</td><td>192</td></tr><tr><td>17204</td><td>1285</td></tr><tr><td>17444</td><td>359</td></tr><tr><td>17242</td><td>1182</td></tr><tr><td>17447</td><td>629</td></tr><tr><td>17296</td><td>1330</td></tr><tr><td>17295</td><td>1330</td></tr><tr><td>17263</td><td>600</td></tr><tr><td>17325</td><td>1092</td></tr><tr><td>17258</td><td>983</td></tr><tr><td>17326</td><td>1271</td></tr><tr><td>17268</td><td>956</td></tr><tr><td>17267</td><td>1109</td></tr><tr><td>17276</td><td>962</td></tr><tr><td>17238</td><td>889</td></tr><tr><td>17261</td><td>1127</td></tr><tr><td>17205</td><td>1450</td></tr><tr><td>17222</td><td>1177</td></tr><tr><td>17574</td><td>258</td></tr><tr><td>17241</td><td>1246</td></tr><tr><td>17066</td><td>2051</td></tr><tr><td>17517</td><td>167</td></tr><tr><td>17506</td><td>378</td></tr><tr><td>17513</td><td>366</td></tr><tr><td>17198</td><td>1322</td></tr><tr><td>17192</td><td>1362</td></tr><tr><td>17274</td><td>1235</td></tr><tr><td>17510</td><td>382</td></tr><tr><td>17515</td><td>370</td></tr><tr><td>17324</td><td>635</td></tr><tr><td>17246</td><td>1040</td></tr><tr><td>17319</td><td>1091</td></tr><tr><td>17249</td><td>1169</td></tr><tr><td>17209</td><td>635</td></tr><tr><td>17221</td><td>659</td></tr><tr><td>17500</td><td>382</td></tr><tr><td>17291</td><td>1292</td></tr><tr><td>17245</td><td>552</td></tr><tr><td>17323</td><td>722</td></tr><tr><td>17575</td><td>368</td></tr><tr><td>17524</td><td>236</td></tr><tr><td>17271</td><td>1236</td></tr><tr><td>17535</td><td>161</td></tr><tr><td>17191</td><td>717</td></tr><tr><td>17509</td><td>406</td></tr><tr><td>17492</td><td>322</td></tr><tr><td>17220</td><td>906</td></tr><tr><td>17255</td><td>1170</td></tr><tr><td>17499</td><td>190</td></tr><tr><td>17254</td><td>1207</td></tr><tr><td>17203</td><td>630</td></tr><tr><td>17445</td><td>328</td></tr><tr><td>17189</td><td>1444</td></tr><tr><td>17264</td><td>760</td></tr><tr><td>17236</td><td>1240</td></tr><tr><td>17219</td><td>1436</td></tr><tr><td>17293</td><td>590</td></tr><tr><td>17251</td><td>636</td></tr><tr><td>17202</td><td>710</td></tr><tr><td>17440</td><td>682</td></tr><tr><td>17068</td><td>2255</td></tr><tr><td>17243</td><td>1156</td></tr><tr><td>17214</td><td>802</td></tr><tr><td>17443</td><td>713</td></tr><tr><td>17583</td><td>263</td></tr><tr><td>17197</td><td>754</td></tr><tr><td>17200</td><td>1563</td></tr><tr><td>17320</td><td>1246</td></tr><tr><td>17327</td><td>1276</td></tr><tr><td>17534</td><td>277</td></tr><tr><td>17495</td><td>494</td></tr><tr><td>17523</td><td>163</td></tr><tr><td>17518</td><td>312</td></tr><tr><td>17224</td><td>1344</td></tr><tr><td>17252</td><td>983</td></tr><tr><td>17215</td><td>668</td></tr><tr><td>17294</td><td>711</td></tr><tr><td>17292</td><td>1175</td></tr><tr><td>17507</td><td>415</td></tr><tr><td>17262</td><td>947</td></tr><tr><td>17289</td><td>1328</td></tr><tr><td>17235</td><td>1253</td></tr><tr><td>17290</td><td>1426</td></tr><tr><td>17218</td><td>1478</td></tr><tr><td>17248</td><td>1220</td></tr><tr><td>17514</td><td>406</td></tr><tr><td>17511</td><td>184</td></tr><tr><td>17288</td><td>804</td></tr><tr><td>17322</td><td>1264</td></tr><tr><td>17512</td><td>307</td></tr><tr><td>17247</td><td>1140</td></tr><tr><td>17188</td><td>1582</td></tr><tr><td>17199</td><td>1500</td></tr><tr><td>17237</td><td>1134</td></tr><tr><td>17442</td><td>783</td></tr><tr><td>17256</td><td>972</td></tr><tr><td>17194</td><td>1684</td></tr><tr><td>17217</td><td>1267</td></tr><tr><td>17216</td><td>1234</td></tr><tr><td>17212</td><td>1488</td></tr><tr><td>17498</td><td>354</td></tr><tr><td>17210</td><td>1200</td></tr><tr><td>17272</td><td>1232</td></tr><tr><td>17439</td><td>355</td></tr><tr><td>17275</td><td>675</td></tr><tr><td>17269</td><td>558</td></tr><tr><td>17260</td><td>1185</td></tr><tr><td>17250</td><td>971</td></tr><tr><td>17208</td><td>854</td></tr><tr><td>17582</td><td>469</td></tr><tr><td>17206</td><td>1501</td></tr><tr><td>17491</td><td>486</td></tr><tr><td>17516</td><td>267</td></tr><tr><td>17441</td><td>773</td></tr><tr><td>17239</td><td>627</td></tr><tr><td>17321</td><td>1358</td></tr><tr><td>17273</td><td>1142</td></tr><tr><td>17266</td><td>1177</td></tr><tr><td>17501</td><td>430</td></tr><tr><td>17494</td><td>395</td></tr><tr><td>17287</td><td>601</td></tr><tr><td>17257</td><td>573</td></tr><tr><td>17211</td><td>1410</td></tr><tr><td>17195</td><td>1432</td></tr><tr><td>17446</td><td>572</td></tr><tr><td>17493</td><td>244</td></tr><tr><td>17201</td><td>1302</td></tr><tr><td>17240</td><td>1092</td></tr><tr><td>17497</td><td>419</td></tr><tr><td>17270</td><td>793</td></tr><tr><td>17172</td><td>740</td></tr><tr><td>17113</td><td>1702</td></tr><tr><td>17154</td><td>993</td></tr><tr><td>17225</td><td>1353</td></tr><tr><td>17170</td><td>1646</td></tr><tr><td>17476</td><td>480</td></tr><tr><td>17097</td><td>2183</td></tr><tr><td>17504</td><td>382</td></tr><tr><td>17486</td><td>384</td></tr><tr><td>17503</td><td>390</td></tr><tr><td>17094</td><td>1107</td></tr><tr><td>17466</td><td>631</td></tr><tr><td>17176</td><td>1650</td></tr><tr><td>17098</td><td>2099</td></tr><tr><td>17187</td><td>1562</td></tr><tr><td>17119</td><td>1475</td></tr><tr><td>17482</td><td>438</td></tr><tr><td>17150</td><td>1934</td></tr><tr><td>17129</td><td>1578</td></tr><tr><td>17171</td><td>1456</td></tr><tr><td>17135</td><td>1697</td></tr><tr><td>17130</td><td>952</td></tr><tr><td>17156</td><td>1929</td></tr><tr><td>17155</td><td>1294</td></tr><tr><td>17179</td><td>850</td></tr><tr><td>17488</td><td>395</td></tr><tr><td>17157</td><td>1855</td></tr><tr><td>17091</td><td>2230</td></tr><tr><td>17167</td><td>961</td></tr><tr><td>17186</td><td>1370</td></tr><tr><td>17230</td><td>1308</td></tr><tr><td>17120</td><td>1952</td></tr><tr><td>17138</td><td>1994</td></tr><tr><td>17177</td><td>1496</td></tr><tr><td>17095</td><td>1810</td></tr><tr><td>17183</td><td>1408</td></tr><tr><td>17160</td><td>811</td></tr><tr><td>17465</td><td>539</td></tr><tr><td>17166</td><td>803</td></tr><tr><td>17505</td><td>194</td></tr><tr><td>17484</td><td>516</td></tr><tr><td>17111</td><td>1598</td></tr><tr><td>17185</td><td>702</td></tr><tr><td>17483</td><td>452</td></tr><tr><td>17165</td><td>1496</td></tr><tr><td>17475</td><td>255</td></tr><tr><td>17152</td><td>1766</td></tr><tr><td>17478</td><td>501</td></tr><tr><td>17137</td><td>1550</td></tr><tr><td>17174</td><td>1677</td></tr><tr><td>17112</td><td>1118</td></tr><tr><td>17153</td><td>1599</td></tr><tr><td>17164</td><td>1810</td></tr><tr><td>17231</td><td>1335</td></tr><tr><td>17469</td><td>282</td></tr><tr><td>17162</td><td>1682</td></tr><tr><td>17140</td><td>1733</td></tr><tr><td>17173</td><td>899</td></tr><tr><td>17485</td><td>451</td></tr><tr><td>17487</td><td>264</td></tr><tr><td>17178</td><td>730</td></tr><tr><td>17473</td><td>609</td></tr><tr><td>17579</td><td>297</td></tr><tr><td>17580</td><td>354</td></tr><tr><td>17467</td><td>597</td></tr><tr><td>17458</td><td>533</td></tr><tr><td>17182</td><td>1688</td></tr><tr><td>17123</td><td>1595</td></tr><tr><td>17577</td><td>181</td></tr><tr><td>17133</td><td>1933</td></tr><tr><td>17232</td><td>957</td></tr><tr><td>17122</td><td>1789</td></tr><tr><td>17096</td><td>1926</td></tr><tr><td>17139</td><td>1906</td></tr><tr><td>17132</td><td>1982</td></tr><tr><td>17131</td><td>1627</td></tr><tr><td>17141</td><td>1598</td></tr><tr><td>17175</td><td>1643</td></tr><tr><td>17093</td><td>1521</td></tr><tr><td>17115</td><td>1929</td></tr><tr><td>17228</td><td>1196</td></tr><tr><td>17110</td><td>2009</td></tr><tr><td>17134</td><td>1935</td></tr><tr><td>17227</td><td>663</td></tr><tr><td>17480</td><td>362</td></tr><tr><td>17474</td><td>387</td></tr><tr><td>17181</td><td>1651</td></tr><tr><td>17151</td><td>1985</td></tr><tr><td>17490</td><td>539</td></tr><tr><td>17481</td><td>271</td></tr><tr><td>17168</td><td>1622</td></tr><tr><td>17234</td><td>1096</td></tr><tr><td>17581</td><td>399</td></tr><tr><td>17184</td><td>719</td></tr><tr><td>17229</td><td>1215</td></tr><tr><td>17460</td><td>523</td></tr><tr><td>17472</td><td>615</td></tr><tr><td>17143</td><td>1455</td></tr><tr><td>17159</td><td>1531</td></tr><tr><td>17169</td><td>1761</td></tr><tr><td>17468</td><td>406</td></tr><tr><td>17226</td><td>947</td></tr><tr><td>17163</td><td>1829</td></tr><tr><td>17118</td><td>1049</td></tr><tr><td>17117</td><td>1418</td></tr><tr><td>17459</td><td>605</td></tr><tr><td>17136</td><td>1080</td></tr><tr><td>17489</td><td>416</td></tr><tr><td>17116</td><td>1791</td></tr><tr><td>17479</td><td>558</td></tr><tr><td>17233</td><td>649</td></tr><tr><td>17092</td><td>2095</td></tr><tr><td>17158</td><td>1825</td></tr><tr><td>17180</td><td>1510</td></tr><tr><td>17161</td><td>1066</td></tr><tr><td>17142</td><td>967</td></tr><tr><td>17114</td><td>1910</td></tr><tr><td>17121</td><td>1967</td></tr><tr><td>17077</td><td>1753</td></tr><tr><td>17462</td><td>321</td></tr><tr><td>17074</td><td>2204</td></tr><tr><td>17081</td><td>1344</td></tr><tr><td>17147</td><td>1508</td></tr><tr><td>17463</td><td>283</td></tr><tr><td>17148</td><td>1010</td></tr><tr><td>17070</td><td>1202</td></tr><tr><td>17071</td><td>2001</td></tr><tr><td>17101</td><td>1882</td></tr><tr><td>17453</td><td>596</td></tr><tr><td>17124</td><td>1081</td></tr><tr><td>17457</td><td>334</td></tr><tr><td>17477</td><td>497</td></tr><tr><td>17104</td><td>2136</td></tr><tr><td>17080</td><td>2191</td></tr><tr><td>17455</td><td>596</td></tr><tr><td>17126</td><td>1876</td></tr><tr><td>17069</td><td>1283</td></tr><tr><td>17103</td><td>2028</td></tr><tr><td>17100</td><td>1049</td></tr><tr><td>17083</td><td>1904</td></tr><tr><td>17109</td><td>1951</td></tr><tr><td>17088</td><td>1152</td></tr><tr><td>17085</td><td>2249</td></tr><tr><td>17128</td><td>1744</td></tr><tr><td>17461</td><td>453</td></tr><tr><td>17146</td><td>1707</td></tr><tr><td>17576</td><td>328</td></tr><tr><td>17578</td><td>168</td></tr><tr><td>17106</td><td>1118</td></tr><tr><td>17086</td><td>2160</td></tr><tr><td>17090</td><td>2044</td></tr><tr><td>17450</td><td>303</td></tr><tr><td>17087</td><td>1485</td></tr><tr><td>17107</td><td>1824</td></tr><tr><td>17149</td><td>1421</td></tr><tr><td>17471</td><td>496</td></tr><tr><td>17084</td><td>2095</td></tr><tr><td>17456</td><td>341</td></tr><tr><td>17452</td><td>456</td></tr><tr><td>17449</td><td>559</td></tr><tr><td>17145</td><td>1588</td></tr><tr><td>17144</td><td>1958</td></tr><tr><td>17451</td><td>277</td></tr><tr><td>17082</td><td>1173</td></tr><tr><td>17102</td><td>1926</td></tr><tr><td>17454</td><td>631</td></tr><tr><td>17079</td><td>2167</td></tr><tr><td>17105</td><td>1622</td></tr><tr><td>17072</td><td>2335</td></tr><tr><td>17078</td><td>2024</td></tr><tr><td>17380</td><td>1033</td></tr><tr><td>17125</td><td>1703</td></tr><tr><td>17470</td><td>536</td></tr><tr><td>17073</td><td>2351</td></tr><tr><td>17099</td><td>1476</td></tr><tr><td>17075</td><td>1282</td></tr><tr><td>17089</td><td>1907</td></tr><tr><td>17108</td><td>1964</td></tr><tr><td>17127</td><td>1811</td></tr><tr><td>17464</td><td>445</td></tr><tr><td>17076</td><td>1111</td></tr></tbody></table></div>"
      ]
     },
     "metadata": {
      "application/vnd.databricks.v1+output": {
       "addedWidgets": {},
       "aggData": [],
       "aggError": "",
       "aggOverflow": false,
       "aggSchema": [],
       "aggSeriesLimitReached": false,
       "aggType": "",
       "arguments": {},
       "columnCustomDisplayInfos": {},
       "data": [
        [
         17420,
         363
        ],
        [
         17389,
         802
        ],
        [
         17437,
         762
        ],
        [
         17346,
         1058
        ],
        [
         17378,
         518
        ],
        [
         17396,
         424
        ],
        [
         17392,
         982
        ],
        [
         17525,
         404
        ],
        [
         17430,
         897
        ],
        [
         17554,
         141
        ],
        [
         17588,
         471
        ],
        [
         17388,
         927
        ],
        [
         17397,
         620
        ],
        [
         17347,
         676
        ],
        [
         17353,
         614
        ],
        [
         17297,
         1332
        ],
        [
         17542,
         172
        ],
        [
         17281,
         606
        ],
        [
         17549,
         255
        ],
        [
         17312,
         592
        ],
        [
         17539,
         311
        ],
        [
         17573,
         279
        ],
        [
         17545,
         305
        ],
        [
         17345,
         1150
        ],
        [
         17423,
         925
        ],
        [
         17331,
         1080
        ],
        [
         17544,
         317
        ],
        [
         17566,
         137
        ],
        [
         17563,
         300
        ],
        [
         17400,
         922
        ],
        [
         17386,
         951
        ],
        [
         17285,
         1278
        ],
        [
         17547,
         112
        ],
        [
         17585,
         376
        ],
        [
         17350,
         620
        ],
        [
         17519,
         390
        ],
        [
         17377,
         879
        ],
        [
         17531,
         342
        ],
        [
         17382,
         909
        ],
        [
         17543,
         319
        ],
        [
         17398,
         992
        ],
        [
         17318,
         648
        ],
        [
         17589,
         304
        ],
        [
         17551,
         256
        ],
        [
         17556,
         299
        ],
        [
         17332,
         1246
        ],
        [
         17564,
         363
        ],
        [
         17433,
         340
        ],
        [
         17399,
         1040
        ],
        [
         17307,
         1152
        ],
        [
         17313,
         1045
        ],
        [
         17283,
         1290
        ],
        [
         17419,
         761
        ],
        [
         17560,
         137
        ],
        [
         17394,
         999
        ],
        [
         17570,
         297
        ],
        [
         17336,
         581
        ],
        [
         17357,
         436
        ],
        [
         17407,
         829
        ],
        [
         17342,
         559
        ],
        [
         17330,
         557
        ],
        [
         17572,
         134
        ],
        [
         17571,
         185
        ],
        [
         17362,
         939
        ],
        [
         17385,
         704
        ],
        [
         17373,
         888
        ],
        [
         17429,
         922
        ],
        [
         17286,
         977
        ],
        [
         17427,
         528
        ],
        [
         17567,
         274
        ],
        [
         17528,
         257
        ],
        [
         17335,
         754
        ],
        [
         17314,
         1231
        ],
        [
         17435,
         685
        ],
        [
         17305,
         642
        ],
        [
         17550,
         265
        ],
        [
         17384,
         482
        ],
        [
         17282,
         870
        ],
        [
         17358,
         842
        ],
        [
         17424,
         926
        ],
        [
         17359,
         738
        ],
        [
         17586,
         425
        ],
        [
         17395,
         770
        ],
        [
         17522,
         336
        ],
        [
         17417,
         934
        ],
        [
         17334,
         1208
        ],
        [
         17414,
         390
        ],
        [
         17533,
         316
        ],
        [
         17279,
         1252
        ],
        [
         17431,
         749
        ],
        [
         17548,
         152
        ],
        [
         17434,
         757
        ],
        [
         17374,
         1036
        ],
        [
         17379,
         819
        ],
        [
         17428,
         864
        ],
        [
         17308,
         1165
        ],
        [
         17381,
         901
        ],
        [
         17339,
         1196
        ],
        [
         17365,
         811
        ],
        [
         17278,
         1335
        ],
        [
         17328,
         1153
        ],
        [
         17530,
         222
        ],
        [
         17406,
         902
        ],
        [
         17316,
         1204
        ],
        [
         17432,
         392
        ],
        [
         17300,
         687
        ],
        [
         17338,
         1185
        ],
        [
         17529,
         184
        ],
        [
         17552,
         238
        ],
        [
         17405,
         1022
        ],
        [
         17369,
         1038
        ],
        [
         17558,
         236
        ],
        [
         17413,
         760
        ],
        [
         17409,
         563
        ],
        [
         17343,
         977
        ],
        [
         17526,
         375
        ],
        [
         17436,
         826
        ],
        [
         17546,
         223
        ],
        [
         17333,
         1254
        ],
        [
         17309,
         1293
        ],
        [
         17370,
         989
        ],
        [
         17553,
         119
        ],
        [
         17364,
         976
        ],
        [
         17520,
         410
        ],
        [
         17559,
         156
        ],
        [
         17408,
         453
        ],
        [
         17356,
         575
        ],
        [
         17303,
         1272
        ],
        [
         17280,
         1117
        ],
        [
         17372,
         542
        ],
        [
         17540,
         245
        ],
        [
         17340,
         1203
        ],
        [
         17421,
         458
        ],
        [
         17411,
         981
        ],
        [
         17403,
         653
        ],
        [
         17351,
         519
        ],
        [
         17425,
         863
        ],
        [
         17368,
         978
        ],
        [
         17310,
         1176
        ],
        [
         17537,
         354
        ],
        [
         17371,
         821
        ],
        [
         17311,
         633
        ],
        [
         17352,
         750
        ],
        [
         17426,
         464
        ],
        [
         17354,
         507
        ],
        [
         17393,
         1030
        ],
        [
         17366,
         528
        ],
        [
         17304,
         1027
        ],
        [
         17387,
         996
        ],
        [
         17349,
         810
        ],
        [
         17590,
         65
        ],
        [
         17298,
         1187
        ],
        [
         17348,
         487
        ],
        [
         17306,
         630
        ],
        [
         17418,
         804
        ],
        [
         17363,
         1062
        ],
        [
         17376,
         1032
        ],
        [
         17422,
         899
        ],
        [
         17390,
         513
        ],
        [
         17360,
         626
        ],
        [
         17416,
         899
        ],
        [
         17569,
         380
        ],
        [
         17315,
         1327
        ],
        [
         17532,
         337
        ],
        [
         17568,
         355
        ],
        [
         17375,
         932
        ],
        [
         17367,
         835
        ],
        [
         17329,
         685
        ],
        [
         17355,
         660
        ],
        [
         17284,
         1410
        ],
        [
         17317,
         597
        ],
        [
         17410,
         909
        ],
        [
         17401,
         798
        ],
        [
         17557,
         302
        ],
        [
         17302,
         1322
        ],
        [
         17555,
         290
        ],
        [
         17412,
         990
        ],
        [
         17361,
         854
        ],
        [
         17561,
         241
        ],
        [
         17402,
         409
        ],
        [
         17344,
         1049
        ],
        [
         17404,
         969
        ],
        [
         17341,
         685
        ],
        [
         17562,
         304
        ],
        [
         17301,
         1368
        ],
        [
         17527,
         320
        ],
        [
         17415,
         488
        ],
        [
         17299,
         601
        ],
        [
         17587,
         501
        ],
        [
         17383,
         812
        ],
        [
         17337,
         968
        ],
        [
         17565,
         165
        ],
        [
         17391,
         628
        ],
        [
         17541,
         114
        ],
        [
         17521,
         344
        ],
        [
         17277,
         1463
        ],
        [
         17538,
         347
        ],
        [
         17193,
         1534
        ],
        [
         17223,
         1203
        ],
        [
         17190,
         761
        ],
        [
         17438,
         370
        ],
        [
         17213,
         1546
        ],
        [
         17502,
         401
        ],
        [
         17265,
         1140
        ],
        [
         17067,
         2367
        ],
        [
         17253,
         1077
        ],
        [
         17508,
         410
        ],
        [
         17196,
         783
        ],
        [
         17207,
         1512
        ],
        [
         17244,
         918
        ],
        [
         17584,
         187
        ],
        [
         17496,
         407
        ],
        [
         17448,
         679
        ],
        [
         17259,
         1178
        ],
        [
         17536,
         192
        ],
        [
         17204,
         1285
        ],
        [
         17444,
         359
        ],
        [
         17242,
         1182
        ],
        [
         17447,
         629
        ],
        [
         17296,
         1330
        ],
        [
         17295,
         1330
        ],
        [
         17263,
         600
        ],
        [
         17325,
         1092
        ],
        [
         17258,
         983
        ],
        [
         17326,
         1271
        ],
        [
         17268,
         956
        ],
        [
         17267,
         1109
        ],
        [
         17276,
         962
        ],
        [
         17238,
         889
        ],
        [
         17261,
         1127
        ],
        [
         17205,
         1450
        ],
        [
         17222,
         1177
        ],
        [
         17574,
         258
        ],
        [
         17241,
         1246
        ],
        [
         17066,
         2051
        ],
        [
         17517,
         167
        ],
        [
         17506,
         378
        ],
        [
         17513,
         366
        ],
        [
         17198,
         1322
        ],
        [
         17192,
         1362
        ],
        [
         17274,
         1235
        ],
        [
         17510,
         382
        ],
        [
         17515,
         370
        ],
        [
         17324,
         635
        ],
        [
         17246,
         1040
        ],
        [
         17319,
         1091
        ],
        [
         17249,
         1169
        ],
        [
         17209,
         635
        ],
        [
         17221,
         659
        ],
        [
         17500,
         382
        ],
        [
         17291,
         1292
        ],
        [
         17245,
         552
        ],
        [
         17323,
         722
        ],
        [
         17575,
         368
        ],
        [
         17524,
         236
        ],
        [
         17271,
         1236
        ],
        [
         17535,
         161
        ],
        [
         17191,
         717
        ],
        [
         17509,
         406
        ],
        [
         17492,
         322
        ],
        [
         17220,
         906
        ],
        [
         17255,
         1170
        ],
        [
         17499,
         190
        ],
        [
         17254,
         1207
        ],
        [
         17203,
         630
        ],
        [
         17445,
         328
        ],
        [
         17189,
         1444
        ],
        [
         17264,
         760
        ],
        [
         17236,
         1240
        ],
        [
         17219,
         1436
        ],
        [
         17293,
         590
        ],
        [
         17251,
         636
        ],
        [
         17202,
         710
        ],
        [
         17440,
         682
        ],
        [
         17068,
         2255
        ],
        [
         17243,
         1156
        ],
        [
         17214,
         802
        ],
        [
         17443,
         713
        ],
        [
         17583,
         263
        ],
        [
         17197,
         754
        ],
        [
         17200,
         1563
        ],
        [
         17320,
         1246
        ],
        [
         17327,
         1276
        ],
        [
         17534,
         277
        ],
        [
         17495,
         494
        ],
        [
         17523,
         163
        ],
        [
         17518,
         312
        ],
        [
         17224,
         1344
        ],
        [
         17252,
         983
        ],
        [
         17215,
         668
        ],
        [
         17294,
         711
        ],
        [
         17292,
         1175
        ],
        [
         17507,
         415
        ],
        [
         17262,
         947
        ],
        [
         17289,
         1328
        ],
        [
         17235,
         1253
        ],
        [
         17290,
         1426
        ],
        [
         17218,
         1478
        ],
        [
         17248,
         1220
        ],
        [
         17514,
         406
        ],
        [
         17511,
         184
        ],
        [
         17288,
         804
        ],
        [
         17322,
         1264
        ],
        [
         17512,
         307
        ],
        [
         17247,
         1140
        ],
        [
         17188,
         1582
        ],
        [
         17199,
         1500
        ],
        [
         17237,
         1134
        ],
        [
         17442,
         783
        ],
        [
         17256,
         972
        ],
        [
         17194,
         1684
        ],
        [
         17217,
         1267
        ],
        [
         17216,
         1234
        ],
        [
         17212,
         1488
        ],
        [
         17498,
         354
        ],
        [
         17210,
         1200
        ],
        [
         17272,
         1232
        ],
        [
         17439,
         355
        ],
        [
         17275,
         675
        ],
        [
         17269,
         558
        ],
        [
         17260,
         1185
        ],
        [
         17250,
         971
        ],
        [
         17208,
         854
        ],
        [
         17582,
         469
        ],
        [
         17206,
         1501
        ],
        [
         17491,
         486
        ],
        [
         17516,
         267
        ],
        [
         17441,
         773
        ],
        [
         17239,
         627
        ],
        [
         17321,
         1358
        ],
        [
         17273,
         1142
        ],
        [
         17266,
         1177
        ],
        [
         17501,
         430
        ],
        [
         17494,
         395
        ],
        [
         17287,
         601
        ],
        [
         17257,
         573
        ],
        [
         17211,
         1410
        ],
        [
         17195,
         1432
        ],
        [
         17446,
         572
        ],
        [
         17493,
         244
        ],
        [
         17201,
         1302
        ],
        [
         17240,
         1092
        ],
        [
         17497,
         419
        ],
        [
         17270,
         793
        ],
        [
         17172,
         740
        ],
        [
         17113,
         1702
        ],
        [
         17154,
         993
        ],
        [
         17225,
         1353
        ],
        [
         17170,
         1646
        ],
        [
         17476,
         480
        ],
        [
         17097,
         2183
        ],
        [
         17504,
         382
        ],
        [
         17486,
         384
        ],
        [
         17503,
         390
        ],
        [
         17094,
         1107
        ],
        [
         17466,
         631
        ],
        [
         17176,
         1650
        ],
        [
         17098,
         2099
        ],
        [
         17187,
         1562
        ],
        [
         17119,
         1475
        ],
        [
         17482,
         438
        ],
        [
         17150,
         1934
        ],
        [
         17129,
         1578
        ],
        [
         17171,
         1456
        ],
        [
         17135,
         1697
        ],
        [
         17130,
         952
        ],
        [
         17156,
         1929
        ],
        [
         17155,
         1294
        ],
        [
         17179,
         850
        ],
        [
         17488,
         395
        ],
        [
         17157,
         1855
        ],
        [
         17091,
         2230
        ],
        [
         17167,
         961
        ],
        [
         17186,
         1370
        ],
        [
         17230,
         1308
        ],
        [
         17120,
         1952
        ],
        [
         17138,
         1994
        ],
        [
         17177,
         1496
        ],
        [
         17095,
         1810
        ],
        [
         17183,
         1408
        ],
        [
         17160,
         811
        ],
        [
         17465,
         539
        ],
        [
         17166,
         803
        ],
        [
         17505,
         194
        ],
        [
         17484,
         516
        ],
        [
         17111,
         1598
        ],
        [
         17185,
         702
        ],
        [
         17483,
         452
        ],
        [
         17165,
         1496
        ],
        [
         17475,
         255
        ],
        [
         17152,
         1766
        ],
        [
         17478,
         501
        ],
        [
         17137,
         1550
        ],
        [
         17174,
         1677
        ],
        [
         17112,
         1118
        ],
        [
         17153,
         1599
        ],
        [
         17164,
         1810
        ],
        [
         17231,
         1335
        ],
        [
         17469,
         282
        ],
        [
         17162,
         1682
        ],
        [
         17140,
         1733
        ],
        [
         17173,
         899
        ],
        [
         17485,
         451
        ],
        [
         17487,
         264
        ],
        [
         17178,
         730
        ],
        [
         17473,
         609
        ],
        [
         17579,
         297
        ],
        [
         17580,
         354
        ],
        [
         17467,
         597
        ],
        [
         17458,
         533
        ],
        [
         17182,
         1688
        ],
        [
         17123,
         1595
        ],
        [
         17577,
         181
        ],
        [
         17133,
         1933
        ],
        [
         17232,
         957
        ],
        [
         17122,
         1789
        ],
        [
         17096,
         1926
        ],
        [
         17139,
         1906
        ],
        [
         17132,
         1982
        ],
        [
         17131,
         1627
        ],
        [
         17141,
         1598
        ],
        [
         17175,
         1643
        ],
        [
         17093,
         1521
        ],
        [
         17115,
         1929
        ],
        [
         17228,
         1196
        ],
        [
         17110,
         2009
        ],
        [
         17134,
         1935
        ],
        [
         17227,
         663
        ],
        [
         17480,
         362
        ],
        [
         17474,
         387
        ],
        [
         17181,
         1651
        ],
        [
         17151,
         1985
        ],
        [
         17490,
         539
        ],
        [
         17481,
         271
        ],
        [
         17168,
         1622
        ],
        [
         17234,
         1096
        ],
        [
         17581,
         399
        ],
        [
         17184,
         719
        ],
        [
         17229,
         1215
        ],
        [
         17460,
         523
        ],
        [
         17472,
         615
        ],
        [
         17143,
         1455
        ],
        [
         17159,
         1531
        ],
        [
         17169,
         1761
        ],
        [
         17468,
         406
        ],
        [
         17226,
         947
        ],
        [
         17163,
         1829
        ],
        [
         17118,
         1049
        ],
        [
         17117,
         1418
        ],
        [
         17459,
         605
        ],
        [
         17136,
         1080
        ],
        [
         17489,
         416
        ],
        [
         17116,
         1791
        ],
        [
         17479,
         558
        ],
        [
         17233,
         649
        ],
        [
         17092,
         2095
        ],
        [
         17158,
         1825
        ],
        [
         17180,
         1510
        ],
        [
         17161,
         1066
        ],
        [
         17142,
         967
        ],
        [
         17114,
         1910
        ],
        [
         17121,
         1967
        ],
        [
         17077,
         1753
        ],
        [
         17462,
         321
        ],
        [
         17074,
         2204
        ],
        [
         17081,
         1344
        ],
        [
         17147,
         1508
        ],
        [
         17463,
         283
        ],
        [
         17148,
         1010
        ],
        [
         17070,
         1202
        ],
        [
         17071,
         2001
        ],
        [
         17101,
         1882
        ],
        [
         17453,
         596
        ],
        [
         17124,
         1081
        ],
        [
         17457,
         334
        ],
        [
         17477,
         497
        ],
        [
         17104,
         2136
        ],
        [
         17080,
         2191
        ],
        [
         17455,
         596
        ],
        [
         17126,
         1876
        ],
        [
         17069,
         1283
        ],
        [
         17103,
         2028
        ],
        [
         17100,
         1049
        ],
        [
         17083,
         1904
        ],
        [
         17109,
         1951
        ],
        [
         17088,
         1152
        ],
        [
         17085,
         2249
        ],
        [
         17128,
         1744
        ],
        [
         17461,
         453
        ],
        [
         17146,
         1707
        ],
        [
         17576,
         328
        ],
        [
         17578,
         168
        ],
        [
         17106,
         1118
        ],
        [
         17086,
         2160
        ],
        [
         17090,
         2044
        ],
        [
         17450,
         303
        ],
        [
         17087,
         1485
        ],
        [
         17107,
         1824
        ],
        [
         17149,
         1421
        ],
        [
         17471,
         496
        ],
        [
         17084,
         2095
        ],
        [
         17456,
         341
        ],
        [
         17452,
         456
        ],
        [
         17449,
         559
        ],
        [
         17145,
         1588
        ],
        [
         17144,
         1958
        ],
        [
         17451,
         277
        ],
        [
         17082,
         1173
        ],
        [
         17102,
         1926
        ],
        [
         17454,
         631
        ],
        [
         17079,
         2167
        ],
        [
         17105,
         1622
        ],
        [
         17072,
         2335
        ],
        [
         17078,
         2024
        ],
        [
         17380,
         1033
        ],
        [
         17125,
         1703
        ],
        [
         17470,
         536
        ],
        [
         17073,
         2351
        ],
        [
         17099,
         1476
        ],
        [
         17075,
         1282
        ],
        [
         17089,
         1907
        ],
        [
         17108,
         1964
        ],
        [
         17127,
         1811
        ],
        [
         17464,
         445
        ],
        [
         17076,
         1111
        ]
       ],
       "datasetInfos": [
        {
         "name": "_sqldf",
         "schema": {
          "fields": [
           {
            "metadata": {},
            "name": "dayish",
            "nullable": true,
            "type": "integer"
           },
           {
            "metadata": {},
            "name": "c",
            "nullable": false,
            "type": "long"
           }
          ],
          "type": "struct"
         },
         "tableIdentifier": null,
         "typeStr": "pyspark.sql.dataframe.DataFrame"
        }
       ],
       "dbfsResultPath": null,
       "isJsonSchema": true,
       "metadata": {
        "createTempViewForImplicitDf": true,
        "dataframeName": "_sqldf",
        "executionCount": 14
       },
       "overflow": false,
       "plotOptions": {
        "customPlotOptions": {},
        "displayType": "table",
        "pivotAggregation": null,
        "pivotColumns": null,
        "xColumns": null,
        "yColumns": null
       },
       "removedWidgets": [],
       "schema": [
        {
         "metadata": "{}",
         "name": "dayish",
         "type": "\"integer\""
        },
        {
         "metadata": "{}",
         "name": "c",
         "type": "\"long\""
        }
       ],
       "type": "table"
      }
     },
     "output_type": "display_data"
    }
   ],
   "source": [
    "%sql\n",
    "select dayish, count(dayish) c from (select int(creation_date/100000) dayish from stackoverflow_questions) x group by dayish;"
   ]
  },
  {
   "cell_type": "code",
   "execution_count": 0,
   "metadata": {
    "application/vnd.databricks.v1+cell": {
     "cellMetadata": {
      "byteLimit": 2048000,
      "rowLimit": 10000
     },
     "inputWidgets": {},
     "nuid": "63c939d6-298b-4a76-933d-9fd6cdb28920",
     "showTitle": false,
     "tableResultSettingsMap": {},
     "title": ""
    }
   },
   "outputs": [
    {
     "output_type": "execute_result",
     "data": {
      "text/plain": [
       "940.3809523809524"
      ]
     },
     "execution_count": 19,
     "metadata": {},
     "output_type": "execute_result"
    }
   ],
   "source": [
    "from pyspark.sql.functions import avg\n",
    "_sqldf.agg(avg('c')).collect()[0][0]\n"
   ]
  }
 ],
 "metadata": {
  "application/vnd.databricks.v1+notebook": {
   "computePreferences": null,
   "dashboards": [],
   "environmentMetadata": {
    "base_environment": "",
    "environment_version": "3"
   },
   "inputWidgetPreferences": null,
   "language": "python",
   "notebookMetadata": {
    "mostRecentlyExecutedCommandWithImplicitDF": {
     "commandId": 8051428326973806,
     "dataframes": [
      "_sqldf"
     ]
    },
    "pythonIndentUnit": 4
   },
   "notebookName": "stackoverflow-questions",
   "widgets": {}
  },
  "language_info": {
   "name": "python"
  }
 },
 "nbformat": 4,
 "nbformat_minor": 0
}
