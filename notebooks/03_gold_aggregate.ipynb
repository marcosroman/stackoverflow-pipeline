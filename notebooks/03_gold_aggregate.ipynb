{
 "cells": [
  {
   "cell_type": "code",
   "execution_count": 0,
   "metadata": {
    "application/vnd.databricks.v1+cell": {
     "cellMetadata": {
      "byteLimit": 2048000,
      "implicitDf": true,
      "rowLimit": 10000
     },
     "inputWidgets": {},
     "nuid": "53b7bb80-2d8f-47cc-a295-67baf8d32a7b",
     "showTitle": false,
     "tableResultSettingsMap": {},
     "title": ""
    }
   },
   "outputs": [],
   "source": [
    "%sql\n",
    "CREATE DATABASE IF NOT EXISTS gold;"
   ]
  },
  {
   "cell_type": "code",
   "execution_count": 0,
   "metadata": {
    "application/vnd.databricks.v1+cell": {
     "cellMetadata": {
      "byteLimit": 2048000,
      "implicitDf": true,
      "rowLimit": 10000
     },
     "inputWidgets": {},
     "nuid": "d213c098-ef8c-45bd-b781-2e9b0e5b6585",
     "showTitle": false,
     "tableResultSettingsMap": {},
     "title": ""
    }
   },
   "outputs": [
    {
     "output_type": "display_data",
     "data": {
      "text/html": [
       "<style scoped>\n",
       "  .table-result-container {\n",
       "    max-height: 300px;\n",
       "    overflow: auto;\n",
       "  }\n",
       "  table, th, td {\n",
       "    border: 1px solid black;\n",
       "    border-collapse: collapse;\n",
       "  }\n",
       "  th, td {\n",
       "    padding: 5px;\n",
       "  }\n",
       "  th {\n",
       "    text-align: left;\n",
       "  }\n",
       "</style><div class='table-result-container'><table class='table-result'><thead style='background-color: white'><tr><th>num_affected_rows</th><th>num_inserted_rows</th></tr></thead><tbody></tbody></table></div>"
      ]
     },
     "metadata": {
      "application/vnd.databricks.v1+output": {
       "addedWidgets": {},
       "aggData": [],
       "aggError": "",
       "aggOverflow": false,
       "aggSchema": [],
       "aggSeriesLimitReached": false,
       "aggType": "",
       "arguments": {},
       "columnCustomDisplayInfos": {},
       "data": [],
       "datasetInfos": [
        {
         "name": "_sqldf",
         "schema": {
          "fields": [
           {
            "metadata": {},
            "name": "num_affected_rows",
            "nullable": true,
            "type": "long"
           },
           {
            "metadata": {},
            "name": "num_inserted_rows",
            "nullable": true,
            "type": "long"
           }
          ],
          "type": "struct"
         },
         "tableIdentifier": null,
         "typeStr": "pyspark.sql.dataframe.DataFrame"
        }
       ],
       "dbfsResultPath": null,
       "isJsonSchema": true,
       "metadata": {
        "createTempViewForImplicitDf": true,
        "dataframeName": "_sqldf",
        "executionCount": 11
       },
       "overflow": false,
       "plotOptions": {
        "customPlotOptions": {},
        "displayType": "table",
        "pivotAggregation": null,
        "pivotColumns": null,
        "xColumns": null,
        "yColumns": null
       },
       "removedWidgets": [],
       "schema": [
        {
         "metadata": "{}",
         "name": "num_affected_rows",
         "type": "\"long\""
        },
        {
         "metadata": "{}",
         "name": "num_inserted_rows",
         "type": "\"long\""
        }
       ],
       "type": "table"
      }
     },
     "output_type": "display_data"
    }
   ],
   "source": [
    "%sql\n",
    "CREATE OR REPLACE TABLE gold.monthly_trends AS\n",
    "SELECT\n",
    "    YEAR(creation_timestamp) AS year,\n",
    "    MONTH(creation_timestamp) AS month,\n",
    "    DATE_TRUNC('month', creation_timestamp) AS month_start,\n",
    "    COUNT(question_id) AS total_questions,\n",
    "    AVG(view_count) AS avg_views,\n",
    "    AVG(answer_count) AS avg_answers,\n",
    "    SUM(CASE WHEN is_answered THEN 1 ELSE 0 END) AS answered_questions\n",
    "FROM silver.questions\n",
    "GROUP BY\n",
    "    YEAR(creation_timestamp),\n",
    "    MONTH(creation_timestamp),\n",
    "    DATE_TRUNC('month', creation_timestamp)\n",
    "ORDER BY\n",
    "    year, month;\n"
   ]
  },
  {
   "cell_type": "code",
   "execution_count": 0,
   "metadata": {
    "application/vnd.databricks.v1+cell": {
     "cellMetadata": {
      "byteLimit": 2048000,
      "implicitDf": true,
      "rowLimit": 10000
     },
     "inputWidgets": {},
     "nuid": "b7ac4a1d-67b4-448c-9559-c1d5e7d703ef",
     "showTitle": false,
     "tableResultSettingsMap": {},
     "title": ""
    }
   },
   "outputs": [
    {
     "output_type": "display_data",
     "data": {
      "text/html": [
       "<style scoped>\n",
       "  .table-result-container {\n",
       "    max-height: 300px;\n",
       "    overflow: auto;\n",
       "  }\n",
       "  table, th, td {\n",
       "    border: 1px solid black;\n",
       "    border-collapse: collapse;\n",
       "  }\n",
       "  th, td {\n",
       "    padding: 5px;\n",
       "  }\n",
       "  th {\n",
       "    text-align: left;\n",
       "  }\n",
       "</style><div class='table-result-container'><table class='table-result'><thead style='background-color: white'><tr><th>year</th><th>month</th><th>month_start</th><th>total_questions</th><th>avg_views</th><th>avg_answers</th><th>answered_questions</th></tr></thead><tbody><tr><td>2025</td><td>2</td><td>2025-02-01T00:00:00Z</td><td>12457</td><td>160.74841454603836</td><td>0.7949747130127639</td><td>5088</td></tr><tr><td>2025</td><td>3</td><td>2025-03-01T00:00:00Z</td><td>19114</td><td>130.4645286177671</td><td>0.7798995500680129</td><td>7827</td></tr><tr><td>2025</td><td>4</td><td>2025-04-01T00:00:00Z</td><td>14340</td><td>123.48960948396095</td><td>0.7971408647140865</td><td>6019</td></tr><tr><td>2025</td><td>5</td><td>2025-05-01T00:00:00Z</td><td>11995</td><td>116.86302626094206</td><td>0.8208420175072947</td><td>5212</td></tr><tr><td>2025</td><td>6</td><td>2025-06-01T00:00:00Z</td><td>9562</td><td>113.22871784145576</td><td>0.822422087429408</td><td>4132</td></tr><tr><td>2025</td><td>7</td><td>2025-07-01T00:00:00Z</td><td>8087</td><td>105.98219364412019</td><td>0.8449363175466799</td><td>3718</td></tr><tr><td>2025</td><td>8</td><td>2025-08-01T00:00:00Z</td><td>6128</td><td>98.0197454308094</td><td>0.8371409921671018</td><td>2847</td></tr><tr><td>2025</td><td>9</td><td>2025-09-01T00:00:00Z</td><td>7860</td><td>77.62735368956743</td><td>0.6229007633587786</td><td>2582</td></tr><tr><td>2025</td><td>10</td><td>2025-10-01T00:00:00Z</td><td>457</td><td>33.08533916849015</td><td>0.3238512035010941</td><td>63</td></tr></tbody></table></div>"
      ]
     },
     "metadata": {
      "application/vnd.databricks.v1+output": {
       "addedWidgets": {},
       "aggData": [],
       "aggError": "",
       "aggOverflow": false,
       "aggSchema": [],
       "aggSeriesLimitReached": false,
       "aggType": "",
       "arguments": {},
       "columnCustomDisplayInfos": {},
       "data": [
        [
         2025,
         2,
         "2025-02-01T00:00:00Z",
         12457,
         160.74841454603836,
         0.7949747130127639,
         5088
        ],
        [
         2025,
         3,
         "2025-03-01T00:00:00Z",
         19114,
         130.4645286177671,
         0.7798995500680129,
         7827
        ],
        [
         2025,
         4,
         "2025-04-01T00:00:00Z",
         14340,
         123.48960948396095,
         0.7971408647140865,
         6019
        ],
        [
         2025,
         5,
         "2025-05-01T00:00:00Z",
         11995,
         116.86302626094206,
         0.8208420175072947,
         5212
        ],
        [
         2025,
         6,
         "2025-06-01T00:00:00Z",
         9562,
         113.22871784145576,
         0.822422087429408,
         4132
        ],
        [
         2025,
         7,
         "2025-07-01T00:00:00Z",
         8087,
         105.98219364412019,
         0.8449363175466799,
         3718
        ],
        [
         2025,
         8,
         "2025-08-01T00:00:00Z",
         6128,
         98.0197454308094,
         0.8371409921671018,
         2847
        ],
        [
         2025,
         9,
         "2025-09-01T00:00:00Z",
         7860,
         77.62735368956743,
         0.6229007633587786,
         2582
        ],
        [
         2025,
         10,
         "2025-10-01T00:00:00Z",
         457,
         33.08533916849015,
         0.3238512035010941,
         63
        ]
       ],
       "datasetInfos": [
        {
         "name": "_sqldf",
         "schema": {
          "fields": [
           {
            "metadata": {},
            "name": "year",
            "nullable": true,
            "type": "integer"
           },
           {
            "metadata": {},
            "name": "month",
            "nullable": true,
            "type": "integer"
           },
           {
            "metadata": {},
            "name": "month_start",
            "nullable": true,
            "type": "timestamp"
           },
           {
            "metadata": {},
            "name": "total_questions",
            "nullable": true,
            "type": "long"
           },
           {
            "metadata": {},
            "name": "avg_views",
            "nullable": true,
            "type": "double"
           },
           {
            "metadata": {},
            "name": "avg_answers",
            "nullable": true,
            "type": "double"
           },
           {
            "metadata": {},
            "name": "answered_questions",
            "nullable": true,
            "type": "long"
           }
          ],
          "type": "struct"
         },
         "tableIdentifier": null,
         "typeStr": "pyspark.sql.dataframe.DataFrame"
        }
       ],
       "dbfsResultPath": null,
       "isJsonSchema": true,
       "metadata": {
        "createTempViewForImplicitDf": true,
        "dataframeName": "_sqldf",
        "executionCount": 12
       },
       "overflow": false,
       "plotOptions": {
        "customPlotOptions": {},
        "displayType": "table",
        "pivotAggregation": null,
        "pivotColumns": null,
        "xColumns": null,
        "yColumns": null
       },
       "removedWidgets": [],
       "schema": [
        {
         "metadata": "{}",
         "name": "year",
         "type": "\"integer\""
        },
        {
         "metadata": "{}",
         "name": "month",
         "type": "\"integer\""
        },
        {
         "metadata": "{}",
         "name": "month_start",
         "type": "\"timestamp\""
        },
        {
         "metadata": "{}",
         "name": "total_questions",
         "type": "\"long\""
        },
        {
         "metadata": "{}",
         "name": "avg_views",
         "type": "\"double\""
        },
        {
         "metadata": "{}",
         "name": "avg_answers",
         "type": "\"double\""
        },
        {
         "metadata": "{}",
         "name": "answered_questions",
         "type": "\"long\""
        }
       ],
       "type": "table"
      }
     },
     "output_type": "display_data"
    }
   ],
   "source": [
    "%sql SELECT * FROM gold.monthly_trends LIMIT 10"
   ]
  },
  {
   "cell_type": "code",
   "execution_count": 0,
   "metadata": {
    "application/vnd.databricks.v1+cell": {
     "cellMetadata": {
      "byteLimit": 2048000,
      "rowLimit": 10000
     },
     "inputWidgets": {},
     "nuid": "f3be4809-700d-432f-b7bf-876810d15b1d",
     "showTitle": false,
     "tableResultSettingsMap": {},
     "title": ""
    }
   },
   "outputs": [
    {
     "output_type": "display_data",
     "data": {
      "image/png": "[encoded data removed]",
      "text/plain": [
       "<Figure size 1200x600 with 1 Axes>"
      ]
     },
     "metadata": {},
     "output_type": "display_data"
    }
   ],
   "source": [
    "import matplotlib.pyplot as plt\n",
    "\n",
    "# load into spark dataframe and convert to pandas for plotting\n",
    "gold_monthly_trends = spark.table(\"gold.monthly_trends\")\n",
    "pdf = gold_monthly_trends.toPandas()\n",
    "\n",
    "pdf = pdf.sort_values(\"month_start\")\n",
    "\n",
    "# plot total questions over time\n",
    "plt.figure(figsize=(12,6))\n",
    "plt.plot(pdf[\"month_start\"], pdf[\"total_questions\"], marker=\"o\", label=\"Total Questions\")\n",
    "\n",
    "plt.title(\"question trends per month\")\n",
    "plt.xlabel(\"month\")\n",
    "plt.ylabel(\"count\")\n",
    "plt.legend()\n",
    "plt.grid(True)\n",
    "plt.show()\n"
   ]
  }
 ],
 "metadata": {
  "application/vnd.databricks.v1+notebook": {
   "computePreferences": null,
   "dashboards": [],
   "environmentMetadata": {
    "base_environment": "",
    "environment_version": "3"
   },
   "inputWidgetPreferences": null,
   "language": "python",
   "notebookMetadata": {
    "mostRecentlyExecutedCommandWithImplicitDF": {
     "commandId": 4817661498311907,
     "dataframes": [
      "_sqldf"
     ]
    },
    "pythonIndentUnit": 4
   },
   "notebookName": "03_gold_aggregate",
   "widgets": {}
  },
  "language_info": {
   "name": "python"
  }
 },
 "nbformat": 4,
 "nbformat_minor": 0
}
