{
 "cells": [
  {
   "cell_type": "code",
   "execution_count": 0,
   "metadata": {
    "application/vnd.databricks.v1+cell": {
     "cellMetadata": {
      "byteLimit": 2048000,
      "implicitDf": true,
      "rowLimit": 10000
     },
     "inputWidgets": {},
     "nuid": "53b7bb80-2d8f-47cc-a295-67baf8d32a7b",
     "showTitle": false,
     "tableResultSettingsMap": {},
     "title": ""
    }
   },
   "outputs": [],
   "source": [
    "%sql\n",
    "CREATE DATABASE IF NOT EXISTS gold;"
   ]
  },
  {
   "cell_type": "code",
   "execution_count": 0,
   "metadata": {
    "application/vnd.databricks.v1+cell": {
     "cellMetadata": {
      "byteLimit": 2048000,
      "implicitDf": true,
      "rowLimit": 10000
     },
     "inputWidgets": {},
     "nuid": "d213c098-ef8c-45bd-b781-2e9b0e5b6585",
     "showTitle": false,
     "tableResultSettingsMap": {},
     "title": ""
    }
   },
   "outputs": [],
   "source": [
    "%sql\n",
    "CREATE OR REPLACE TABLE gold.monthly_trends AS\n",
    "SELECT\n",
    "    YEAR(creation_timestamp) AS year,\n",
    "    MONTH(creation_timestamp) AS month,\n",
    "    DATE_TRUNC('month', creation_timestamp) AS month_start,\n",
    "    COUNT(question_id) AS total_questions,\n",
    "    AVG(view_count) AS avg_views,\n",
    "    AVG(answer_count) AS avg_answers,\n",
    "    SUM(CASE WHEN is_answered THEN 1 ELSE 0 END) AS answered_questions\n",
    "FROM silver.questions\n",
    "GROUP BY\n",
    "    YEAR(creation_timestamp),\n",
    "    MONTH(creation_timestamp),\n",
    "    DATE_TRUNC('month', creation_timestamp)\n",
    "ORDER BY\n",
    "    year, month;\n"
   ]
  },
  {
   "cell_type": "code",
   "execution_count": 0,
   "metadata": {
    "application/vnd.databricks.v1+cell": {
     "cellMetadata": {
      "byteLimit": 2048000,
      "implicitDf": true,
      "rowLimit": 10000
     },
     "inputWidgets": {},
     "nuid": "b7ac4a1d-67b4-448c-9559-c1d5e7d703ef",
     "showTitle": false,
     "tableResultSettingsMap": {},
     "title": ""
    }
   },
   "outputs": [],
   "source": [
    "%sql SELECT * FROM gold.monthly_trends LIMIT 10"
   ]
  },
  {
   "cell_type": "code",
   "execution_count": 0,
   "metadata": {
    "application/vnd.databricks.v1+cell": {
     "cellMetadata": {
      "byteLimit": 2048000,
      "rowLimit": 10000
     },
     "inputWidgets": {},
     "nuid": "f3be4809-700d-432f-b7bf-876810d15b1d",
     "showTitle": false,
     "tableResultSettingsMap": {},
     "title": ""
    }
   },
   "outputs": [],
   "source": [
    "import matplotlib.pyplot as plt\n",
    "\n",
    "# load into spark dataframe and convert to pandas for plotting\n",
    "gold_monthly_trends = spark.table(\"gold.monthly_trends\")\n",
    "pdf = gold_monthly_trends.toPandas()\n",
    "\n",
    "pdf = pdf.sort_values(\"month_start\")\n",
    "\n",
    "# plot total questions over time\n",
    "plt.figure(figsize=(12,6))\n",
    "plt.plot(pdf[\"month_start\"], pdf[\"total_questions\"], marker=\"o\", label=\"Total Questions\")\n",
    "\n",
    "plt.title(\"question trends per month\")\n",
    "plt.xlabel(\"month\")\n",
    "plt.ylabel(\"count\")\n",
    "plt.legend()\n",
    "plt.grid(True)\n",
    "plt.show()\n"
   ]
  }
 ],
 "metadata": {
  "application/vnd.databricks.v1+notebook": {
   "computePreferences": null,
   "dashboards": [],
   "environmentMetadata": {
    "base_environment": "",
    "environment_version": "3"
   },
   "inputWidgetPreferences": null,
   "language": "python",
   "notebookMetadata": {
    "mostRecentlyExecutedCommandWithImplicitDF": {
     "commandId": 4817661498311907,
     "dataframes": [
      "_sqldf"
     ]
    },
    "pythonIndentUnit": 4
   },
   "notebookName": "03_gold_aggregate",
   "widgets": {}
  },
  "language_info": {
   "name": "python"
  }
 },
 "nbformat": 4,
 "nbformat_minor": 0
}
