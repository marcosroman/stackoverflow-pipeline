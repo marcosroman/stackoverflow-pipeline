{
 "cells": [
  {
   "cell_type": "code",
   "execution_count": 0,
   "metadata": {
    "application/vnd.databricks.v1+cell": {
     "cellMetadata": {
      "byteLimit": 2048000,
      "rowLimit": 10000
     },
     "inputWidgets": {},
     "nuid": "5450cb18-1f29-4af9-8f75-b9bbc45911e7",
     "showTitle": false,
     "tableResultSettingsMap": {},
     "title": ""
    }
   },
   "outputs": [],
   "source": [
    "import requests\n",
    "\n",
    "# uploaded stackoverflow api key using databricks-cli (docker image)\n",
    "api_key = dbutils.secrets.get('so_api_scope', 'so_api_key')\n",
    "\n",
    "def fetch_page(page):\n",
    "    url = \"https://api.stackexchange.com/2.3/questions\"\n",
    "    params = {\n",
    "        \"page\": page,\n",
    "        \"pagesize\": 100,\n",
    "        \"order\": \"desc\",\n",
    "        \"sort\": \"creation\",\n",
    "        \"site\": \"stackoverflow\",\n",
    "        \"key\": api_key\n",
    "    }\n",
    "    data = requests.get(url, params=params).json()\n",
    "    return data.get(\"items\", [])"
   ]
  },
  {
   "cell_type": "code",
   "execution_count": 0,
   "metadata": {
    "application/vnd.databricks.v1+cell": {
     "cellMetadata": {
      "byteLimit": 2048000,
      "rowLimit": 10000
     },
     "inputWidgets": {},
     "nuid": "4e8fb826-759f-475d-b3ac-ede3c8e8bbf5",
     "showTitle": false,
     "tableResultSettingsMap": {},
     "title": ""
    }
   },
   "outputs": [
    {
     "output_type": "stream",
     "name": "stdout",
     "output_type": "stream",
     "text": [
      "{'items': [{'tags': ['css', 'dom', 'google-chrome-extension', 'gmail', 'inboxsdk'], 'owner': {'account_id': 3016866, 'reputation': 863, 'user_id': 2558764, 'user_type': 'registered', 'accept_rate': 72, 'profile_image': 'https://www.gravatar.com/avatar/81db839a7ab31ef6790518a9851782af?s=256&d=identicon&r=PG', 'display_name': 'kecman', 'link': 'https://stackoverflow.com/users/2558764/kecman'}, 'is_answered': False, 'view_count': 1, 'answer_count': 0, 'score': 0, 'last_activity_date': 1759375271, 'creation_date': 1759375271, 'question_id': 79780605, 'content_license': 'CC BY-SA 4.0', 'link': 'https://stackoverflow.com/questions/79780605/adding-custom-div-to-compose-window-with-inboxsdk-makes-issues-with-height-when', 'title': 'Adding custom div to compose window with InboxSDK makes issues with height when going to fullscreen mode of compose window'}, {'tags': ['python', 'web-scraping', 'youtube', 'youtube-data-api'], 'owner': {'account_id': 44168359, 'reputation': 1, 'user_id': 31612690, 'user_type': 'registered', 'profile_image': 'https://www.gravatar.com/avatar/a49335fe006b7ff5484714563c2146e3?s=256&d=identicon&r=PG&f=y&so-version=2', 'display_name': 'Subhan Ansari', 'link': 'https://stackoverflow.com/users/31612690/subhan-ansari'}, 'is_answered': False, 'view_count': 3, 'answer_count': 0, 'score': 0, 'last_activity_date': 1759375226, 'creation_date': 1759375226, 'question_id': 79780604, 'content_license': 'CC BY-SA 4.0', 'link': 'https://stackoverflow.com/questions/79780604/how-to-get-youtube-data-title-links-playlist-thumbnail-without-an-api-key', 'title': 'How to Get YouTube Data (Title, Links, Playlist, Thumbnail) Without an API Key'}, {'tags': ['node.js', 'typescript', 'visual-studio-code', 'azure-functions'], 'owner': {'account_id': 4142464, 'reputation': 1067, 'user_id': 3397281, 'user_type': 'registered', 'accept_rate': 43, 'profile_image': 'https://i.sstatic.net/1wOeS.jpg?s=256', 'display_name': 'wooters', 'link': 'https://stackoverflow.com/users/3397281/wooters'}, 'is_answered': False, 'view_count': 3, 'answer_count': 0, 'score': 0, 'last_activity_date': 1759375024, 'creation_date': 1759375024, 'question_id': 79780602, 'content_license': 'CC BY-SA 4.0', 'link': 'https://stackoverflow.com/questions/79780602/sudden-issues-debugging-azure-functions-in-vs-code', 'title': 'Sudden Issues Debugging Azure Functions in VS Code'}, {'tags': ['common-lisp'], 'owner': {'account_id': 42975, 'reputation': 4416, 'user_id': 125415, 'user_type': 'registered', 'accept_rate': 57, 'profile_image': 'https://www.gravatar.com/avatar/25cd06518221e8ce6f3a4c8a5ccd711a?s=256&d=identicon&r=PG', 'display_name': 'Dan Passaro', 'link': 'https://stackoverflow.com/users/125415/dan-passaro'}, 'is_answered': False, 'view_count': 9, 'answer_count': 0, 'score': 0, 'last_activity_date': 1759373769, 'creation_date': 1759373769, 'question_id': 79780598, 'content_license': 'CC BY-SA 4.0', 'link': 'https://stackoverflow.com/questions/79780598/can-a-symbol-be-aliased-in-common-lisp', 'title': 'Can a symbol be aliased in Common Lisp?'}, {'tags': ['tailwind-css'], 'owner': {'account_id': 27480173, 'reputation': 1, 'user_id': 20967419, 'user_type': 'registered', 'profile_image': 'https://lh3.googleusercontent.com/a/AEdFTp6VZbEuRS_-Gaun81S6yc1fqqUbUk9Fx_xPfKBx=k-s256', 'display_name': 'Nguyen Viet Tuan', 'link': 'https://stackoverflow.com/users/20967419/nguyen-viet-tuan'}, 'is_answered': False, 'view_count': 8, 'answer_count': 0, 'score': 0, 'last_activity_date': 1759373463, 'creation_date': 1759373420, 'last_edit_date': 1759373463, 'question_id': 79780596, 'content_license': 'CC BY-SA 4.0', 'link': 'https://stackoverflow.com/questions/79780596/install-tailwind-css', 'title': 'Install Tailwind CSS'}, {'tags': ['huggingface'], 'owner': {'account_id': 13117733, 'reputation': 1, 'user_id': 9476313, 'user_type': 'registered', 'profile_image': 'https://lh4.googleusercontent.com/-TNGyrpYDsLQ/AAAAAAAAAAI/AAAAAAAAACw/ciOPnShAh14/s256-rj/photo.jpg', 'display_name': 'Sada Shiva Prasad', 'link': 'https://stackoverflow.com/users/9476313/sada-shiva-prasad'}, 'is_answered': False, 'view_count': 18, 'answer_count': 0, 'score': -1, 'last_activity_date': 1759373057, 'creation_date': 1759373057, 'question_id': 79780594, 'content_license': 'CC BY-SA 4.0', 'link': 'https://stackoverflow.com/questions/79780594/hugging-face-module-not-found-error-websocket-asyncio', 'title': 'Hugging Face module not found error websocket.asyncio'}, {'tags': ['google-sheets', 'excel-formula', 'google-sheets-formula'], 'owner': {'account_id': 37522139, 'reputation': 3, 'user_id': 28288924, 'user_type': 'registered', 'profile_image': 'https://www.gravatar.com/avatar/110c001f33c58159d659d12eb3aa11d9?s=256&d=identicon&r=PG&f=y&so-version=2', 'display_name': 'Rhenz Idol Ii San Pedro', 'link': 'https://stackoverflow.com/users/28288924/rhenz-idol-ii-san-pedro'}, 'is_answered': False, 'view_count': 9, 'answer_count': 0, 'score': 0, 'last_activity_date': 1759373152, 'creation_date': 1759372996, 'last_edit_date': 1759373152, 'question_id': 79780593, 'content_license': 'CC BY-SA 4.0', 'link': 'https://stackoverflow.com/questions/79780593/get-monthly-date', 'title': 'Get Monthly Date'}, {'tags': ['sql-server', 'dbt', 'data-engineering', 'scd2'], 'owner': {'account_id': 33943309, 'reputation': 1, 'user_id': 26301227, 'user_type': 'registered', 'profile_image': 'https://www.gravatar.com/avatar/9534bf6ed73c1e1ab5b5fe08c5eda6c9?s=256&d=identicon&r=PG&f=y&so-version=2', 'display_name': 'Sơn B&#249;i', 'link': 'https://stackoverflow.com/users/26301227/s%c6%a1n-b%c3%b9i'}, 'is_answered': False, 'view_count': 9, 'answer_count': 0, 'score': -1, 'last_activity_date': 1759374216, 'creation_date': 1759372669, 'last_edit_date': 1759374216, 'question_id': 79780592, 'content_license': 'CC BY-SA 4.0', 'link': 'https://stackoverflow.com/questions/79780592/sql-server-version-table-compare-dbt-type-2-for-scd-table', 'title': 'SQL Server version table compare dbt type 2 for scd table'}, {'tags': ['c++', 'visual-studio-code'], 'owner': {'account_id': 44168076, 'reputation': 1, 'user_id': 31612547, 'user_type': 'registered', 'profile_image': 'https://www.gravatar.com/avatar/3a85402fcf01610b9dcad1185f7883a5?s=256&d=identicon&r=PG&f=y&so-version=2', 'display_name': 'Akshay Kumar', 'link': 'https://stackoverflow.com/users/31612547/akshay-kumar'}, 'is_answered': False, 'view_count': 16, 'answer_count': 0, 'score': 0, 'last_activity_date': 1759372528, 'creation_date': 1759372528, 'question_id': 79780591, 'content_license': 'CC BY-SA 4.0', 'link': 'https://stackoverflow.com/questions/79780591/how-do-i-disable-line-break-before-parenthesis-for-c-c-files-vs-code', 'title': 'How do I disable line break before parenthesis for C/C++ files (VS code)'}, {'tags': ['php', 'xero-api'], 'owner': {'account_id': 44168066, 'reputation': 1, 'user_id': 31612542, 'user_type': 'registered', 'profile_image': 'https://i.sstatic.net/j0NogcFd.png?s=256', 'display_name': 'MD SOHEL BABLU', 'link': 'https://stackoverflow.com/users/31612542/md-sohel-bablu'}, 'is_answered': False, 'view_count': 18, 'answer_count': 0, 'score': 0, 'last_activity_date': 1759372169, 'creation_date': 1759372169, 'question_id': 79780587, 'content_license': 'CC BY-SA 4.0', 'link': 'https://stackoverflow.com/questions/79780587/does-xero-not-provide-an-api-or-built-in-function-to-fetch-daily-data', 'title': 'Does Xero not provide an API or built-in function to fetch daily data?'}, {'tags': ['linux', 'kernel', 'iso', 'ipxe'], 'owner': {'account_id': 27057333, 'reputation': 3, 'user_id': 20609847, 'user_type': 'registered', 'profile_image': 'https://lh3.googleusercontent.com/a/ALm5wu2a3TFT9Nsv7JnnL1l3m_g9mRH_kwAiOn-HU1TS=k-s256', 'display_name': 'IT FAPK', 'link': 'https://stackoverflow.com/users/20609847/it-fapk'}, 'is_answered': False, 'view_count': 10, 'answer_count': 0, 'score': 0, 'last_activity_date': 1759371530, 'creation_date': 1759371530, 'question_id': 79780584, 'content_license': 'CC BY-SA 4.0', 'link': 'https://stackoverflow.com/questions/79780584/how-to-debug-iso-image-loading-via-ipxehttp', 'title': 'How to debug ISO image loading via iPXE&amp;HTTP?'}, {'tags': ['javascript', 'r', 'plotly', 'visualization', 'htmlwidgets'], 'owner': {'account_id': 19061913, 'reputation': 267, 'user_id': 13917839, 'user_type': 'registered', 'profile_image': 'https://www.gravatar.com/avatar/c54692c7dee6b36c51695664a9cca38b?s=256&d=identicon&r=PG&f=y&so-version=2', 'display_name': 'MatCordTo', 'link': 'https://stackoverflow.com/users/13917839/matcordto'}, 'is_answered': False, 'view_count': 11, 'answer_count': 0, 'score': 0, 'last_activity_date': 1759370381, 'creation_date': 1759370381, 'question_id': 79780581, 'content_license': 'CC BY-SA 4.0', 'link': 'https://stackoverflow.com/questions/79780581/plotly-r-annotations-showing-fixed-x-values-on-hover-despite-recalculating-clos', 'title': 'Plotly R: Annotations showing fixed X values on hover despite recalculating closest points across subplots'}, {'tags': ['django', 'django-templates'], 'owner': {'account_id': 25998781, 'reputation': 63, 'user_id': 19709665, 'user_type': 'registered', 'profile_image': 'https://lh3.googleusercontent.com/a/AItbvmkn5J9CTb8qNzi_Z6rMJyIUsyKRmkjnoKHeVyKB=k-s256', 'display_name': 'Ali Vleotsky', 'link': 'https://stackoverflow.com/users/19709665/ali-vleotsky'}, 'is_answered': False, 'view_count': 15, 'answer_count': 0, 'score': 0, 'last_activity_date': 1759373264, 'creation_date': 1759370023, 'last_edit_date': 1759373264, 'question_id': 79780579, 'content_license': 'CC BY-SA 4.0', 'link': 'https://stackoverflow.com/questions/79780579/failure-to-display-jazzmin-header', 'title': 'failure to display jazzmin header'}, {'tags': ['flutter', 'authentication', 'oauth-2.0', 'appauth'], 'owner': {'account_id': 43690471, 'reputation': 1, 'user_id': 31367696, 'user_type': 'registered', 'profile_image': 'https://www.gravatar.com/avatar/5c33156fd1d37f9a7310ae4f51bb0ff8?s=256&d=identicon&r=PG&f=y&so-version=2', 'display_name': 'Mạnh Nguyễn', 'link': 'https://stackoverflow.com/users/31367696/m%e1%ba%a1nh-nguy%e1%bb%85n'}, 'is_answered': False, 'view_count': 9, 'answer_count': 0, 'score': 0, 'last_activity_date': 1759369383, 'creation_date': 1759369383, 'question_id': 79780578, 'content_license': 'CC BY-SA 4.0', 'link': 'https://stackoverflow.com/questions/79780578/login-account-with-oauth2-flutter', 'title': 'Login account with Oauth2 Flutter'}, {'tags': ['swiftui'], 'owner': {'account_id': 337491, 'reputation': 837, 'user_id': 665792, 'user_type': 'registered', 'profile_image': 'https://www.gravatar.com/avatar/4f9e86760ec2528f0c94fb658b22d34e?s=256&d=identicon&r=PG', 'display_name': 'Leo', 'link': 'https://stackoverflow.com/users/665792/leo'}, 'is_answered': False, 'view_count': 17, 'answer_count': 0, 'score': 0, 'last_activity_date': 1759368163, 'creation_date': 1759368163, 'question_id': 79780573, 'content_license': 'CC BY-SA 4.0', 'link': 'https://stackoverflow.com/questions/79780573/platform-independent-unifying-viewrepresentable-template-to-minimize-if-else', 'title': 'Platform Independent unifying ViewRepresentable template to minimize #if #else #endif in SwiftUI code'}, {'tags': ['xcode', 'simulator'], 'owner': {'account_id': 26209410, 'reputation': 1, 'user_id': 19888537, 'user_type': 'registered', 'profile_image': 'https://graph.facebook.com/1707478442948158/picture?type=large', 'display_name': 'Nattapat Wakhet', 'link': 'https://stackoverflow.com/users/19888537/nattapat-wakhet'}, 'is_answered': False, 'view_count': 12, 'answer_count': 0, 'score': -1, 'last_activity_date': 1759368141, 'creation_date': 1759368141, 'question_id': 79780572, 'content_license': 'CC BY-SA 4.0', 'link': 'https://stackoverflow.com/questions/79780572/where-does-xcode-store-watchos-simulator-runtimes-and-how-to-install-a-downloade', 'title': 'Where does Xcode store watchOS simulator runtimes and how to install a downloaded .simruntime file?'}, {'tags': ['vue.js'], 'owner': {'account_id': 1068606, 'reputation': 12429, 'user_id': 1068446, 'user_type': 'registered', 'accept_rate': 63, 'profile_image': 'https://i.sstatic.net/F5uzH.jpg?s=256', 'display_name': 'dwjohnston', 'link': 'https://stackoverflow.com/users/1068446/dwjohnston'}, 'is_answered': False, 'view_count': 19, 'answer_count': 0, 'score': 0, 'last_activity_date': 1759367498, 'creation_date': 1759367498, 'question_id': 79780570, 'content_license': 'CC BY-SA 4.0', 'link': 'https://stackoverflow.com/questions/79780570/vue-form-elements-desync-from-computed-refs', 'title': 'Vue form elements desync from computed refs'}, {'tags': ['c#', 'debugging', '.net-10.0', 'c#-14.0', 'extension-members'], 'owner': {'account_id': 166270, 'reputation': 135351, 'user_id': 390278, 'user_type': 'registered', 'accept_rate': 86, 'profile_image': 'https://www.gravatar.com/avatar/84715fec547362389d02f5be0ed12814?s=256&d=identicon&r=PG', 'display_name': 'Jeff Mercado', 'link': 'https://stackoverflow.com/users/390278/jeff-mercado'}, 'is_answered': False, 'view_count': 28, 'answer_count': 1, 'score': 0, 'last_activity_date': 1759367427, 'creation_date': 1759366982, 'question_id': 79780567, 'content_license': 'CC BY-SA 4.0', 'link': 'https://stackoverflow.com/questions/79780567/are-extension-properties-subject-to-being-displayed-in-the-debugger-by-default', 'title': 'Are extension properties subject to being displayed in the debugger by default?'}, {'tags': ['reactjs', 'node.js', 'react-router', 'vite', 'ms-clarity'], 'owner': {'account_id': 8569993, 'reputation': 3484, 'user_id': 6421288, 'user_type': 'registered', 'accept_rate': 72, 'profile_image': 'https://www.gravatar.com/avatar/3313e605d0be3cc6cb7f5ed4f7347c1d?s=256&d=identicon&r=PG&f=y&so-version=2', 'display_name': 'Maramal', 'link': 'https://stackoverflow.com/users/6421288/maramal'}, 'is_answered': False, 'view_count': 18, 'answer_count': 0, 'score': 0, 'last_activity_date': 1759366953, 'creation_date': 1759366953, 'question_id': 79780566, 'content_license': 'CC BY-SA 4.0', 'link': 'https://stackoverflow.com/questions/79780566/microsoft-clarity-does-not-work-on-react-router-v7', 'title': 'Microsoft Clarity does not work on React Router v7'}, {'tags': ['python', 'pip'], 'owner': {'account_id': 2345937, 'reputation': 3694, 'user_id': 2056201, 'user_type': 'registered', 'accept_rate': 23, 'profile_image': 'https://www.gravatar.com/avatar/bba9995d4071b28c1f54bcb8ae03a1f2?s=256&d=identicon&r=PG', 'display_name': 'Mich', 'link': 'https://stackoverflow.com/users/2056201/mich'}, 'is_answered': True, 'view_count': 44, 'answer_count': 2, 'score': 2, 'last_activity_date': 1759370366, 'creation_date': 1759366393, 'question_id': 79780565, 'content_license': 'CC BY-SA 4.0', 'link': 'https://stackoverflow.com/questions/79780565/python-cannot-install-torch', 'title': 'Python cannot install torch'}, {'tags': ['flutter'], 'owner': {'account_id': 14052833, 'reputation': 1438, 'user_id': 10151066, 'user_type': 'registered', 'profile_image': 'https://www.gravatar.com/avatar/77438ca2e253c4463b5ad173b1c8cf79?s=256&d=identicon&r=PG&f=y&so-version=2', 'display_name': 'flutroid', 'link': 'https://stackoverflow.com/users/10151066/flutroid'}, 'is_answered': False, 'view_count': 23, 'answer_count': 0, 'score': 0, 'last_activity_date': 1759368245, 'creation_date': 1759365598, 'last_edit_date': 1759368245, 'question_id': 79780561, 'content_license': 'CC BY-SA 4.0', 'link': 'https://stackoverflow.com/questions/79780561/how-to-make-carouselview-match-child-height-in-flutter', 'title': 'How to make CarouselView match child height in flutter?'}, {'tags': ['wso2', 'wso2-api-manager'], 'owner': {'account_id': 44167425, 'reputation': 1, 'user_id': 31612221, 'user_type': 'registered', 'profile_image': 'https://www.gravatar.com/avatar/1f39d0724aadcae1eb50dc78378368ef?s=256&d=identicon&r=PG&f=y&so-version=2', 'display_name': 'Alessandro Bertozzi', 'link': 'https://stackoverflow.com/users/31612221/alessandro-bertozzi'}, 'is_answered': False, 'view_count': 31, 'answer_count': 0, 'score': 0, 'last_activity_date': 1759364949, 'creation_date': 1759364949, 'question_id': 79780557, 'content_license': 'CC BY-SA 4.0', 'link': 'https://stackoverflow.com/questions/79780557/how-can-i-include-the-user-email-claim-in-jwt-tokens-in-wso2-api-manager-without', 'title': 'How can I include the user email claim in JWT tokens in WSO2 API Manager without manually editing each Service Provider?'}, {'tags': ['ios', 'swift', 'sqlite', 'in-app-purchase', 'storekit2'], 'owner': {'account_id': 17564018, 'reputation': 21, 'user_id': 12741306, 'user_type': 'registered', 'profile_image': 'https://lh3.googleusercontent.com/-qI59-29FckU/AAAAAAAAAAI/AAAAAAAAAAA/ACHi3rdK5JL3UEGcBdt0FV4thdVUBaWfVA/s256-rj/photo.jpg', 'display_name': 'Shireen Khan', 'link': 'https://stackoverflow.com/users/12741306/shireen-khan'}, 'is_answered': False, 'view_count': 20, 'answer_count': 0, 'score': 0, 'last_activity_date': 1759364451, 'creation_date': 1759364451, 'question_id': 79780555, 'content_license': 'CC BY-SA 4.0', 'link': 'https://stackoverflow.com/questions/79780555/issue-with-storekit-2-in-app-purchases-unfinalized-statements-unfinished-bac', 'title': 'Issue with StoreKit 2 In App Purchases: &quot;unfinalized statements / unfinished backups&quot; SQLite Crash'}, {'tags': ['c++', 'volatile'], 'owner': {'account_id': 15734288, 'reputation': 41, 'user_id': 11353781, 'user_type': 'registered', 'profile_image': 'https://www.gravatar.com/avatar/1f1f762961c6fb8033214ea3b0bbe216?s=256&d=identicon&r=PG&f=y&so-version=2', 'display_name': 'Lee', 'link': 'https://stackoverflow.com/users/11353781/lee'}, 'is_answered': False, 'view_count': 56, 'answer_count': 0, 'score': 0, 'last_activity_date': 1759372062, 'creation_date': 1759363913, 'last_edit_date': 1759372062, 'question_id': 79780552, 'content_license': 'CC BY-SA 4.0', 'link': 'https://stackoverflow.com/questions/79780552/difficulty-reading-volatile-memory', 'title': 'Difficulty reading volatile memory'}, {'tags': ['r', 'ggplot2', 'plot', 'simulation', 'modeling'], 'owner': {'account_id': 44167304, 'reputation': 1, 'user_id': 31612167, 'user_type': 'registered', 'profile_image': 'https://www.gravatar.com/avatar/b36384686d4469215d00a827ce4cdbda?s=256&d=identicon&r=PG&f=y&so-version=2', 'display_name': 'Inaara Rajwani', 'link': 'https://stackoverflow.com/users/31612167/inaara-rajwani'}, 'is_answered': False, 'view_count': 18, 'answer_count': 1, 'score': 0, 'last_activity_date': 1759364227, 'creation_date': 1759363298, 'question_id': 79780551, 'content_license': 'CC BY-SA 4.0', 'link': 'https://stackoverflow.com/questions/79780551/what-is-an-alternative-to-the-curve-function-in-r-for-modeling-and-simulation', 'title': 'What is an alternative to the curve() function in R for modeling and simulation?'}, {'tags': ['react-native', 'expo', 'expo-router'], 'owner': {'account_id': 112990, 'reputation': 3561, 'user_id': 297824, 'user_type': 'registered', 'accept_rate': 76, 'profile_image': 'https://www.gravatar.com/avatar/d1cf72408e13e38a3bf918413f762e94?s=256&d=identicon&r=PG', 'display_name': 'T3db0t', 'link': 'https://stackoverflow.com/users/297824/t3db0t'}, 'is_answered': False, 'view_count': 14, 'answer_count': 0, 'score': 0, 'last_activity_date': 1759363104, 'creation_date': 1759363104, 'question_id': 79780550, 'content_license': 'CC BY-SA 4.0', 'link': 'https://stackoverflow.com/questions/79780550/expo-router-animationtypeforreplace-pop-is-not-respected', 'title': 'Expo-Router: animationTypeForReplace: &quot;pop&quot; is not respected'}, {'tags': ['vb.net', 'outlook', 'oauth', 'microsoft-graph-api', 'mailkit'], 'owner': {'account_id': 32352389, 'reputation': 1, 'user_id': 25127946, 'user_type': 'registered', 'profile_image': 'https://www.gravatar.com/avatar/c48f3b028a0eebff8e03340c30b3a1dd?s=256&d=identicon&r=PG&f=y&so-version=2', 'display_name': '8bitdev', 'link': 'https://stackoverflow.com/users/25127946/8bitdev'}, 'is_answered': False, 'view_count': 21, 'answer_count': 0, 'score': 0, 'last_activity_date': 1759362947, 'creation_date': 1759362947, 'question_id': 79780549, 'content_license': 'CC BY-SA 4.0', 'link': 'https://stackoverflow.com/questions/79780549/vb-net-535-5-7-3-authentication-unsuccessful-error-when-trying-to-send-mails', 'title': 'VB.NET: &#39;535: 5.7.3 Authentication unsuccessful&#39; error when trying to send mails using OAuth from an Outlook free account'}, {'tags': ['go', 'generics'], 'owner': {'account_id': 44167171, 'reputation': 11, 'user_id': 31612116, 'user_type': 'registered', 'profile_image': 'https://www.gravatar.com/avatar/9aff93dc5d71f495f7b1ed4139910353?s=256&d=identicon&r=PG', 'display_name': 'Rob B', 'link': 'https://stackoverflow.com/users/31612116/rob-b'}, 'is_answered': False, 'view_count': 29, 'answer_count': 0, 'score': 1, 'last_activity_date': 1759362621, 'creation_date': 1759362621, 'question_id': 79780546, 'content_license': 'CC BY-SA 4.0', 'link': 'https://stackoverflow.com/questions/79780546/how-to-access-fields-in-a-generic-struct', 'title': 'How to access fields in a generic struct?'}, {'tags': ['java', 'android', 'android-recyclerview', 'listadapter', 'android-diffutils'], 'owner': {'account_id': 11799798, 'reputation': 572, 'user_id': 8633758, 'user_type': 'registered', 'profile_image': 'https://www.gravatar.com/avatar/e14e86a668116b0882a3cd15144fba00?s=256&d=identicon&r=PG&f=y&so-version=2', 'display_name': 'Notsileous', 'link': 'https://stackoverflow.com/users/8633758/notsileous'}, 'is_answered': False, 'view_count': 24, 'answer_count': 0, 'score': 1, 'last_activity_date': 1759362546, 'creation_date': 1759362546, 'question_id': 79780544, 'content_license': 'CC BY-SA 4.0', 'link': 'https://stackoverflow.com/questions/79780544/recycler-view-does-not-update-until-scrolled-when-using-diffutil-and-submitlist', 'title': 'Recycler view does not update until scrolled when using DiffUtil and submitList() with a reversed Array List'}, {'tags': ['flutter', 'riverpod', 'gorouter'], 'owner': {'account_id': 26879555, 'reputation': 71, 'user_id': 20460232, 'user_type': 'registered', 'profile_image': 'https://www.gravatar.com/avatar/19dd73af8ba7ffed299ae4840a1a713f?s=256&d=identicon&r=PG', 'display_name': 'ilyasDev', 'link': 'https://stackoverflow.com/users/20460232/ilyasdev'}, 'is_answered': False, 'view_count': 16, 'answer_count': 0, 'score': 0, 'last_activity_date': 1759361920, 'creation_date': 1759361920, 'question_id': 79780541, 'content_license': 'CC BY-SA 4.0', 'link': 'https://stackoverflow.com/questions/79780541/gorouter-redirect-to-initiallocation-after-riverpod-rebuild', 'title': 'GoRouter redirect to initialLocation after riverpod rebuild'}, {'tags': ['git', 'git-am'], 'owner': {'account_id': 4865492, 'reputation': 49046, 'user_id': 3923896, 'user_type': 'registered', 'accept_rate': 69, 'profile_image': 'https://i.sstatic.net/AcZuX.png?s=256', 'display_name': 'Steve Summit', 'link': 'https://stackoverflow.com/users/3923896/steve-summit'}, 'is_answered': False, 'view_count': 15, 'answer_count': 0, 'score': 0, 'last_activity_date': 1759362340, 'creation_date': 1759361892, 'last_edit_date': 1759362340, 'question_id': 79780540, 'content_license': 'CC BY-SA 4.0', 'link': 'https://stackoverflow.com/questions/79780540/how-to-properly-resolve-and-commit-conflicts-with-git-am-reject', 'title': 'how to properly resolve and commit conflicts with git am --reject?'}, {'tags': ['r'], 'owner': {'account_id': 41672249, 'reputation': 143, 'user_id': 30397791, 'user_type': 'registered', 'profile_image': 'https://www.gravatar.com/avatar/176df76a95272b8f9087b2bb9efd4baf?s=256&d=identicon&r=PG&f=y&so-version=2', 'display_name': 'user30397791', 'link': 'https://stackoverflow.com/users/30397791/user30397791'}, 'is_answered': False, 'view_count': 25, 'answer_count': 1, 'score': 0, 'last_activity_date': 1759362765, 'creation_date': 1759361155, 'question_id': 79780537, 'content_license': 'CC BY-SA 4.0', 'link': 'https://stackoverflow.com/questions/79780537/remove-all-rows-from-data-frame-that-contain-a-value-without-specifying-column-n', 'title': 'Remove all rows from data frame that contain a value without specifying column names in R'}, {'tags': ['python', 'html', 'streamlit', 'web-development-server'], 'owner': {'account_id': 44166862, 'reputation': 1, 'user_id': 31611993, 'user_type': 'registered', 'profile_image': 'https://www.gravatar.com/avatar/f133f6197187b23ea5bb543d36d79daa?s=256&d=identicon&r=PG&f=y&so-version=2', 'display_name': 'Karthik Chandran', 'link': 'https://stackoverflow.com/users/31611993/karthik-chandran'}, 'is_answered': False, 'view_count': 14, 'closed_date': 1759368227, 'answer_count': 1, 'score': -1, 'last_activity_date': 1759368044, 'creation_date': 1759361070, 'last_edit_date': 1759364070, 'question_id': 79780536, 'link': 'https://stackoverflow.com/questions/79780536/in-streamlit-how-do-i-create-a-one-time-touch-button', 'closed_reason': 'Not suitable for this site', 'title': 'In streamlit how do I create a one time touch button'}, {'tags': ['xcode', 'macos', 'icloud', 'xcode-project'], 'owner': {'account_id': 29430897, 'reputation': 1, 'user_id': 22550636, 'user_type': 'registered', 'profile_image': 'https://www.gravatar.com/avatar/94522a611f8e06d4cdbc3936be9abcce?s=256&d=identicon&r=PG&f=y&so-version=2', 'display_name': 'Paxton W', 'link': 'https://stackoverflow.com/users/22550636/paxton-w'}, 'is_answered': False, 'view_count': 11, 'answer_count': 0, 'score': -1, 'last_activity_date': 1759359753, 'creation_date': 1759359753, 'question_id': 79780530, 'content_license': 'CC BY-SA 4.0', 'link': 'https://stackoverflow.com/questions/79780530/xcode-project-in-icloud-drive-causes-the-file-documents-doesn-t-exist-error', 'title': 'Xcode project in iCloud Drive causes “The file ‘Documents’ doesn’t exist” error loop'}, {'tags': ['javascript', 'mineflayer'], 'owner': {'account_id': 30390067, 'reputation': 1, 'user_id': 23289018, 'user_type': 'registered', 'profile_image': 'https://lh3.googleusercontent.com/a/ACg8ocKvy0f15Ebge8_frAdo-K0c5DYe4h0u76Fw8EoMiTNC=k-s256', 'display_name': 'TrueFaxx', 'link': 'https://stackoverflow.com/users/23289018/truefaxx'}, 'is_answered': False, 'view_count': 17, 'answer_count': 0, 'score': -1, 'last_activity_date': 1759359300, 'creation_date': 1759359300, 'question_id': 79780529, 'content_license': 'CC BY-SA 4.0', 'link': 'https://stackoverflow.com/questions/79780529/mineflayer-assistance-with-block-interactions', 'title': 'Mineflayer assistance with block interactions'}, {'tags': ['algorithm', 'matrix'], 'owner': {'account_id': 14359873, 'reputation': 27, 'user_id': 17937186, 'user_type': 'registered', 'profile_image': 'https://www.gravatar.com/avatar/ded00046350a3c9124e0a9bab4b55d77?s=256&d=identicon&r=PG&f=y&so-version=2', 'display_name': 'wya', 'link': 'https://stackoverflow.com/users/17937186/wya'}, 'is_answered': False, 'view_count': 44, 'answer_count': 1, 'score': 0, 'last_activity_date': 1759360559, 'creation_date': 1759358580, 'last_edit_date': 1759360559, 'question_id': 79780527, 'content_license': 'CC BY-SA 4.0', 'link': 'https://stackoverflow.com/questions/79780527/how-to-find-a-safe-path-in-a-room-where-tiles-increase-in-height-each-step', 'title': 'How to find a safe path in a room where tiles increase in height each step?'}, {'tags': ['optimization', 'gams-math'], 'owner': {'account_id': 17120194, 'reputation': 89, 'user_id': 12388609, 'user_type': 'registered', 'profile_image': 'https://www.gravatar.com/avatar/a4a337a2eb2436c14dac8b0d41f9cd48?s=256&d=identicon&r=PG&f=y&so-version=2', 'display_name': 'mexicanseafood', 'link': 'https://stackoverflow.com/users/12388609/mexicanseafood'}, 'is_answered': False, 'view_count': 21, 'closed_date': 1759361110, 'answer_count': 0, 'score': -4, 'last_activity_date': 1759358128, 'creation_date': 1759358128, 'question_id': 79780522, 'link': 'https://stackoverflow.com/questions/79780522/gams-to-gamspy-easy-converision', 'closed_reason': 'Needs more focus', 'title': 'GAMS to GAMSPY easy converision'}, {'tags': ['r', 'group-by'], 'owner': {'account_id': 17244476, 'reputation': 305, 'user_id': 12486623, 'user_type': 'registered', 'profile_image': 'https://www.gravatar.com/avatar/856ae7db64f524af06a6afc85cc8b4d9?s=256&d=identicon&r=PG&f=y&so-version=2', 'display_name': 'ZayzayR', 'link': 'https://stackoverflow.com/users/12486623/zayzayr'}, 'is_answered': False, 'view_count': 32, 'answer_count': 1, 'score': 0, 'last_activity_date': 1759363814, 'creation_date': 1759357719, 'question_id': 79780518, 'content_license': 'CC BY-SA 4.0', 'link': 'https://stackoverflow.com/questions/79780518/r-arrange-after-grouping', 'title': 'R arrange after grouping'}, {'tags': ['windows', 'ssl', 'raspberry-pi', 'synchronization', 'nextcloud'], 'owner': {'account_id': 12995441, 'reputation': 39, 'user_id': 9393272, 'user_type': 'registered', 'profile_image': 'https://www.gravatar.com/avatar/8223b040cd29589d8e1b3cdfbec99126?s=256&d=identicon&r=PG&f=y&so-version=2', 'display_name': 'Jorge D', 'link': 'https://stackoverflow.com/users/9393272/jorge-d'}, 'is_answered': False, 'view_count': 11, 'closed_date': 1759365211, 'answer_count': 0, 'score': -2, 'last_activity_date': 1759357696, 'creation_date': 1759357696, 'question_id': 79780517, 'link': 'https://stackoverflow.com/questions/79780517/how-to-provide-the-safe-certificate-required-by-nextcloud-sync-client-version-3', 'closed_reason': 'Not suitable for this site', 'title': 'How to provide the safe certificate required by Nextcloud sync client version 3.17 for Windows?'}, {'tags': ['javascript', 'google-apps-script', 'gmail-api'], 'owner': {'account_id': 5106713, 'reputation': 133, 'user_id': 4094596, 'user_type': 'registered', 'accept_rate': 33, 'profile_image': 'https://lh3.googleusercontent.com/-v_oGwAVOIP4/AAAAAAAAAAI/AAAAAAAAACw/_1DmkUZZKEs/s256-rj/photo.jpg', 'display_name': 'Mario Moreno Gonz&#225;lez', 'link': 'https://stackoverflow.com/users/4094596/mario-moreno-gonz%c3%a1lez'}, 'is_answered': False, 'view_count': 36, 'answer_count': 1, 'score': -2, 'last_activity_date': 1759357468, 'creation_date': 1759357213, 'last_edit_date': 1759357338, 'question_id': 79780512, 'content_license': 'CC BY-SA 4.0', 'link': 'https://stackoverflow.com/questions/79780512/i-get-a-server-error-please-try-again-later-error-when-calling-the-gmail-api', 'title': 'I get a &quot;Server error. Please try again later&quot; error when calling the Gmail API'}, {'tags': ['docker', 'docker-compose', 'etcd', 'milvus'], 'owner': {'account_id': 6695972, 'reputation': 1696, 'user_id': 5163984, 'user_type': 'registered', 'accept_rate': 93, 'profile_image': 'https://i.sstatic.net/9Yev9.png?s=256', 'display_name': 'Nikolay Baranenko', 'link': 'https://stackoverflow.com/users/5163984/nikolay-baranenko'}, 'is_answered': False, 'view_count': 12, 'closed_date': 1759358927, 'answer_count': 0, 'score': -4, 'last_activity_date': 1759357116, 'creation_date': 1759357116, 'question_id': 79780511, 'link': 'https://stackoverflow.com/questions/79780511/how-change-docker-ip-to-hostname-in-milvus-etcd-address-by-dev-meta-session', 'closed_reason': 'Not suitable for this site', 'title': 'How change docker ip to hostname in milvus etcd Address by-dev/meta/session?'}, {'tags': ['r', 'string', 'replace'], 'owner': {'account_id': 7929701, 'reputation': 1366, 'user_id': 9093302, 'user_type': 'registered', 'profile_image': 'https://www.gravatar.com/avatar/e8dd79991171ba881a6d7a40488f3596?s=256&d=identicon&r=PG&f=y&so-version=2', 'display_name': 'Brian Fisher', 'link': 'https://stackoverflow.com/users/9093302/brian-fisher'}, 'is_answered': True, 'view_count': 26, 'answer_count': 1, 'score': 0, 'last_activity_date': 1759359356, 'creation_date': 1759357098, 'question_id': 79780510, 'content_license': 'CC BY-SA 4.0', 'link': 'https://stackoverflow.com/questions/79780510/replace-part-of-strings-with-corresponding-values-from-table-in-r', 'title': 'Replace part of strings with corresponding values from table in R'}, {'tags': ['typescript', 'azure', 'azure-bot-service'], 'owner': {'account_id': 29431175, 'reputation': 1, 'user_id': 22550866, 'user_type': 'registered', 'profile_image': 'https://lh3.googleusercontent.com/a/ACg8ocKz9_jgOekAF_Vr5Uf_xTqvbCx1BJZfSgvrUomvC0yP=k-s256', 'display_name': 'Mateus Linhares', 'link': 'https://stackoverflow.com/users/22550866/mateus-linhares'}, 'is_answered': False, 'view_count': 14, 'answer_count': 0, 'score': 0, 'last_activity_date': 1759356769, 'creation_date': 1759356769, 'question_id': 79780508, 'content_license': 'CC BY-SA 4.0', 'link': 'https://stackoverflow.com/questions/79780508/teamsinfo-getmember-returns-unauthorized-in-microsoft-teams-bot', 'title': '&quot;TeamsInfo.getMember returns Unauthorized in Microsoft Teams bot&quot;'}, {'tags': ['delphi', 'icons', 'timagelist'], 'owner': {'account_id': 420191, 'reputation': 35, 'user_id': 797769, 'user_type': 'registered', 'profile_image': 'https://www.gravatar.com/avatar/73a10568e30ef8fac39be9dc5364e61a?s=256&d=identicon&r=PG', 'display_name': 'natraj', 'link': 'https://stackoverflow.com/users/797769/natraj'}, 'is_answered': True, 'view_count': 28, 'accepted_answer_id': 79780509, 'answer_count': 1, 'score': 1, 'last_activity_date': 1759360224, 'creation_date': 1759356019, 'question_id': 79780505, 'content_license': 'CC BY-SA 4.0', 'link': 'https://stackoverflow.com/questions/79780505/add-icon-to-imagelist-without-duplicates', 'title': 'Add Icon to ImageList without Duplicates'}, {'tags': ['excel', 'data-analysis'], 'owner': {'account_id': 22235500, 'reputation': 9, 'user_id': 16470952, 'user_type': 'registered', 'profile_image': 'https://www.gravatar.com/avatar/6a0eb4eb71cf81d1678ec200fae6cbb4?s=256&d=identicon&r=PG&f=y&so-version=2', 'display_name': 'Buchi', 'link': 'https://stackoverflow.com/users/16470952/buchi'}, 'is_answered': False, 'view_count': 28, 'closed_date': 1759355629, 'answer_count': 0, 'score': -6, 'last_activity_date': 1759355351, 'creation_date': 1759355351, 'question_id': 79780499, 'link': 'https://stackoverflow.com/questions/79780499/how-do-standard-deviation-and-quartiles-help-us-understand-a-dataset', 'closed_reason': 'Not suitable for this site', 'title': 'How Do Standard Deviation and Quartiles Help Us Understand a Dataset?'}, {'tags': ['ios', 'flutter', 'firebase', 'firebase-app-check'], 'owner': {'account_id': 30259905, 'reputation': 480, 'user_id': 23190147, 'user_type': 'registered', 'profile_image': 'https://www.gravatar.com/avatar/07992803be60cdf6c3193f438ca21164?s=256&d=identicon&r=PG&f=y&so-version=2', 'display_name': '5rod', 'link': 'https://stackoverflow.com/users/23190147/5rod'}, 'is_answered': False, 'view_count': 21, 'answer_count': 0, 'score': 0, 'last_activity_date': 1759368440, 'creation_date': 1759355206, 'last_edit_date': 1759368440, 'question_id': 79780495, 'content_license': 'CC BY-SA 4.0', 'link': 'https://stackoverflow.com/questions/79780495/why-does-firebase-app-check-think-that-my-app-is-not-registered', 'title': 'Why does Firebase App Check think that my app is not registered?'}, {'tags': ['c#', 'bouncycastle', 'openpgp'], 'owner': {'account_id': 16692869, 'reputation': 113, 'user_id': 12064991, 'user_type': 'registered', 'profile_image': 'https://www.gravatar.com/avatar/27706c1170a1e725051758de8d7db541?s=256&d=identicon&r=PG&f=y&so-version=2', 'display_name': 'Shane', 'link': 'https://stackoverflow.com/users/12064991/shane'}, 'is_answered': False, 'view_count': 19, 'answer_count': 0, 'score': 0, 'last_activity_date': 1759354715, 'creation_date': 1759354715, 'question_id': 79780490, 'content_license': 'CC BY-SA 4.0', 'link': 'https://stackoverflow.com/questions/79780490/how-to-pgp-decrypt-a-file-that-uses-aead-with-bouncy-castle', 'title': 'How to PGP decrypt a file that uses AEAD with bouncy castle?'}, {'tags': ['ssl', 'rust', 'private-key'], 'owner': {'account_id': 14812560, 'reputation': 162, 'user_id': 12634797, 'user_type': 'registered', 'profile_image': 'https://www.gravatar.com/avatar/063fdee69a90d4a9c518dbbac01b7ceb?s=256&d=identicon&r=PG&f=y&so-version=2', 'display_name': 'mwolfe 11', 'link': 'https://stackoverflow.com/users/12634797/mwolfe-11'}, 'is_answered': False, 'view_count': 9, 'answer_count': 0, 'score': 0, 'last_activity_date': 1759354663, 'creation_date': 1759354663, 'question_id': 79780489, 'content_license': 'CC BY-SA 4.0', 'link': 'https://stackoverflow.com/questions/79780489/with-rust-pki-types-reading-private-key-from-file-throws-errornoitemsfound', 'title': 'With rust_pki_types, reading private key from file throws Error::NoItemsFound'}, {'tags': ['html', 'css'], 'owner': {'account_id': 44166420, 'reputation': 1, 'user_id': 31611806, 'user_type': 'registered', 'profile_image': 'https://www.gravatar.com/avatar/263f08ff50caefa38330e81cb395f5bb?s=256&d=identicon&r=PG&f=y&so-version=2', 'display_name': 'alaska22', 'link': 'https://stackoverflow.com/users/31611806/alaska22'}, 'is_answered': False, 'view_count': 31, 'answer_count': 0, 'score': -1, 'last_activity_date': 1759354615, 'creation_date': 1759354337, 'last_edit_date': 1759354615, 'question_id': 79780488, 'content_license': 'CC BY-SA 4.0', 'link': 'https://stackoverflow.com/questions/79780488/how-to-get-images-on-html-site-to-stay-in-position-relative-to-background-image', 'title': 'How to get images on HTML site to stay in position relative to background image as it scales across screen sizes?'}, {'tags': ['c#', 'docker', 'docker-compose', 'blazor', 'blazor-webassembly'], 'owner': {'account_id': 17538143, 'reputation': 473, 'user_id': 12720807, 'user_type': 'registered', 'profile_image': 'https://lh5.googleusercontent.com/-Xle2nyJowns/AAAAAAAAAAI/AAAAAAAAAAA/ACHi3recJtsLAiq5sKrFLZi7P-O24M5SXQ/s256-rj/photo.jpg', 'display_name': 'Daniel Kelsch', 'link': 'https://stackoverflow.com/users/12720807/daniel-kelsch'}, 'is_answered': False, 'view_count': 13, 'answer_count': 0, 'score': 0, 'last_activity_date': 1759354027, 'creation_date': 1759354027, 'question_id': 79780486, 'content_license': 'CC BY-SA 4.0', 'link': 'https://stackoverflow.com/questions/79780486/debugging-not-working-with-blazor-wasm-app-served-though-mvc-app-when-ran-throug', 'title': 'Debugging Not Working With Blazor Wasm App Served Though MVC App When Ran Through Docker-Compose'}, {'tags': ['visual-studio', 'maui', 'maui-windows'], 'owner': {'account_id': 377829, 'reputation': 12118, 'user_id': 730194, 'user_type': 'registered', 'accept_rate': 61, 'profile_image': 'https://www.gravatar.com/avatar/fb75af7a871d88919d9cc7c0c9e687e9?s=256&d=identicon&r=PG', 'display_name': 'Peter', 'link': 'https://stackoverflow.com/users/730194/peter'}, 'is_answered': False, 'view_count': 10, 'answer_count': 0, 'score': 0, 'last_activity_date': 1759353612, 'creation_date': 1759353612, 'question_id': 79780483, 'content_license': 'CC BY-SA 4.0', 'link': 'https://stackoverflow.com/questions/79780483/how-to-reference-native-c-dll-in-a-net-maui-project', 'title': 'How to reference native C++ DLL in a .NET MAUI project?'}, {'tags': ['google-drive-api', 'chatgpt-api'], 'owner': {'account_id': 6408296, 'reputation': 19, 'user_id': 4968797, 'user_type': 'registered', 'profile_image': 'https://www.gravatar.com/avatar/1e7ae81469edcb6b7cee639782ccb785?s=256&d=identicon&r=PG&f=y&so-version=2', 'display_name': 'willy3cub', 'link': 'https://stackoverflow.com/users/4968797/willy3cub'}, 'is_answered': False, 'view_count': 23, 'closed_date': 1759365925, 'answer_count': 0, 'score': -2, 'last_activity_date': 1759353010, 'creation_date': 1759353010, 'question_id': 79780477, 'link': 'https://stackoverflow.com/questions/79780477/custom-chat-gpt-failed-to-download-a-file-on-google-drive-with-api', 'closed_reason': 'Not suitable for this site', 'title': 'Custom Chat GPT failed to download a file on Google drive with API'}, {'tags': ['sql-server-2022'], 'owner': {'account_id': 23949229, 'reputation': 1, 'user_id': 17941112, 'user_type': 'registered', 'profile_image': 'https://www.gravatar.com/avatar/8dc9b8be7aa70489185457d9cc17d653?s=256&d=identicon&r=PG&f=y&so-version=2', 'display_name': 'Saif', 'link': 'https://stackoverflow.com/users/17941112/saif'}, 'is_answered': False, 'view_count': 8, 'closed_date': 1759366550, 'answer_count': 0, 'score': 0, 'last_activity_date': 1759352484, 'creation_date': 1759352484, 'question_id': 79780474, 'link': 'https://stackoverflow.com/questions/79780474/sql-server-2022-setup-fails-mof-compiler-cannot-connect-to-wmi-server-perflib', 'closed_reason': 'Not suitable for this site', 'title': 'SQL Server 2022 setup fails: MOF compiler cannot connect to WMI server &amp; PerfLib 2.0 counter removal failed'}, {'tags': ['jenkins', 'jenkins-shared-libraries'], 'owner': {'account_id': 30025581, 'reputation': 143, 'user_id': 23009910, 'user_type': 'registered', 'profile_image': 'https://lh3.googleusercontent.com/a/ACg8ocJIfzaihF9TUZfiuhVxn1Inpp71oRIcvBCTCmq8p4Flzw=k-s256', 'display_name': 'OmniZ', 'link': 'https://stackoverflow.com/users/23009910/omniz'}, 'is_answered': False, 'view_count': 4, 'answer_count': 0, 'score': 0, 'last_activity_date': 1759352461, 'creation_date': 1759352461, 'question_id': 79780473, 'content_license': 'CC BY-SA 4.0', 'link': 'https://stackoverflow.com/questions/79780473/in-jenkins-how-do-i-import-some-but-not-all-functions-from-shared-library-var', 'title': 'In Jenkins, how do I import some, but not all, functions from shared library vars folder?'}, {'tags': ['swift', 'swiftui'], 'owner': {'account_id': 19852040, 'reputation': 1653, 'user_id': 14542345, 'user_type': 'registered', 'profile_image': 'https://www.gravatar.com/avatar/d0dc7b5ad9f1809a9fb9df1d9a481f35?s=256&d=identicon&r=PG&f=y&so-version=2', 'display_name': 'viedev', 'link': 'https://stackoverflow.com/users/14542345/viedev'}, 'is_answered': False, 'view_count': 17, 'answer_count': 1, 'score': 0, 'last_activity_date': 1759365790, 'creation_date': 1759352302, 'last_edit_date': 1759352956, 'question_id': 79780469, 'content_license': 'CC BY-SA 4.0', 'link': 'https://stackoverflow.com/questions/79780469/attributedstring-mixed-attributes-get-overwritten', 'title': 'AttributedString: Mixed attributes get overwritten'}, {'tags': ['google-sheets', 'google-apps-script', 'custom-function'], 'owner': {'account_id': 30427428, 'reputation': 11, 'user_id': 23317371, 'user_type': 'registered', 'profile_image': 'https://www.gravatar.com/avatar/9d4d8e3f5f445b2cd0e4e95e93648962?s=256&d=identicon&r=PG&f=y&so-version=2', 'display_name': 'Teens', 'link': 'https://stackoverflow.com/users/23317371/teens'}, 'is_answered': False, 'view_count': 15, 'answer_count': 1, 'score': -1, 'last_activity_date': 1759372380, 'creation_date': 1759352229, 'last_edit_date': 1759372159, 'question_id': 79780468, 'content_license': 'CC BY-SA 4.0', 'link': 'https://stackoverflow.com/questions/79780468/apps-script-permissions-error-get-sheet-url', 'title': 'Apps Script: Permissions Error: Get Sheet URL'}, {'tags': ['r', 'ggplot2'], 'owner': {'account_id': 44165173, 'reputation': 11, 'user_id': 31611212, 'user_type': 'registered', 'profile_image': 'https://www.gravatar.com/avatar/4377a1c542faf19dc3b3d3d95bcacc95?s=256&d=identicon&r=PG&f=y&so-version=2', 'display_name': 'user31611212', 'link': 'https://stackoverflow.com/users/31611212/user31611212'}, 'is_answered': False, 'view_count': 32, 'answer_count': 1, 'score': 0, 'last_activity_date': 1759356713, 'creation_date': 1759352107, 'question_id': 79780466, 'content_license': 'CC BY-SA 4.0', 'link': 'https://stackoverflow.com/questions/79780466/create-plot-in-r-with-multiple-y-variables-and-two-lines-on-one-axis', 'title': 'Create plot in R with multiple y variables and two lines on one axis'}, {'tags': ['windows', 'git', 'git-bash', 'pwd'], 'owner': {'account_id': 10903108, 'reputation': 2098, 'user_id': 8014824, 'user_type': 'registered', 'profile_image': 'https://www.gravatar.com/avatar/4b35612f8a1d89273608818a662d2838?s=256&d=identicon&r=PG&f=y&so-version=2', 'display_name': 'Dennis', 'link': 'https://stackoverflow.com/users/8014824/dennis'}, 'is_answered': False, 'view_count': 13, 'answer_count': 0, 'score': -1, 'last_activity_date': 1759372277, 'creation_date': 1759351938, 'last_edit_date': 1759372277, 'question_id': 79780463, 'content_license': 'CC BY-SA 4.0', 'link': 'https://stackoverflow.com/questions/79780463/how-do-i-refer-to-current-path-in-git-config-using-gnu-bash', 'title': 'How do I refer to current path in Git config using GNU bash?'}, {'tags': ['c++', 'rust'], 'owner': {'account_id': 28695553, 'reputation': 1, 'user_id': 21973850, 'user_type': 'registered', 'profile_image': 'https://www.gravatar.com/avatar/73e455779e100643c0251d65c06e188b?s=256&d=identicon&r=PG&f=y&so-version=2', 'display_name': 'fjavier72', 'link': 'https://stackoverflow.com/users/21973850/fjavier72'}, 'is_answered': False, 'view_count': 91, 'closed_date': 1759352021, 'answer_count': 0, 'score': -7, 'last_activity_date': 1759351841, 'creation_date': 1759351841, 'question_id': 79780461, 'link': 'https://stackoverflow.com/questions/79780461/is-c-really-that-unsafe', 'closed_reason': 'Opinion-based', 'title': 'Is C++ really that unsafe?'}, {'tags': ['steam', 'unreal-engine5', 'blueprint'], 'owner': {'account_id': 19381373, 'reputation': 41, 'user_id': 14172565, 'user_type': 'registered', 'profile_image': 'https://www.gravatar.com/avatar/6c5057686075893db7fde65f0bc857d4?s=256&d=identicon&r=PG&f=y&so-version=2', 'display_name': 'Bn&#39;R', 'link': 'https://stackoverflow.com/users/14172565/bnr'}, 'is_answered': False, 'view_count': 8, 'closed_date': 1759365193, 'answer_count': 0, 'score': 0, 'last_activity_date': 1759351811, 'creation_date': 1759351811, 'question_id': 79780460, 'link': 'https://stackoverflow.com/questions/79780460/steam-integration-kit-unreal-engine-5', 'closed_reason': 'Not suitable for this site', 'title': 'steam integration kit unreal engine 5'}, {'tags': ['amazon-web-services', 'cloud', 'strongswan', 'libreswan'], 'owner': {'account_id': 44165971, 'reputation': 1, 'user_id': 31611622, 'user_type': 'registered', 'profile_image': 'https://www.gravatar.com/avatar/1a3f5d9fd7af259d088ddd172aebd872?s=256&d=identicon&r=PG&f=y&so-version=2', 'display_name': 'khady lo seck', 'link': 'https://stackoverflow.com/users/31611622/khady-lo-seck'}, 'is_answered': False, 'view_count': 14, 'closed_date': 1759361318, 'answer_count': 0, 'score': -2, 'last_activity_date': 1759351249, 'creation_date': 1759351249, 'question_id': 79780455, 'link': 'https://stackoverflow.com/questions/79780455/tunnel-configuration-for-side-to-side-vpn-set-up', 'closed_reason': 'Not suitable for this site', 'title': 'Tunnel Configuration for side to side vpn set up'}, {'tags': ['c++', 'multiple-inheritance'], 'owner': {'account_id': 3932743, 'reputation': 233, 'user_id': 3250528, 'user_type': 'registered', 'accept_rate': 25, 'profile_image': 'https://www.gravatar.com/avatar/3c8d4f2acd0e3ee503592eebb0c3f7a4?s=256&d=identicon&r=PG&f=y&so-version=2', 'display_name': 'SuperBald', 'link': 'https://stackoverflow.com/users/3250528/superbald'}, 'is_answered': True, 'view_count': 103, 'answer_count': 2, 'score': 5, 'last_activity_date': 1759353722, 'creation_date': 1759351059, 'last_edit_date': 1759353722, 'question_id': 79780452, 'content_license': 'CC BY-SA 4.0', 'link': 'https://stackoverflow.com/questions/79780452/this-pointer-in-multiple-inheritance-of-c-class', 'title': '&#39;this&#39; pointer in multiple inheritance of C++ class'}, {'tags': ['python', 'unix', 'pyspark'], 'owner': {'account_id': 22266266, 'reputation': 31, 'user_id': 16497016, 'user_type': 'registered', 'profile_image': 'https://lh3.googleusercontent.com/a/AATXAJzPRe8dQcDqjzagUjgHOMnzfEt0gOeNb82bJLyL=k-s256', 'display_name': 'Th333w1', 'link': 'https://stackoverflow.com/users/16497016/th333w1'}, 'is_answered': False, 'view_count': 22, 'closed_date': 1759369794, 'answer_count': 0, 'score': -4, 'last_activity_date': 1759352549, 'creation_date': 1759350990, 'last_edit_date': 1759352549, 'question_id': 79780451, 'link': 'https://stackoverflow.com/questions/79780451/spark-session-session', 'closed_reason': 'Needs details or clarity', 'title': 'Spark session session'}, {'tags': ['python', 'embedded', 'artificial-intelligence', 'vectorization', 'embedding'], 'owner': {'account_id': 15824435, 'reputation': 1, 'user_id': 11417816, 'user_type': 'registered', 'profile_image': 'https://www.gravatar.com/avatar/cc840a20af14f1dcf9a74b3996789dd7?s=256&d=identicon&r=PG&f=y&so-version=2', 'display_name': 'Martin G', 'link': 'https://stackoverflow.com/users/11417816/martin-g'}, 'is_answered': False, 'view_count': 20, 'answer_count': 0, 'score': -1, 'last_activity_date': 1759350449, 'creation_date': 1759350449, 'question_id': 79780448, 'content_license': 'CC BY-SA 4.0', 'link': 'https://stackoverflow.com/questions/79780448/i-want-to-add-words-in-a-vector-db-with-a-embedding-model-never-be-trained-wit', 'title': 'i want to add &quot;words&quot; in a vector DB with a Embedding model never be trained with those &quot;words&quot;'}, {'tags': ['blazor', 'stripe-payments', 'blazor-webassembly'], 'owner': {'account_id': 1886091, 'reputation': 30954, 'user_id': 1705266, 'user_type': 'registered', 'accept_rate': 77, 'profile_image': 'https://i.sstatic.net/eV8wY.png?s=256', 'display_name': 'Sam', 'link': 'https://stackoverflow.com/users/1705266/sam'}, 'is_answered': False, 'view_count': 20, 'answer_count': 0, 'score': 0, 'last_activity_date': 1759350374, 'creation_date': 1759350374, 'question_id': 79780447, 'content_license': 'CC BY-SA 4.0', 'link': 'https://stackoverflow.com/questions/79780447/detecting-url-changes-in-iframe-in-blazor', 'title': 'Detecting URL changes in iframe in Blazor'}, {'tags': ['office365'], 'owner': {'account_id': 44165949, 'reputation': 1, 'user_id': 31611614, 'user_type': 'registered', 'profile_image': 'https://www.gravatar.com/avatar/1a120d3e50ee3807a9f96e1c41c4b42f?s=256&d=identicon&r=PG&f=y&so-version=2', 'display_name': 'xanadian9', 'link': 'https://stackoverflow.com/users/31611614/xanadian9'}, 'is_answered': False, 'view_count': 13, 'closed_date': 1759351119, 'answer_count': 0, 'score': -4, 'last_activity_date': 1759350284, 'creation_date': 1759350284, 'question_id': 79780445, 'link': 'https://stackoverflow.com/questions/79780445/brand-new-user-cannot-log-into-m365-says-password-is-incorrect', 'closed_reason': 'Not suitable for this site', 'title': 'Brand new user cannot log into M365, says password is incorrect'}, {'tags': ['visual-studio-code', 'p5.js'], 'owner': {'account_id': 44160097, 'reputation': 1, 'user_id': 31608530, 'user_type': 'registered', 'profile_image': 'https://www.gravatar.com/avatar/1486ffaf6654bc376897c64d934b6e95?s=256&d=identicon&r=PG&f=y&so-version=2', 'display_name': 'LETTUCECOMPLEX', 'link': 'https://stackoverflow.com/users/31608530/lettucecomplex'}, 'is_answered': False, 'view_count': 12, 'answer_count': 0, 'score': 0, 'last_activity_date': 1759349966, 'creation_date': 1759349966, 'question_id': 79780444, 'content_license': 'CC BY-SA 4.0', 'link': 'https://stackoverflow.com/questions/79780444/using-vscode-for-p5-js-but-live-server-always-shows-up-blank', 'title': 'Using Vscode for P5.js but live server always shows up blank'}, {'tags': ['javascript', 'angular'], 'owner': {'account_id': 240821, 'reputation': 2508, 'user_id': 511273, 'user_type': 'registered', 'accept_rate': 42, 'profile_image': 'https://www.gravatar.com/avatar/fb1efcad9bb707d1396bf86f56438fe0?s=256&d=identicon&r=PG', 'display_name': 'Bluebaron', 'link': 'https://stackoverflow.com/users/511273/bluebaron'}, 'is_answered': False, 'view_count': 31, 'closed_date': 1759356377, 'answer_count': 0, 'score': -2, 'last_activity_date': 1759349943, 'creation_date': 1759349943, 'question_id': 79780443, 'link': 'https://stackoverflow.com/questions/79780443/removealllisteners-not-provided-in-one-project-but-is-provided-in-another', 'closed_reason': 'Needs details or clarity', 'title': 'removeAllListeners not provided in one project but is provided in another'}, {'tags': ['php'], 'owner': {'account_id': 44165466, 'reputation': 1, 'user_id': 31611375, 'user_type': 'registered', 'profile_image': 'https://www.gravatar.com/avatar/46c2f49d55c5d60824ebc66e88b28b2f?s=256&d=identicon&r=PG&f=y&so-version=2', 'display_name': 'OnceUpon', 'link': 'https://stackoverflow.com/users/31611375/onceupon'}, 'is_answered': False, 'view_count': 25, 'answer_count': 0, 'score': -6, 'last_activity_date': 1759350712, 'creation_date': 1759349737, 'last_edit_date': 1759350712, 'question_id': 79780439, 'content_license': 'CC BY-SA 4.0', 'link': 'https://stackoverflow.com/questions/79780439/api-failed-to-open-stream-connection-refused', 'title': 'API failed to open stream: connection refused'}, {'tags': ['linkedin-api'], 'owner': {'account_id': 44165158, 'reputation': 1, 'user_id': 31611205, 'user_type': 'registered', 'profile_image': 'https://www.gravatar.com/avatar/517a24fcf1c097123e24872475aabb53?s=256&d=identicon&r=PG&f=y&so-version=2', 'display_name': 'Andro IDE', 'link': 'https://stackoverflow.com/users/31611205/andro-ide'}, 'is_answered': False, 'view_count': 6, 'answer_count': 0, 'score': 0, 'last_activity_date': 1759349701, 'creation_date': 1759349701, 'question_id': 79780437, 'content_license': 'CC BY-SA 4.0', 'link': 'https://stackoverflow.com/questions/79780437/linkedin-marketing-api-how-to-filter-adcampaigns-by-multiple-statuses-using-sea', 'title': 'LinkedIn Marketing API: How to filter adCampaigns by multiple statuses using search parameter without 400 error?'}, {'tags': ['ios', 'payment', 'apple-developer', 'apple-developer-enterprise'], 'owner': {'account_id': 11568709, 'reputation': 65, 'user_id': 8476100, 'user_type': 'registered', 'profile_image': 'https://lh5.googleusercontent.com/-h2R-rosfcgg/AAAAAAAAAAI/AAAAAAAAAOY/bwawONOnBKs/s256-rj/photo.jpg', 'display_name': 'IMAD UL-HASSAN', 'link': 'https://stackoverflow.com/users/8476100/imad-ul-hassan'}, 'is_answered': False, 'view_count': 16, 'closed_date': 1759349751, 'answer_count': 0, 'score': -3, 'last_activity_date': 1759349442, 'creation_date': 1759349442, 'question_id': 79780434, 'link': 'https://stackoverflow.com/questions/79780434/apple-developer-membership-renewal-issue', 'closed_reason': 'Not suitable for this site', 'title': 'Apple developer memberShip Renewal Issue'}, {'tags': ['r', 'gtsummary'], 'owner': {'account_id': 40973609, 'reputation': 167, 'user_id': 30055639, 'user_type': 'registered', 'profile_image': 'https://www.gravatar.com/avatar/7cb0ab297214ae7085a898dabfaeb640?s=256&d=identicon&r=PG&f=y&so-version=2', 'display_name': 'Ranjan Karmakar', 'link': 'https://stackoverflow.com/users/30055639/ranjan-karmakar'}, 'is_answered': False, 'view_count': 16, 'answer_count': 1, 'score': 1, 'last_activity_date': 1759355204, 'creation_date': 1759349174, 'question_id': 79780432, 'content_license': 'CC BY-SA 4.0', 'link': 'https://stackoverflow.com/questions/79780432/gtsummary-header-counts-with-tbl-strata-nested-stack', 'title': 'GTSUMMARY Header counts with TBL_STRATA_NESTED_STACK'}, {'tags': ['docker', 'automation', 'n8n'], 'owner': {'account_id': 44165059, 'reputation': 1, 'user_id': 31611150, 'user_type': 'registered', 'profile_image': 'https://www.gravatar.com/avatar/472ceba0d489ce7bd2b1e39f7790c274?s=256&d=identicon&r=PG&f=y&so-version=2', 'display_name': 'PFL', 'link': 'https://stackoverflow.com/users/31611150/pfl'}, 'is_answered': False, 'view_count': 13, 'answer_count': 0, 'score': 0, 'last_activity_date': 1759349068, 'creation_date': 1759349068, 'question_id': 79780431, 'content_license': 'CC BY-SA 4.0', 'link': 'https://stackoverflow.com/questions/79780431/n8n-rest-api-always-returns-401-unauthorized-ce-docker-desktop-on-windows-11', 'title': 'n8n REST API always returns 401 Unauthorized (CE, Docker Desktop on Windows 11)'}, {'tags': ['sql', 'regex', 'oracle-database'], 'owner': {'account_id': 15343311, 'reputation': 384, 'user_id': 11069614, 'user_type': 'registered', 'profile_image': 'https://graph.facebook.com/314687309394719/picture?type=large', 'display_name': 'Ben Smith', 'link': 'https://stackoverflow.com/users/11069614/ben-smith'}, 'is_answered': False, 'view_count': 36, 'closed_date': 1759350025, 'answer_count': 0, 'score': -4, 'last_activity_date': 1759354703, 'creation_date': 1759349043, 'last_edit_date': 1759349130, 'question_id': 79780430, 'link': 'https://stackoverflow.com/questions/79780430/get-the-8th-element-of-a-string-divided-by-character', 'closed_reason': 'Duplicate', 'title': 'Get the 8th element of a string divided by &quot;/&quot; character'}, {'tags': ['javascript', 'jquery'], 'owner': {'account_id': 14989385, 'reputation': 25, 'user_id': 10821035, 'user_type': 'registered', 'profile_image': 'https://www.gravatar.com/avatar/5d63a1be8d8115d825d74bad99b4e2b9?s=256&d=identicon&r=PG&f=y&so-version=2', 'display_name': 'tomcaptain', 'link': 'https://stackoverflow.com/users/10821035/tomcaptain'}, 'is_answered': False, 'view_count': 37, 'closed_date': 1759354980, 'answer_count': 1, 'score': -2, 'last_activity_date': 1759357009, 'creation_date': 1759349043, 'last_edit_date': 1759354453, 'question_id': 79780429, 'link': 'https://stackoverflow.com/questions/79780429/copy-and-cut-selected-text-using-javascript-and-paste-all-3-functions-on-button', 'closed_reason': 'Duplicate', 'title': 'Copy and Cut Selected Text using JavaScript and Paste, all 3 functions on button clicks'}, {'tags': ['windows', 'rust', 'ms-media-foundation', 'virtual-camera'], 'owner': {'account_id': 21153321, 'reputation': 1, 'user_id': 15553138, 'user_type': 'registered', 'profile_image': 'https://www.gravatar.com/avatar/03cab7f9ce6f886b3388b59533d349d6?s=256&d=identicon&r=PG&f=y&so-version=2', 'display_name': 'Marko19907', 'link': 'https://stackoverflow.com/users/15553138/marko19907'}, 'is_answered': False, 'view_count': 14, 'answer_count': 0, 'score': 0, 'last_activity_date': 1759355978, 'creation_date': 1759349039, 'last_edit_date': 1759355978, 'question_id': 79780428, 'content_license': 'CC BY-SA 4.0', 'link': 'https://stackoverflow.com/questions/79780428/rust-windows-media-foundation-virtual-camera-fires-events-and-sample-but-no-vide', 'title': 'Rust Windows Media Foundation virtual camera fires events and sample but no video out is shown'}, {'tags': ['java', 'spring-boot', 'jsp'], 'owner': {'account_id': 10642398, 'reputation': 7532, 'user_id': 7836976, 'user_type': 'registered', 'accept_rate': 95, 'profile_image': 'https://www.gravatar.com/avatar/a57c0f1a2af768690957df659cc28f0f?s=256&d=identicon&r=PG&f=y&so-version=2', 'display_name': 'runnerpaul', 'link': 'https://stackoverflow.com/users/7836976/runnerpaul'}, 'is_answered': False, 'view_count': 20, 'closed_date': 1759350280, 'answer_count': 0, 'score': -1, 'last_activity_date': 1759348605, 'creation_date': 1759348605, 'question_id': 79780426, 'link': 'https://stackoverflow.com/questions/79780426/jsp-page-not-found-in-spring-boot-application', 'closed_reason': 'Not suitable for this site', 'title': 'JSP page not found in Spring Boot application'}, {'tags': ['google-sheets-api'], 'owner': {'account_id': 3534581, 'reputation': 71, 'user_id': 2953216, 'user_type': 'registered', 'profile_image': 'https://i.sstatic.net/Ag4Zp.png?s=256', 'display_name': 'Lexe.Elf', 'link': 'https://stackoverflow.com/users/2953216/lexe-elf'}, 'is_answered': False, 'view_count': 13, 'answer_count': 0, 'score': 0, 'last_activity_date': 1759348421, 'creation_date': 1759348421, 'question_id': 79780423, 'content_license': 'CC BY-SA 4.0', 'link': 'https://stackoverflow.com/questions/79780423/how-to-insert-an-image-from-google-drive-inside-a-google-sheet-cell-programmatic', 'title': 'How to insert an image from Google Drive inside a Google Sheet Cell programmatically (via API)?'}, {'tags': ['realitykit', 'reality-composer-pro', 'usd', 'vision-pro'], 'owner': {'account_id': 2619360, 'reputation': 531, 'user_id': 2730528, 'user_type': 'registered', 'accept_rate': 88, 'profile_image': 'https://i.sstatic.net/OE0SH.jpg?s=256', 'display_name': 'Alfonso Santiago', 'link': 'https://stackoverflow.com/users/2730528/alfonso-santiago'}, 'is_answered': False, 'view_count': 4, 'answer_count': 0, 'score': 0, 'last_activity_date': 1759348420, 'creation_date': 1759348420, 'question_id': 79780422, 'content_license': 'CC BY-SA 4.0', 'link': 'https://stackoverflow.com/questions/79780422/multiple-frames-blendshape-failed-animation-in-reality-composer-pro', 'title': 'Multiple-frames BlendShape (failed) Animation in Reality Composer Pro'}, {'tags': ['embedded', 'usb'], 'owner': {'account_id': 15024948, 'reputation': 158, 'user_id': 10845117, 'user_type': 'registered', 'profile_image': 'https://www.gravatar.com/avatar/afb7ecd191da3325362781e8defe2c0a?s=256&d=identicon&r=PG&f=y&so-version=2', 'display_name': 'CarpenterSFO', 'link': 'https://stackoverflow.com/users/10845117/carpentersfo'}, 'is_answered': False, 'view_count': 17, 'closed_date': 1759368160, 'answer_count': 0, 'score': -4, 'last_activity_date': 1759348350, 'creation_date': 1759348350, 'question_id': 79780421, 'link': 'https://stackoverflow.com/questions/79780421/why-do-rising-temperatures-not-high-temperature-cause-a-usb-write-to-fail', 'closed_reason': 'Not suitable for this site', 'title': 'Why do rising temperatures (not high temperature) cause a USB write to fail?'}, {'tags': ['installation', 'wix', 'windows-installer'], 'owner': {'account_id': 22843991, 'reputation': 1, 'user_id': 16990576, 'user_type': 'registered', 'profile_image': 'https://www.gravatar.com/avatar/d438452a7e2ecf6d92763fbfe7ff7218?s=256&d=identicon&r=PG', 'display_name': 'Rohan Atyalkar', 'link': 'https://stackoverflow.com/users/16990576/rohan-atyalkar'}, 'is_answered': False, 'view_count': 9, 'answer_count': 0, 'score': 0, 'last_activity_date': 1759348247, 'creation_date': 1759348247, 'question_id': 79780419, 'content_license': 'CC BY-SA 4.0', 'link': 'https://stackoverflow.com/questions/79780419/wix-quite-custom-action-not-working-when-running-exe-with-arguments', 'title': 'Wix quite custom action not working when running exe with arguments'}, {'tags': ['javascript'], 'owner': {'account_id': 44165531, 'reputation': 1, 'user_id': 31611402, 'user_type': 'registered', 'profile_image': 'https://www.gravatar.com/avatar/0e68dcbd24205ff38f5a5b3da61df538?s=256&d=identicon&r=PG&f=y&so-version=2', 'display_name': 'HireHawk DevOps', 'link': 'https://stackoverflow.com/users/31611402/hirehawk-devops'}, 'is_answered': False, 'view_count': 21, 'closed_date': 1759365686, 'answer_count': 0, 'score': 0, 'last_activity_date': 1759347715, 'creation_date': 1759347715, 'question_id': 79780416, 'link': 'https://stackoverflow.com/questions/79780416/how-to-programmatically-insert-text-into-a-slate-js-contenteditable-so-it-regist', 'closed_reason': 'Duplicate', 'title': 'How to programmatically insert text into a Slate.js contenteditable so it registers as user input?'}, {'tags': ['blazor', 'blazor-webassembly'], 'owner': {'account_id': 1886091, 'reputation': 30954, 'user_id': 1705266, 'user_type': 'registered', 'accept_rate': 77, 'profile_image': 'https://i.sstatic.net/eV8wY.png?s=256', 'display_name': 'Sam', 'link': 'https://stackoverflow.com/users/1705266/sam'}, 'is_answered': False, 'view_count': 21, 'answer_count': 0, 'score': 1, 'last_activity_date': 1759347449, 'creation_date': 1759347449, 'question_id': 79780409, 'content_license': 'CC BY-SA 4.0', 'link': 'https://stackoverflow.com/questions/79780409/conditionally-rendering-html-in-blazor', 'title': 'Conditionally rendering HTML in Blazor'}, {'tags': ['arrays', 'powershell'], 'owner': {'account_id': 2212, 'reputation': 417987, 'user_id': 3043, 'user_type': 'registered', 'accept_rate': 70, 'profile_image': 'https://www.gravatar.com/avatar/61d2a0f034915fa9d2acd6f6b145bba8?s=256&d=identicon&r=PG', 'display_name': 'Joel Coehoorn', 'link': 'https://stackoverflow.com/users/3043/joel-coehoorn'}, 'is_answered': True, 'view_count': 44, 'answer_count': 1, 'score': 2, 'last_activity_date': 1759369228, 'creation_date': 1759347374, 'last_edit_date': 1759358338, 'question_id': 79780408, 'content_license': 'CC BY-SA 4.0', 'link': 'https://stackoverflow.com/questions/79780408/powershell-captures-array-function-result-with-single-element-as-just-the-elemen', 'title': 'Powershell captures array function result with single element as just the element'}, {'tags': ['postgresql', 'connection-pooling', 'node-postgres'], 'owner': {'account_id': 3331715, 'reputation': 898, 'user_id': 2800519, 'user_type': 'registered', 'accept_rate': 57, 'profile_image': 'https://www.gravatar.com/avatar/e422b5dc2a5f6c725c8f84cce4df615e?s=256&d=identicon&r=PG&f=y&so-version=2', 'display_name': 'okhobb', 'link': 'https://stackoverflow.com/users/2800519/okhobb'}, 'is_answered': False, 'view_count': 16, 'answer_count': 1, 'score': 1, 'last_activity_date': 1759365726, 'creation_date': 1759346925, 'question_id': 79780405, 'content_license': 'CC BY-SA 4.0', 'link': 'https://stackoverflow.com/questions/79780405/does-the-pg-pool-from-node-postgres-support-acquiretimeoutmillis', 'title': 'Does the pg.Pool from node-postgres support acquireTimeoutMillis?'}, {'tags': ['liferay', 'openid-connect', 'auth0', 'liferay-dxp'], 'owner': {'account_id': 179113, 'reputation': 5540, 'user_id': 411540, 'user_type': 'registered', 'accept_rate': 78, 'profile_image': 'https://www.gravatar.com/avatar/f9e8c4c4d9ac2363ea6fce353a0e047f?s=256&d=identicon&r=PG', 'display_name': 'Vicky', 'link': 'https://stackoverflow.com/users/411540/vicky'}, 'is_answered': False, 'view_count': 11, 'answer_count': 0, 'score': 0, 'last_activity_date': 1759346629, 'creation_date': 1759346629, 'question_id': 79780404, 'content_license': 'CC BY-SA 4.0', 'link': 'https://stackoverflow.com/questions/79780404/liferay-auth0-integration', 'title': 'Liferay Auth0 Integration'}, {'tags': ['r', 'ggplot2', 'ggrepel'], 'owner': {'account_id': 20905801, 'reputation': 9, 'user_id': 20843845, 'user_type': 'registered', 'profile_image': 'https://www.gravatar.com/avatar/51f8ab628be7e3099b005f50433c207c?s=256&d=identicon&r=PG&f=y&so-version=2', 'display_name': 'weendeen', 'link': 'https://stackoverflow.com/users/20843845/weendeen'}, 'is_answered': True, 'view_count': 30, 'answer_count': 3, 'score': 0, 'last_activity_date': 1759366479, 'creation_date': 1759346618, 'question_id': 79780403, 'content_license': 'CC BY-SA 4.0', 'link': 'https://stackoverflow.com/questions/79780403/ggrepel-still-overlapping-text', 'title': 'ggrepel still overlapping text'}, {'tags': ['snowflake-cloud-data-platform'], 'owner': {'account_id': 44165366, 'reputation': 1, 'user_id': 31611318, 'user_type': 'registered', 'profile_image': 'https://www.gravatar.com/avatar/3e46ceea1a918cbe8ad7a3ce1977abb2?s=256&d=identicon&r=PG&f=y&so-version=2', 'display_name': 'CJVJR75', 'link': 'https://stackoverflow.com/users/31611318/cjvjr75'}, 'is_answered': False, 'view_count': 18, 'closed_date': 1759349381, 'answer_count': 0, 'score': -2, 'last_activity_date': 1759346457, 'creation_date': 1759346457, 'question_id': 79780401, 'link': 'https://stackoverflow.com/questions/79780401/snowflake-internal-marketplace-listing-without-a-data-product', 'closed_reason': 'Not suitable for this site', 'title': 'Snowflake Internal Marketplace - listing without a data product'}, {'tags': ['php', 'netsuite', 'custom-fields', 'netsuite-rest-api'], 'owner': {'account_id': 4191570, 'reputation': 69, 'user_id': 4075715, 'user_type': 'registered', 'accept_rate': 75, 'profile_image': 'https://www.gravatar.com/avatar/491af55ca0e5f191061276ae13df624b?s=256&d=identicon&r=PG&f=y&so-version=2', 'display_name': 'John', 'link': 'https://stackoverflow.com/users/4075715/john'}, 'is_answered': False, 'view_count': 18, 'answer_count': 0, 'score': 0, 'last_activity_date': 1759345998, 'creation_date': 1759345998, 'question_id': 79780397, 'content_license': 'CC BY-SA 4.0', 'link': 'https://stackoverflow.com/questions/79780397/netsuite-php-find-sales-order-using-custom-field', 'title': 'Netsuite PHP find Sales Order using custom field'}, {'tags': ['excel', 'date', 'vlookup'], 'owner': {'account_id': 44164469, 'reputation': 1, 'user_id': 31610860, 'user_type': 'registered', 'profile_image': 'https://www.gravatar.com/avatar/0530e2d840302c968fb6cc3fdab48dd7?s=256&d=identicon&r=PG&f=y&so-version=2', 'display_name': 'logan hecht', 'link': 'https://stackoverflow.com/users/31610860/logan-hecht'}, 'is_answered': False, 'view_count': 35, 'answer_count': 0, 'score': -3, 'last_activity_date': 1759345848, 'creation_date': 1759345848, 'question_id': 79780395, 'content_license': 'CC BY-SA 4.0', 'link': 'https://stackoverflow.com/questions/79780395/is-it-possible-to-pull-the-date-a-cell-entry-occurred', 'title': 'Is it possible to pull the date a cell entry occurred?'}, {'tags': ['postgresql', 'indexing', 'queue'], 'owner': {'account_id': 193299, 'reputation': 14243, 'user_id': 434949, 'user_type': 'registered', 'accept_rate': 89, 'profile_image': 'https://i.sstatic.net/EMmK1.jpg?s=256', 'display_name': 'Hugo Delsing', 'link': 'https://stackoverflow.com/users/434949/hugo-delsing'}, 'is_answered': False, 'view_count': 26, 'answer_count': 0, 'score': 0, 'last_activity_date': 1759351562, 'creation_date': 1759345761, 'last_edit_date': 1759351562, 'question_id': 79780392, 'content_license': 'CC BY-SA 4.0', 'link': 'https://stackoverflow.com/questions/79780392/postgresql-stops-using-filter-index', 'title': 'Postgresql stops using filter index'}, {'tags': ['linux', 'ubuntu', 'xmgrace'], 'owner': {'account_id': 2478024, 'reputation': 81, 'user_id': 6455304, 'user_type': 'registered', 'profile_image': 'https://www.gravatar.com/avatar/bab533881d99f38a77d0be893e4cc70d?s=256&d=identicon&r=PG', 'display_name': 'Russ P.', 'link': 'https://stackoverflow.com/users/6455304/russ-p'}, 'is_answered': False, 'view_count': 23, 'closed_date': 1759366341, 'answer_count': 0, 'score': -3, 'last_activity_date': 1759356008, 'creation_date': 1759345508, 'last_edit_date': 1759356008, 'question_id': 79780390, 'link': 'https://stackoverflow.com/questions/79780390/how-can-i-enlarge-the-buttons-and-pull-down-menus-in-xmgrace', 'closed_reason': 'Not suitable for this site', 'title': 'how can I enlarge the buttons and pull-down menus in xmgrace?'}, {'tags': ['android', 'flutter'], 'owner': {'account_id': 26423209, 'reputation': 13, 'user_id': 20070593, 'user_type': 'registered', 'profile_image': 'https://lh3.googleusercontent.com/a-/ACNPEu_CFUZiZuwvBZ_zE3CjgMbv04sGQwZFCZklVtSIbg=k-s256', 'display_name': 'borhanedine', 'link': 'https://stackoverflow.com/users/20070593/borhanedine'}, 'is_answered': False, 'view_count': 20, 'answer_count': 0, 'score': 0, 'last_activity_date': 1759345358, 'creation_date': 1759345358, 'question_id': 79780389, 'content_license': 'CC BY-SA 4.0', 'link': 'https://stackoverflow.com/questions/79780389/low-quality-cropped-images-result-when-using-flutter-image-package', 'title': 'Low-quality cropped images result when using Flutter image package'}, {'tags': ['asp.net', 'office-interop', 'comexception'], 'owner': {'account_id': 2475075, 'reputation': 647, 'user_id': 2155873, 'user_type': 'registered', 'accept_rate': 71, 'profile_image': 'https://www.gravatar.com/avatar/fda7eddf3092f2d546496f5bce3abcfa?s=256&d=identicon&r=PG', 'display_name': 'Akkad', 'link': 'https://stackoverflow.com/users/2155873/akkad'}, 'is_answered': False, 'view_count': 22, 'answer_count': 0, 'score': 0, 'last_activity_date': 1759346149, 'creation_date': 1759345157, 'last_edit_date': 1759346149, 'question_id': 79780387, 'content_license': 'CC BY-SA 4.0', 'link': 'https://stackoverflow.com/questions/79780387/asp-net-microsoft-word-interop-com-exception', 'title': 'ASP.NET - Microsoft Word Interop COM Exception'}, {'tags': ['php', 'laravel'], 'owner': {'account_id': 44164898, 'reputation': 1, 'user_id': 31611076, 'user_type': 'registered', 'profile_image': 'https://www.gravatar.com/avatar/563446df599307c0ece408d8256bcb82?s=256&d=identicon&r=PG&f=y&so-version=2', 'display_name': 'Bruno', 'link': 'https://stackoverflow.com/users/31611076/bruno'}, 'is_answered': False, 'view_count': 7, 'answer_count': 0, 'score': 0, 'last_activity_date': 1759345146, 'creation_date': 1759345146, 'question_id': 79780386, 'content_license': 'CC BY-SA 4.0', 'link': 'https://stackoverflow.com/questions/79780386/filament-v4-migration-livewire-supportvalidation-error-and-login-redirect-not', 'title': 'Filament v4 migration – Livewire SupportValidation error and login redirect not working'}, {'tags': ['manim'], 'owner': {'account_id': 44164947, 'reputation': 1, 'user_id': 31611096, 'user_type': 'registered', 'profile_image': 'https://www.gravatar.com/avatar/55405474e92fdeacd39eb4bed85f36da?s=256&d=identicon&r=PG&f=y&so-version=2', 'display_name': 'Hell', 'link': 'https://stackoverflow.com/users/31611096/hell'}, 'is_answered': False, 'view_count': 25, 'closed_date': 1759365585, 'answer_count': 0, 'score': -4, 'last_activity_date': 1759345084, 'creation_date': 1759345084, 'question_id': 79780384, 'link': 'https://stackoverflow.com/questions/79780384/i-have-installation-error-uv-python-install-what-should-i-do', 'closed_reason': 'Not suitable for this site', 'title': 'I have installation error uv python install, What should I do?'}, {'tags': ['security', 'machine-learning', 'graph', 'knowledge-graph', 'network-security'], 'owner': {'account_id': 26542941, 'reputation': 13, 'user_id': 30103202, 'user_type': 'registered', 'profile_image': 'https://lh3.googleusercontent.com/a/ALm5wu3fR5AII2a404lh5SYf1lJvywFcw0kbVwWQ3L-B=k-s256', 'display_name': 'ADITYA KUNDU', 'link': 'https://stackoverflow.com/users/30103202/aditya-kundu'}, 'is_answered': False, 'view_count': 10, 'closed_date': 1759346124, 'answer_count': 0, 'score': -4, 'last_activity_date': 1759345077, 'creation_date': 1759345077, 'question_id': 79780383, 'link': 'https://stackoverflow.com/questions/79780383/looking-for-an-open-source-model-or-toolkit-that-predicts-attacks-and-attack-cha', 'closed_reason': 'Not suitable for this site', 'title': 'Looking for an open source model or toolkit that predicts attacks and attack chains from CVEs and NVD data (graph/ML/rule-based)'}, {'tags': ['jboss'], 'owner': {'account_id': 1064222, 'reputation': 2331, 'user_id': 1065175, 'user_type': 'registered', 'accept_rate': 47, 'profile_image': 'https://www.gravatar.com/avatar/068517711735b7ed7bd5287d287a7767?s=256&d=identicon&r=PG', 'display_name': 'ericj', 'link': 'https://stackoverflow.com/users/1065175/ericj'}, 'is_answered': False, 'view_count': 19, 'answer_count': 0, 'score': 0, 'last_activity_date': 1759344777, 'creation_date': 1759344499, 'last_edit_date': 1759344777, 'question_id': 79780379, 'content_license': 'CC BY-SA 4.0', 'link': 'https://stackoverflow.com/questions/79780379/why-are-2-classes-in-an-example-application-loaded-by-2-different-moduleclassloa', 'title': 'Why are 2 classes in an example application loaded by 2 different moduleclassloaders?'}, {'tags': ['c++', 'memory-management', 'polymorphism', 'delete-operator', 'self-destruction'], 'owner': {'account_id': 25772046, 'reputation': 533, 'user_id': 19520476, 'user_type': 'registered', 'profile_image': 'https://www.gravatar.com/avatar/2066f5878224277ea5fb76ae6b94b6a4?s=256&d=identicon&r=PG', 'display_name': 'lobelk', 'link': 'https://stackoverflow.com/users/19520476/lobelk'}, 'is_answered': False, 'view_count': 73, 'answer_count': 0, 'score': 1, 'last_activity_date': 1759344704, 'creation_date': 1759344099, 'last_edit_date': 1759344704, 'question_id': 79780376, 'content_license': 'CC BY-SA 4.0', 'link': 'https://stackoverflow.com/questions/79780376/how-to-reproduce-c-deleting-destructor-for-a-custom-allocator', 'title': 'How to reproduce C++ deleting destructor for a custom allocator?'}, {'tags': ['sql', 'griddb'], 'owner': {'account_id': 43973555, 'reputation': 21, 'user_id': 31510249, 'user_type': 'registered', 'profile_image': 'https://www.gravatar.com/avatar/766afafde5147889778027cb01081c58?s=256&d=identicon&r=PG&f=y&so-version=2', 'display_name': 'iot_builder', 'link': 'https://stackoverflow.com/users/31510249/iot-builder'}, 'is_answered': False, 'view_count': 34, 'answer_count': 1, 'score': 0, 'last_activity_date': 1759344702, 'creation_date': 1759344042, 'last_edit_date': 1759344340, 'question_id': 79780374, 'content_license': 'CC BY-SA 4.0', 'link': 'https://stackoverflow.com/questions/79780374/what-is-the-correct-syntax-for-selecting-data-between-now-and-the-previous-hou', 'title': 'What is the correct syntax for selecting data between NOW() and the previous hour in griddb/griddbCloud?'}], 'has_more': True, 'quota_max': 10000, 'quota_remaining': 9997}\n"
     ]
    },
    {
     "output_type": "execute_result",
     "data": {
      "text/plain": [
       "[{'tags': ['css', 'dom', 'google-chrome-extension', 'gmail', 'inboxsdk'],\n",
       "  'owner': {'account_id': 3016866,\n",
       "   'reputation': 863,\n",
       "   'user_id': 2558764,\n",
       "   'user_type': 'registered',\n",
       "   'accept_rate': 72,\n",
       "   'profile_image': 'https://www.gravatar.com/avatar/81db839a7ab31ef6790518a9851782af?s=256&d=identicon&r=PG',\n",
       "   'display_name': 'kecman',\n",
       "   'link': 'https://stackoverflow.com/users/2558764/kecman'},\n",
       "  'is_answered': False,\n",
       "  'view_count': 1,\n",
       "  'answer_count': 0,\n",
       "  'score': 0,\n",
       "  'last_activity_date': 1759375271,\n",
       "  'creation_date': 1759375271,\n",
       "  'question_id': 79780605,\n",
       "  'content_license': 'CC BY-SA 4.0',\n",
       "  'link': 'https://stackoverflow.com/questions/79780605/adding-custom-div-to-compose-window-with-inboxsdk-makes-issues-with-height-when',\n",
       "  'title': 'Adding custom div to compose window with InboxSDK makes issues with height when going to fullscreen mode of compose window'},\n",
       " {'tags': ['python', 'web-scraping', 'youtube', 'youtube-data-api'],\n",
       "  'owner': {'account_id': 44168359,\n",
       "   'reputation': 1,\n",
       "   'user_id': 31612690,\n",
       "   'user_type': 'registered',\n",
       "   'profile_image': 'https://www.gravatar.com/avatar/a49335fe006b7ff5484714563c2146e3?s=256&d=identicon&r=PG&f=y&so-version=2',\n",
       "   'display_name': 'Subhan Ansari',\n",
       "   'link': 'https://stackoverflow.com/users/31612690/subhan-ansari'},\n",
       "  'is_answered': False,\n",
       "  'view_count': 3,\n",
       "  'answer_count': 0,\n",
       "  'score': 0,\n",
       "  'last_activity_date': 1759375226,\n",
       "  'creation_date': 1759375226,\n",
       "  'question_id': 79780604,\n",
       "  'content_license': 'CC BY-SA 4.0',\n",
       "  'link': 'https://stackoverflow.com/questions/79780604/how-to-get-youtube-data-title-links-playlist-thumbnail-without-an-api-key',\n",
       "  'title': 'How to Get YouTube Data (Title, Links, Playlist, Thumbnail) Without an API Key'},\n",
       " {'tags': ['node.js', 'typescript', 'visual-studio-code', 'azure-functions'],\n",
       "  'owner': {'account_id': 4142464,\n",
       "   'reputation': 1067,\n",
       "   'user_id': 3397281,\n",
       "   'user_type': 'registered',\n",
       "   'accept_rate': 43,\n",
       "   'profile_image': 'https://i.sstatic.net/1wOeS.jpg?s=256',\n",
       "   'display_name': 'wooters',\n",
       "   'link': 'https://stackoverflow.com/users/3397281/wooters'},\n",
       "  'is_answered': False,\n",
       "  'view_count': 3,\n",
       "  'answer_count': 0,\n",
       "  'score': 0,\n",
       "  'last_activity_date': 1759375024,\n",
       "  'creation_date': 1759375024,\n",
       "  'question_id': 79780602,\n",
       "  'content_license': 'CC BY-SA 4.0',\n",
       "  'link': 'https://stackoverflow.com/questions/79780602/sudden-issues-debugging-azure-functions-in-vs-code',\n",
       "  'title': 'Sudden Issues Debugging Azure Functions in VS Code'},\n",
       " {'tags': ['common-lisp'],\n",
       "  'owner': {'account_id': 42975,\n",
       "   'reputation': 4416,\n",
       "   'user_id': 125415,\n",
       "   'user_type': 'registered',\n",
       "   'accept_rate': 57,\n",
       "   'profile_image': 'https://www.gravatar.com/avatar/25cd06518221e8ce6f3a4c8a5ccd711a?s=256&d=identicon&r=PG',\n",
       "   'display_name': 'Dan Passaro',\n",
       "   'link': 'https://stackoverflow.com/users/125415/dan-passaro'},\n",
       "  'is_answered': False,\n",
       "  'view_count': 9,\n",
       "  'answer_count': 0,\n",
       "  'score': 0,\n",
       "  'last_activity_date': 1759373769,\n",
       "  'creation_date': 1759373769,\n",
       "  'question_id': 79780598,\n",
       "  'content_license': 'CC BY-SA 4.0',\n",
       "  'link': 'https://stackoverflow.com/questions/79780598/can-a-symbol-be-aliased-in-common-lisp',\n",
       "  'title': 'Can a symbol be aliased in Common Lisp?'},\n",
       " {'tags': ['tailwind-css'],\n",
       "  'owner': {'account_id': 27480173,\n",
       "   'reputation': 1,\n",
       "   'user_id': 20967419,\n",
       "   'user_type': 'registered',\n",
       "   'profile_image': 'https://lh3.googleusercontent.com/a/AEdFTp6VZbEuRS_-Gaun81S6yc1fqqUbUk9Fx_xPfKBx=k-s256',\n",
       "   'display_name': 'Nguyen Viet Tuan',\n",
       "   'link': 'https://stackoverflow.com/users/20967419/nguyen-viet-tuan'},\n",
       "  'is_answered': False,\n",
       "  'view_count': 8,\n",
       "  'answer_count': 0,\n",
       "  'score': 0,\n",
       "  'last_activity_date': 1759373463,\n",
       "  'creation_date': 1759373420,\n",
       "  'last_edit_date': 1759373463,\n",
       "  'question_id': 79780596,\n",
       "  'content_license': 'CC BY-SA 4.0',\n",
       "  'link': 'https://stackoverflow.com/questions/79780596/install-tailwind-css',\n",
       "  'title': 'Install Tailwind CSS'},\n",
       " {'tags': ['huggingface'],\n",
       "  'owner': {'account_id': 13117733,\n",
       "   'reputation': 1,\n",
       "   'user_id': 9476313,\n",
       "   'user_type': 'registered',\n",
       "   'profile_image': 'https://lh4.googleusercontent.com/-TNGyrpYDsLQ/AAAAAAAAAAI/AAAAAAAAACw/ciOPnShAh14/s256-rj/photo.jpg',\n",
       "   'display_name': 'Sada Shiva Prasad',\n",
       "   'link': 'https://stackoverflow.com/users/9476313/sada-shiva-prasad'},\n",
       "  'is_answered': False,\n",
       "  'view_count': 18,\n",
       "  'answer_count': 0,\n",
       "  'score': -1,\n",
       "  'last_activity_date': 1759373057,\n",
       "  'creation_date': 1759373057,\n",
       "  'question_id': 79780594,\n",
       "  'content_license': 'CC BY-SA 4.0',\n",
       "  'link': 'https://stackoverflow.com/questions/79780594/hugging-face-module-not-found-error-websocket-asyncio',\n",
       "  'title': 'Hugging Face module not found error websocket.asyncio'},\n",
       " {'tags': ['google-sheets', 'excel-formula', 'google-sheets-formula'],\n",
       "  'owner': {'account_id': 37522139,\n",
       "   'reputation': 3,\n",
       "   'user_id': 28288924,\n",
       "   'user_type': 'registered',\n",
       "   'profile_image': 'https://www.gravatar.com/avatar/110c001f33c58159d659d12eb3aa11d9?s=256&d=identicon&r=PG&f=y&so-version=2',\n",
       "   'display_name': 'Rhenz Idol Ii San Pedro',\n",
       "   'link': 'https://stackoverflow.com/users/28288924/rhenz-idol-ii-san-pedro'},\n",
       "  'is_answered': False,\n",
       "  'view_count': 9,\n",
       "  'answer_count': 0,\n",
       "  'score': 0,\n",
       "  'last_activity_date': 1759373152,\n",
       "  'creation_date': 1759372996,\n",
       "  'last_edit_date': 1759373152,\n",
       "  'question_id': 79780593,\n",
       "  'content_license': 'CC BY-SA 4.0',\n",
       "  'link': 'https://stackoverflow.com/questions/79780593/get-monthly-date',\n",
       "  'title': 'Get Monthly Date'},\n",
       " {'tags': ['sql-server', 'dbt', 'data-engineering', 'scd2'],\n",
       "  'owner': {'account_id': 33943309,\n",
       "   'reputation': 1,\n",
       "   'user_id': 26301227,\n",
       "   'user_type': 'registered',\n",
       "   'profile_image': 'https://www.gravatar.com/avatar/9534bf6ed73c1e1ab5b5fe08c5eda6c9?s=256&d=identicon&r=PG&f=y&so-version=2',\n",
       "   'display_name': 'Sơn B&#249;i',\n",
       "   'link': 'https://stackoverflow.com/users/26301227/s%c6%a1n-b%c3%b9i'},\n",
       "  'is_answered': False,\n",
       "  'view_count': 9,\n",
       "  'answer_count': 0,\n",
       "  'score': -1,\n",
       "  'last_activity_date': 1759374216,\n",
       "  'creation_date': 1759372669,\n",
       "  'last_edit_date': 1759374216,\n",
       "  'question_id': 79780592,\n",
       "  'content_license': 'CC BY-SA 4.0',\n",
       "  'link': 'https://stackoverflow.com/questions/79780592/sql-server-version-table-compare-dbt-type-2-for-scd-table',\n",
       "  'title': 'SQL Server version table compare dbt type 2 for scd table'},\n",
       " {'tags': ['c++', 'visual-studio-code'],\n",
       "  'owner': {'account_id': 44168076,\n",
       "   'reputation': 1,\n",
       "   'user_id': 31612547,\n",
       "   'user_type': 'registered',\n",
       "   'profile_image': 'https://www.gravatar.com/avatar/3a85402fcf01610b9dcad1185f7883a5?s=256&d=identicon&r=PG&f=y&so-version=2',\n",
       "   'display_name': 'Akshay Kumar',\n",
       "   'link': 'https://stackoverflow.com/users/31612547/akshay-kumar'},\n",
       "  'is_answered': False,\n",
       "  'view_count': 16,\n",
       "  'answer_count': 0,\n",
       "  'score': 0,\n",
       "  'last_activity_date': 1759372528,\n",
       "  'creation_date': 1759372528,\n",
       "  'question_id': 79780591,\n",
       "  'content_license': 'CC BY-SA 4.0',\n",
       "  'link': 'https://stackoverflow.com/questions/79780591/how-do-i-disable-line-break-before-parenthesis-for-c-c-files-vs-code',\n",
       "  'title': 'How do I disable line break before parenthesis for C/C++ files (VS code)'},\n",
       " {'tags': ['php', 'xero-api'],\n",
       "  'owner': {'account_id': 44168066,\n",
       "   'reputation': 1,\n",
       "   'user_id': 31612542,\n",
       "   'user_type': 'registered',\n",
       "   'profile_image': 'https://i.sstatic.net/j0NogcFd.png?s=256',\n",
       "   'display_name': 'MD SOHEL BABLU',\n",
       "   'link': 'https://stackoverflow.com/users/31612542/md-sohel-bablu'},\n",
       "  'is_answered': False,\n",
       "  'view_count': 18,\n",
       "  'answer_count': 0,\n",
       "  'score': 0,\n",
       "  'last_activity_date': 1759372169,\n",
       "  'creation_date': 1759372169,\n",
       "  'question_id': 79780587,\n",
       "  'content_license': 'CC BY-SA 4.0',\n",
       "  'link': 'https://stackoverflow.com/questions/79780587/does-xero-not-provide-an-api-or-built-in-function-to-fetch-daily-data',\n",
       "  'title': 'Does Xero not provide an API or built-in function to fetch daily data?'},\n",
       " {'tags': ['linux', 'kernel', 'iso', 'ipxe'],\n",
       "  'owner': {'account_id': 27057333,\n",
       "   'reputation': 3,\n",
       "   'user_id': 20609847,\n",
       "   'user_type': 'registered',\n",
       "   'profile_image': 'https://lh3.googleusercontent.com/a/ALm5wu2a3TFT9Nsv7JnnL1l3m_g9mRH_kwAiOn-HU1TS=k-s256',\n",
       "   'display_name': 'IT FAPK',\n",
       "   'link': 'https://stackoverflow.com/users/20609847/it-fapk'},\n",
       "  'is_answered': False,\n",
       "  'view_count': 10,\n",
       "  'answer_count': 0,\n",
       "  'score': 0,\n",
       "  'last_activity_date': 1759371530,\n",
       "  'creation_date': 1759371530,\n",
       "  'question_id': 79780584,\n",
       "  'content_license': 'CC BY-SA 4.0',\n",
       "  'link': 'https://stackoverflow.com/questions/79780584/how-to-debug-iso-image-loading-via-ipxehttp',\n",
       "  'title': 'How to debug ISO image loading via iPXE&amp;HTTP?'},\n",
       " {'tags': ['javascript', 'r', 'plotly', 'visualization', 'htmlwidgets'],\n",
       "  'owner': {'account_id': 19061913,\n",
       "   'reputation': 267,\n",
       "   'user_id': 13917839,\n",
       "   'user_type': 'registered',\n",
       "   'profile_image': 'https://www.gravatar.com/avatar/c54692c7dee6b36c51695664a9cca38b?s=256&d=identicon&r=PG&f=y&so-version=2',\n",
       "   'display_name': 'MatCordTo',\n",
       "   'link': 'https://stackoverflow.com/users/13917839/matcordto'},\n",
       "  'is_answered': False,\n",
       "  'view_count': 11,\n",
       "  'answer_count': 0,\n",
       "  'score': 0,\n",
       "  'last_activity_date': 1759370381,\n",
       "  'creation_date': 1759370381,\n",
       "  'question_id': 79780581,\n",
       "  'content_license': 'CC BY-SA 4.0',\n",
       "  'link': 'https://stackoverflow.com/questions/79780581/plotly-r-annotations-showing-fixed-x-values-on-hover-despite-recalculating-clos',\n",
       "  'title': 'Plotly R: Annotations showing fixed X values on hover despite recalculating closest points across subplots'},\n",
       " {'tags': ['django', 'django-templates'],\n",
       "  'owner': {'account_id': 25998781,\n",
       "   'reputation': 63,\n",
       "   'user_id': 19709665,\n",
       "   'user_type': 'registered',\n",
       "   'profile_image': 'https://lh3.googleusercontent.com/a/AItbvmkn5J9CTb8qNzi_Z6rMJyIUsyKRmkjnoKHeVyKB=k-s256',\n",
       "   'display_name': 'Ali Vleotsky',\n",
       "   'link': 'https://stackoverflow.com/users/19709665/ali-vleotsky'},\n",
       "  'is_answered': False,\n",
       "  'view_count': 15,\n",
       "  'answer_count': 0,\n",
       "  'score': 0,\n",
       "  'last_activity_date': 1759373264,\n",
       "  'creation_date': 1759370023,\n",
       "  'last_edit_date': 1759373264,\n",
       "  'question_id': 79780579,\n",
       "  'content_license': 'CC BY-SA 4.0',\n",
       "  'link': 'https://stackoverflow.com/questions/79780579/failure-to-display-jazzmin-header',\n",
       "  'title': 'failure to display jazzmin header'},\n",
       " {'tags': ['flutter', 'authentication', 'oauth-2.0', 'appauth'],\n",
       "  'owner': {'account_id': 43690471,\n",
       "   'reputation': 1,\n",
       "   'user_id': 31367696,\n",
       "   'user_type': 'registered',\n",
       "   'profile_image': 'https://www.gravatar.com/avatar/5c33156fd1d37f9a7310ae4f51bb0ff8?s=256&d=identicon&r=PG&f=y&so-version=2',\n",
       "   'display_name': 'Mạnh Nguyễn',\n",
       "   'link': 'https://stackoverflow.com/users/31367696/m%e1%ba%a1nh-nguy%e1%bb%85n'},\n",
       "  'is_answered': False,\n",
       "  'view_count': 9,\n",
       "  'answer_count': 0,\n",
       "  'score': 0,\n",
       "  'last_activity_date': 1759369383,\n",
       "  'creation_date': 1759369383,\n",
       "  'question_id': 79780578,\n",
       "  'content_license': 'CC BY-SA 4.0',\n",
       "  'link': 'https://stackoverflow.com/questions/79780578/login-account-with-oauth2-flutter',\n",
       "  'title': 'Login account with Oauth2 Flutter'},\n",
       " {'tags': ['swiftui'],\n",
       "  'owner': {'account_id': 337491,\n",
       "   'reputation': 837,\n",
       "   'user_id': 665792,\n",
       "   'user_type': 'registered',\n",
       "   'profile_image': 'https://www.gravatar.com/avatar/4f9e86760ec2528f0c94fb658b22d34e?s=256&d=identicon&r=PG',\n",
       "   'display_name': 'Leo',\n",
       "   'link': 'https://stackoverflow.com/users/665792/leo'},\n",
       "  'is_answered': False,\n",
       "  'view_count': 17,\n",
       "  'answer_count': 0,\n",
       "  'score': 0,\n",
       "  'last_activity_date': 1759368163,\n",
       "  'creation_date': 1759368163,\n",
       "  'question_id': 79780573,\n",
       "  'content_license': 'CC BY-SA 4.0',\n",
       "  'link': 'https://stackoverflow.com/questions/79780573/platform-independent-unifying-viewrepresentable-template-to-minimize-if-else',\n",
       "  'title': 'Platform Independent unifying ViewRepresentable template to minimize #if #else #endif in SwiftUI code'},\n",
       " {'tags': ['xcode', 'simulator'],\n",
       "  'owner': {'account_id': 26209410,\n",
       "   'reputation': 1,\n",
       "   'user_id': 19888537,\n",
       "   'user_type': 'registered',\n",
       "   'profile_image': 'https://graph.facebook.com/1707478442948158/picture?type=large',\n",
       "   'display_name': 'Nattapat Wakhet',\n",
       "   'link': 'https://stackoverflow.com/users/19888537/nattapat-wakhet'},\n",
       "  'is_answered': False,\n",
       "  'view_count': 12,\n",
       "  'answer_count': 0,\n",
       "  'score': -1,\n",
       "  'last_activity_date': 1759368141,\n",
       "  'creation_date': 1759368141,\n",
       "  'question_id': 79780572,\n",
       "  'content_license': 'CC BY-SA 4.0',\n",
       "  'link': 'https://stackoverflow.com/questions/79780572/where-does-xcode-store-watchos-simulator-runtimes-and-how-to-install-a-downloade',\n",
       "  'title': 'Where does Xcode store watchOS simulator runtimes and how to install a downloaded .simruntime file?'},\n",
       " {'tags': ['vue.js'],\n",
       "  'owner': {'account_id': 1068606,\n",
       "   'reputation': 12429,\n",
       "   'user_id': 1068446,\n",
       "   'user_type': 'registered',\n",
       "   'accept_rate': 63,\n",
       "   'profile_image': 'https://i.sstatic.net/F5uzH.jpg?s=256',\n",
       "   'display_name': 'dwjohnston',\n",
       "   'link': 'https://stackoverflow.com/users/1068446/dwjohnston'},\n",
       "  'is_answered': False,\n",
       "  'view_count': 19,\n",
       "  'answer_count': 0,\n",
       "  'score': 0,\n",
       "  'last_activity_date': 1759367498,\n",
       "  'creation_date': 1759367498,\n",
       "  'question_id': 79780570,\n",
       "  'content_license': 'CC BY-SA 4.0',\n",
       "  'link': 'https://stackoverflow.com/questions/79780570/vue-form-elements-desync-from-computed-refs',\n",
       "  'title': 'Vue form elements desync from computed refs'},\n",
       " {'tags': ['c#', 'debugging', '.net-10.0', 'c#-14.0', 'extension-members'],\n",
       "  'owner': {'account_id': 166270,\n",
       "   'reputation': 135351,\n",
       "   'user_id': 390278,\n",
       "   'user_type': 'registered',\n",
       "   'accept_rate': 86,\n",
       "   'profile_image': 'https://www.gravatar.com/avatar/84715fec547362389d02f5be0ed12814?s=256&d=identicon&r=PG',\n",
       "   'display_name': 'Jeff Mercado',\n",
       "   'link': 'https://stackoverflow.com/users/390278/jeff-mercado'},\n",
       "  'is_answered': False,\n",
       "  'view_count': 28,\n",
       "  'answer_count': 1,\n",
       "  'score': 0,\n",
       "  'last_activity_date': 1759367427,\n",
       "  'creation_date': 1759366982,\n",
       "  'question_id': 79780567,\n",
       "  'content_license': 'CC BY-SA 4.0',\n",
       "  'link': 'https://stackoverflow.com/questions/79780567/are-extension-properties-subject-to-being-displayed-in-the-debugger-by-default',\n",
       "  'title': 'Are extension properties subject to being displayed in the debugger by default?'},\n",
       " {'tags': ['reactjs', 'node.js', 'react-router', 'vite', 'ms-clarity'],\n",
       "  'owner': {'account_id': 8569993,\n",
       "   'reputation': 3484,\n",
       "   'user_id': 6421288,\n",
       "   'user_type': 'registered',\n",
       "   'accept_rate': 72,\n",
       "   'profile_image': 'https://www.gravatar.com/avatar/3313e605d0be3cc6cb7f5ed4f7347c1d?s=256&d=identicon&r=PG&f=y&so-version=2',\n",
       "   'display_name': 'Maramal',\n",
       "   'link': 'https://stackoverflow.com/users/6421288/maramal'},\n",
       "  'is_answered': False,\n",
       "  'view_count': 18,\n",
       "  'answer_count': 0,\n",
       "  'score': 0,\n",
       "  'last_activity_date': 1759366953,\n",
       "  'creation_date': 1759366953,\n",
       "  'question_id': 79780566,\n",
       "  'content_license': 'CC BY-SA 4.0',\n",
       "  'link': 'https://stackoverflow.com/questions/79780566/microsoft-clarity-does-not-work-on-react-router-v7',\n",
       "  'title': 'Microsoft Clarity does not work on React Router v7'},\n",
       " {'tags': ['python', 'pip'],\n",
       "  'owner': {'account_id': 2345937,\n",
       "   'reputation': 3694,\n",
       "   'user_id': 2056201,\n",
       "   'user_type': 'registered',\n",
       "   'accept_rate': 23,\n",
       "   'profile_image': 'https://www.gravatar.com/avatar/bba9995d4071b28c1f54bcb8ae03a1f2?s=256&d=identicon&r=PG',\n",
       "   'display_name': 'Mich',\n",
       "   'link': 'https://stackoverflow.com/users/2056201/mich'},\n",
       "  'is_answered': True,\n",
       "  'view_count': 44,\n",
       "  'answer_count': 2,\n",
       "  'score': 2,\n",
       "  'last_activity_date': 1759370366,\n",
       "  'creation_date': 1759366393,\n",
       "  'question_id': 79780565,\n",
       "  'content_license': 'CC BY-SA 4.0',\n",
       "  'link': 'https://stackoverflow.com/questions/79780565/python-cannot-install-torch',\n",
       "  'title': 'Python cannot install torch'},\n",
       " {'tags': ['flutter'],\n",
       "  'owner': {'account_id': 14052833,\n",
       "   'reputation': 1438,\n",
       "   'user_id': 10151066,\n",
       "   'user_type': 'registered',\n",
       "   'profile_image': 'https://www.gravatar.com/avatar/77438ca2e253c4463b5ad173b1c8cf79?s=256&d=identicon&r=PG&f=y&so-version=2',\n",
       "   'display_name': 'flutroid',\n",
       "   'link': 'https://stackoverflow.com/users/10151066/flutroid'},\n",
       "  'is_answered': False,\n",
       "  'view_count': 23,\n",
       "  'answer_count': 0,\n",
       "  'score': 0,\n",
       "  'last_activity_date': 1759368245,\n",
       "  'creation_date': 1759365598,\n",
       "  'last_edit_date': 1759368245,\n",
       "  'question_id': 79780561,\n",
       "  'content_license': 'CC BY-SA 4.0',\n",
       "  'link': 'https://stackoverflow.com/questions/79780561/how-to-make-carouselview-match-child-height-in-flutter',\n",
       "  'title': 'How to make CarouselView match child height in flutter?'},\n",
       " {'tags': ['wso2', 'wso2-api-manager'],\n",
       "  'owner': {'account_id': 44167425,\n",
       "   'reputation': 1,\n",
       "   'user_id': 31612221,\n",
       "   'user_type': 'registered',\n",
       "   'profile_image': 'https://www.gravatar.com/avatar/1f39d0724aadcae1eb50dc78378368ef?s=256&d=identicon&r=PG&f=y&so-version=2',\n",
       "   'display_name': 'Alessandro Bertozzi',\n",
       "   'link': 'https://stackoverflow.com/users/31612221/alessandro-bertozzi'},\n",
       "  'is_answered': False,\n",
       "  'view_count': 31,\n",
       "  'answer_count': 0,\n",
       "  'score': 0,\n",
       "  'last_activity_date': 1759364949,\n",
       "  'creation_date': 1759364949,\n",
       "  'question_id': 79780557,\n",
       "  'content_license': 'CC BY-SA 4.0',\n",
       "  'link': 'https://stackoverflow.com/questions/79780557/how-can-i-include-the-user-email-claim-in-jwt-tokens-in-wso2-api-manager-without',\n",
       "  'title': 'How can I include the user email claim in JWT tokens in WSO2 API Manager without manually editing each Service Provider?'},\n",
       " {'tags': ['ios', 'swift', 'sqlite', 'in-app-purchase', 'storekit2'],\n",
       "  'owner': {'account_id': 17564018,\n",
       "   'reputation': 21,\n",
       "   'user_id': 12741306,\n",
       "   'user_type': 'registered',\n",
       "   'profile_image': 'https://lh3.googleusercontent.com/-qI59-29FckU/AAAAAAAAAAI/AAAAAAAAAAA/ACHi3rdK5JL3UEGcBdt0FV4thdVUBaWfVA/s256-rj/photo.jpg',\n",
       "   'display_name': 'Shireen Khan',\n",
       "   'link': 'https://stackoverflow.com/users/12741306/shireen-khan'},\n",
       "  'is_answered': False,\n",
       "  'view_count': 20,\n",
       "  'answer_count': 0,\n",
       "  'score': 0,\n",
       "  'last_activity_date': 1759364451,\n",
       "  'creation_date': 1759364451,\n",
       "  'question_id': 79780555,\n",
       "  'content_license': 'CC BY-SA 4.0',\n",
       "  'link': 'https://stackoverflow.com/questions/79780555/issue-with-storekit-2-in-app-purchases-unfinalized-statements-unfinished-bac',\n",
       "  'title': 'Issue with StoreKit 2 In App Purchases: &quot;unfinalized statements / unfinished backups&quot; SQLite Crash'},\n",
       " {'tags': ['c++', 'volatile'],\n",
       "  'owner': {'account_id': 15734288,\n",
       "   'reputation': 41,\n",
       "   'user_id': 11353781,\n",
       "   'user_type': 'registered',\n",
       "   'profile_image': 'https://www.gravatar.com/avatar/1f1f762961c6fb8033214ea3b0bbe216?s=256&d=identicon&r=PG&f=y&so-version=2',\n",
       "   'display_name': 'Lee',\n",
       "   'link': 'https://stackoverflow.com/users/11353781/lee'},\n",
       "  'is_answered': False,\n",
       "  'view_count': 56,\n",
       "  'answer_count': 0,\n",
       "  'score': 0,\n",
       "  'last_activity_date': 1759372062,\n",
       "  'creation_date': 1759363913,\n",
       "  'last_edit_date': 1759372062,\n",
       "  'question_id': 79780552,\n",
       "  'content_license': 'CC BY-SA 4.0',\n",
       "  'link': 'https://stackoverflow.com/questions/79780552/difficulty-reading-volatile-memory',\n",
       "  'title': 'Difficulty reading volatile memory'},\n",
       " {'tags': ['r', 'ggplot2', 'plot', 'simulation', 'modeling'],\n",
       "  'owner': {'account_id': 44167304,\n",
       "   'reputation': 1,\n",
       "   'user_id': 31612167,\n",
       "   'user_type': 'registered',\n",
       "   'profile_image': 'https://www.gravatar.com/avatar/b36384686d4469215d00a827ce4cdbda?s=256&d=identicon&r=PG&f=y&so-version=2',\n",
       "   'display_name': 'Inaara Rajwani',\n",
       "   'link': 'https://stackoverflow.com/users/31612167/inaara-rajwani'},\n",
       "  'is_answered': False,\n",
       "  'view_count': 18,\n",
       "  'answer_count': 1,\n",
       "  'score': 0,\n",
       "  'last_activity_date': 1759364227,\n",
       "  'creation_date': 1759363298,\n",
       "  'question_id': 79780551,\n",
       "  'content_license': 'CC BY-SA 4.0',\n",
       "  'link': 'https://stackoverflow.com/questions/79780551/what-is-an-alternative-to-the-curve-function-in-r-for-modeling-and-simulation',\n",
       "  'title': 'What is an alternative to the curve() function in R for modeling and simulation?'},\n",
       " {'tags': ['react-native', 'expo', 'expo-router'],\n",
       "  'owner': {'account_id': 112990,\n",
       "   'reputation': 3561,\n",
       "   'user_id': 297824,\n",
       "   'user_type': 'registered',\n",
       "   'accept_rate': 76,\n",
       "   'profile_image': 'https://www.gravatar.com/avatar/d1cf72408e13e38a3bf918413f762e94?s=256&d=identicon&r=PG',\n",
       "   'display_name': 'T3db0t',\n",
       "   'link': 'https://stackoverflow.com/users/297824/t3db0t'},\n",
       "  'is_answered': False,\n",
       "  'view_count': 14,\n",
       "  'answer_count': 0,\n",
       "  'score': 0,\n",
       "  'last_activity_date': 1759363104,\n",
       "  'creation_date': 1759363104,\n",
       "  'question_id': 79780550,\n",
       "  'content_license': 'CC BY-SA 4.0',\n",
       "  'link': 'https://stackoverflow.com/questions/79780550/expo-router-animationtypeforreplace-pop-is-not-respected',\n",
       "  'title': 'Expo-Router: animationTypeForReplace: &quot;pop&quot; is not respected'},\n",
       " {'tags': ['vb.net', 'outlook', 'oauth', 'microsoft-graph-api', 'mailkit'],\n",
       "  'owner': {'account_id': 32352389,\n",
       "   'reputation': 1,\n",
       "   'user_id': 25127946,\n",
       "   'user_type': 'registered',\n",
       "   'profile_image': 'https://www.gravatar.com/avatar/c48f3b028a0eebff8e03340c30b3a1dd?s=256&d=identicon&r=PG&f=y&so-version=2',\n",
       "   'display_name': '8bitdev',\n",
       "   'link': 'https://stackoverflow.com/users/25127946/8bitdev'},\n",
       "  'is_answered': False,\n",
       "  'view_count': 21,\n",
       "  'answer_count': 0,\n",
       "  'score': 0,\n",
       "  'last_activity_date': 1759362947,\n",
       "  'creation_date': 1759362947,\n",
       "  'question_id': 79780549,\n",
       "  'content_license': 'CC BY-SA 4.0',\n",
       "  'link': 'https://stackoverflow.com/questions/79780549/vb-net-535-5-7-3-authentication-unsuccessful-error-when-trying-to-send-mails',\n",
       "  'title': 'VB.NET: &#39;535: 5.7.3 Authentication unsuccessful&#39; error when trying to send mails using OAuth from an Outlook free account'},\n",
       " {'tags': ['go', 'generics'],\n",
       "  'owner': {'account_id': 44167171,\n",
       "   'reputation': 11,\n",
       "   'user_id': 31612116,\n",
       "   'user_type': 'registered',\n",
       "   'profile_image': 'https://www.gravatar.com/avatar/9aff93dc5d71f495f7b1ed4139910353?s=256&d=identicon&r=PG',\n",
       "   'display_name': 'Rob B',\n",
       "   'link': 'https://stackoverflow.com/users/31612116/rob-b'},\n",
       "  'is_answered': False,\n",
       "  'view_count': 29,\n",
       "  'answer_count': 0,\n",
       "  'score': 1,\n",
       "  'last_activity_date': 1759362621,\n",
       "  'creation_date': 1759362621,\n",
       "  'question_id': 79780546,\n",
       "  'content_license': 'CC BY-SA 4.0',\n",
       "  'link': 'https://stackoverflow.com/questions/79780546/how-to-access-fields-in-a-generic-struct',\n",
       "  'title': 'How to access fields in a generic struct?'},\n",
       " {'tags': ['java',\n",
       "   'android',\n",
       "   'android-recyclerview',\n",
       "   'listadapter',\n",
       "   'android-diffutils'],\n",
       "  'owner': {'account_id': 11799798,\n",
       "   'reputation': 572,\n",
       "   'user_id': 8633758,\n",
       "   'user_type': 'registered',\n",
       "   'profile_image': 'https://www.gravatar.com/avatar/e14e86a668116b0882a3cd15144fba00?s=256&d=identicon&r=PG&f=y&so-version=2',\n",
       "   'display_name': 'Notsileous',\n",
       "   'link': 'https://stackoverflow.com/users/8633758/notsileous'},\n",
       "  'is_answered': False,\n",
       "  'view_count': 24,\n",
       "  'answer_count': 0,\n",
       "  'score': 1,\n",
       "  'last_activity_date': 1759362546,\n",
       "  'creation_date': 1759362546,\n",
       "  'question_id': 79780544,\n",
       "  'content_license': 'CC BY-SA 4.0',\n",
       "  'link': 'https://stackoverflow.com/questions/79780544/recycler-view-does-not-update-until-scrolled-when-using-diffutil-and-submitlist',\n",
       "  'title': 'Recycler view does not update until scrolled when using DiffUtil and submitList() with a reversed Array List'},\n",
       " {'tags': ['flutter', 'riverpod', 'gorouter'],\n",
       "  'owner': {'account_id': 26879555,\n",
       "   'reputation': 71,\n",
       "   'user_id': 20460232,\n",
       "   'user_type': 'registered',\n",
       "   'profile_image': 'https://www.gravatar.com/avatar/19dd73af8ba7ffed299ae4840a1a713f?s=256&d=identicon&r=PG',\n",
       "   'display_name': 'ilyasDev',\n",
       "   'link': 'https://stackoverflow.com/users/20460232/ilyasdev'},\n",
       "  'is_answered': False,\n",
       "  'view_count': 16,\n",
       "  'answer_count': 0,\n",
       "  'score': 0,\n",
       "  'last_activity_date': 1759361920,\n",
       "  'creation_date': 1759361920,\n",
       "  'question_id': 79780541,\n",
       "  'content_license': 'CC BY-SA 4.0',\n",
       "  'link': 'https://stackoverflow.com/questions/79780541/gorouter-redirect-to-initiallocation-after-riverpod-rebuild',\n",
       "  'title': 'GoRouter redirect to initialLocation after riverpod rebuild'},\n",
       " {'tags': ['git', 'git-am'],\n",
       "  'owner': {'account_id': 4865492,\n",
       "   'reputation': 49046,\n",
       "   'user_id': 3923896,\n",
       "   'user_type': 'registered',\n",
       "   'accept_rate': 69,\n",
       "   'profile_image': 'https://i.sstatic.net/AcZuX.png?s=256',\n",
       "   'display_name': 'Steve Summit',\n",
       "   'link': 'https://stackoverflow.com/users/3923896/steve-summit'},\n",
       "  'is_answered': False,\n",
       "  'view_count': 15,\n",
       "  'answer_count': 0,\n",
       "  'score': 0,\n",
       "  'last_activity_date': 1759362340,\n",
       "  'creation_date': 1759361892,\n",
       "  'last_edit_date': 1759362340,\n",
       "  'question_id': 79780540,\n",
       "  'content_license': 'CC BY-SA 4.0',\n",
       "  'link': 'https://stackoverflow.com/questions/79780540/how-to-properly-resolve-and-commit-conflicts-with-git-am-reject',\n",
       "  'title': 'how to properly resolve and commit conflicts with git am --reject?'},\n",
       " {'tags': ['r'],\n",
       "  'owner': {'account_id': 41672249,\n",
       "   'reputation': 143,\n",
       "   'user_id': 30397791,\n",
       "   'user_type': 'registered',\n",
       "   'profile_image': 'https://www.gravatar.com/avatar/176df76a95272b8f9087b2bb9efd4baf?s=256&d=identicon&r=PG&f=y&so-version=2',\n",
       "   'display_name': 'user30397791',\n",
       "   'link': 'https://stackoverflow.com/users/30397791/user30397791'},\n",
       "  'is_answered': False,\n",
       "  'view_count': 25,\n",
       "  'answer_count': 1,\n",
       "  'score': 0,\n",
       "  'last_activity_date': 1759362765,\n",
       "  'creation_date': 1759361155,\n",
       "  'question_id': 79780537,\n",
       "  'content_license': 'CC BY-SA 4.0',\n",
       "  'link': 'https://stackoverflow.com/questions/79780537/remove-all-rows-from-data-frame-that-contain-a-value-without-specifying-column-n',\n",
       "  'title': 'Remove all rows from data frame that contain a value without specifying column names in R'},\n",
       " {'tags': ['python', 'html', 'streamlit', 'web-development-server'],\n",
       "  'owner': {'account_id': 44166862,\n",
       "   'reputation': 1,\n",
       "   'user_id': 31611993,\n",
       "   'user_type': 'registered',\n",
       "   'profile_image': 'https://www.gravatar.com/avatar/f133f6197187b23ea5bb543d36d79daa?s=256&d=identicon&r=PG&f=y&so-version=2',\n",
       "   'display_name': 'Karthik Chandran',\n",
       "   'link': 'https://stackoverflow.com/users/31611993/karthik-chandran'},\n",
       "  'is_answered': False,\n",
       "  'view_count': 14,\n",
       "  'closed_date': 1759368227,\n",
       "  'answer_count': 1,\n",
       "  'score': -1,\n",
       "  'last_activity_date': 1759368044,\n",
       "  'creation_date': 1759361070,\n",
       "  'last_edit_date': 1759364070,\n",
       "  'question_id': 79780536,\n",
       "  'link': 'https://stackoverflow.com/questions/79780536/in-streamlit-how-do-i-create-a-one-time-touch-button',\n",
       "  'closed_reason': 'Not suitable for this site',\n",
       "  'title': 'In streamlit how do I create a one time touch button'},\n",
       " {'tags': ['xcode', 'macos', 'icloud', 'xcode-project'],\n",
       "  'owner': {'account_id': 29430897,\n",
       "   'reputation': 1,\n",
       "   'user_id': 22550636,\n",
       "   'user_type': 'registered',\n",
       "   'profile_image': 'https://www.gravatar.com/avatar/94522a611f8e06d4cdbc3936be9abcce?s=256&d=identicon&r=PG&f=y&so-version=2',\n",
       "   'display_name': 'Paxton W',\n",
       "   'link': 'https://stackoverflow.com/users/22550636/paxton-w'},\n",
       "  'is_answered': False,\n",
       "  'view_count': 11,\n",
       "  'answer_count': 0,\n",
       "  'score': -1,\n",
       "  'last_activity_date': 1759359753,\n",
       "  'creation_date': 1759359753,\n",
       "  'question_id': 79780530,\n",
       "  'content_license': 'CC BY-SA 4.0',\n",
       "  'link': 'https://stackoverflow.com/questions/79780530/xcode-project-in-icloud-drive-causes-the-file-documents-doesn-t-exist-error',\n",
       "  'title': 'Xcode project in iCloud Drive causes “The file ‘Documents’ doesn’t exist” error loop'},\n",
       " {'tags': ['javascript', 'mineflayer'],\n",
       "  'owner': {'account_id': 30390067,\n",
       "   'reputation': 1,\n",
       "   'user_id': 23289018,\n",
       "   'user_type': 'registered',\n",
       "   'profile_image': 'https://lh3.googleusercontent.com/a/ACg8ocKvy0f15Ebge8_frAdo-K0c5DYe4h0u76Fw8EoMiTNC=k-s256',\n",
       "   'display_name': 'TrueFaxx',\n",
       "   'link': 'https://stackoverflow.com/users/23289018/truefaxx'},\n",
       "  'is_answered': False,\n",
       "  'view_count': 17,\n",
       "  'answer_count': 0,\n",
       "  'score': -1,\n",
       "  'last_activity_date': 1759359300,\n",
       "  'creation_date': 1759359300,\n",
       "  'question_id': 79780529,\n",
       "  'content_license': 'CC BY-SA 4.0',\n",
       "  'link': 'https://stackoverflow.com/questions/79780529/mineflayer-assistance-with-block-interactions',\n",
       "  'title': 'Mineflayer assistance with block interactions'},\n",
       " {'tags': ['algorithm', 'matrix'],\n",
       "  'owner': {'account_id': 14359873,\n",
       "   'reputation': 27,\n",
       "   'user_id': 17937186,\n",
       "   'user_type': 'registered',\n",
       "   'profile_image': 'https://www.gravatar.com/avatar/ded00046350a3c9124e0a9bab4b55d77?s=256&d=identicon&r=PG&f=y&so-version=2',\n",
       "   'display_name': 'wya',\n",
       "   'link': 'https://stackoverflow.com/users/17937186/wya'},\n",
       "  'is_answered': False,\n",
       "  'view_count': 44,\n",
       "  'answer_count': 1,\n",
       "  'score': 0,\n",
       "  'last_activity_date': 1759360559,\n",
       "  'creation_date': 1759358580,\n",
       "  'last_edit_date': 1759360559,\n",
       "  'question_id': 79780527,\n",
       "  'content_license': 'CC BY-SA 4.0',\n",
       "  'link': 'https://stackoverflow.com/questions/79780527/how-to-find-a-safe-path-in-a-room-where-tiles-increase-in-height-each-step',\n",
       "  'title': 'How to find a safe path in a room where tiles increase in height each step?'},\n",
       " {'tags': ['optimization', 'gams-math'],\n",
       "  'owner': {'account_id': 17120194,\n",
       "   'reputation': 89,\n",
       "   'user_id': 12388609,\n",
       "   'user_type': 'registered',\n",
       "   'profile_image': 'https://www.gravatar.com/avatar/a4a337a2eb2436c14dac8b0d41f9cd48?s=256&d=identicon&r=PG&f=y&so-version=2',\n",
       "   'display_name': 'mexicanseafood',\n",
       "   'link': 'https://stackoverflow.com/users/12388609/mexicanseafood'},\n",
       "  'is_answered': False,\n",
       "  'view_count': 21,\n",
       "  'closed_date': 1759361110,\n",
       "  'answer_count': 0,\n",
       "  'score': -4,\n",
       "  'last_activity_date': 1759358128,\n",
       "  'creation_date': 1759358128,\n",
       "  'question_id': 79780522,\n",
       "  'link': 'https://stackoverflow.com/questions/79780522/gams-to-gamspy-easy-converision',\n",
       "  'closed_reason': 'Needs more focus',\n",
       "  'title': 'GAMS to GAMSPY easy converision'},\n",
       " {'tags': ['r', 'group-by'],\n",
       "  'owner': {'account_id': 17244476,\n",
       "   'reputation': 305,\n",
       "   'user_id': 12486623,\n",
       "   'user_type': 'registered',\n",
       "   'profile_image': 'https://www.gravatar.com/avatar/856ae7db64f524af06a6afc85cc8b4d9?s=256&d=identicon&r=PG&f=y&so-version=2',\n",
       "   'display_name': 'ZayzayR',\n",
       "   'link': 'https://stackoverflow.com/users/12486623/zayzayr'},\n",
       "  'is_answered': False,\n",
       "  'view_count': 32,\n",
       "  'answer_count': 1,\n",
       "  'score': 0,\n",
       "  'last_activity_date': 1759363814,\n",
       "  'creation_date': 1759357719,\n",
       "  'question_id': 79780518,\n",
       "  'content_license': 'CC BY-SA 4.0',\n",
       "  'link': 'https://stackoverflow.com/questions/79780518/r-arrange-after-grouping',\n",
       "  'title': 'R arrange after grouping'},\n",
       " {'tags': ['windows', 'ssl', 'raspberry-pi', 'synchronization', 'nextcloud'],\n",
       "  'owner': {'account_id': 12995441,\n",
       "   'reputation': 39,\n",
       "   'user_id': 9393272,\n",
       "   'user_type': 'registered',\n",
       "   'profile_image': 'https://www.gravatar.com/avatar/8223b040cd29589d8e1b3cdfbec99126?s=256&d=identicon&r=PG&f=y&so-version=2',\n",
       "   'display_name': 'Jorge D',\n",
       "   'link': 'https://stackoverflow.com/users/9393272/jorge-d'},\n",
       "  'is_answered': False,\n",
       "  'view_count': 11,\n",
       "  'closed_date': 1759365211,\n",
       "  'answer_count': 0,\n",
       "  'score': -2,\n",
       "  'last_activity_date': 1759357696,\n",
       "  'creation_date': 1759357696,\n",
       "  'question_id': 79780517,\n",
       "  'link': 'https://stackoverflow.com/questions/79780517/how-to-provide-the-safe-certificate-required-by-nextcloud-sync-client-version-3',\n",
       "  'closed_reason': 'Not suitable for this site',\n",
       "  'title': 'How to provide the safe certificate required by Nextcloud sync client version 3.17 for Windows?'},\n",
       " {'tags': ['javascript', 'google-apps-script', 'gmail-api'],\n",
       "  'owner': {'account_id': 5106713,\n",
       "   'reputation': 133,\n",
       "   'user_id': 4094596,\n",
       "   'user_type': 'registered',\n",
       "   'accept_rate': 33,\n",
       "   'profile_image': 'https://lh3.googleusercontent.com/-v_oGwAVOIP4/AAAAAAAAAAI/AAAAAAAAACw/_1DmkUZZKEs/s256-rj/photo.jpg',\n",
       "   'display_name': 'Mario Moreno Gonz&#225;lez',\n",
       "   'link': 'https://stackoverflow.com/users/4094596/mario-moreno-gonz%c3%a1lez'},\n",
       "  'is_answered': False,\n",
       "  'view_count': 36,\n",
       "  'answer_count': 1,\n",
       "  'score': -2,\n",
       "  'last_activity_date': 1759357468,\n",
       "  'creation_date': 1759357213,\n",
       "  'last_edit_date': 1759357338,\n",
       "  'question_id': 79780512,\n",
       "  'content_license': 'CC BY-SA 4.0',\n",
       "  'link': 'https://stackoverflow.com/questions/79780512/i-get-a-server-error-please-try-again-later-error-when-calling-the-gmail-api',\n",
       "  'title': 'I get a &quot;Server error. Please try again later&quot; error when calling the Gmail API'},\n",
       " {'tags': ['docker', 'docker-compose', 'etcd', 'milvus'],\n",
       "  'owner': {'account_id': 6695972,\n",
       "   'reputation': 1696,\n",
       "   'user_id': 5163984,\n",
       "   'user_type': 'registered',\n",
       "   'accept_rate': 93,\n",
       "   'profile_image': 'https://i.sstatic.net/9Yev9.png?s=256',\n",
       "   'display_name': 'Nikolay Baranenko',\n",
       "   'link': 'https://stackoverflow.com/users/5163984/nikolay-baranenko'},\n",
       "  'is_answered': False,\n",
       "  'view_count': 12,\n",
       "  'closed_date': 1759358927,\n",
       "  'answer_count': 0,\n",
       "  'score': -4,\n",
       "  'last_activity_date': 1759357116,\n",
       "  'creation_date': 1759357116,\n",
       "  'question_id': 79780511,\n",
       "  'link': 'https://stackoverflow.com/questions/79780511/how-change-docker-ip-to-hostname-in-milvus-etcd-address-by-dev-meta-session',\n",
       "  'closed_reason': 'Not suitable for this site',\n",
       "  'title': 'How change docker ip to hostname in milvus etcd Address by-dev/meta/session?'},\n",
       " {'tags': ['r', 'string', 'replace'],\n",
       "  'owner': {'account_id': 7929701,\n",
       "   'reputation': 1366,\n",
       "   'user_id': 9093302,\n",
       "   'user_type': 'registered',\n",
       "   'profile_image': 'https://www.gravatar.com/avatar/e8dd79991171ba881a6d7a40488f3596?s=256&d=identicon&r=PG&f=y&so-version=2',\n",
       "   'display_name': 'Brian Fisher',\n",
       "   'link': 'https://stackoverflow.com/users/9093302/brian-fisher'},\n",
       "  'is_answered': True,\n",
       "  'view_count': 26,\n",
       "  'answer_count': 1,\n",
       "  'score': 0,\n",
       "  'last_activity_date': 1759359356,\n",
       "  'creation_date': 1759357098,\n",
       "  'question_id': 79780510,\n",
       "  'content_license': 'CC BY-SA 4.0',\n",
       "  'link': 'https://stackoverflow.com/questions/79780510/replace-part-of-strings-with-corresponding-values-from-table-in-r',\n",
       "  'title': 'Replace part of strings with corresponding values from table in R'},\n",
       " {'tags': ['typescript', 'azure', 'azure-bot-service'],\n",
       "  'owner': {'account_id': 29431175,\n",
       "   'reputation': 1,\n",
       "   'user_id': 22550866,\n",
       "   'user_type': 'registered',\n",
       "   'profile_image': 'https://lh3.googleusercontent.com/a/ACg8ocKz9_jgOekAF_Vr5Uf_xTqvbCx1BJZfSgvrUomvC0yP=k-s256',\n",
       "   'display_name': 'Mateus Linhares',\n",
       "   'link': 'https://stackoverflow.com/users/22550866/mateus-linhares'},\n",
       "  'is_answered': False,\n",
       "  'view_count': 14,\n",
       "  'answer_count': 0,\n",
       "  'score': 0,\n",
       "  'last_activity_date': 1759356769,\n",
       "  'creation_date': 1759356769,\n",
       "  'question_id': 79780508,\n",
       "  'content_license': 'CC BY-SA 4.0',\n",
       "  'link': 'https://stackoverflow.com/questions/79780508/teamsinfo-getmember-returns-unauthorized-in-microsoft-teams-bot',\n",
       "  'title': '&quot;TeamsInfo.getMember returns Unauthorized in Microsoft Teams bot&quot;'},\n",
       " {'tags': ['delphi', 'icons', 'timagelist'],\n",
       "  'owner': {'account_id': 420191,\n",
       "   'reputation': 35,\n",
       "   'user_id': 797769,\n",
       "   'user_type': 'registered',\n",
       "   'profile_image': 'https://www.gravatar.com/avatar/73a10568e30ef8fac39be9dc5364e61a?s=256&d=identicon&r=PG',\n",
       "   'display_name': 'natraj',\n",
       "   'link': 'https://stackoverflow.com/users/797769/natraj'},\n",
       "  'is_answered': True,\n",
       "  'view_count': 28,\n",
       "  'accepted_answer_id': 79780509,\n",
       "  'answer_count': 1,\n",
       "  'score': 1,\n",
       "  'last_activity_date': 1759360224,\n",
       "  'creation_date': 1759356019,\n",
       "  'question_id': 79780505,\n",
       "  'content_license': 'CC BY-SA 4.0',\n",
       "  'link': 'https://stackoverflow.com/questions/79780505/add-icon-to-imagelist-without-duplicates',\n",
       "  'title': 'Add Icon to ImageList without Duplicates'},\n",
       " {'tags': ['excel', 'data-analysis'],\n",
       "  'owner': {'account_id': 22235500,\n",
       "   'reputation': 9,\n",
       "   'user_id': 16470952,\n",
       "   'user_type': 'registered',\n",
       "   'profile_image': 'https://www.gravatar.com/avatar/6a0eb4eb71cf81d1678ec200fae6cbb4?s=256&d=identicon&r=PG&f=y&so-version=2',\n",
       "   'display_name': 'Buchi',\n",
       "   'link': 'https://stackoverflow.com/users/16470952/buchi'},\n",
       "  'is_answered': False,\n",
       "  'view_count': 28,\n",
       "  'closed_date': 1759355629,\n",
       "  'answer_count': 0,\n",
       "  'score': -6,\n",
       "  'last_activity_date': 1759355351,\n",
       "  'creation_date': 1759355351,\n",
       "  'question_id': 79780499,\n",
       "  'link': 'https://stackoverflow.com/questions/79780499/how-do-standard-deviation-and-quartiles-help-us-understand-a-dataset',\n",
       "  'closed_reason': 'Not suitable for this site',\n",
       "  'title': 'How Do Standard Deviation and Quartiles Help Us Understand a Dataset?'},\n",
       " {'tags': ['ios', 'flutter', 'firebase', 'firebase-app-check'],\n",
       "  'owner': {'account_id': 30259905,\n",
       "   'reputation': 480,\n",
       "   'user_id': 23190147,\n",
       "   'user_type': 'registered',\n",
       "   'profile_image': 'https://www.gravatar.com/avatar/07992803be60cdf6c3193f438ca21164?s=256&d=identicon&r=PG&f=y&so-version=2',\n",
       "   'display_name': '5rod',\n",
       "   'link': 'https://stackoverflow.com/users/23190147/5rod'},\n",
       "  'is_answered': False,\n",
       "  'view_count': 21,\n",
       "  'answer_count': 0,\n",
       "  'score': 0,\n",
       "  'last_activity_date': 1759368440,\n",
       "  'creation_date': 1759355206,\n",
       "  'last_edit_date': 1759368440,\n",
       "  'question_id': 79780495,\n",
       "  'content_license': 'CC BY-SA 4.0',\n",
       "  'link': 'https://stackoverflow.com/questions/79780495/why-does-firebase-app-check-think-that-my-app-is-not-registered',\n",
       "  'title': 'Why does Firebase App Check think that my app is not registered?'},\n",
       " {'tags': ['c#', 'bouncycastle', 'openpgp'],\n",
       "  'owner': {'account_id': 16692869,\n",
       "   'reputation': 113,\n",
       "   'user_id': 12064991,\n",
       "   'user_type': 'registered',\n",
       "   'profile_image': 'https://www.gravatar.com/avatar/27706c1170a1e725051758de8d7db541?s=256&d=identicon&r=PG&f=y&so-version=2',\n",
       "   'display_name': 'Shane',\n",
       "   'link': 'https://stackoverflow.com/users/12064991/shane'},\n",
       "  'is_answered': False,\n",
       "  'view_count': 19,\n",
       "  'answer_count': 0,\n",
       "  'score': 0,\n",
       "  'last_activity_date': 1759354715,\n",
       "  'creation_date': 1759354715,\n",
       "  'question_id': 79780490,\n",
       "  'content_license': 'CC BY-SA 4.0',\n",
       "  'link': 'https://stackoverflow.com/questions/79780490/how-to-pgp-decrypt-a-file-that-uses-aead-with-bouncy-castle',\n",
       "  'title': 'How to PGP decrypt a file that uses AEAD with bouncy castle?'},\n",
       " {'tags': ['ssl', 'rust', 'private-key'],\n",
       "  'owner': {'account_id': 14812560,\n",
       "   'reputation': 162,\n",
       "   'user_id': 12634797,\n",
       "   'user_type': 'registered',\n",
       "   'profile_image': 'https://www.gravatar.com/avatar/063fdee69a90d4a9c518dbbac01b7ceb?s=256&d=identicon&r=PG&f=y&so-version=2',\n",
       "   'display_name': 'mwolfe 11',\n",
       "   'link': 'https://stackoverflow.com/users/12634797/mwolfe-11'},\n",
       "  'is_answered': False,\n",
       "  'view_count': 9,\n",
       "  'answer_count': 0,\n",
       "  'score': 0,\n",
       "  'last_activity_date': 1759354663,\n",
       "  'creation_date': 1759354663,\n",
       "  'question_id': 79780489,\n",
       "  'content_license': 'CC BY-SA 4.0',\n",
       "  'link': 'https://stackoverflow.com/questions/79780489/with-rust-pki-types-reading-private-key-from-file-throws-errornoitemsfound',\n",
       "  'title': 'With rust_pki_types, reading private key from file throws Error::NoItemsFound'},\n",
       " {'tags': ['html', 'css'],\n",
       "  'owner': {'account_id': 44166420,\n",
       "   'reputation': 1,\n",
       "   'user_id': 31611806,\n",
       "   'user_type': 'registered',\n",
       "   'profile_image': 'https://www.gravatar.com/avatar/263f08ff50caefa38330e81cb395f5bb?s=256&d=identicon&r=PG&f=y&so-version=2',\n",
       "   'display_name': 'alaska22',\n",
       "   'link': 'https://stackoverflow.com/users/31611806/alaska22'},\n",
       "  'is_answered': False,\n",
       "  'view_count': 31,\n",
       "  'answer_count': 0,\n",
       "  'score': -1,\n",
       "  'last_activity_date': 1759354615,\n",
       "  'creation_date': 1759354337,\n",
       "  'last_edit_date': 1759354615,\n",
       "  'question_id': 79780488,\n",
       "  'content_license': 'CC BY-SA 4.0',\n",
       "  'link': 'https://stackoverflow.com/questions/79780488/how-to-get-images-on-html-site-to-stay-in-position-relative-to-background-image',\n",
       "  'title': 'How to get images on HTML site to stay in position relative to background image as it scales across screen sizes?'},\n",
       " {'tags': ['c#', 'docker', 'docker-compose', 'blazor', 'blazor-webassembly'],\n",
       "  'owner': {'account_id': 17538143,\n",
       "   'reputation': 473,\n",
       "   'user_id': 12720807,\n",
       "   'user_type': 'registered',\n",
       "   'profile_image': 'https://lh5.googleusercontent.com/-Xle2nyJowns/AAAAAAAAAAI/AAAAAAAAAAA/ACHi3recJtsLAiq5sKrFLZi7P-O24M5SXQ/s256-rj/photo.jpg',\n",
       "   'display_name': 'Daniel Kelsch',\n",
       "   'link': 'https://stackoverflow.com/users/12720807/daniel-kelsch'},\n",
       "  'is_answered': False,\n",
       "  'view_count': 13,\n",
       "  'answer_count': 0,\n",
       "  'score': 0,\n",
       "  'last_activity_date': 1759354027,\n",
       "  'creation_date': 1759354027,\n",
       "  'question_id': 79780486,\n",
       "  'content_license': 'CC BY-SA 4.0',\n",
       "  'link': 'https://stackoverflow.com/questions/79780486/debugging-not-working-with-blazor-wasm-app-served-though-mvc-app-when-ran-throug',\n",
       "  'title': 'Debugging Not Working With Blazor Wasm App Served Though MVC App When Ran Through Docker-Compose'},\n",
       " {'tags': ['visual-studio', 'maui', 'maui-windows'],\n",
       "  'owner': {'account_id': 377829,\n",
       "   'reputation': 12118,\n",
       "   'user_id': 730194,\n",
       "   'user_type': 'registered',\n",
       "   'accept_rate': 61,\n",
       "   'profile_image': 'https://www.gravatar.com/avatar/fb75af7a871d88919d9cc7c0c9e687e9?s=256&d=identicon&r=PG',\n",
       "   'display_name': 'Peter',\n",
       "   'link': 'https://stackoverflow.com/users/730194/peter'},\n",
       "  'is_answered': False,\n",
       "  'view_count': 10,\n",
       "  'answer_count': 0,\n",
       "  'score': 0,\n",
       "  'last_activity_date': 1759353612,\n",
       "  'creation_date': 1759353612,\n",
       "  'question_id': 79780483,\n",
       "  'content_license': 'CC BY-SA 4.0',\n",
       "  'link': 'https://stackoverflow.com/questions/79780483/how-to-reference-native-c-dll-in-a-net-maui-project',\n",
       "  'title': 'How to reference native C++ DLL in a .NET MAUI project?'},\n",
       " {'tags': ['google-drive-api', 'chatgpt-api'],\n",
       "  'owner': {'account_id': 6408296,\n",
       "   'reputation': 19,\n",
       "   'user_id': 4968797,\n",
       "   'user_type': 'registered',\n",
       "   'profile_image': 'https://www.gravatar.com/avatar/1e7ae81469edcb6b7cee639782ccb785?s=256&d=identicon&r=PG&f=y&so-version=2',\n",
       "   'display_name': 'willy3cub',\n",
       "   'link': 'https://stackoverflow.com/users/4968797/willy3cub'},\n",
       "  'is_answered': False,\n",
       "  'view_count': 23,\n",
       "  'closed_date': 1759365925,\n",
       "  'answer_count': 0,\n",
       "  'score': -2,\n",
       "  'last_activity_date': 1759353010,\n",
       "  'creation_date': 1759353010,\n",
       "  'question_id': 79780477,\n",
       "  'link': 'https://stackoverflow.com/questions/79780477/custom-chat-gpt-failed-to-download-a-file-on-google-drive-with-api',\n",
       "  'closed_reason': 'Not suitable for this site',\n",
       "  'title': 'Custom Chat GPT failed to download a file on Google drive with API'},\n",
       " {'tags': ['sql-server-2022'],\n",
       "  'owner': {'account_id': 23949229,\n",
       "   'reputation': 1,\n",
       "   'user_id': 17941112,\n",
       "   'user_type': 'registered',\n",
       "   'profile_image': 'https://www.gravatar.com/avatar/8dc9b8be7aa70489185457d9cc17d653?s=256&d=identicon&r=PG&f=y&so-version=2',\n",
       "   'display_name': 'Saif',\n",
       "   'link': 'https://stackoverflow.com/users/17941112/saif'},\n",
       "  'is_answered': False,\n",
       "  'view_count': 8,\n",
       "  'closed_date': 1759366550,\n",
       "  'answer_count': 0,\n",
       "  'score': 0,\n",
       "  'last_activity_date': 1759352484,\n",
       "  'creation_date': 1759352484,\n",
       "  'question_id': 79780474,\n",
       "  'link': 'https://stackoverflow.com/questions/79780474/sql-server-2022-setup-fails-mof-compiler-cannot-connect-to-wmi-server-perflib',\n",
       "  'closed_reason': 'Not suitable for this site',\n",
       "  'title': 'SQL Server 2022 setup fails: MOF compiler cannot connect to WMI server &amp; PerfLib 2.0 counter removal failed'},\n",
       " {'tags': ['jenkins', 'jenkins-shared-libraries'],\n",
       "  'owner': {'account_id': 30025581,\n",
       "   'reputation': 143,\n",
       "   'user_id': 23009910,\n",
       "   'user_type': 'registered',\n",
       "   'profile_image': 'https://lh3.googleusercontent.com/a/ACg8ocJIfzaihF9TUZfiuhVxn1Inpp71oRIcvBCTCmq8p4Flzw=k-s256',\n",
       "   'display_name': 'OmniZ',\n",
       "   'link': 'https://stackoverflow.com/users/23009910/omniz'},\n",
       "  'is_answered': False,\n",
       "  'view_count': 4,\n",
       "  'answer_count': 0,\n",
       "  'score': 0,\n",
       "  'last_activity_date': 1759352461,\n",
       "  'creation_date': 1759352461,\n",
       "  'question_id': 79780473,\n",
       "  'content_license': 'CC BY-SA 4.0',\n",
       "  'link': 'https://stackoverflow.com/questions/79780473/in-jenkins-how-do-i-import-some-but-not-all-functions-from-shared-library-var',\n",
       "  'title': 'In Jenkins, how do I import some, but not all, functions from shared library vars folder?'},\n",
       " {'tags': ['swift', 'swiftui'],\n",
       "  'owner': {'account_id': 19852040,\n",
       "   'reputation': 1653,\n",
       "   'user_id': 14542345,\n",
       "   'user_type': 'registered',\n",
       "   'profile_image': 'https://www.gravatar.com/avatar/d0dc7b5ad9f1809a9fb9df1d9a481f35?s=256&d=identicon&r=PG&f=y&so-version=2',\n",
       "   'display_name': 'viedev',\n",
       "   'link': 'https://stackoverflow.com/users/14542345/viedev'},\n",
       "  'is_answered': False,\n",
       "  'view_count': 17,\n",
       "  'answer_count': 1,\n",
       "  'score': 0,\n",
       "  'last_activity_date': 1759365790,\n",
       "  'creation_date': 1759352302,\n",
       "  'last_edit_date': 1759352956,\n",
       "  'question_id': 79780469,\n",
       "  'content_license': 'CC BY-SA 4.0',\n",
       "  'link': 'https://stackoverflow.com/questions/79780469/attributedstring-mixed-attributes-get-overwritten',\n",
       "  'title': 'AttributedString: Mixed attributes get overwritten'},\n",
       " {'tags': ['google-sheets', 'google-apps-script', 'custom-function'],\n",
       "  'owner': {'account_id': 30427428,\n",
       "   'reputation': 11,\n",
       "   'user_id': 23317371,\n",
       "   'user_type': 'registered',\n",
       "   'profile_image': 'https://www.gravatar.com/avatar/9d4d8e3f5f445b2cd0e4e95e93648962?s=256&d=identicon&r=PG&f=y&so-version=2',\n",
       "   'display_name': 'Teens',\n",
       "   'link': 'https://stackoverflow.com/users/23317371/teens'},\n",
       "  'is_answered': False,\n",
       "  'view_count': 15,\n",
       "  'answer_count': 1,\n",
       "  'score': -1,\n",
       "  'last_activity_date': 1759372380,\n",
       "  'creation_date': 1759352229,\n",
       "  'last_edit_date': 1759372159,\n",
       "  'question_id': 79780468,\n",
       "  'content_license': 'CC BY-SA 4.0',\n",
       "  'link': 'https://stackoverflow.com/questions/79780468/apps-script-permissions-error-get-sheet-url',\n",
       "  'title': 'Apps Script: Permissions Error: Get Sheet URL'},\n",
       " {'tags': ['r', 'ggplot2'],\n",
       "  'owner': {'account_id': 44165173,\n",
       "   'reputation': 11,\n",
       "   'user_id': 31611212,\n",
       "   'user_type': 'registered',\n",
       "   'profile_image': 'https://www.gravatar.com/avatar/4377a1c542faf19dc3b3d3d95bcacc95?s=256&d=identicon&r=PG&f=y&so-version=2',\n",
       "   'display_name': 'user31611212',\n",
       "   'link': 'https://stackoverflow.com/users/31611212/user31611212'},\n",
       "  'is_answered': False,\n",
       "  'view_count': 32,\n",
       "  'answer_count': 1,\n",
       "  'score': 0,\n",
       "  'last_activity_date': 1759356713,\n",
       "  'creation_date': 1759352107,\n",
       "  'question_id': 79780466,\n",
       "  'content_license': 'CC BY-SA 4.0',\n",
       "  'link': 'https://stackoverflow.com/questions/79780466/create-plot-in-r-with-multiple-y-variables-and-two-lines-on-one-axis',\n",
       "  'title': 'Create plot in R with multiple y variables and two lines on one axis'},\n",
       " {'tags': ['windows', 'git', 'git-bash', 'pwd'],\n",
       "  'owner': {'account_id': 10903108,\n",
       "   'reputation': 2098,\n",
       "   'user_id': 8014824,\n",
       "   'user_type': 'registered',\n",
       "   'profile_image': 'https://www.gravatar.com/avatar/4b35612f8a1d89273608818a662d2838?s=256&d=identicon&r=PG&f=y&so-version=2',\n",
       "   'display_name': 'Dennis',\n",
       "   'link': 'https://stackoverflow.com/users/8014824/dennis'},\n",
       "  'is_answered': False,\n",
       "  'view_count': 13,\n",
       "  'answer_count': 0,\n",
       "  'score': -1,\n",
       "  'last_activity_date': 1759372277,\n",
       "  'creation_date': 1759351938,\n",
       "  'last_edit_date': 1759372277,\n",
       "  'question_id': 79780463,\n",
       "  'content_license': 'CC BY-SA 4.0',\n",
       "  'link': 'https://stackoverflow.com/questions/79780463/how-do-i-refer-to-current-path-in-git-config-using-gnu-bash',\n",
       "  'title': 'How do I refer to current path in Git config using GNU bash?'},\n",
       " {'tags': ['c++', 'rust'],\n",
       "  'owner': {'account_id': 28695553,\n",
       "   'reputation': 1,\n",
       "   'user_id': 21973850,\n",
       "   'user_type': 'registered',\n",
       "   'profile_image': 'https://www.gravatar.com/avatar/73e455779e100643c0251d65c06e188b?s=256&d=identicon&r=PG&f=y&so-version=2',\n",
       "   'display_name': 'fjavier72',\n",
       "   'link': 'https://stackoverflow.com/users/21973850/fjavier72'},\n",
       "  'is_answered': False,\n",
       "  'view_count': 91,\n",
       "  'closed_date': 1759352021,\n",
       "  'answer_count': 0,\n",
       "  'score': -7,\n",
       "  'last_activity_date': 1759351841,\n",
       "  'creation_date': 1759351841,\n",
       "  'question_id': 79780461,\n",
       "  'link': 'https://stackoverflow.com/questions/79780461/is-c-really-that-unsafe',\n",
       "  'closed_reason': 'Opinion-based',\n",
       "  'title': 'Is C++ really that unsafe?'},\n",
       " {'tags': ['steam', 'unreal-engine5', 'blueprint'],\n",
       "  'owner': {'account_id': 19381373,\n",
       "   'reputation': 41,\n",
       "   'user_id': 14172565,\n",
       "   'user_type': 'registered',\n",
       "   'profile_image': 'https://www.gravatar.com/avatar/6c5057686075893db7fde65f0bc857d4?s=256&d=identicon&r=PG&f=y&so-version=2',\n",
       "   'display_name': 'Bn&#39;R',\n",
       "   'link': 'https://stackoverflow.com/users/14172565/bnr'},\n",
       "  'is_answered': False,\n",
       "  'view_count': 8,\n",
       "  'closed_date': 1759365193,\n",
       "  'answer_count': 0,\n",
       "  'score': 0,\n",
       "  'last_activity_date': 1759351811,\n",
       "  'creation_date': 1759351811,\n",
       "  'question_id': 79780460,\n",
       "  'link': 'https://stackoverflow.com/questions/79780460/steam-integration-kit-unreal-engine-5',\n",
       "  'closed_reason': 'Not suitable for this site',\n",
       "  'title': 'steam integration kit unreal engine 5'},\n",
       " {'tags': ['amazon-web-services', 'cloud', 'strongswan', 'libreswan'],\n",
       "  'owner': {'account_id': 44165971,\n",
       "   'reputation': 1,\n",
       "   'user_id': 31611622,\n",
       "   'user_type': 'registered',\n",
       "   'profile_image': 'https://www.gravatar.com/avatar/1a3f5d9fd7af259d088ddd172aebd872?s=256&d=identicon&r=PG&f=y&so-version=2',\n",
       "   'display_name': 'khady lo seck',\n",
       "   'link': 'https://stackoverflow.com/users/31611622/khady-lo-seck'},\n",
       "  'is_answered': False,\n",
       "  'view_count': 14,\n",
       "  'closed_date': 1759361318,\n",
       "  'answer_count': 0,\n",
       "  'score': -2,\n",
       "  'last_activity_date': 1759351249,\n",
       "  'creation_date': 1759351249,\n",
       "  'question_id': 79780455,\n",
       "  'link': 'https://stackoverflow.com/questions/79780455/tunnel-configuration-for-side-to-side-vpn-set-up',\n",
       "  'closed_reason': 'Not suitable for this site',\n",
       "  'title': 'Tunnel Configuration for side to side vpn set up'},\n",
       " {'tags': ['c++', 'multiple-inheritance'],\n",
       "  'owner': {'account_id': 3932743,\n",
       "   'reputation': 233,\n",
       "   'user_id': 3250528,\n",
       "   'user_type': 'registered',\n",
       "   'accept_rate': 25,\n",
       "   'profile_image': 'https://www.gravatar.com/avatar/3c8d4f2acd0e3ee503592eebb0c3f7a4?s=256&d=identicon&r=PG&f=y&so-version=2',\n",
       "   'display_name': 'SuperBald',\n",
       "   'link': 'https://stackoverflow.com/users/3250528/superbald'},\n",
       "  'is_answered': True,\n",
       "  'view_count': 103,\n",
       "  'answer_count': 2,\n",
       "  'score': 5,\n",
       "  'last_activity_date': 1759353722,\n",
       "  'creation_date': 1759351059,\n",
       "  'last_edit_date': 1759353722,\n",
       "  'question_id': 79780452,\n",
       "  'content_license': 'CC BY-SA 4.0',\n",
       "  'link': 'https://stackoverflow.com/questions/79780452/this-pointer-in-multiple-inheritance-of-c-class',\n",
       "  'title': '&#39;this&#39; pointer in multiple inheritance of C++ class'},\n",
       " {'tags': ['python', 'unix', 'pyspark'],\n",
       "  'owner': {'account_id': 22266266,\n",
       "   'reputation': 31,\n",
       "   'user_id': 16497016,\n",
       "   'user_type': 'registered',\n",
       "   'profile_image': 'https://lh3.googleusercontent.com/a/AATXAJzPRe8dQcDqjzagUjgHOMnzfEt0gOeNb82bJLyL=k-s256',\n",
       "   'display_name': 'Th333w1',\n",
       "   'link': 'https://stackoverflow.com/users/16497016/th333w1'},\n",
       "  'is_answered': False,\n",
       "  'view_count': 22,\n",
       "  'closed_date': 1759369794,\n",
       "  'answer_count': 0,\n",
       "  'score': -4,\n",
       "  'last_activity_date': 1759352549,\n",
       "  'creation_date': 1759350990,\n",
       "  'last_edit_date': 1759352549,\n",
       "  'question_id': 79780451,\n",
       "  'link': 'https://stackoverflow.com/questions/79780451/spark-session-session',\n",
       "  'closed_reason': 'Needs details or clarity',\n",
       "  'title': 'Spark session session'},\n",
       " {'tags': ['python',\n",
       "   'embedded',\n",
       "   'artificial-intelligence',\n",
       "   'vectorization',\n",
       "   'embedding'],\n",
       "  'owner': {'account_id': 15824435,\n",
       "   'reputation': 1,\n",
       "   'user_id': 11417816,\n",
       "   'user_type': 'registered',\n",
       "   'profile_image': 'https://www.gravatar.com/avatar/cc840a20af14f1dcf9a74b3996789dd7?s=256&d=identicon&r=PG&f=y&so-version=2',\n",
       "   'display_name': 'Martin G',\n",
       "   'link': 'https://stackoverflow.com/users/11417816/martin-g'},\n",
       "  'is_answered': False,\n",
       "  'view_count': 20,\n",
       "  'answer_count': 0,\n",
       "  'score': -1,\n",
       "  'last_activity_date': 1759350449,\n",
       "  'creation_date': 1759350449,\n",
       "  'question_id': 79780448,\n",
       "  'content_license': 'CC BY-SA 4.0',\n",
       "  'link': 'https://stackoverflow.com/questions/79780448/i-want-to-add-words-in-a-vector-db-with-a-embedding-model-never-be-trained-wit',\n",
       "  'title': 'i want to add &quot;words&quot; in a vector DB with a Embedding model never be trained with those &quot;words&quot;'},\n",
       " {'tags': ['blazor', 'stripe-payments', 'blazor-webassembly'],\n",
       "  'owner': {'account_id': 1886091,\n",
       "   'reputation': 30954,\n",
       "   'user_id': 1705266,\n",
       "   'user_type': 'registered',\n",
       "   'accept_rate': 77,\n",
       "   'profile_image': 'https://i.sstatic.net/eV8wY.png?s=256',\n",
       "   'display_name': 'Sam',\n",
       "   'link': 'https://stackoverflow.com/users/1705266/sam'},\n",
       "  'is_answered': False,\n",
       "  'view_count': 20,\n",
       "  'answer_count': 0,\n",
       "  'score': 0,\n",
       "  'last_activity_date': 1759350374,\n",
       "  'creation_date': 1759350374,\n",
       "  'question_id': 79780447,\n",
       "  'content_license': 'CC BY-SA 4.0',\n",
       "  'link': 'https://stackoverflow.com/questions/79780447/detecting-url-changes-in-iframe-in-blazor',\n",
       "  'title': 'Detecting URL changes in iframe in Blazor'},\n",
       " {'tags': ['office365'],\n",
       "  'owner': {'account_id': 44165949,\n",
       "   'reputation': 1,\n",
       "   'user_id': 31611614,\n",
       "   'user_type': 'registered',\n",
       "   'profile_image': 'https://www.gravatar.com/avatar/1a120d3e50ee3807a9f96e1c41c4b42f?s=256&d=identicon&r=PG&f=y&so-version=2',\n",
       "   'display_name': 'xanadian9',\n",
       "   'link': 'https://stackoverflow.com/users/31611614/xanadian9'},\n",
       "  'is_answered': False,\n",
       "  'view_count': 13,\n",
       "  'closed_date': 1759351119,\n",
       "  'answer_count': 0,\n",
       "  'score': -4,\n",
       "  'last_activity_date': 1759350284,\n",
       "  'creation_date': 1759350284,\n",
       "  'question_id': 79780445,\n",
       "  'link': 'https://stackoverflow.com/questions/79780445/brand-new-user-cannot-log-into-m365-says-password-is-incorrect',\n",
       "  'closed_reason': 'Not suitable for this site',\n",
       "  'title': 'Brand new user cannot log into M365, says password is incorrect'},\n",
       " {'tags': ['visual-studio-code', 'p5.js'],\n",
       "  'owner': {'account_id': 44160097,\n",
       "   'reputation': 1,\n",
       "   'user_id': 31608530,\n",
       "   'user_type': 'registered',\n",
       "   'profile_image': 'https://www.gravatar.com/avatar/1486ffaf6654bc376897c64d934b6e95?s=256&d=identicon&r=PG&f=y&so-version=2',\n",
       "   'display_name': 'LETTUCECOMPLEX',\n",
       "   'link': 'https://stackoverflow.com/users/31608530/lettucecomplex'},\n",
       "  'is_answered': False,\n",
       "  'view_count': 12,\n",
       "  'answer_count': 0,\n",
       "  'score': 0,\n",
       "  'last_activity_date': 1759349966,\n",
       "  'creation_date': 1759349966,\n",
       "  'question_id': 79780444,\n",
       "  'content_license': 'CC BY-SA 4.0',\n",
       "  'link': 'https://stackoverflow.com/questions/79780444/using-vscode-for-p5-js-but-live-server-always-shows-up-blank',\n",
       "  'title': 'Using Vscode for P5.js but live server always shows up blank'},\n",
       " {'tags': ['javascript', 'angular'],\n",
       "  'owner': {'account_id': 240821,\n",
       "   'reputation': 2508,\n",
       "   'user_id': 511273,\n",
       "   'user_type': 'registered',\n",
       "   'accept_rate': 42,\n",
       "   'profile_image': 'https://www.gravatar.com/avatar/fb1efcad9bb707d1396bf86f56438fe0?s=256&d=identicon&r=PG',\n",
       "   'display_name': 'Bluebaron',\n",
       "   'link': 'https://stackoverflow.com/users/511273/bluebaron'},\n",
       "  'is_answered': False,\n",
       "  'view_count': 31,\n",
       "  'closed_date': 1759356377,\n",
       "  'answer_count': 0,\n",
       "  'score': -2,\n",
       "  'last_activity_date': 1759349943,\n",
       "  'creation_date': 1759349943,\n",
       "  'question_id': 79780443,\n",
       "  'link': 'https://stackoverflow.com/questions/79780443/removealllisteners-not-provided-in-one-project-but-is-provided-in-another',\n",
       "  'closed_reason': 'Needs details or clarity',\n",
       "  'title': 'removeAllListeners not provided in one project but is provided in another'},\n",
       " {'tags': ['php'],\n",
       "  'owner': {'account_id': 44165466,\n",
       "   'reputation': 1,\n",
       "   'user_id': 31611375,\n",
       "   'user_type': 'registered',\n",
       "   'profile_image': 'https://www.gravatar.com/avatar/46c2f49d55c5d60824ebc66e88b28b2f?s=256&d=identicon&r=PG&f=y&so-version=2',\n",
       "   'display_name': 'OnceUpon',\n",
       "   'link': 'https://stackoverflow.com/users/31611375/onceupon'},\n",
       "  'is_answered': False,\n",
       "  'view_count': 25,\n",
       "  'answer_count': 0,\n",
       "  'score': -6,\n",
       "  'last_activity_date': 1759350712,\n",
       "  'creation_date': 1759349737,\n",
       "  'last_edit_date': 1759350712,\n",
       "  'question_id': 79780439,\n",
       "  'content_license': 'CC BY-SA 4.0',\n",
       "  'link': 'https://stackoverflow.com/questions/79780439/api-failed-to-open-stream-connection-refused',\n",
       "  'title': 'API failed to open stream: connection refused'},\n",
       " {'tags': ['linkedin-api'],\n",
       "  'owner': {'account_id': 44165158,\n",
       "   'reputation': 1,\n",
       "   'user_id': 31611205,\n",
       "   'user_type': 'registered',\n",
       "   'profile_image': 'https://www.gravatar.com/avatar/517a24fcf1c097123e24872475aabb53?s=256&d=identicon&r=PG&f=y&so-version=2',\n",
       "   'display_name': 'Andro IDE',\n",
       "   'link': 'https://stackoverflow.com/users/31611205/andro-ide'},\n",
       "  'is_answered': False,\n",
       "  'view_count': 6,\n",
       "  'answer_count': 0,\n",
       "  'score': 0,\n",
       "  'last_activity_date': 1759349701,\n",
       "  'creation_date': 1759349701,\n",
       "  'question_id': 79780437,\n",
       "  'content_license': 'CC BY-SA 4.0',\n",
       "  'link': 'https://stackoverflow.com/questions/79780437/linkedin-marketing-api-how-to-filter-adcampaigns-by-multiple-statuses-using-sea',\n",
       "  'title': 'LinkedIn Marketing API: How to filter adCampaigns by multiple statuses using search parameter without 400 error?'},\n",
       " {'tags': ['ios', 'payment', 'apple-developer', 'apple-developer-enterprise'],\n",
       "  'owner': {'account_id': 11568709,\n",
       "   'reputation': 65,\n",
       "   'user_id': 8476100,\n",
       "   'user_type': 'registered',\n",
       "   'profile_image': 'https://lh5.googleusercontent.com/-h2R-rosfcgg/AAAAAAAAAAI/AAAAAAAAAOY/bwawONOnBKs/s256-rj/photo.jpg',\n",
       "   'display_name': 'IMAD UL-HASSAN',\n",
       "   'link': 'https://stackoverflow.com/users/8476100/imad-ul-hassan'},\n",
       "  'is_answered': False,\n",
       "  'view_count': 16,\n",
       "  'closed_date': 1759349751,\n",
       "  'answer_count': 0,\n",
       "  'score': -3,\n",
       "  'last_activity_date': 1759349442,\n",
       "  'creation_date': 1759349442,\n",
       "  'question_id': 79780434,\n",
       "  'link': 'https://stackoverflow.com/questions/79780434/apple-developer-membership-renewal-issue',\n",
       "  'closed_reason': 'Not suitable for this site',\n",
       "  'title': 'Apple developer memberShip Renewal Issue'},\n",
       " {'tags': ['r', 'gtsummary'],\n",
       "  'owner': {'account_id': 40973609,\n",
       "   'reputation': 167,\n",
       "   'user_id': 30055639,\n",
       "   'user_type': 'registered',\n",
       "   'profile_image': 'https://www.gravatar.com/avatar/7cb0ab297214ae7085a898dabfaeb640?s=256&d=identicon&r=PG&f=y&so-version=2',\n",
       "   'display_name': 'Ranjan Karmakar',\n",
       "   'link': 'https://stackoverflow.com/users/30055639/ranjan-karmakar'},\n",
       "  'is_answered': False,\n",
       "  'view_count': 16,\n",
       "  'answer_count': 1,\n",
       "  'score': 1,\n",
       "  'last_activity_date': 1759355204,\n",
       "  'creation_date': 1759349174,\n",
       "  'question_id': 79780432,\n",
       "  'content_license': 'CC BY-SA 4.0',\n",
       "  'link': 'https://stackoverflow.com/questions/79780432/gtsummary-header-counts-with-tbl-strata-nested-stack',\n",
       "  'title': 'GTSUMMARY Header counts with TBL_STRATA_NESTED_STACK'},\n",
       " {'tags': ['docker', 'automation', 'n8n'],\n",
       "  'owner': {'account_id': 44165059,\n",
       "   'reputation': 1,\n",
       "   'user_id': 31611150,\n",
       "   'user_type': 'registered',\n",
       "   'profile_image': 'https://www.gravatar.com/avatar/472ceba0d489ce7bd2b1e39f7790c274?s=256&d=identicon&r=PG&f=y&so-version=2',\n",
       "   'display_name': 'PFL',\n",
       "   'link': 'https://stackoverflow.com/users/31611150/pfl'},\n",
       "  'is_answered': False,\n",
       "  'view_count': 13,\n",
       "  'answer_count': 0,\n",
       "  'score': 0,\n",
       "  'last_activity_date': 1759349068,\n",
       "  'creation_date': 1759349068,\n",
       "  'question_id': 79780431,\n",
       "  'content_license': 'CC BY-SA 4.0',\n",
       "  'link': 'https://stackoverflow.com/questions/79780431/n8n-rest-api-always-returns-401-unauthorized-ce-docker-desktop-on-windows-11',\n",
       "  'title': 'n8n REST API always returns 401 Unauthorized (CE, Docker Desktop on Windows 11)'},\n",
       " {'tags': ['sql', 'regex', 'oracle-database'],\n",
       "  'owner': {'account_id': 15343311,\n",
       "   'reputation': 384,\n",
       "   'user_id': 11069614,\n",
       "   'user_type': 'registered',\n",
       "   'profile_image': 'https://graph.facebook.com/314687309394719/picture?type=large',\n",
       "   'display_name': 'Ben Smith',\n",
       "   'link': 'https://stackoverflow.com/users/11069614/ben-smith'},\n",
       "  'is_answered': False,\n",
       "  'view_count': 36,\n",
       "  'closed_date': 1759350025,\n",
       "  'answer_count': 0,\n",
       "  'score': -4,\n",
       "  'last_activity_date': 1759354703,\n",
       "  'creation_date': 1759349043,\n",
       "  'last_edit_date': 1759349130,\n",
       "  'question_id': 79780430,\n",
       "  'link': 'https://stackoverflow.com/questions/79780430/get-the-8th-element-of-a-string-divided-by-character',\n",
       "  'closed_reason': 'Duplicate',\n",
       "  'title': 'Get the 8th element of a string divided by &quot;/&quot; character'},\n",
       " {'tags': ['javascript', 'jquery'],\n",
       "  'owner': {'account_id': 14989385,\n",
       "   'reputation': 25,\n",
       "   'user_id': 10821035,\n",
       "   'user_type': 'registered',\n",
       "   'profile_image': 'https://www.gravatar.com/avatar/5d63a1be8d8115d825d74bad99b4e2b9?s=256&d=identicon&r=PG&f=y&so-version=2',\n",
       "   'display_name': 'tomcaptain',\n",
       "   'link': 'https://stackoverflow.com/users/10821035/tomcaptain'},\n",
       "  'is_answered': False,\n",
       "  'view_count': 37,\n",
       "  'closed_date': 1759354980,\n",
       "  'answer_count': 1,\n",
       "  'score': -2,\n",
       "  'last_activity_date': 1759357009,\n",
       "  'creation_date': 1759349043,\n",
       "  'last_edit_date': 1759354453,\n",
       "  'question_id': 79780429,\n",
       "  'link': 'https://stackoverflow.com/questions/79780429/copy-and-cut-selected-text-using-javascript-and-paste-all-3-functions-on-button',\n",
       "  'closed_reason': 'Duplicate',\n",
       "  'title': 'Copy and Cut Selected Text using JavaScript and Paste, all 3 functions on button clicks'},\n",
       " {'tags': ['windows', 'rust', 'ms-media-foundation', 'virtual-camera'],\n",
       "  'owner': {'account_id': 21153321,\n",
       "   'reputation': 1,\n",
       "   'user_id': 15553138,\n",
       "   'user_type': 'registered',\n",
       "   'profile_image': 'https://www.gravatar.com/avatar/03cab7f9ce6f886b3388b59533d349d6?s=256&d=identicon&r=PG&f=y&so-version=2',\n",
       "   'display_name': 'Marko19907',\n",
       "   'link': 'https://stackoverflow.com/users/15553138/marko19907'},\n",
       "  'is_answered': False,\n",
       "  'view_count': 14,\n",
       "  'answer_count': 0,\n",
       "  'score': 0,\n",
       "  'last_activity_date': 1759355978,\n",
       "  'creation_date': 1759349039,\n",
       "  'last_edit_date': 1759355978,\n",
       "  'question_id': 79780428,\n",
       "  'content_license': 'CC BY-SA 4.0',\n",
       "  'link': 'https://stackoverflow.com/questions/79780428/rust-windows-media-foundation-virtual-camera-fires-events-and-sample-but-no-vide',\n",
       "  'title': 'Rust Windows Media Foundation virtual camera fires events and sample but no video out is shown'},\n",
       " {'tags': ['java', 'spring-boot', 'jsp'],\n",
       "  'owner': {'account_id': 10642398,\n",
       "   'reputation': 7532,\n",
       "   'user_id': 7836976,\n",
       "   'user_type': 'registered',\n",
       "   'accept_rate': 95,\n",
       "   'profile_image': 'https://www.gravatar.com/avatar/a57c0f1a2af768690957df659cc28f0f?s=256&d=identicon&r=PG&f=y&so-version=2',\n",
       "   'display_name': 'runnerpaul',\n",
       "   'link': 'https://stackoverflow.com/users/7836976/runnerpaul'},\n",
       "  'is_answered': False,\n",
       "  'view_count': 20,\n",
       "  'closed_date': 1759350280,\n",
       "  'answer_count': 0,\n",
       "  'score': -1,\n",
       "  'last_activity_date': 1759348605,\n",
       "  'creation_date': 1759348605,\n",
       "  'question_id': 79780426,\n",
       "  'link': 'https://stackoverflow.com/questions/79780426/jsp-page-not-found-in-spring-boot-application',\n",
       "  'closed_reason': 'Not suitable for this site',\n",
       "  'title': 'JSP page not found in Spring Boot application'},\n",
       " {'tags': ['google-sheets-api'],\n",
       "  'owner': {'account_id': 3534581,\n",
       "   'reputation': 71,\n",
       "   'user_id': 2953216,\n",
       "   'user_type': 'registered',\n",
       "   'profile_image': 'https://i.sstatic.net/Ag4Zp.png?s=256',\n",
       "   'display_name': 'Lexe.Elf',\n",
       "   'link': 'https://stackoverflow.com/users/2953216/lexe-elf'},\n",
       "  'is_answered': False,\n",
       "  'view_count': 13,\n",
       "  'answer_count': 0,\n",
       "  'score': 0,\n",
       "  'last_activity_date': 1759348421,\n",
       "  'creation_date': 1759348421,\n",
       "  'question_id': 79780423,\n",
       "  'content_license': 'CC BY-SA 4.0',\n",
       "  'link': 'https://stackoverflow.com/questions/79780423/how-to-insert-an-image-from-google-drive-inside-a-google-sheet-cell-programmatic',\n",
       "  'title': 'How to insert an image from Google Drive inside a Google Sheet Cell programmatically (via API)?'},\n",
       " {'tags': ['realitykit', 'reality-composer-pro', 'usd', 'vision-pro'],\n",
       "  'owner': {'account_id': 2619360,\n",
       "   'reputation': 531,\n",
       "   'user_id': 2730528,\n",
       "   'user_type': 'registered',\n",
       "   'accept_rate': 88,\n",
       "   'profile_image': 'https://i.sstatic.net/OE0SH.jpg?s=256',\n",
       "   'display_name': 'Alfonso Santiago',\n",
       "   'link': 'https://stackoverflow.com/users/2730528/alfonso-santiago'},\n",
       "  'is_answered': False,\n",
       "  'view_count': 4,\n",
       "  'answer_count': 0,\n",
       "  'score': 0,\n",
       "  'last_activity_date': 1759348420,\n",
       "  'creation_date': 1759348420,\n",
       "  'question_id': 79780422,\n",
       "  'content_license': 'CC BY-SA 4.0',\n",
       "  'link': 'https://stackoverflow.com/questions/79780422/multiple-frames-blendshape-failed-animation-in-reality-composer-pro',\n",
       "  'title': 'Multiple-frames BlendShape (failed) Animation in Reality Composer Pro'},\n",
       " {'tags': ['embedded', 'usb'],\n",
       "  'owner': {'account_id': 15024948,\n",
       "   'reputation': 158,\n",
       "   'user_id': 10845117,\n",
       "   'user_type': 'registered',\n",
       "   'profile_image': 'https://www.gravatar.com/avatar/afb7ecd191da3325362781e8defe2c0a?s=256&d=identicon&r=PG&f=y&so-version=2',\n",
       "   'display_name': 'CarpenterSFO',\n",
       "   'link': 'https://stackoverflow.com/users/10845117/carpentersfo'},\n",
       "  'is_answered': False,\n",
       "  'view_count': 17,\n",
       "  'closed_date': 1759368160,\n",
       "  'answer_count': 0,\n",
       "  'score': -4,\n",
       "  'last_activity_date': 1759348350,\n",
       "  'creation_date': 1759348350,\n",
       "  'question_id': 79780421,\n",
       "  'link': 'https://stackoverflow.com/questions/79780421/why-do-rising-temperatures-not-high-temperature-cause-a-usb-write-to-fail',\n",
       "  'closed_reason': 'Not suitable for this site',\n",
       "  'title': 'Why do rising temperatures (not high temperature) cause a USB write to fail?'},\n",
       " {'tags': ['installation', 'wix', 'windows-installer'],\n",
       "  'owner': {'account_id': 22843991,\n",
       "   'reputation': 1,\n",
       "   'user_id': 16990576,\n",
       "   'user_type': 'registered',\n",
       "   'profile_image': 'https://www.gravatar.com/avatar/d438452a7e2ecf6d92763fbfe7ff7218?s=256&d=identicon&r=PG',\n",
       "   'display_name': 'Rohan Atyalkar',\n",
       "   'link': 'https://stackoverflow.com/users/16990576/rohan-atyalkar'},\n",
       "  'is_answered': False,\n",
       "  'view_count': 9,\n",
       "  'answer_count': 0,\n",
       "  'score': 0,\n",
       "  'last_activity_date': 1759348247,\n",
       "  'creation_date': 1759348247,\n",
       "  'question_id': 79780419,\n",
       "  'content_license': 'CC BY-SA 4.0',\n",
       "  'link': 'https://stackoverflow.com/questions/79780419/wix-quite-custom-action-not-working-when-running-exe-with-arguments',\n",
       "  'title': 'Wix quite custom action not working when running exe with arguments'},\n",
       " {'tags': ['javascript'],\n",
       "  'owner': {'account_id': 44165531,\n",
       "   'reputation': 1,\n",
       "   'user_id': 31611402,\n",
       "   'user_type': 'registered',\n",
       "   'profile_image': 'https://www.gravatar.com/avatar/0e68dcbd24205ff38f5a5b3da61df538?s=256&d=identicon&r=PG&f=y&so-version=2',\n",
       "   'display_name': 'HireHawk DevOps',\n",
       "   'link': 'https://stackoverflow.com/users/31611402/hirehawk-devops'},\n",
       "  'is_answered': False,\n",
       "  'view_count': 21,\n",
       "  'closed_date': 1759365686,\n",
       "  'answer_count': 0,\n",
       "  'score': 0,\n",
       "  'last_activity_date': 1759347715,\n",
       "  'creation_date': 1759347715,\n",
       "  'question_id': 79780416,\n",
       "  'link': 'https://stackoverflow.com/questions/79780416/how-to-programmatically-insert-text-into-a-slate-js-contenteditable-so-it-regist',\n",
       "  'closed_reason': 'Duplicate',\n",
       "  'title': 'How to programmatically insert text into a Slate.js contenteditable so it registers as user input?'},\n",
       " {'tags': ['blazor', 'blazor-webassembly'],\n",
       "  'owner': {'account_id': 1886091,\n",
       "   'reputation': 30954,\n",
       "   'user_id': 1705266,\n",
       "   'user_type': 'registered',\n",
       "   'accept_rate': 77,\n",
       "   'profile_image': 'https://i.sstatic.net/eV8wY.png?s=256',\n",
       "   'display_name': 'Sam',\n",
       "   'link': 'https://stackoverflow.com/users/1705266/sam'},\n",
       "  'is_answered': False,\n",
       "  'view_count': 21,\n",
       "  'answer_count': 0,\n",
       "  'score': 1,\n",
       "  'last_activity_date': 1759347449,\n",
       "  'creation_date': 1759347449,\n",
       "  'question_id': 79780409,\n",
       "  'content_license': 'CC BY-SA 4.0',\n",
       "  'link': 'https://stackoverflow.com/questions/79780409/conditionally-rendering-html-in-blazor',\n",
       "  'title': 'Conditionally rendering HTML in Blazor'},\n",
       " {'tags': ['arrays', 'powershell'],\n",
       "  'owner': {'account_id': 2212,\n",
       "   'reputation': 417987,\n",
       "   'user_id': 3043,\n",
       "   'user_type': 'registered',\n",
       "   'accept_rate': 70,\n",
       "   'profile_image': 'https://www.gravatar.com/avatar/61d2a0f034915fa9d2acd6f6b145bba8?s=256&d=identicon&r=PG',\n",
       "   'display_name': 'Joel Coehoorn',\n",
       "   'link': 'https://stackoverflow.com/users/3043/joel-coehoorn'},\n",
       "  'is_answered': True,\n",
       "  'view_count': 44,\n",
       "  'answer_count': 1,\n",
       "  'score': 2,\n",
       "  'last_activity_date': 1759369228,\n",
       "  'creation_date': 1759347374,\n",
       "  'last_edit_date': 1759358338,\n",
       "  'question_id': 79780408,\n",
       "  'content_license': 'CC BY-SA 4.0',\n",
       "  'link': 'https://stackoverflow.com/questions/79780408/powershell-captures-array-function-result-with-single-element-as-just-the-elemen',\n",
       "  'title': 'Powershell captures array function result with single element as just the element'},\n",
       " {'tags': ['postgresql', 'connection-pooling', 'node-postgres'],\n",
       "  'owner': {'account_id': 3331715,\n",
       "   'reputation': 898,\n",
       "   'user_id': 2800519,\n",
       "   'user_type': 'registered',\n",
       "   'accept_rate': 57,\n",
       "   'profile_image': 'https://www.gravatar.com/avatar/e422b5dc2a5f6c725c8f84cce4df615e?s=256&d=identicon&r=PG&f=y&so-version=2',\n",
       "   'display_name': 'okhobb',\n",
       "   'link': 'https://stackoverflow.com/users/2800519/okhobb'},\n",
       "  'is_answered': False,\n",
       "  'view_count': 16,\n",
       "  'answer_count': 1,\n",
       "  'score': 1,\n",
       "  'last_activity_date': 1759365726,\n",
       "  'creation_date': 1759346925,\n",
       "  'question_id': 79780405,\n",
       "  'content_license': 'CC BY-SA 4.0',\n",
       "  'link': 'https://stackoverflow.com/questions/79780405/does-the-pg-pool-from-node-postgres-support-acquiretimeoutmillis',\n",
       "  'title': 'Does the pg.Pool from node-postgres support acquireTimeoutMillis?'},\n",
       " {'tags': ['liferay', 'openid-connect', 'auth0', 'liferay-dxp'],\n",
       "  'owner': {'account_id': 179113,\n",
       "   'reputation': 5540,\n",
       "   'user_id': 411540,\n",
       "   'user_type': 'registered',\n",
       "   'accept_rate': 78,\n",
       "   'profile_image': 'https://www.gravatar.com/avatar/f9e8c4c4d9ac2363ea6fce353a0e047f?s=256&d=identicon&r=PG',\n",
       "   'display_name': 'Vicky',\n",
       "   'link': 'https://stackoverflow.com/users/411540/vicky'},\n",
       "  'is_answered': False,\n",
       "  'view_count': 11,\n",
       "  'answer_count': 0,\n",
       "  'score': 0,\n",
       "  'last_activity_date': 1759346629,\n",
       "  'creation_date': 1759346629,\n",
       "  'question_id': 79780404,\n",
       "  'content_license': 'CC BY-SA 4.0',\n",
       "  'link': 'https://stackoverflow.com/questions/79780404/liferay-auth0-integration',\n",
       "  'title': 'Liferay Auth0 Integration'},\n",
       " {'tags': ['r', 'ggplot2', 'ggrepel'],\n",
       "  'owner': {'account_id': 20905801,\n",
       "   'reputation': 9,\n",
       "   'user_id': 20843845,\n",
       "   'user_type': 'registered',\n",
       "   'profile_image': 'https://www.gravatar.com/avatar/51f8ab628be7e3099b005f50433c207c?s=256&d=identicon&r=PG&f=y&so-version=2',\n",
       "   'display_name': 'weendeen',\n",
       "   'link': 'https://stackoverflow.com/users/20843845/weendeen'},\n",
       "  'is_answered': True,\n",
       "  'view_count': 30,\n",
       "  'answer_count': 3,\n",
       "  'score': 0,\n",
       "  'last_activity_date': 1759366479,\n",
       "  'creation_date': 1759346618,\n",
       "  'question_id': 79780403,\n",
       "  'content_license': 'CC BY-SA 4.0',\n",
       "  'link': 'https://stackoverflow.com/questions/79780403/ggrepel-still-overlapping-text',\n",
       "  'title': 'ggrepel still overlapping text'},\n",
       " {'tags': ['snowflake-cloud-data-platform'],\n",
       "  'owner': {'account_id': 44165366,\n",
       "   'reputation': 1,\n",
       "   'user_id': 31611318,\n",
       "   'user_type': 'registered',\n",
       "   'profile_image': 'https://www.gravatar.com/avatar/3e46ceea1a918cbe8ad7a3ce1977abb2?s=256&d=identicon&r=PG&f=y&so-version=2',\n",
       "   'display_name': 'CJVJR75',\n",
       "   'link': 'https://stackoverflow.com/users/31611318/cjvjr75'},\n",
       "  'is_answered': False,\n",
       "  'view_count': 18,\n",
       "  'closed_date': 1759349381,\n",
       "  'answer_count': 0,\n",
       "  'score': -2,\n",
       "  'last_activity_date': 1759346457,\n",
       "  'creation_date': 1759346457,\n",
       "  'question_id': 79780401,\n",
       "  'link': 'https://stackoverflow.com/questions/79780401/snowflake-internal-marketplace-listing-without-a-data-product',\n",
       "  'closed_reason': 'Not suitable for this site',\n",
       "  'title': 'Snowflake Internal Marketplace - listing without a data product'},\n",
       " {'tags': ['php', 'netsuite', 'custom-fields', 'netsuite-rest-api'],\n",
       "  'owner': {'account_id': 4191570,\n",
       "   'reputation': 69,\n",
       "   'user_id': 4075715,\n",
       "   'user_type': 'registered',\n",
       "   'accept_rate': 75,\n",
       "   'profile_image': 'https://www.gravatar.com/avatar/491af55ca0e5f191061276ae13df624b?s=256&d=identicon&r=PG&f=y&so-version=2',\n",
       "   'display_name': 'John',\n",
       "   'link': 'https://stackoverflow.com/users/4075715/john'},\n",
       "  'is_answered': False,\n",
       "  'view_count': 18,\n",
       "  'answer_count': 0,\n",
       "  'score': 0,\n",
       "  'last_activity_date': 1759345998,\n",
       "  'creation_date': 1759345998,\n",
       "  'question_id': 79780397,\n",
       "  'content_license': 'CC BY-SA 4.0',\n",
       "  'link': 'https://stackoverflow.com/questions/79780397/netsuite-php-find-sales-order-using-custom-field',\n",
       "  'title': 'Netsuite PHP find Sales Order using custom field'},\n",
       " {'tags': ['excel', 'date', 'vlookup'],\n",
       "  'owner': {'account_id': 44164469,\n",
       "   'reputation': 1,\n",
       "   'user_id': 31610860,\n",
       "   'user_type': 'registered',\n",
       "   'profile_image': 'https://www.gravatar.com/avatar/0530e2d840302c968fb6cc3fdab48dd7?s=256&d=identicon&r=PG&f=y&so-version=2',\n",
       "   'display_name': 'logan hecht',\n",
       "   'link': 'https://stackoverflow.com/users/31610860/logan-hecht'},\n",
       "  'is_answered': False,\n",
       "  'view_count': 35,\n",
       "  'answer_count': 0,\n",
       "  'score': -3,\n",
       "  'last_activity_date': 1759345848,\n",
       "  'creation_date': 1759345848,\n",
       "  'question_id': 79780395,\n",
       "  'content_license': 'CC BY-SA 4.0',\n",
       "  'link': 'https://stackoverflow.com/questions/79780395/is-it-possible-to-pull-the-date-a-cell-entry-occurred',\n",
       "  'title': 'Is it possible to pull the date a cell entry occurred?'},\n",
       " {'tags': ['postgresql', 'indexing', 'queue'],\n",
       "  'owner': {'account_id': 193299,\n",
       "   'reputation': 14243,\n",
       "   'user_id': 434949,\n",
       "   'user_type': 'registered',\n",
       "   'accept_rate': 89,\n",
       "   'profile_image': 'https://i.sstatic.net/EMmK1.jpg?s=256',\n",
       "   'display_name': 'Hugo Delsing',\n",
       "   'link': 'https://stackoverflow.com/users/434949/hugo-delsing'},\n",
       "  'is_answered': False,\n",
       "  'view_count': 26,\n",
       "  'answer_count': 0,\n",
       "  'score': 0,\n",
       "  'last_activity_date': 1759351562,\n",
       "  'creation_date': 1759345761,\n",
       "  'last_edit_date': 1759351562,\n",
       "  'question_id': 79780392,\n",
       "  'content_license': 'CC BY-SA 4.0',\n",
       "  'link': 'https://stackoverflow.com/questions/79780392/postgresql-stops-using-filter-index',\n",
       "  'title': 'Postgresql stops using filter index'},\n",
       " {'tags': ['linux', 'ubuntu', 'xmgrace'],\n",
       "  'owner': {'account_id': 2478024,\n",
       "   'reputation': 81,\n",
       "   'user_id': 6455304,\n",
       "   'user_type': 'registered',\n",
       "   'profile_image': 'https://www.gravatar.com/avatar/bab533881d99f38a77d0be893e4cc70d?s=256&d=identicon&r=PG',\n",
       "   'display_name': 'Russ P.',\n",
       "   'link': 'https://stackoverflow.com/users/6455304/russ-p'},\n",
       "  'is_answered': False,\n",
       "  'view_count': 23,\n",
       "  'closed_date': 1759366341,\n",
       "  'answer_count': 0,\n",
       "  'score': -3,\n",
       "  'last_activity_date': 1759356008,\n",
       "  'creation_date': 1759345508,\n",
       "  'last_edit_date': 1759356008,\n",
       "  'question_id': 79780390,\n",
       "  'link': 'https://stackoverflow.com/questions/79780390/how-can-i-enlarge-the-buttons-and-pull-down-menus-in-xmgrace',\n",
       "  'closed_reason': 'Not suitable for this site',\n",
       "  'title': 'how can I enlarge the buttons and pull-down menus in xmgrace?'},\n",
       " {'tags': ['android', 'flutter'],\n",
       "  'owner': {'account_id': 26423209,\n",
       "   'reputation': 13,\n",
       "   'user_id': 20070593,\n",
       "   'user_type': 'registered',\n",
       "   'profile_image': 'https://lh3.googleusercontent.com/a-/ACNPEu_CFUZiZuwvBZ_zE3CjgMbv04sGQwZFCZklVtSIbg=k-s256',\n",
       "   'display_name': 'borhanedine',\n",
       "   'link': 'https://stackoverflow.com/users/20070593/borhanedine'},\n",
       "  'is_answered': False,\n",
       "  'view_count': 20,\n",
       "  'answer_count': 0,\n",
       "  'score': 0,\n",
       "  'last_activity_date': 1759345358,\n",
       "  'creation_date': 1759345358,\n",
       "  'question_id': 79780389,\n",
       "  'content_license': 'CC BY-SA 4.0',\n",
       "  'link': 'https://stackoverflow.com/questions/79780389/low-quality-cropped-images-result-when-using-flutter-image-package',\n",
       "  'title': 'Low-quality cropped images result when using Flutter image package'},\n",
       " {'tags': ['asp.net', 'office-interop', 'comexception'],\n",
       "  'owner': {'account_id': 2475075,\n",
       "   'reputation': 647,\n",
       "   'user_id': 2155873,\n",
       "   'user_type': 'registered',\n",
       "   'accept_rate': 71,\n",
       "   'profile_image': 'https://www.gravatar.com/avatar/fda7eddf3092f2d546496f5bce3abcfa?s=256&d=identicon&r=PG',\n",
       "   'display_name': 'Akkad',\n",
       "   'link': 'https://stackoverflow.com/users/2155873/akkad'},\n",
       "  'is_answered': False,\n",
       "  'view_count': 22,\n",
       "  'answer_count': 0,\n",
       "  'score': 0,\n",
       "  'last_activity_date': 1759346149,\n",
       "  'creation_date': 1759345157,\n",
       "  'last_edit_date': 1759346149,\n",
       "  'question_id': 79780387,\n",
       "  'content_license': 'CC BY-SA 4.0',\n",
       "  'link': 'https://stackoverflow.com/questions/79780387/asp-net-microsoft-word-interop-com-exception',\n",
       "  'title': 'ASP.NET - Microsoft Word Interop COM Exception'},\n",
       " {'tags': ['php', 'laravel'],\n",
       "  'owner': {'account_id': 44164898,\n",
       "   'reputation': 1,\n",
       "   'user_id': 31611076,\n",
       "   'user_type': 'registered',\n",
       "   'profile_image': 'https://www.gravatar.com/avatar/563446df599307c0ece408d8256bcb82?s=256&d=identicon&r=PG&f=y&so-version=2',\n",
       "   'display_name': 'Bruno',\n",
       "   'link': 'https://stackoverflow.com/users/31611076/bruno'},\n",
       "  'is_answered': False,\n",
       "  'view_count': 7,\n",
       "  'answer_count': 0,\n",
       "  'score': 0,\n",
       "  'last_activity_date': 1759345146,\n",
       "  'creation_date': 1759345146,\n",
       "  'question_id': 79780386,\n",
       "  'content_license': 'CC BY-SA 4.0',\n",
       "  'link': 'https://stackoverflow.com/questions/79780386/filament-v4-migration-livewire-supportvalidation-error-and-login-redirect-not',\n",
       "  'title': 'Filament v4 migration – Livewire SupportValidation error and login redirect not working'},\n",
       " {'tags': ['manim'],\n",
       "  'owner': {'account_id': 44164947,\n",
       "   'reputation': 1,\n",
       "   'user_id': 31611096,\n",
       "   'user_type': 'registered',\n",
       "   'profile_image': 'https://www.gravatar.com/avatar/55405474e92fdeacd39eb4bed85f36da?s=256&d=identicon&r=PG&f=y&so-version=2',\n",
       "   'display_name': 'Hell',\n",
       "   'link': 'https://stackoverflow.com/users/31611096/hell'},\n",
       "  'is_answered': False,\n",
       "  'view_count': 25,\n",
       "  'closed_date': 1759365585,\n",
       "  'answer_count': 0,\n",
       "  'score': -4,\n",
       "  'last_activity_date': 1759345084,\n",
       "  'creation_date': 1759345084,\n",
       "  'question_id': 79780384,\n",
       "  'link': 'https://stackoverflow.com/questions/79780384/i-have-installation-error-uv-python-install-what-should-i-do',\n",
       "  'closed_reason': 'Not suitable for this site',\n",
       "  'title': 'I have installation error uv python install, What should I do?'},\n",
       " {'tags': ['security',\n",
       "   'machine-learning',\n",
       "   'graph',\n",
       "   'knowledge-graph',\n",
       "   'network-security'],\n",
       "  'owner': {'account_id': 26542941,\n",
       "   'reputation': 13,\n",
       "   'user_id': 30103202,\n",
       "   'user_type': 'registered',\n",
       "   'profile_image': 'https://lh3.googleusercontent.com/a/ALm5wu3fR5AII2a404lh5SYf1lJvywFcw0kbVwWQ3L-B=k-s256',\n",
       "   'display_name': 'ADITYA KUNDU',\n",
       "   'link': 'https://stackoverflow.com/users/30103202/aditya-kundu'},\n",
       "  'is_answered': False,\n",
       "  'view_count': 10,\n",
       "  'closed_date': 1759346124,\n",
       "  'answer_count': 0,\n",
       "  'score': -4,\n",
       "  'last_activity_date': 1759345077,\n",
       "  'creation_date': 1759345077,\n",
       "  'question_id': 79780383,\n",
       "  'link': 'https://stackoverflow.com/questions/79780383/looking-for-an-open-source-model-or-toolkit-that-predicts-attacks-and-attack-cha',\n",
       "  'closed_reason': 'Not suitable for this site',\n",
       "  'title': 'Looking for an open source model or toolkit that predicts attacks and attack chains from CVEs and NVD data (graph/ML/rule-based)'},\n",
       " {'tags': ['jboss'],\n",
       "  'owner': {'account_id': 1064222,\n",
       "   'reputation': 2331,\n",
       "   'user_id': 1065175,\n",
       "   'user_type': 'registered',\n",
       "   'accept_rate': 47,\n",
       "   'profile_image': 'https://www.gravatar.com/avatar/068517711735b7ed7bd5287d287a7767?s=256&d=identicon&r=PG',\n",
       "   'display_name': 'ericj',\n",
       "   'link': 'https://stackoverflow.com/users/1065175/ericj'},\n",
       "  'is_answered': False,\n",
       "  'view_count': 19,\n",
       "  'answer_count': 0,\n",
       "  'score': 0,\n",
       "  'last_activity_date': 1759344777,\n",
       "  'creation_date': 1759344499,\n",
       "  'last_edit_date': 1759344777,\n",
       "  'question_id': 79780379,\n",
       "  'content_license': 'CC BY-SA 4.0',\n",
       "  'link': 'https://stackoverflow.com/questions/79780379/why-are-2-classes-in-an-example-application-loaded-by-2-different-moduleclassloa',\n",
       "  'title': 'Why are 2 classes in an example application loaded by 2 different moduleclassloaders?'},\n",
       " {'tags': ['c++',\n",
       "   'memory-management',\n",
       "   'polymorphism',\n",
       "   'delete-operator',\n",
       "   'self-destruction'],\n",
       "  'owner': {'account_id': 25772046,\n",
       "   'reputation': 533,\n",
       "   'user_id': 19520476,\n",
       "   'user_type': 'registered',\n",
       "   'profile_image': 'https://www.gravatar.com/avatar/2066f5878224277ea5fb76ae6b94b6a4?s=256&d=identicon&r=PG',\n",
       "   'display_name': 'lobelk',\n",
       "   'link': 'https://stackoverflow.com/users/19520476/lobelk'},\n",
       "  'is_answered': False,\n",
       "  'view_count': 73,\n",
       "  'answer_count': 0,\n",
       "  'score': 1,\n",
       "  'last_activity_date': 1759344704,\n",
       "  'creation_date': 1759344099,\n",
       "  'last_edit_date': 1759344704,\n",
       "  'question_id': 79780376,\n",
       "  'content_license': 'CC BY-SA 4.0',\n",
       "  'link': 'https://stackoverflow.com/questions/79780376/how-to-reproduce-c-deleting-destructor-for-a-custom-allocator',\n",
       "  'title': 'How to reproduce C++ deleting destructor for a custom allocator?'},\n",
       " {'tags': ['sql', 'griddb'],\n",
       "  'owner': {'account_id': 43973555,\n",
       "   'reputation': 21,\n",
       "   'user_id': 31510249,\n",
       "   'user_type': 'registered',\n",
       "   'profile_image': 'https://www.gravatar.com/avatar/766afafde5147889778027cb01081c58?s=256&d=identicon&r=PG&f=y&so-version=2',\n",
       "   'display_name': 'iot_builder',\n",
       "   'link': 'https://stackoverflow.com/users/31510249/iot-builder'},\n",
       "  'is_answered': False,\n",
       "  'view_count': 34,\n",
       "  'answer_count': 1,\n",
       "  'score': 0,\n",
       "  'last_activity_date': 1759344702,\n",
       "  'creation_date': 1759344042,\n",
       "  'last_edit_date': 1759344340,\n",
       "  'question_id': 79780374,\n",
       "  'content_license': 'CC BY-SA 4.0',\n",
       "  'link': 'https://stackoverflow.com/questions/79780374/what-is-the-correct-syntax-for-selecting-data-between-now-and-the-previous-hou',\n",
       "  'title': 'What is the correct syntax for selecting data between NOW() and the previous hour in griddb/griddbCloud?'}]"
      ]
     },
     "execution_count": 21,
     "metadata": {},
     "output_type": "execute_result"
    }
   ],
   "source": [
    "# example\n",
    "fetch_page(1)"
   ]
  },
  {
   "cell_type": "code",
   "execution_count": 0,
   "metadata": {
    "application/vnd.databricks.v1+cell": {
     "cellMetadata": {
      "byteLimit": 2048000,
      "rowLimit": 10000
     },
     "inputWidgets": {},
     "nuid": "00e32bca-7a71-43e4-ab71-689a0d833c12",
     "showTitle": false,
     "tableResultSettingsMap": {},
     "title": ""
    }
   },
   "outputs": [],
   "source": [
    "from pyspark.sql import functions as F\n",
    "import json\n",
    "\n",
    "def process_page(page):\n",
    "    items = fetch_page(page)\n",
    "    if not items:\n",
    "        return\n",
    "    \n",
    "    # convert problematic nested fields to JSON strings\n",
    "    for item in items:\n",
    "        complex_fields = ['migrated_to', 'migrated_from', 'posted_by_collectives', 'owner', 'closed_details']\n",
    "        \n",
    "        for field in complex_fields:\n",
    "            if field in item and item[field] is not None:\n",
    "                item[field] = json.dumps(item[field])\n",
    "\n",
    "    df = spark.createDataFrame(items) \\\n",
    "            .withColumn(\"question_id\", F.col(\"question_id\").cast(\"long\")) \\\n",
    "            .withColumn(\"creation_date\", F.col(\"creation_date\").cast(\"long\")) \\\n",
    "            .withColumn(\"creation_period\", F.floor(F.col(\"creation_date\") / 1e6).cast(\"long\")) \\\n",
    "            .withColumn(\"last_activity_date\", F.col(\"last_activity_date\").cast(\"long\"))\n",
    "    # dates are in unix time (unix epoch, seconds since 1970-01-01), so we divide by 1e7 ~= 100 days, to partition data later using this column\n",
    "    df = df.select(\"question_id\", \"creation_date\", \"creation_period\", \"last_activity_date\",\n",
    "                   *[c for c in df.columns if c not in [\"question_id\", \"creation_date\", \"creation_period\", \"last_activity_date\"]])\n",
    "    \n",
    "    return df"
   ]
  },
  {
   "cell_type": "code",
   "execution_count": 0,
   "metadata": {
    "application/vnd.databricks.v1+cell": {
     "cellMetadata": {
      "byteLimit": 2048000,
      "rowLimit": 10000
     },
     "inputWidgets": {},
     "nuid": "312e3b11-6402-4b10-a101-e4e6c3709483",
     "showTitle": false,
     "tableResultSettingsMap": {},
     "title": ""
    }
   },
   "outputs": [
    {
     "output_type": "display_data",
     "data": {
      "text/html": [
       "<style scoped>\n",
       "  .table-result-container {\n",
       "    max-height: 300px;\n",
       "    overflow: auto;\n",
       "  }\n",
       "  table, th, td {\n",
       "    border: 1px solid black;\n",
       "    border-collapse: collapse;\n",
       "  }\n",
       "  th, td {\n",
       "    padding: 5px;\n",
       "  }\n",
       "  th {\n",
       "    text-align: left;\n",
       "  }\n",
       "</style><div class='table-result-container'><table class='table-result'><thead style='background-color: white'><tr><th>question_id</th><th>creation_date</th><th>creation_period</th><th>last_activity_date</th><th>answer_count</th><th>content_license</th><th>is_answered</th><th>link</th><th>owner</th><th>score</th><th>tags</th><th>title</th><th>view_count</th><th>last_edit_date</th><th>closed_date</th><th>closed_reason</th><th>accepted_answer_id</th></tr></thead><tbody><tr><td>79780634</td><td>1759381831</td><td>1759</td><td>1759381831</td><td>0</td><td>CC BY-SA 4.0</td><td>false</td><td>https://stackoverflow.com/questions/79780634/apt-update-fails-with-conflicting-values-set-for-option-signed-by-after-adding</td><td>Map(reputation -> 1, display_name -> Mahavir vikrambhai Dodiya, user_id -> 31613051, account_id -> 43916646, user_type -> registered, link -> https://stackoverflow.com/users/31613051/mahavir-vikrambhai-dodiya, profile_image -> https://www.gravatar.com/avatar/20b395c743bde7b37ea5ac7dde88968d?s=256&d=identicon&r=PG&f=y&so-version=2)</td><td>0</td><td>List(linux, ubuntu)</td><td>apt update fails with &quot;Conflicting values set for option Signed-By&quot; after adding ROS 2 Jazzy repository on Ubuntu 24.04</td><td>2</td><td>null</td><td>null</td><td>null</td><td>null</td></tr><tr><td>79780632</td><td>1759381729</td><td>1759</td><td>1759381729</td><td>0</td><td>CC BY-SA 4.0</td><td>false</td><td>https://stackoverflow.com/questions/79780632/what-is-the-use-case-for-tanstack-start-useserverfn-hook</td><td>Map(reputation -> 41028, accept_rate -> 75, display_name -> Michał Turczyn, user_id -> 7132550, account_id -> 9606741, user_type -> registered, link -> https://stackoverflow.com/users/7132550/micha%c5%82-turczyn, profile_image -> https://graph.facebook.com/1063981417044495/picture?type=large)</td><td>0</td><td>List(reactjs, tanstackreact-query, tanstack, tanstack-start)</td><td>What is the use case for TanStack Start useServerFn hook</td><td>3</td><td>null</td><td>null</td><td>null</td><td>null</td></tr><tr><td>79780631</td><td>1759381584</td><td>1759</td><td>1759381584</td><td>0</td><td>CC BY-SA 4.0</td><td>false</td><td>https://stackoverflow.com/questions/79780631/how-to-remove-the-arrow-in-the-shadcn-tooltip-component-without-changing-the-mai</td><td>Map(reputation -> 29, display_name -> m112120, user_id -> 30132998, account_id -> 41126044, user_type -> registered, link -> https://stackoverflow.com/users/30132998/m112120, profile_image -> https://www.gravatar.com/avatar/75964ea76c37bcc48af3b05b178320e7?s=256&d=identicon&r=PG&f=y&so-version=2)</td><td>0</td><td>List(shadcnui)</td><td>How to remove the arrow in the shadcn tooltip component without changing the main imported code?</td><td>3</td><td>null</td><td>null</td><td>null</td><td>null</td></tr><tr><td>79780627</td><td>1759381033</td><td>1759</td><td>1759381054</td><td>0</td><td>CC BY-SA 4.0</td><td>false</td><td>https://stackoverflow.com/questions/79780627/get-monthly-descending-date</td><td>Map(reputation -> 1, display_name -> San Pedro Rhenz Idol II, user_id -> 28289568, account_id -> 37523449, user_type -> registered, link -> https://stackoverflow.com/users/28289568/san-pedro-rhenz-idol-ii, profile_image -> https://www.gravatar.com/avatar/e0c0f08c8e181357b467d0e28f9f13a6?s=256&d=identicon&r=PG&f=y&so-version=2)</td><td>0</td><td>List(google-sheets, excel-formula, google-sheets-formula, formula)</td><td>Get Monthly Descending Date</td><td>5</td><td>1759381054</td><td>null</td><td>null</td><td>null</td></tr><tr><td>79780625</td><td>1759380637</td><td>1759</td><td>1759380637</td><td>0</td><td>CC BY-SA 4.0</td><td>false</td><td>https://stackoverflow.com/questions/79780625/vs-code-remote-ssh-2fa-issue</td><td>Map(reputation -> 13, display_name -> Ab_Ad , user_id -> 19476808, account_id -> 25719653, user_type -> registered, link -> https://stackoverflow.com/users/19476808/ab-ad, profile_image -> https://lh3.googleusercontent.com/a/AATXAJxBAEmG3gCdTq7kGLpSSnqxTULQNnUaN2ldfTMdKw=k-s256)</td><td>0</td><td>List(linux, visual-studio-code, vscode-remote-ssh)</td><td>VS code Remote SSH: 2FA issue</td><td>8</td><td>null</td><td>null</td><td>null</td><td>null</td></tr><tr><td>79780620</td><td>1759379061</td><td>1759</td><td>1759380101</td><td>0</td><td>CC BY-SA 4.0</td><td>false</td><td>https://stackoverflow.com/questions/79780620/access-to-external-ip-from-docker-container-via-linux-vm-via-host-windows-11-usi</td><td>Map(reputation -> 1, display_name -> Сергей Новиков, user_id -> 12337598, account_id -> 17052216, user_type -> registered, link -> https://stackoverflow.com/users/12337598/%d0%a1%d0%b5%d1%80%d0%b3%d0%b5%d0%b9-%d0%9d%d0%be%d0%b2%d0%b8%d0%ba%d0%be%d0%b2, profile_image -> https://lh3.googleusercontent.com/-tcdCfbnNAnM/AAAAAAAAAAI/AAAAAAAAAAA/ACHi3rf9HcyXOqF8YIvpv4WSt7BKmfFNpQ/s256-rj/photo.jpg)</td><td>0</td><td>List(linux, windows, docker, vagrant, virtualbox)</td><td>Access to external IP from docker container via Linux VM via host Windows 11 using Vagrant</td><td>20</td><td>1759380101</td><td>null</td><td>null</td><td>null</td></tr><tr><td>79780616</td><td>1759378232</td><td>1759</td><td>1759379100</td><td>1</td><td>CC BY-SA 4.0</td><td>false</td><td>https://stackoverflow.com/questions/79780616/vba-in-excel-to-auto-send-emails-skip-over-recipients-without-attachments</td><td>Map(reputation -> 11, display_name -> user31611822, user_id -> 31611822, account_id -> 44166461, user_type -> registered, link -> https://stackoverflow.com/users/31611822/user31611822, profile_image -> https://www.gravatar.com/avatar/d20e0ee407ea121f39817575aeee8f1a?s=256&d=identicon&r=PG&f=y&so-version=2)</td><td>1</td><td>List(excel, vba, email, automation, outlook)</td><td>VBA in Excel to auto send emails skip over recipients without attachments</td><td>16</td><td>null</td><td>null</td><td>null</td><td>null</td></tr><tr><td>79780615</td><td>1759377953</td><td>1759</td><td>1759377953</td><td>0</td><td>null</td><td>false</td><td>https://stackoverflow.com/questions/79780615/self-hosting-map-server-for-real-time-tracker-web-app</td><td>Map(reputation -> 1, display_name -> nzfaaaaaa, user_id -> 31319665, account_id -> 43596168, user_type -> registered, link -> https://stackoverflow.com/users/31319665/nzfaaaaaa, profile_image -> https://www.gravatar.com/avatar/4aec6b2099a7dcc4875d9ff68a773fab?s=256&d=identicon&r=PG&f=y&so-version=2)</td><td>-2</td><td>List(server, self-hosting, mapserver)</td><td>Self-Hosting Map Server for Real-Time Tracker Web App</td><td>22</td><td>null</td><td>1759379474</td><td>Not suitable for this site</td><td>null</td></tr><tr><td>79780613</td><td>1759377024</td><td>1759</td><td>1759377024</td><td>0</td><td>CC BY-SA 4.0</td><td>false</td><td>https://stackoverflow.com/questions/79780613/why-xero-prompts-for-company-selection-even-when-using-only-openid-email</td><td>Map(reputation -> 94, display_name -> Thomas Lo, user_id -> 5388148, account_id -> 7033131, user_type -> registered, link -> https://stackoverflow.com/users/5388148/thomas-lo, profile_image -> https://graph.facebook.com/10153283560269037/picture?type=large)</td><td>0</td><td>List(xero-api)</td><td>Why Xero Prompts for Company Selection Even When Using Only &#39;openid&#39;, &#39;email&#39;, &#39;profile&#39; Scopes for Login</td><td>21</td><td>null</td><td>null</td><td>null</td><td>null</td></tr><tr><td>79780612</td><td>1759376828</td><td>1759</td><td>1759379151</td><td>1</td><td>CC BY-SA 4.0</td><td>true</td><td>https://stackoverflow.com/questions/79780612/how-do-i-remove-duplicate-column-in-same-row-excel</td><td>Map(reputation -> 1, display_name -> lRosettaStoned, user_id -> 31574244, account_id -> 44094443, user_type -> registered, link -> https://stackoverflow.com/users/31574244/lrosettastoned, profile_image -> https://www.gravatar.com/avatar/3140e2b1f7862a9bd1b27d244fedbc7b?s=256&d=identicon&r=PG&f=y&so-version=2)</td><td>0</td><td>List(excel, excel-formula, multiple-columns)</td><td>How do i remove duplicate column in same row Excel?</td><td>18</td><td>1759376889</td><td>null</td><td>null</td><td>null</td></tr><tr><td>79780611</td><td>1759376619</td><td>1759</td><td>1759377720</td><td>0</td><td>CC BY-SA 4.0</td><td>false</td><td>https://stackoverflow.com/questions/79780611/what-is-wrong-with-python-subprocess</td><td>Map(reputation -> 1, display_name -> Steve Chan, user_id -> 31612749, account_id -> 44168462, user_type -> registered, link -> https://stackoverflow.com/users/31612749/steve-chan, profile_image -> https://www.gravatar.com/avatar/0cc2f22fe3578e8379e2e99826b51e63?s=256&d=identicon&r=PG&f=y&so-version=2)</td><td>-4</td><td>List(python, subprocess)</td><td>What is wrong with python subprocess?</td><td>40</td><td>1759377720</td><td>null</td><td>null</td><td>null</td></tr><tr><td>79780610</td><td>1759376249</td><td>1759</td><td>1759376249</td><td>0</td><td>CC BY-SA 4.0</td><td>false</td><td>https://stackoverflow.com/questions/79780610/prisma-wont-execute-seeder-in-nextjs</td><td>Map(reputation -> 137, display_name -> LVC, user_id -> 15764662, account_id -> 21402941, user_type -> registered, link -> https://stackoverflow.com/users/15764662/lvc, profile_image -> https://www.gravatar.com/avatar/1d2066ed2fa4318c1103be7565118f0d?s=256&d=identicon&r=PG&f=y&so-version=2)</td><td>0</td><td>List(next.js, prisma)</td><td>Prisma won&#39;t execute seeder in nextjs</td><td>20</td><td>null</td><td>null</td><td>null</td><td>null</td></tr><tr><td>79780608</td><td>1759375893</td><td>1759</td><td>1759375893</td><td>0</td><td>CC BY-SA 4.0</td><td>false</td><td>https://stackoverflow.com/questions/79780608/why-conda-deactivate-isnt-taken-into-account-and-java-version-used-is-still-th</td><td>Map(reputation -> 3573, display_name -> Marc Le Bihan, user_id -> 2827181, account_id -> 3366819, user_type -> registered, link -> https://stackoverflow.com/users/2827181/marc-le-bihan, profile_image -> https://i.sstatic.net/WJK16.jpg?s=256)</td><td>0</td><td>List(java, spring-boot, conda)</td><td>Why conda deactivate isn&#39;t taken into account, and java version used is still the one it offers and not the default one of my system?</td><td>13</td><td>null</td><td>null</td><td>null</td><td>null</td></tr><tr><td>79780607</td><td>1759375465</td><td>1759</td><td>1759375465</td><td>0</td><td>CC BY-SA 4.0</td><td>false</td><td>https://stackoverflow.com/questions/79780607/how-to-retrieve-all-permission-details-including-resources-policies-and-scopes</td><td>Map(reputation -> 25, display_name -> J_Max, user_id -> 22578404, account_id -> 29464404, user_type -> registered, link -> https://stackoverflow.com/users/22578404/j-max, profile_image -> https://www.gravatar.com/avatar/a29afdd9ebf8e086e8fda8465d4d9547?s=256&d=identicon&r=PG&f=y&so-version=2)</td><td>0</td><td>List(rest, next.js, permissions, authorization, keycloak)</td><td>How to retrieve all permission details including resources, policies, and scopes from Keycloak?</td><td>17</td><td>null</td><td>null</td><td>null</td><td>null</td></tr><tr><td>79780605</td><td>1759375271</td><td>1759</td><td>1759375271</td><td>0</td><td>CC BY-SA 4.0</td><td>false</td><td>https://stackoverflow.com/questions/79780605/adding-custom-div-to-compose-window-with-inboxsdk-makes-issues-with-height-when</td><td>Map(reputation -> 863, accept_rate -> 72, display_name -> kecman, user_id -> 2558764, account_id -> 3016866, user_type -> registered, link -> https://stackoverflow.com/users/2558764/kecman, profile_image -> https://www.gravatar.com/avatar/81db839a7ab31ef6790518a9851782af?s=256&d=identicon&r=PG)</td><td>0</td><td>List(css, dom, google-chrome-extension, gmail, inboxsdk)</td><td>Adding custom div to compose window with InboxSDK makes issues with height when going to fullscreen mode of compose window</td><td>9</td><td>null</td><td>null</td><td>null</td><td>null</td></tr><tr><td>79780604</td><td>1759375226</td><td>1759</td><td>1759375226</td><td>0</td><td>CC BY-SA 4.0</td><td>false</td><td>https://stackoverflow.com/questions/79780604/how-to-get-youtube-data-title-links-playlist-thumbnail-without-an-api-key</td><td>Map(reputation -> 1, display_name -> Subhan Ansari, user_id -> 31612690, account_id -> 44168359, user_type -> registered, link -> https://stackoverflow.com/users/31612690/subhan-ansari, profile_image -> https://www.gravatar.com/avatar/a49335fe006b7ff5484714563c2146e3?s=256&d=identicon&r=PG&f=y&so-version=2)</td><td>0</td><td>List(python, web-scraping, youtube, youtube-data-api)</td><td>How to Get YouTube Data (Title, Links, Playlist, Thumbnail) Without an API Key</td><td>16</td><td>null</td><td>null</td><td>null</td><td>null</td></tr><tr><td>79780602</td><td>1759375024</td><td>1759</td><td>1759375024</td><td>0</td><td>CC BY-SA 4.0</td><td>false</td><td>https://stackoverflow.com/questions/79780602/sudden-issues-debugging-azure-functions-in-vs-code</td><td>Map(reputation -> 1067, accept_rate -> 43, display_name -> wooters, user_id -> 3397281, account_id -> 4142464, user_type -> registered, link -> https://stackoverflow.com/users/3397281/wooters, profile_image -> https://i.sstatic.net/1wOeS.jpg?s=256)</td><td>0</td><td>List(node.js, typescript, visual-studio-code, azure-functions)</td><td>Sudden Issues Debugging Azure Functions in VS Code</td><td>8</td><td>null</td><td>null</td><td>null</td><td>null</td></tr><tr><td>79780598</td><td>1759373769</td><td>1759</td><td>1759373769</td><td>0</td><td>CC BY-SA 4.0</td><td>false</td><td>https://stackoverflow.com/questions/79780598/can-a-symbol-be-aliased-in-common-lisp</td><td>Map(reputation -> 4416, accept_rate -> 57, display_name -> Dan Passaro, user_id -> 125415, account_id -> 42975, user_type -> registered, link -> https://stackoverflow.com/users/125415/dan-passaro, profile_image -> https://www.gravatar.com/avatar/25cd06518221e8ce6f3a4c8a5ccd711a?s=256&d=identicon&r=PG)</td><td>0</td><td>List(common-lisp)</td><td>Can a symbol be aliased in Common Lisp?</td><td>13</td><td>null</td><td>null</td><td>null</td><td>null</td></tr><tr><td>79780596</td><td>1759373420</td><td>1759</td><td>1759373463</td><td>0</td><td>CC BY-SA 4.0</td><td>false</td><td>https://stackoverflow.com/questions/79780596/install-tailwind-css</td><td>Map(reputation -> 1, display_name -> Nguyen Viet Tuan, user_id -> 20967419, account_id -> 27480173, user_type -> registered, link -> https://stackoverflow.com/users/20967419/nguyen-viet-tuan, profile_image -> https://lh3.googleusercontent.com/a/AEdFTp6VZbEuRS_-Gaun81S6yc1fqqUbUk9Fx_xPfKBx=k-s256)</td><td>0</td><td>List(tailwind-css)</td><td>Install Tailwind CSS</td><td>13</td><td>1759373463</td><td>null</td><td>null</td><td>null</td></tr><tr><td>79780594</td><td>1759373057</td><td>1759</td><td>1759375429</td><td>1</td><td>CC BY-SA 4.0</td><td>false</td><td>https://stackoverflow.com/questions/79780594/hugging-face-module-not-found-error-websocket-asyncio</td><td>Map(reputation -> 1, display_name -> Sada Shiva Prasad, user_id -> 9476313, account_id -> 13117733, user_type -> registered, link -> https://stackoverflow.com/users/9476313/sada-shiva-prasad, profile_image -> https://lh4.googleusercontent.com/-TNGyrpYDsLQ/AAAAAAAAAAI/AAAAAAAAACw/ciOPnShAh14/s256-rj/photo.jpg)</td><td>-1</td><td>List(huggingface)</td><td>Hugging Face module not found error websocket.asyncio</td><td>25</td><td>null</td><td>null</td><td>null</td><td>null</td></tr><tr><td>79780593</td><td>1759372996</td><td>1759</td><td>1759373152</td><td>0</td><td>CC BY-SA 4.0</td><td>false</td><td>https://stackoverflow.com/questions/79780593/get-monthly-date</td><td>Map(reputation -> 3, display_name -> Rhenz Idol Ii San Pedro, user_id -> 28288924, account_id -> 37522139, user_type -> registered, link -> https://stackoverflow.com/users/28288924/rhenz-idol-ii-san-pedro, profile_image -> https://www.gravatar.com/avatar/110c001f33c58159d659d12eb3aa11d9?s=256&d=identicon&r=PG&f=y&so-version=2)</td><td>0</td><td>List(google-sheets, excel-formula, google-sheets-formula)</td><td>Get Monthly Date</td><td>13</td><td>1759373152</td><td>null</td><td>null</td><td>null</td></tr><tr><td>79780592</td><td>1759372669</td><td>1759</td><td>1759376037</td><td>0</td><td>CC BY-SA 4.0</td><td>false</td><td>https://stackoverflow.com/questions/79780592/sql-server-version-table-compare-dbt-type-2-for-scd-table</td><td>Map(reputation -> 1, display_name -> Sơn B&#249;i, user_id -> 26301227, account_id -> 33943309, user_type -> registered, link -> https://stackoverflow.com/users/26301227/s%c6%a1n-b%c3%b9i, profile_image -> https://www.gravatar.com/avatar/9534bf6ed73c1e1ab5b5fe08c5eda6c9?s=256&d=identicon&r=PG&f=y&so-version=2)</td><td>-1</td><td>List(sql-server, dbt, data-engineering, scd2)</td><td>SQL Server version table compare dbt type 2 for scd table</td><td>20</td><td>1759376037</td><td>null</td><td>null</td><td>null</td></tr><tr><td>79780591</td><td>1759372528</td><td>1759</td><td>1759372528</td><td>0</td><td>CC BY-SA 4.0</td><td>false</td><td>https://stackoverflow.com/questions/79780591/how-do-i-disable-line-break-before-parenthesis-for-c-c-files-vs-code</td><td>Map(reputation -> 1, display_name -> Akshay Kumar, user_id -> 31612547, account_id -> 44168076, user_type -> registered, link -> https://stackoverflow.com/users/31612547/akshay-kumar, profile_image -> https://www.gravatar.com/avatar/3a85402fcf01610b9dcad1185f7883a5?s=256&d=identicon&r=PG&f=y&so-version=2)</td><td>0</td><td>List(c++, visual-studio-code)</td><td>How do I disable line break before parenthesis for C/C++ files (VS code)</td><td>25</td><td>null</td><td>null</td><td>null</td><td>null</td></tr><tr><td>79780587</td><td>1759372169</td><td>1759</td><td>1759372169</td><td>0</td><td>CC BY-SA 4.0</td><td>false</td><td>https://stackoverflow.com/questions/79780587/does-xero-not-provide-an-api-or-built-in-function-to-fetch-daily-data</td><td>Map(reputation -> 1, display_name -> MD SOHEL BABLU, user_id -> 31612542, account_id -> 44168066, user_type -> registered, link -> https://stackoverflow.com/users/31612542/md-sohel-bablu, profile_image -> https://i.sstatic.net/j0NogcFd.png?s=256)</td><td>0</td><td>List(php, xero-api)</td><td>Does Xero not provide an API or built-in function to fetch daily data?</td><td>22</td><td>null</td><td>null</td><td>null</td><td>null</td></tr><tr><td>79780584</td><td>1759371530</td><td>1759</td><td>1759371530</td><td>0</td><td>CC BY-SA 4.0</td><td>false</td><td>https://stackoverflow.com/questions/79780584/how-to-debug-iso-image-loading-via-ipxehttp</td><td>Map(reputation -> 3, display_name -> IT FAPK, user_id -> 20609847, account_id -> 27057333, user_type -> registered, link -> https://stackoverflow.com/users/20609847/it-fapk, profile_image -> https://lh3.googleusercontent.com/a/ALm5wu2a3TFT9Nsv7JnnL1l3m_g9mRH_kwAiOn-HU1TS=k-s256)</td><td>0</td><td>List(linux, kernel, iso, ipxe)</td><td>How to debug ISO image loading via iPXE&amp;HTTP?</td><td>13</td><td>null</td><td>null</td><td>null</td><td>null</td></tr><tr><td>79780581</td><td>1759370381</td><td>1759</td><td>1759370381</td><td>0</td><td>CC BY-SA 4.0</td><td>false</td><td>https://stackoverflow.com/questions/79780581/plotly-r-annotations-showing-fixed-x-values-on-hover-despite-recalculating-clos</td><td>Map(reputation -> 267, display_name -> MatCordTo, user_id -> 13917839, account_id -> 19061913, user_type -> registered, link -> https://stackoverflow.com/users/13917839/matcordto, profile_image -> https://www.gravatar.com/avatar/c54692c7dee6b36c51695664a9cca38b?s=256&d=identicon&r=PG&f=y&so-version=2)</td><td>0</td><td>List(javascript, r, plotly, visualization, htmlwidgets)</td><td>Plotly R: Annotations showing fixed X values on hover despite recalculating closest points across subplots</td><td>11</td><td>null</td><td>null</td><td>null</td><td>null</td></tr><tr><td>79780579</td><td>1759370023</td><td>1759</td><td>1759373264</td><td>0</td><td>CC BY-SA 4.0</td><td>false</td><td>https://stackoverflow.com/questions/79780579/failure-to-display-jazzmin-header</td><td>Map(reputation -> 63, display_name -> Ali Vleotsky, user_id -> 19709665, account_id -> 25998781, user_type -> registered, link -> https://stackoverflow.com/users/19709665/ali-vleotsky, profile_image -> https://lh3.googleusercontent.com/a/AItbvmkn5J9CTb8qNzi_Z6rMJyIUsyKRmkjnoKHeVyKB=k-s256)</td><td>0</td><td>List(django, django-templates)</td><td>failure to display jazzmin header</td><td>15</td><td>1759373264</td><td>null</td><td>null</td><td>null</td></tr><tr><td>79780578</td><td>1759369383</td><td>1759</td><td>1759369383</td><td>0</td><td>CC BY-SA 4.0</td><td>false</td><td>https://stackoverflow.com/questions/79780578/login-account-with-oauth2-flutter</td><td>Map(reputation -> 1, display_name -> Mạnh Nguyễn, user_id -> 31367696, account_id -> 43690471, user_type -> registered, link -> https://stackoverflow.com/users/31367696/m%e1%ba%a1nh-nguy%e1%bb%85n, profile_image -> https://www.gravatar.com/avatar/5c33156fd1d37f9a7310ae4f51bb0ff8?s=256&d=identicon&r=PG&f=y&so-version=2)</td><td>0</td><td>List(flutter, authentication, oauth-2.0, appauth)</td><td>Login account with Oauth2 Flutter</td><td>10</td><td>null</td><td>null</td><td>null</td><td>null</td></tr><tr><td>79780573</td><td>1759368163</td><td>1759</td><td>1759368163</td><td>0</td><td>CC BY-SA 4.0</td><td>false</td><td>https://stackoverflow.com/questions/79780573/platform-independent-unifying-viewrepresentable-template-to-minimize-if-else</td><td>Map(reputation -> 837, display_name -> Leo, user_id -> 665792, account_id -> 337491, user_type -> registered, link -> https://stackoverflow.com/users/665792/leo, profile_image -> https://www.gravatar.com/avatar/4f9e86760ec2528f0c94fb658b22d34e?s=256&d=identicon&r=PG)</td><td>0</td><td>List(swiftui)</td><td>Platform Independent unifying ViewRepresentable template to minimize #if #else #endif in SwiftUI code</td><td>20</td><td>null</td><td>null</td><td>null</td><td>null</td></tr><tr><td>79780572</td><td>1759368141</td><td>1759</td><td>1759368141</td><td>0</td><td>CC BY-SA 4.0</td><td>false</td><td>https://stackoverflow.com/questions/79780572/where-does-xcode-store-watchos-simulator-runtimes-and-how-to-install-a-downloade</td><td>Map(reputation -> 1, display_name -> Nattapat Wakhet, user_id -> 19888537, account_id -> 26209410, user_type -> registered, link -> https://stackoverflow.com/users/19888537/nattapat-wakhet, profile_image -> https://graph.facebook.com/1707478442948158/picture?type=large)</td><td>-1</td><td>List(xcode, simulator)</td><td>Where does Xcode store watchOS simulator runtimes and how to install a downloaded .simruntime file?</td><td>13</td><td>null</td><td>null</td><td>null</td><td>null</td></tr><tr><td>79780570</td><td>1759367498</td><td>1759</td><td>1759367498</td><td>0</td><td>CC BY-SA 4.0</td><td>false</td><td>https://stackoverflow.com/questions/79780570/vue-form-elements-desync-from-computed-refs</td><td>Map(reputation -> 12429, accept_rate -> 63, display_name -> dwjohnston, user_id -> 1068446, account_id -> 1068606, user_type -> registered, link -> https://stackoverflow.com/users/1068446/dwjohnston, profile_image -> https://i.sstatic.net/F5uzH.jpg?s=256)</td><td>0</td><td>List(vue.js)</td><td>Vue form elements desync from computed refs</td><td>23</td><td>null</td><td>null</td><td>null</td><td>null</td></tr><tr><td>79780567</td><td>1759366982</td><td>1759</td><td>1759367427</td><td>1</td><td>CC BY-SA 4.0</td><td>false</td><td>https://stackoverflow.com/questions/79780567/are-extension-properties-subject-to-being-displayed-in-the-debugger-by-default</td><td>Map(reputation -> 135351, accept_rate -> 86, display_name -> Jeff Mercado, user_id -> 390278, account_id -> 166270, user_type -> registered, link -> https://stackoverflow.com/users/390278/jeff-mercado, profile_image -> https://www.gravatar.com/avatar/84715fec547362389d02f5be0ed12814?s=256&d=identicon&r=PG)</td><td>0</td><td>List(c#, debugging, .net-10.0, c#-14.0, extension-members)</td><td>Are extension properties subject to being displayed in the debugger by default?</td><td>37</td><td>null</td><td>null</td><td>null</td><td>null</td></tr><tr><td>79780566</td><td>1759366953</td><td>1759</td><td>1759379328</td><td>0</td><td>CC BY-SA 4.0</td><td>false</td><td>https://stackoverflow.com/questions/79780566/microsoft-clarity-does-not-work-on-react-router-v7</td><td>Map(reputation -> 3484, accept_rate -> 72, display_name -> Maramal, user_id -> 6421288, account_id -> 8569993, user_type -> registered, link -> https://stackoverflow.com/users/6421288/maramal, profile_image -> https://www.gravatar.com/avatar/3313e605d0be3cc6cb7f5ed4f7347c1d?s=256&d=identicon&r=PG&f=y&so-version=2)</td><td>0</td><td>List(javascript, node.js, vite, ms-clarity)</td><td>Microsoft Clarity does not work on React Router v7</td><td>25</td><td>1759379328</td><td>null</td><td>null</td><td>null</td></tr><tr><td>79780565</td><td>1759366393</td><td>1759</td><td>1759370366</td><td>1</td><td>CC BY-SA 4.0</td><td>true</td><td>https://stackoverflow.com/questions/79780565/python-cannot-install-torch</td><td>Map(reputation -> 3694, accept_rate -> 23, display_name -> Mich, user_id -> 2056201, account_id -> 2345937, user_type -> registered, link -> https://stackoverflow.com/users/2056201/mich, profile_image -> https://www.gravatar.com/avatar/bba9995d4071b28c1f54bcb8ae03a1f2?s=256&d=identicon&r=PG)</td><td>2</td><td>List(python, pip)</td><td>Python cannot install torch</td><td>52</td><td>null</td><td>null</td><td>null</td><td>null</td></tr><tr><td>79780561</td><td>1759365598</td><td>1759</td><td>1759368245</td><td>0</td><td>CC BY-SA 4.0</td><td>false</td><td>https://stackoverflow.com/questions/79780561/how-to-make-carouselview-match-child-height-in-flutter</td><td>Map(reputation -> 1438, display_name -> flutroid, user_id -> 10151066, account_id -> 14052833, user_type -> registered, link -> https://stackoverflow.com/users/10151066/flutroid, profile_image -> https://www.gravatar.com/avatar/77438ca2e253c4463b5ad173b1c8cf79?s=256&d=identicon&r=PG&f=y&so-version=2)</td><td>0</td><td>List(flutter)</td><td>How to make CarouselView match child height in flutter?</td><td>28</td><td>1759368245</td><td>null</td><td>null</td><td>null</td></tr><tr><td>79780557</td><td>1759364949</td><td>1759</td><td>1759364949</td><td>0</td><td>CC BY-SA 4.0</td><td>false</td><td>https://stackoverflow.com/questions/79780557/how-can-i-include-the-user-email-claim-in-jwt-tokens-in-wso2-api-manager-without</td><td>Map(reputation -> 1, display_name -> Alessandro Bertozzi, user_id -> 31612221, account_id -> 44167425, user_type -> registered, link -> https://stackoverflow.com/users/31612221/alessandro-bertozzi, profile_image -> https://www.gravatar.com/avatar/1f39d0724aadcae1eb50dc78378368ef?s=256&d=identicon&r=PG&f=y&so-version=2)</td><td>0</td><td>List(wso2, wso2-api-manager)</td><td>How can I include the user email claim in JWT tokens in WSO2 API Manager without manually editing each Service Provider?</td><td>33</td><td>null</td><td>null</td><td>null</td><td>null</td></tr><tr><td>79780555</td><td>1759364451</td><td>1759</td><td>1759364451</td><td>0</td><td>CC BY-SA 4.0</td><td>false</td><td>https://stackoverflow.com/questions/79780555/issue-with-storekit-2-in-app-purchases-unfinalized-statements-unfinished-bac</td><td>Map(reputation -> 21, display_name -> Shireen Khan, user_id -> 12741306, account_id -> 17564018, user_type -> registered, link -> https://stackoverflow.com/users/12741306/shireen-khan, profile_image -> https://lh3.googleusercontent.com/-qI59-29FckU/AAAAAAAAAAI/AAAAAAAAAAA/ACHi3rdK5JL3UEGcBdt0FV4thdVUBaWfVA/s256-rj/photo.jpg)</td><td>0</td><td>List(ios, swift, sqlite, in-app-purchase, storekit2)</td><td>Issue with StoreKit 2 In App Purchases: &quot;unfinalized statements / unfinished backups&quot; SQLite Crash</td><td>21</td><td>null</td><td>null</td><td>null</td><td>null</td></tr><tr><td>79780552</td><td>1759363913</td><td>1759</td><td>1759372062</td><td>0</td><td>CC BY-SA 4.0</td><td>false</td><td>https://stackoverflow.com/questions/79780552/difficulty-reading-volatile-memory</td><td>Map(reputation -> 41, display_name -> Lee, user_id -> 11353781, account_id -> 15734288, user_type -> registered, link -> https://stackoverflow.com/users/11353781/lee, profile_image -> https://www.gravatar.com/avatar/1f1f762961c6fb8033214ea3b0bbe216?s=256&d=identicon&r=PG&f=y&so-version=2)</td><td>0</td><td>List(c++, volatile)</td><td>Difficulty reading volatile memory</td><td>67</td><td>1759372062</td><td>null</td><td>null</td><td>null</td></tr><tr><td>79780551</td><td>1759363298</td><td>1759</td><td>1759364227</td><td>1</td><td>CC BY-SA 4.0</td><td>false</td><td>https://stackoverflow.com/questions/79780551/what-is-an-alternative-to-the-curve-function-in-r-for-modeling-and-simulation</td><td>Map(reputation -> 1, display_name -> Inaara Rajwani, user_id -> 31612167, account_id -> 44167304, user_type -> registered, link -> https://stackoverflow.com/users/31612167/inaara-rajwani, profile_image -> https://www.gravatar.com/avatar/b36384686d4469215d00a827ce4cdbda?s=256&d=identicon&r=PG&f=y&so-version=2)</td><td>0</td><td>List(r, ggplot2, plot, simulation, modeling)</td><td>What is an alternative to the curve() function in R for modeling and simulation?</td><td>20</td><td>null</td><td>null</td><td>null</td><td>null</td></tr><tr><td>79780550</td><td>1759363104</td><td>1759</td><td>1759363104</td><td>0</td><td>CC BY-SA 4.0</td><td>false</td><td>https://stackoverflow.com/questions/79780550/expo-router-animationtypeforreplace-pop-is-not-respected</td><td>Map(reputation -> 3561, accept_rate -> 76, display_name -> T3db0t, user_id -> 297824, account_id -> 112990, user_type -> registered, link -> https://stackoverflow.com/users/297824/t3db0t, profile_image -> https://www.gravatar.com/avatar/d1cf72408e13e38a3bf918413f762e94?s=256&d=identicon&r=PG)</td><td>0</td><td>List(react-native, expo, expo-router)</td><td>Expo-Router: animationTypeForReplace: &quot;pop&quot; is not respected</td><td>14</td><td>null</td><td>null</td><td>null</td><td>null</td></tr><tr><td>79780549</td><td>1759362947</td><td>1759</td><td>1759362947</td><td>0</td><td>CC BY-SA 4.0</td><td>false</td><td>https://stackoverflow.com/questions/79780549/vb-net-535-5-7-3-authentication-unsuccessful-error-when-trying-to-send-mails</td><td>Map(reputation -> 1, display_name -> 8bitdev, user_id -> 25127946, account_id -> 32352389, user_type -> registered, link -> https://stackoverflow.com/users/25127946/8bitdev, profile_image -> https://www.gravatar.com/avatar/c48f3b028a0eebff8e03340c30b3a1dd?s=256&d=identicon&r=PG&f=y&so-version=2)</td><td>0</td><td>List(vb.net, outlook, oauth, microsoft-graph-api, mailkit)</td><td>VB.NET: &#39;535: 5.7.3 Authentication unsuccessful&#39; error when trying to send mails using OAuth from an Outlook free account</td><td>23</td><td>null</td><td>null</td><td>null</td><td>null</td></tr><tr><td>79780546</td><td>1759362621</td><td>1759</td><td>1759380733</td><td>0</td><td>CC BY-SA 4.0</td><td>false</td><td>https://stackoverflow.com/questions/79780546/how-to-access-fields-in-a-generic-struct</td><td>Map(reputation -> 11, display_name -> Rob B, user_id -> 31612116, account_id -> 44167171, user_type -> registered, link -> https://stackoverflow.com/users/31612116/rob-b, profile_image -> https://www.gravatar.com/avatar/9aff93dc5d71f495f7b1ed4139910353?s=256&d=identicon&r=PG)</td><td>1</td><td>List(go, generics)</td><td>How to access fields in a generic struct?</td><td>46</td><td>1759380733</td><td>null</td><td>null</td><td>null</td></tr><tr><td>79780544</td><td>1759362546</td><td>1759</td><td>1759362546</td><td>0</td><td>CC BY-SA 4.0</td><td>false</td><td>https://stackoverflow.com/questions/79780544/recycler-view-does-not-update-until-scrolled-when-using-diffutil-and-submitlist</td><td>Map(reputation -> 572, display_name -> Notsileous, user_id -> 8633758, account_id -> 11799798, user_type -> registered, link -> https://stackoverflow.com/users/8633758/notsileous, profile_image -> https://www.gravatar.com/avatar/e14e86a668116b0882a3cd15144fba00?s=256&d=identicon&r=PG&f=y&so-version=2)</td><td>1</td><td>List(java, android, android-recyclerview, listadapter, android-diffutils)</td><td>Recycler view does not update until scrolled when using DiffUtil and submitList() with a reversed Array List</td><td>27</td><td>null</td><td>null</td><td>null</td><td>null</td></tr><tr><td>79780541</td><td>1759361920</td><td>1759</td><td>1759361920</td><td>0</td><td>CC BY-SA 4.0</td><td>false</td><td>https://stackoverflow.com/questions/79780541/gorouter-redirect-to-initiallocation-after-riverpod-rebuild</td><td>Map(reputation -> 71, display_name -> ilyasDev, user_id -> 20460232, account_id -> 26879555, user_type -> registered, link -> https://stackoverflow.com/users/20460232/ilyasdev, profile_image -> https://www.gravatar.com/avatar/19dd73af8ba7ffed299ae4840a1a713f?s=256&d=identicon&r=PG)</td><td>0</td><td>List(flutter, riverpod, gorouter)</td><td>GoRouter redirect to initialLocation after riverpod rebuild</td><td>19</td><td>null</td><td>null</td><td>null</td><td>null</td></tr><tr><td>79780540</td><td>1759361892</td><td>1759</td><td>1759362340</td><td>0</td><td>CC BY-SA 4.0</td><td>false</td><td>https://stackoverflow.com/questions/79780540/how-to-properly-resolve-and-commit-conflicts-with-git-am-reject</td><td>Map(reputation -> 49046, accept_rate -> 69, display_name -> Steve Summit, user_id -> 3923896, account_id -> 4865492, user_type -> registered, link -> https://stackoverflow.com/users/3923896/steve-summit, profile_image -> https://i.sstatic.net/AcZuX.png?s=256)</td><td>0</td><td>List(git, git-am)</td><td>how to properly resolve and commit conflicts with git am --reject?</td><td>17</td><td>1759362340</td><td>null</td><td>null</td><td>null</td></tr><tr><td>79780537</td><td>1759361155</td><td>1759</td><td>1759362765</td><td>1</td><td>CC BY-SA 4.0</td><td>false</td><td>https://stackoverflow.com/questions/79780537/remove-all-rows-from-data-frame-that-contain-a-value-without-specifying-column-n</td><td>Map(reputation -> 143, display_name -> user30397791, user_id -> 30397791, account_id -> 41672249, user_type -> registered, link -> https://stackoverflow.com/users/30397791/user30397791, profile_image -> https://www.gravatar.com/avatar/176df76a95272b8f9087b2bb9efd4baf?s=256&d=identicon&r=PG&f=y&so-version=2)</td><td>0</td><td>List(r)</td><td>Remove all rows from data frame that contain a value without specifying column names in R</td><td>26</td><td>null</td><td>null</td><td>null</td><td>null</td></tr><tr><td>79780536</td><td>1759361070</td><td>1759</td><td>1759368044</td><td>1</td><td>null</td><td>false</td><td>https://stackoverflow.com/questions/79780536/in-streamlit-how-do-i-create-a-one-time-touch-button</td><td>Map(reputation -> 1, display_name -> Karthik Chandran, user_id -> 31611993, account_id -> 44166862, user_type -> registered, link -> https://stackoverflow.com/users/31611993/karthik-chandran, profile_image -> https://www.gravatar.com/avatar/f133f6197187b23ea5bb543d36d79daa?s=256&d=identicon&r=PG&f=y&so-version=2)</td><td>-1</td><td>List(python, html, streamlit, web-development-server)</td><td>In streamlit how do I create a one time touch button</td><td>15</td><td>1759364070</td><td>1759368227</td><td>Not suitable for this site</td><td>null</td></tr><tr><td>79780530</td><td>1759359753</td><td>1759</td><td>1759359753</td><td>0</td><td>CC BY-SA 4.0</td><td>false</td><td>https://stackoverflow.com/questions/79780530/xcode-project-in-icloud-drive-causes-the-file-documents-doesn-t-exist-error</td><td>Map(reputation -> 1, display_name -> Paxton W, user_id -> 22550636, account_id -> 29430897, user_type -> registered, link -> https://stackoverflow.com/users/22550636/paxton-w, profile_image -> https://www.gravatar.com/avatar/94522a611f8e06d4cdbc3936be9abcce?s=256&d=identicon&r=PG&f=y&so-version=2)</td><td>-1</td><td>List(xcode, macos, icloud, xcode-project)</td><td>Xcode project in iCloud Drive causes “The file ‘Documents’ doesn’t exist” error loop</td><td>11</td><td>null</td><td>null</td><td>null</td><td>null</td></tr><tr><td>79780529</td><td>1759359300</td><td>1759</td><td>1759359300</td><td>0</td><td>CC BY-SA 4.0</td><td>false</td><td>https://stackoverflow.com/questions/79780529/mineflayer-assistance-with-block-interactions</td><td>Map(reputation -> 1, display_name -> TrueFaxx, user_id -> 23289018, account_id -> 30390067, user_type -> registered, link -> https://stackoverflow.com/users/23289018/truefaxx, profile_image -> https://lh3.googleusercontent.com/a/ACg8ocKvy0f15Ebge8_frAdo-K0c5DYe4h0u76Fw8EoMiTNC=k-s256)</td><td>-1</td><td>List(javascript, mineflayer)</td><td>Mineflayer assistance with block interactions</td><td>18</td><td>null</td><td>null</td><td>null</td><td>null</td></tr><tr><td>79780527</td><td>1759358580</td><td>1759</td><td>1759360559</td><td>1</td><td>CC BY-SA 4.0</td><td>false</td><td>https://stackoverflow.com/questions/79780527/how-to-find-a-safe-path-in-a-room-where-tiles-increase-in-height-each-step</td><td>Map(reputation -> 27, display_name -> wya, user_id -> 17937186, account_id -> 14359873, user_type -> registered, link -> https://stackoverflow.com/users/17937186/wya, profile_image -> https://www.gravatar.com/avatar/ded00046350a3c9124e0a9bab4b55d77?s=256&d=identicon&r=PG&f=y&so-version=2)</td><td>0</td><td>List(algorithm, matrix)</td><td>How to find a safe path in a room where tiles increase in height each step?</td><td>45</td><td>1759360559</td><td>null</td><td>null</td><td>null</td></tr><tr><td>79780518</td><td>1759357719</td><td>1759</td><td>1759363814</td><td>1</td><td>CC BY-SA 4.0</td><td>false</td><td>https://stackoverflow.com/questions/79780518/r-arrange-after-grouping</td><td>Map(reputation -> 305, display_name -> ZayzayR, user_id -> 12486623, account_id -> 17244476, user_type -> registered, link -> https://stackoverflow.com/users/12486623/zayzayr, profile_image -> https://www.gravatar.com/avatar/856ae7db64f524af06a6afc85cc8b4d9?s=256&d=identicon&r=PG&f=y&so-version=2)</td><td>0</td><td>List(r, group-by)</td><td>R arrange after grouping</td><td>32</td><td>null</td><td>null</td><td>null</td><td>null</td></tr><tr><td>79780517</td><td>1759357696</td><td>1759</td><td>1759357696</td><td>0</td><td>null</td><td>false</td><td>https://stackoverflow.com/questions/79780517/how-to-provide-the-safe-certificate-required-by-nextcloud-sync-client-version-3</td><td>Map(reputation -> 37, display_name -> Jorge D, user_id -> 9393272, account_id -> 12995441, user_type -> registered, link -> https://stackoverflow.com/users/9393272/jorge-d, profile_image -> https://www.gravatar.com/avatar/8223b040cd29589d8e1b3cdfbec99126?s=256&d=identicon&r=PG&f=y&so-version=2)</td><td>-3</td><td>List(windows, ssl, raspberry-pi, synchronization, nextcloud)</td><td>How to provide the safe certificate required by Nextcloud sync client version 3.17 for Windows?</td><td>13</td><td>null</td><td>1759365211</td><td>Not suitable for this site</td><td>null</td></tr><tr><td>79780512</td><td>1759357213</td><td>1759</td><td>1759357468</td><td>1</td><td>CC BY-SA 4.0</td><td>false</td><td>https://stackoverflow.com/questions/79780512/i-get-a-server-error-please-try-again-later-error-when-calling-the-gmail-api</td><td>Map(reputation -> 131, accept_rate -> 33, display_name -> Mario Moreno Gonz&#225;lez, user_id -> 4094596, account_id -> 5106713, user_type -> registered, link -> https://stackoverflow.com/users/4094596/mario-moreno-gonz%c3%a1lez, profile_image -> https://lh3.googleusercontent.com/-v_oGwAVOIP4/AAAAAAAAAAI/AAAAAAAAACw/_1DmkUZZKEs/s256-rj/photo.jpg)</td><td>-3</td><td>List(javascript, google-apps-script, gmail-api)</td><td>I get a &quot;Server error. Please try again later&quot; error when calling the Gmail API</td><td>38</td><td>1759357338</td><td>null</td><td>null</td><td>null</td></tr><tr><td>79780511</td><td>1759357116</td><td>1759</td><td>1759357116</td><td>0</td><td>null</td><td>false</td><td>https://stackoverflow.com/questions/79780511/how-change-docker-ip-to-hostname-in-milvus-etcd-address-by-dev-meta-session</td><td>Map(reputation -> 1696, accept_rate -> 93, display_name -> Nikolay Baranenko, user_id -> 5163984, account_id -> 6695972, user_type -> registered, link -> https://stackoverflow.com/users/5163984/nikolay-baranenko, profile_image -> https://i.sstatic.net/9Yev9.png?s=256)</td><td>-4</td><td>List(docker, docker-compose, etcd, milvus)</td><td>How change docker ip to hostname in milvus etcd Address by-dev/meta/session?</td><td>13</td><td>null</td><td>1759358927</td><td>Not suitable for this site</td><td>null</td></tr><tr><td>79780510</td><td>1759357098</td><td>1759</td><td>1759359356</td><td>1</td><td>CC BY-SA 4.0</td><td>true</td><td>https://stackoverflow.com/questions/79780510/replace-part-of-strings-with-corresponding-values-from-table-in-r</td><td>Map(reputation -> 1366, display_name -> Brian Fisher, user_id -> 9093302, account_id -> 7929701, user_type -> registered, link -> https://stackoverflow.com/users/9093302/brian-fisher, profile_image -> https://www.gravatar.com/avatar/e8dd79991171ba881a6d7a40488f3596?s=256&d=identicon&r=PG&f=y&so-version=2)</td><td>0</td><td>List(r, string, replace)</td><td>Replace part of strings with corresponding values from table in R</td><td>26</td><td>null</td><td>null</td><td>null</td><td>null</td></tr><tr><td>79780508</td><td>1759356769</td><td>1759</td><td>1759356769</td><td>0</td><td>CC BY-SA 4.0</td><td>false</td><td>https://stackoverflow.com/questions/79780508/teamsinfo-getmember-returns-unauthorized-in-microsoft-teams-bot</td><td>Map(reputation -> 1, display_name -> Mateus Linhares, user_id -> 22550866, account_id -> 29431175, user_type -> registered, link -> https://stackoverflow.com/users/22550866/mateus-linhares, profile_image -> https://lh3.googleusercontent.com/a/ACg8ocKz9_jgOekAF_Vr5Uf_xTqvbCx1BJZfSgvrUomvC0yP=k-s256)</td><td>0</td><td>List(typescript, azure, azure-bot-service)</td><td>&quot;TeamsInfo.getMember returns Unauthorized in Microsoft Teams bot&quot;</td><td>16</td><td>null</td><td>null</td><td>null</td><td>null</td></tr><tr><td>79780505</td><td>1759356019</td><td>1759</td><td>1759360224</td><td>1</td><td>CC BY-SA 4.0</td><td>true</td><td>https://stackoverflow.com/questions/79780505/add-icon-to-imagelist-without-duplicates</td><td>Map(reputation -> 35, display_name -> natraj, user_id -> 797769, account_id -> 420191, user_type -> registered, link -> https://stackoverflow.com/users/797769/natraj, profile_image -> https://www.gravatar.com/avatar/73a10568e30ef8fac39be9dc5364e61a?s=256&d=identicon&r=PG)</td><td>1</td><td>List(delphi, icons, timagelist)</td><td>Add Icon to ImageList without Duplicates</td><td>30</td><td>null</td><td>null</td><td>null</td><td>79780509</td></tr><tr><td>79780495</td><td>1759355206</td><td>1759</td><td>1759368440</td><td>0</td><td>CC BY-SA 4.0</td><td>false</td><td>https://stackoverflow.com/questions/79780495/why-does-firebase-app-check-think-that-my-app-is-not-registered</td><td>Map(reputation -> 480, display_name -> 5rod, user_id -> 23190147, account_id -> 30259905, user_type -> registered, link -> https://stackoverflow.com/users/23190147/5rod, profile_image -> https://www.gravatar.com/avatar/07992803be60cdf6c3193f438ca21164?s=256&d=identicon&r=PG&f=y&so-version=2)</td><td>0</td><td>List(ios, flutter, firebase, firebase-app-check)</td><td>Why does Firebase App Check think that my app is not registered?</td><td>22</td><td>1759368440</td><td>null</td><td>null</td><td>null</td></tr><tr><td>79780490</td><td>1759354715</td><td>1759</td><td>1759354715</td><td>0</td><td>CC BY-SA 4.0</td><td>false</td><td>https://stackoverflow.com/questions/79780490/how-to-pgp-decrypt-a-file-that-uses-aead-with-bouncy-castle</td><td>Map(reputation -> 113, display_name -> Shane, user_id -> 12064991, account_id -> 16692869, user_type -> registered, link -> https://stackoverflow.com/users/12064991/shane, profile_image -> https://www.gravatar.com/avatar/27706c1170a1e725051758de8d7db541?s=256&d=identicon&r=PG&f=y&so-version=2)</td><td>0</td><td>List(c#, bouncycastle, openpgp)</td><td>How to PGP decrypt a file that uses AEAD with bouncy castle?</td><td>21</td><td>null</td><td>null</td><td>null</td><td>null</td></tr><tr><td>79780489</td><td>1759354663</td><td>1759</td><td>1759354663</td><td>0</td><td>CC BY-SA 4.0</td><td>false</td><td>https://stackoverflow.com/questions/79780489/with-rust-pki-types-reading-private-key-from-file-throws-errornoitemsfound</td><td>Map(reputation -> 162, display_name -> mwolfe 11, user_id -> 12634797, account_id -> 14812560, user_type -> registered, link -> https://stackoverflow.com/users/12634797/mwolfe-11, profile_image -> https://www.gravatar.com/avatar/063fdee69a90d4a9c518dbbac01b7ceb?s=256&d=identicon&r=PG&f=y&so-version=2)</td><td>0</td><td>List(ssl, rust, private-key)</td><td>With rust_pki_types, reading private key from file throws Error::NoItemsFound</td><td>11</td><td>null</td><td>null</td><td>null</td><td>null</td></tr><tr><td>79780488</td><td>1759354337</td><td>1759</td><td>1759354615</td><td>0</td><td>CC BY-SA 4.0</td><td>false</td><td>https://stackoverflow.com/questions/79780488/how-to-get-images-on-html-site-to-stay-in-position-relative-to-background-image</td><td>Map(reputation -> 11, display_name -> alaska22, user_id -> 31611806, account_id -> 44166420, user_type -> registered, link -> https://stackoverflow.com/users/31611806/alaska22, profile_image -> https://www.gravatar.com/avatar/263f08ff50caefa38330e81cb395f5bb?s=256&d=identicon&r=PG&f=y&so-version=2)</td><td>0</td><td>List(html, css)</td><td>How to get images on HTML site to stay in position relative to background image as it scales across screen sizes?</td><td>33</td><td>1759354615</td><td>null</td><td>null</td><td>null</td></tr><tr><td>79780486</td><td>1759354027</td><td>1759</td><td>1759377553</td><td>0</td><td>CC BY-SA 4.0</td><td>false</td><td>https://stackoverflow.com/questions/79780486/debugging-not-working-with-blazor-wasm-app-served-though-mvc-app-when-ran-throug</td><td>Map(reputation -> 473, display_name -> Daniel Kelsch, user_id -> 12720807, account_id -> 17538143, user_type -> registered, link -> https://stackoverflow.com/users/12720807/daniel-kelsch, profile_image -> https://lh5.googleusercontent.com/-Xle2nyJowns/AAAAAAAAAAI/AAAAAAAAAAA/ACHi3recJtsLAiq5sKrFLZi7P-O24M5SXQ/s256-rj/photo.jpg)</td><td>0</td><td>List(c#, docker, docker-compose, blazor, blazor-webassembly)</td><td>Debugging not working with Blazor WASM app served though MVC app when ran through Docker-Compose</td><td>16</td><td>1759377553</td><td>null</td><td>null</td><td>null</td></tr><tr><td>79780483</td><td>1759353612</td><td>1759</td><td>1759353612</td><td>0</td><td>CC BY-SA 4.0</td><td>false</td><td>https://stackoverflow.com/questions/79780483/how-to-reference-native-c-dll-in-a-net-maui-project</td><td>Map(reputation -> 12118, accept_rate -> 61, display_name -> Peter, user_id -> 730194, account_id -> 377829, user_type -> registered, link -> https://stackoverflow.com/users/730194/peter, profile_image -> https://www.gravatar.com/avatar/fb75af7a871d88919d9cc7c0c9e687e9?s=256&d=identicon&r=PG)</td><td>0</td><td>List(visual-studio, maui, maui-windows)</td><td>How to reference native C++ DLL in a .NET MAUI project?</td><td>11</td><td>null</td><td>null</td><td>null</td><td>null</td></tr><tr><td>79780477</td><td>1759353010</td><td>1759</td><td>1759353010</td><td>0</td><td>null</td><td>false</td><td>https://stackoverflow.com/questions/79780477/custom-chat-gpt-failed-to-download-a-file-on-google-drive-with-api</td><td>Map(reputation -> 19, display_name -> willy3cub, user_id -> 4968797, account_id -> 6408296, user_type -> registered, link -> https://stackoverflow.com/users/4968797/willy3cub, profile_image -> https://www.gravatar.com/avatar/1e7ae81469edcb6b7cee639782ccb785?s=256&d=identicon&r=PG&f=y&so-version=2)</td><td>-2</td><td>List(google-drive-api, chatgpt-api)</td><td>Custom Chat GPT failed to download a file on Google drive with API</td><td>24</td><td>null</td><td>1759365925</td><td>Not suitable for this site</td><td>null</td></tr><tr><td>79780474</td><td>1759352484</td><td>1759</td><td>1759352484</td><td>0</td><td>null</td><td>false</td><td>https://stackoverflow.com/questions/79780474/sql-server-2022-setup-fails-mof-compiler-cannot-connect-to-wmi-server-perflib</td><td>Map(reputation -> 1, display_name -> Saif, user_id -> 17941112, account_id -> 23949229, user_type -> registered, link -> https://stackoverflow.com/users/17941112/saif, profile_image -> https://www.gravatar.com/avatar/8dc9b8be7aa70489185457d9cc17d653?s=256&d=identicon&r=PG&f=y&so-version=2)</td><td>0</td><td>List(sql-server-2022)</td><td>SQL Server 2022 setup fails: MOF compiler cannot connect to WMI server &amp; PerfLib 2.0 counter removal failed</td><td>9</td><td>null</td><td>1759366550</td><td>Not suitable for this site</td><td>null</td></tr><tr><td>79780473</td><td>1759352461</td><td>1759</td><td>1759352461</td><td>0</td><td>CC BY-SA 4.0</td><td>false</td><td>https://stackoverflow.com/questions/79780473/in-jenkins-how-do-i-import-some-but-not-all-functions-from-shared-library-var</td><td>Map(reputation -> 143, display_name -> OmniZ, user_id -> 23009910, account_id -> 30025581, user_type -> registered, link -> https://stackoverflow.com/users/23009910/omniz, profile_image -> https://lh3.googleusercontent.com/a/ACg8ocJIfzaihF9TUZfiuhVxn1Inpp71oRIcvBCTCmq8p4Flzw=k-s256)</td><td>0</td><td>List(jenkins, jenkins-shared-libraries)</td><td>In Jenkins, how do I import some, but not all, functions from shared library vars folder?</td><td>4</td><td>null</td><td>null</td><td>null</td><td>null</td></tr><tr><td>79780469</td><td>1759352302</td><td>1759</td><td>1759365790</td><td>1</td><td>CC BY-SA 4.0</td><td>false</td><td>https://stackoverflow.com/questions/79780469/attributedstring-mixed-attributes-get-overwritten</td><td>Map(reputation -> 1653, display_name -> viedev, user_id -> 14542345, account_id -> 19852040, user_type -> registered, link -> https://stackoverflow.com/users/14542345/viedev, profile_image -> https://www.gravatar.com/avatar/d0dc7b5ad9f1809a9fb9df1d9a481f35?s=256&d=identicon&r=PG&f=y&so-version=2)</td><td>0</td><td>List(swift, swiftui)</td><td>AttributedString: Mixed attributes get overwritten</td><td>17</td><td>1759352956</td><td>null</td><td>null</td><td>null</td></tr><tr><td>79780468</td><td>1759352229</td><td>1759</td><td>1759372380</td><td>1</td><td>CC BY-SA 4.0</td><td>false</td><td>https://stackoverflow.com/questions/79780468/apps-script-permissions-error-get-sheet-url</td><td>Map(reputation -> 11, display_name -> Teens, user_id -> 23317371, account_id -> 30427428, user_type -> registered, link -> https://stackoverflow.com/users/23317371/teens, profile_image -> https://www.gravatar.com/avatar/9d4d8e3f5f445b2cd0e4e95e93648962?s=256&d=identicon&r=PG&f=y&so-version=2)</td><td>-1</td><td>List(google-sheets, google-apps-script, custom-function)</td><td>Apps Script: Permissions Error: Get Sheet URL</td><td>15</td><td>1759372159</td><td>null</td><td>null</td><td>null</td></tr><tr><td>79780466</td><td>1759352107</td><td>1759</td><td>1759356713</td><td>1</td><td>CC BY-SA 4.0</td><td>false</td><td>https://stackoverflow.com/questions/79780466/create-plot-in-r-with-multiple-y-variables-and-two-lines-on-one-axis</td><td>Map(reputation -> 11, display_name -> user31611212, user_id -> 31611212, account_id -> 44165173, user_type -> registered, link -> https://stackoverflow.com/users/31611212/user31611212, profile_image -> https://www.gravatar.com/avatar/4377a1c542faf19dc3b3d3d95bcacc95?s=256&d=identicon&r=PG&f=y&so-version=2)</td><td>0</td><td>List(r, ggplot2)</td><td>Create plot in R with multiple y variables and two lines on one axis</td><td>33</td><td>null</td><td>null</td><td>null</td><td>null</td></tr><tr><td>79780463</td><td>1759351938</td><td>1759</td><td>1759372277</td><td>0</td><td>CC BY-SA 4.0</td><td>false</td><td>https://stackoverflow.com/questions/79780463/how-do-i-refer-to-current-path-in-git-config-using-gnu-bash</td><td>Map(reputation -> 2098, display_name -> Dennis, user_id -> 8014824, account_id -> 10903108, user_type -> registered, link -> https://stackoverflow.com/users/8014824/dennis, profile_image -> https://www.gravatar.com/avatar/4b35612f8a1d89273608818a662d2838?s=256&d=identicon&r=PG&f=y&so-version=2)</td><td>-1</td><td>List(windows, git, git-bash, pwd)</td><td>How do I refer to current path in Git config using GNU bash?</td><td>14</td><td>1759372277</td><td>null</td><td>null</td><td>null</td></tr><tr><td>79780460</td><td>1759351811</td><td>1759</td><td>1759351811</td><td>0</td><td>null</td><td>false</td><td>https://stackoverflow.com/questions/79780460/steam-integration-kit-unreal-engine-5</td><td>Map(reputation -> 41, display_name -> Bn&#39;R, user_id -> 14172565, account_id -> 19381373, user_type -> registered, link -> https://stackoverflow.com/users/14172565/bnr, profile_image -> https://www.gravatar.com/avatar/6c5057686075893db7fde65f0bc857d4?s=256&d=identicon&r=PG&f=y&so-version=2)</td><td>0</td><td>List(steam, unreal-engine5, blueprint)</td><td>steam integration kit unreal engine 5</td><td>8</td><td>null</td><td>1759365193</td><td>Not suitable for this site</td><td>null</td></tr><tr><td>79780455</td><td>1759351249</td><td>1759</td><td>1759351249</td><td>0</td><td>null</td><td>false</td><td>https://stackoverflow.com/questions/79780455/tunnel-configuration-for-side-to-side-vpn-set-up</td><td>Map(reputation -> 1, display_name -> khady lo seck, user_id -> 31611622, account_id -> 44165971, user_type -> registered, link -> https://stackoverflow.com/users/31611622/khady-lo-seck, profile_image -> https://www.gravatar.com/avatar/1a3f5d9fd7af259d088ddd172aebd872?s=256&d=identicon&r=PG&f=y&so-version=2)</td><td>-2</td><td>List(amazon-web-services, cloud, strongswan, libreswan)</td><td>Tunnel Configuration for side to side vpn set up</td><td>14</td><td>null</td><td>1759361318</td><td>Not suitable for this site</td><td>null</td></tr><tr><td>79780452</td><td>1759351059</td><td>1759</td><td>1759353722</td><td>2</td><td>CC BY-SA 4.0</td><td>true</td><td>https://stackoverflow.com/questions/79780452/this-pointer-in-multiple-inheritance-of-c-class</td><td>Map(reputation -> 233, accept_rate -> 25, display_name -> SuperBald, user_id -> 3250528, account_id -> 3932743, user_type -> registered, link -> https://stackoverflow.com/users/3250528/superbald, profile_image -> https://www.gravatar.com/avatar/3c8d4f2acd0e3ee503592eebb0c3f7a4?s=256&d=identicon&r=PG&f=y&so-version=2)</td><td>5</td><td>List(c++, multiple-inheritance)</td><td>&#39;this&#39; pointer in multiple inheritance of C++ class</td><td>110</td><td>1759353722</td><td>null</td><td>null</td><td>null</td></tr><tr><td>79780451</td><td>1759350990</td><td>1759</td><td>1759352549</td><td>0</td><td>null</td><td>false</td><td>https://stackoverflow.com/questions/79780451/spark-session-session</td><td>Map(reputation -> 31, display_name -> Th333w1, user_id -> 16497016, account_id -> 22266266, user_type -> registered, link -> https://stackoverflow.com/users/16497016/th333w1, profile_image -> https://lh3.googleusercontent.com/a/AATXAJzPRe8dQcDqjzagUjgHOMnzfEt0gOeNb82bJLyL=k-s256)</td><td>-4</td><td>List(python, unix, pyspark)</td><td>Spark session session</td><td>23</td><td>1759352549</td><td>1759369794</td><td>Needs details or clarity</td><td>null</td></tr><tr><td>79780448</td><td>1759350449</td><td>1759</td><td>1759350449</td><td>0</td><td>CC BY-SA 4.0</td><td>false</td><td>https://stackoverflow.com/questions/79780448/i-want-to-add-words-in-a-vector-db-with-a-embedding-model-never-be-trained-wit</td><td>Map(reputation -> 1, display_name -> Martin G, user_id -> 11417816, account_id -> 15824435, user_type -> registered, link -> https://stackoverflow.com/users/11417816/martin-g, profile_image -> https://www.gravatar.com/avatar/cc840a20af14f1dcf9a74b3996789dd7?s=256&d=identicon&r=PG&f=y&so-version=2)</td><td>-1</td><td>List(python, embedded, artificial-intelligence, vectorization, embedding)</td><td>i want to add &quot;words&quot; in a vector DB with a Embedding model never be trained with those &quot;words&quot;</td><td>21</td><td>null</td><td>null</td><td>null</td><td>null</td></tr><tr><td>79780447</td><td>1759350374</td><td>1759</td><td>1759350374</td><td>0</td><td>CC BY-SA 4.0</td><td>false</td><td>https://stackoverflow.com/questions/79780447/detecting-url-changes-in-iframe-in-blazor</td><td>Map(reputation -> 30954, accept_rate -> 77, display_name -> Sam, user_id -> 1705266, account_id -> 1886091, user_type -> registered, link -> https://stackoverflow.com/users/1705266/sam, profile_image -> https://i.sstatic.net/eV8wY.png?s=256)</td><td>0</td><td>List(blazor, stripe-payments, blazor-webassembly)</td><td>Detecting URL changes in iframe in Blazor</td><td>20</td><td>null</td><td>null</td><td>null</td><td>null</td></tr><tr><td>79780445</td><td>1759350284</td><td>1759</td><td>1759350284</td><td>0</td><td>null</td><td>false</td><td>https://stackoverflow.com/questions/79780445/brand-new-user-cannot-log-into-m365-says-password-is-incorrect</td><td>Map(reputation -> 1, display_name -> xanadian9, user_id -> 31611614, account_id -> 44165949, user_type -> registered, link -> https://stackoverflow.com/users/31611614/xanadian9, profile_image -> https://www.gravatar.com/avatar/1a120d3e50ee3807a9f96e1c41c4b42f?s=256&d=identicon&r=PG&f=y&so-version=2)</td><td>-4</td><td>List(office365)</td><td>Brand new user cannot log into M365, says password is incorrect</td><td>16</td><td>null</td><td>1759351119</td><td>Not suitable for this site</td><td>null</td></tr><tr><td>79780444</td><td>1759349966</td><td>1759</td><td>1759349966</td><td>0</td><td>CC BY-SA 4.0</td><td>false</td><td>https://stackoverflow.com/questions/79780444/using-vscode-for-p5-js-but-live-server-always-shows-up-blank</td><td>Map(reputation -> 1, display_name -> LETTUCECOMPLEX, user_id -> 31608530, account_id -> 44160097, user_type -> registered, link -> https://stackoverflow.com/users/31608530/lettucecomplex, profile_image -> https://www.gravatar.com/avatar/1486ffaf6654bc376897c64d934b6e95?s=256&d=identicon&r=PG&f=y&so-version=2)</td><td>-1</td><td>List(visual-studio-code, p5.js)</td><td>Using Vscode for P5.js but live server always shows up blank</td><td>15</td><td>null</td><td>null</td><td>null</td><td>null</td></tr><tr><td>79780443</td><td>1759349943</td><td>1759</td><td>1759349943</td><td>0</td><td>null</td><td>false</td><td>https://stackoverflow.com/questions/79780443/removealllisteners-not-provided-in-one-project-but-is-provided-in-another</td><td>Map(reputation -> 2508, accept_rate -> 42, display_name -> Bluebaron, user_id -> 511273, account_id -> 240821, user_type -> registered, link -> https://stackoverflow.com/users/511273/bluebaron, profile_image -> https://www.gravatar.com/avatar/fb1efcad9bb707d1396bf86f56438fe0?s=256&d=identicon&r=PG)</td><td>-2</td><td>List(javascript, angular)</td><td>removeAllListeners not provided in one project but is provided in another</td><td>32</td><td>null</td><td>1759356377</td><td>Needs details or clarity</td><td>null</td></tr><tr><td>79780439</td><td>1759349737</td><td>1759</td><td>1759350712</td><td>0</td><td>CC BY-SA 4.0</td><td>false</td><td>https://stackoverflow.com/questions/79780439/api-failed-to-open-stream-connection-refused</td><td>Map(reputation -> 1, display_name -> OnceUpon, user_id -> 31611375, account_id -> 44165466, user_type -> registered, link -> https://stackoverflow.com/users/31611375/onceupon, profile_image -> https://www.gravatar.com/avatar/46c2f49d55c5d60824ebc66e88b28b2f?s=256&d=identicon&r=PG&f=y&so-version=2)</td><td>-6</td><td>List(php)</td><td>API failed to open stream: connection refused</td><td>29</td><td>1759350712</td><td>null</td><td>null</td><td>null</td></tr><tr><td>79780437</td><td>1759349701</td><td>1759</td><td>1759349701</td><td>0</td><td>CC BY-SA 4.0</td><td>false</td><td>https://stackoverflow.com/questions/79780437/linkedin-marketing-api-how-to-filter-adcampaigns-by-multiple-statuses-using-sea</td><td>Map(reputation -> 1, display_name -> Andro IDE, user_id -> 31611205, account_id -> 44165158, user_type -> registered, link -> https://stackoverflow.com/users/31611205/andro-ide, profile_image -> https://www.gravatar.com/avatar/517a24fcf1c097123e24872475aabb53?s=256&d=identicon&r=PG&f=y&so-version=2)</td><td>0</td><td>List(linkedin-api)</td><td>LinkedIn Marketing API: How to filter adCampaigns by multiple statuses using search parameter without 400 error?</td><td>6</td><td>null</td><td>null</td><td>null</td><td>null</td></tr><tr><td>79780434</td><td>1759349442</td><td>1759</td><td>1759349442</td><td>0</td><td>null</td><td>false</td><td>https://stackoverflow.com/questions/79780434/apple-developer-membership-renewal-issue</td><td>Map(reputation -> 65, display_name -> IMAD UL-HASSAN, user_id -> 8476100, account_id -> 11568709, user_type -> registered, link -> https://stackoverflow.com/users/8476100/imad-ul-hassan, profile_image -> https://lh5.googleusercontent.com/-h2R-rosfcgg/AAAAAAAAAAI/AAAAAAAAAOY/bwawONOnBKs/s256-rj/photo.jpg)</td><td>-3</td><td>List(ios, payment, apple-developer, apple-developer-enterprise)</td><td>Apple developer memberShip Renewal Issue</td><td>16</td><td>null</td><td>1759349751</td><td>Not suitable for this site</td><td>null</td></tr><tr><td>79780432</td><td>1759349174</td><td>1759</td><td>1759355204</td><td>1</td><td>CC BY-SA 4.0</td><td>false</td><td>https://stackoverflow.com/questions/79780432/gtsummary-header-counts-with-tbl-strata-nested-stack</td><td>Map(reputation -> 167, display_name -> Ranjan Karmakar, user_id -> 30055639, account_id -> 40973609, user_type -> registered, link -> https://stackoverflow.com/users/30055639/ranjan-karmakar, profile_image -> https://www.gravatar.com/avatar/7cb0ab297214ae7085a898dabfaeb640?s=256&d=identicon&r=PG&f=y&so-version=2)</td><td>1</td><td>List(r, gtsummary)</td><td>GTSUMMARY Header counts with TBL_STRATA_NESTED_STACK</td><td>18</td><td>null</td><td>null</td><td>null</td><td>null</td></tr><tr><td>79780431</td><td>1759349068</td><td>1759</td><td>1759349068</td><td>0</td><td>CC BY-SA 4.0</td><td>false</td><td>https://stackoverflow.com/questions/79780431/n8n-rest-api-always-returns-401-unauthorized-ce-docker-desktop-on-windows-11</td><td>Map(reputation -> 1, display_name -> PFL, user_id -> 31611150, account_id -> 44165059, user_type -> registered, link -> https://stackoverflow.com/users/31611150/pfl, profile_image -> https://www.gravatar.com/avatar/472ceba0d489ce7bd2b1e39f7790c274?s=256&d=identicon&r=PG&f=y&so-version=2)</td><td>0</td><td>List(docker, automation, n8n)</td><td>n8n REST API always returns 401 Unauthorized (CE, Docker Desktop on Windows 11)</td><td>14</td><td>null</td><td>null</td><td>null</td><td>null</td></tr><tr><td>79780429</td><td>1759349043</td><td>1759</td><td>1759357009</td><td>1</td><td>null</td><td>false</td><td>https://stackoverflow.com/questions/79780429/copy-and-cut-selected-text-using-javascript-and-paste-all-3-functions-on-button</td><td>Map(reputation -> 25, display_name -> tomcaptain, user_id -> 10821035, account_id -> 14989385, user_type -> registered, link -> https://stackoverflow.com/users/10821035/tomcaptain, profile_image -> https://www.gravatar.com/avatar/5d63a1be8d8115d825d74bad99b4e2b9?s=256&d=identicon&r=PG&f=y&so-version=2)</td><td>-2</td><td>List(javascript, jquery)</td><td>Copy and Cut Selected Text using JavaScript and Paste, all 3 functions on button clicks</td><td>38</td><td>1759354453</td><td>1759354980</td><td>Duplicate</td><td>null</td></tr><tr><td>79780428</td><td>1759349039</td><td>1759</td><td>1759355978</td><td>0</td><td>CC BY-SA 4.0</td><td>false</td><td>https://stackoverflow.com/questions/79780428/rust-windows-media-foundation-virtual-camera-fires-events-and-sample-but-no-vide</td><td>Map(reputation -> 1, display_name -> Marko19907, user_id -> 15553138, account_id -> 21153321, user_type -> registered, link -> https://stackoverflow.com/users/15553138/marko19907, profile_image -> https://www.gravatar.com/avatar/03cab7f9ce6f886b3388b59533d349d6?s=256&d=identicon&r=PG&f=y&so-version=2)</td><td>0</td><td>List(windows, rust, ms-media-foundation, virtual-camera)</td><td>Rust Windows Media Foundation virtual camera fires events and sample but no video out is shown</td><td>15</td><td>1759355978</td><td>null</td><td>null</td><td>null</td></tr><tr><td>79780426</td><td>1759348605</td><td>1759</td><td>1759348605</td><td>0</td><td>null</td><td>false</td><td>https://stackoverflow.com/questions/79780426/jsp-page-not-found-in-spring-boot-application</td><td>Map(reputation -> 7532, accept_rate -> 95, display_name -> runnerpaul, user_id -> 7836976, account_id -> 10642398, user_type -> registered, link -> https://stackoverflow.com/users/7836976/runnerpaul, profile_image -> https://www.gravatar.com/avatar/a57c0f1a2af768690957df659cc28f0f?s=256&d=identicon&r=PG&f=y&so-version=2)</td><td>-1</td><td>List(java, spring-boot, jsp)</td><td>JSP page not found in Spring Boot application</td><td>23</td><td>null</td><td>1759350280</td><td>Not suitable for this site</td><td>null</td></tr><tr><td>79780423</td><td>1759348421</td><td>1759</td><td>1759348421</td><td>0</td><td>CC BY-SA 4.0</td><td>false</td><td>https://stackoverflow.com/questions/79780423/how-to-insert-an-image-from-google-drive-inside-a-google-sheet-cell-programmatic</td><td>Map(reputation -> 71, display_name -> Lexe.Elf, user_id -> 2953216, account_id -> 3534581, user_type -> registered, link -> https://stackoverflow.com/users/2953216/lexe-elf, profile_image -> https://i.sstatic.net/Ag4Zp.png?s=256)</td><td>0</td><td>List(google-sheets-api)</td><td>How to insert an image from Google Drive inside a Google Sheet Cell programmatically (via API)?</td><td>13</td><td>null</td><td>null</td><td>null</td><td>null</td></tr><tr><td>79780422</td><td>1759348420</td><td>1759</td><td>1759348420</td><td>0</td><td>CC BY-SA 4.0</td><td>false</td><td>https://stackoverflow.com/questions/79780422/multiple-frames-blendshape-failed-animation-in-reality-composer-pro</td><td>Map(reputation -> 531, accept_rate -> 88, display_name -> Alfonso Santiago, user_id -> 2730528, account_id -> 2619360, user_type -> registered, link -> https://stackoverflow.com/users/2730528/alfonso-santiago, profile_image -> https://i.sstatic.net/OE0SH.jpg?s=256)</td><td>0</td><td>List(realitykit, reality-composer-pro, usd, vision-pro)</td><td>Multiple-frames BlendShape (failed) Animation in Reality Composer Pro</td><td>4</td><td>null</td><td>null</td><td>null</td><td>null</td></tr><tr><td>79780421</td><td>1759348350</td><td>1759</td><td>1759348350</td><td>0</td><td>null</td><td>false</td><td>https://stackoverflow.com/questions/79780421/why-do-rising-temperatures-not-high-temperature-cause-a-usb-write-to-fail</td><td>Map(reputation -> 158, display_name -> CarpenterSFO, user_id -> 10845117, account_id -> 15024948, user_type -> registered, link -> https://stackoverflow.com/users/10845117/carpentersfo, profile_image -> https://www.gravatar.com/avatar/afb7ecd191da3325362781e8defe2c0a?s=256&d=identicon&r=PG&f=y&so-version=2)</td><td>-4</td><td>List(embedded, usb)</td><td>Why do rising temperatures (not high temperature) cause a USB write to fail?</td><td>19</td><td>null</td><td>1759368160</td><td>Not suitable for this site</td><td>null</td></tr><tr><td>79780419</td><td>1759348247</td><td>1759</td><td>1759348247</td><td>0</td><td>CC BY-SA 4.0</td><td>false</td><td>https://stackoverflow.com/questions/79780419/wix-quite-custom-action-not-working-when-running-exe-with-arguments</td><td>Map(reputation -> 1, display_name -> Rohan Atyalkar, user_id -> 16990576, account_id -> 22843991, user_type -> registered, link -> https://stackoverflow.com/users/16990576/rohan-atyalkar, profile_image -> https://www.gravatar.com/avatar/d438452a7e2ecf6d92763fbfe7ff7218?s=256&d=identicon&r=PG)</td><td>0</td><td>List(installation, wix, windows-installer)</td><td>Wix quite custom action not working when running exe with arguments</td><td>10</td><td>null</td><td>null</td><td>null</td><td>null</td></tr><tr><td>79780416</td><td>1759347715</td><td>1759</td><td>1759347715</td><td>0</td><td>null</td><td>false</td><td>https://stackoverflow.com/questions/79780416/how-to-programmatically-insert-text-into-a-slate-js-contenteditable-so-it-regist</td><td>Map(reputation -> 1, display_name -> HireHawk DevOps, user_id -> 31611402, account_id -> 44165531, user_type -> registered, link -> https://stackoverflow.com/users/31611402/hirehawk-devops, profile_image -> https://www.gravatar.com/avatar/0e68dcbd24205ff38f5a5b3da61df538?s=256&d=identicon&r=PG&f=y&so-version=2)</td><td>0</td><td>List(javascript)</td><td>How to programmatically insert text into a Slate.js contenteditable so it registers as user input?</td><td>21</td><td>null</td><td>1759365686</td><td>Duplicate</td><td>null</td></tr><tr><td>79780409</td><td>1759347449</td><td>1759</td><td>1759347449</td><td>0</td><td>CC BY-SA 4.0</td><td>false</td><td>https://stackoverflow.com/questions/79780409/conditionally-rendering-html-in-blazor</td><td>Map(reputation -> 30954, accept_rate -> 77, display_name -> Sam, user_id -> 1705266, account_id -> 1886091, user_type -> registered, link -> https://stackoverflow.com/users/1705266/sam, profile_image -> https://i.sstatic.net/eV8wY.png?s=256)</td><td>1</td><td>List(blazor, blazor-webassembly)</td><td>Conditionally rendering HTML in Blazor</td><td>21</td><td>null</td><td>null</td><td>null</td><td>null</td></tr><tr><td>79780408</td><td>1759347374</td><td>1759</td><td>1759369228</td><td>1</td><td>CC BY-SA 4.0</td><td>true</td><td>https://stackoverflow.com/questions/79780408/powershell-captures-array-function-result-with-single-element-as-just-the-elemen</td><td>Map(reputation -> 417987, accept_rate -> 70, display_name -> Joel Coehoorn, user_id -> 3043, account_id -> 2212, user_type -> registered, link -> https://stackoverflow.com/users/3043/joel-coehoorn, profile_image -> https://www.gravatar.com/avatar/61d2a0f034915fa9d2acd6f6b145bba8?s=256&d=identicon&r=PG)</td><td>2</td><td>List(arrays, powershell)</td><td>Powershell captures array function result with single element as just the element</td><td>45</td><td>1759358338</td><td>null</td><td>null</td><td>null</td></tr><tr><td>79780405</td><td>1759346925</td><td>1759</td><td>1759365726</td><td>1</td><td>CC BY-SA 4.0</td><td>false</td><td>https://stackoverflow.com/questions/79780405/does-the-pg-pool-from-node-postgres-support-acquiretimeoutmillis</td><td>Map(reputation -> 898, accept_rate -> 57, display_name -> okhobb, user_id -> 2800519, account_id -> 3331715, user_type -> registered, link -> https://stackoverflow.com/users/2800519/okhobb, profile_image -> https://www.gravatar.com/avatar/e422b5dc2a5f6c725c8f84cce4df615e?s=256&d=identicon&r=PG&f=y&so-version=2)</td><td>1</td><td>List(postgresql, connection-pooling, node-postgres)</td><td>Does the pg.Pool from node-postgres support acquireTimeoutMillis?</td><td>16</td><td>null</td><td>null</td><td>null</td><td>null</td></tr><tr><td>79780404</td><td>1759346629</td><td>1759</td><td>1759346629</td><td>0</td><td>CC BY-SA 4.0</td><td>false</td><td>https://stackoverflow.com/questions/79780404/liferay-auth0-integration</td><td>Map(reputation -> 5540, accept_rate -> 78, display_name -> Vicky, user_id -> 411540, account_id -> 179113, user_type -> registered, link -> https://stackoverflow.com/users/411540/vicky, profile_image -> https://www.gravatar.com/avatar/f9e8c4c4d9ac2363ea6fce353a0e047f?s=256&d=identicon&r=PG)</td><td>0</td><td>List(liferay, openid-connect, auth0, liferay-dxp)</td><td>Liferay Auth0 Integration</td><td>11</td><td>null</td><td>null</td><td>null</td><td>null</td></tr><tr><td>79780403</td><td>1759346618</td><td>1759</td><td>1759366479</td><td>3</td><td>CC BY-SA 4.0</td><td>true</td><td>https://stackoverflow.com/questions/79780403/ggrepel-still-overlapping-text</td><td>Map(reputation -> 9, display_name -> weendeen, user_id -> 20843845, account_id -> 20905801, user_type -> registered, link -> https://stackoverflow.com/users/20843845/weendeen, profile_image -> https://www.gravatar.com/avatar/51f8ab628be7e3099b005f50433c207c?s=256&d=identicon&r=PG&f=y&so-version=2)</td><td>0</td><td>List(r, ggplot2, ggrepel)</td><td>ggrepel still overlapping text</td><td>30</td><td>null</td><td>null</td><td>null</td><td>null</td></tr><tr><td>79780401</td><td>1759346457</td><td>1759</td><td>1759346457</td><td>0</td><td>null</td><td>false</td><td>https://stackoverflow.com/questions/79780401/snowflake-internal-marketplace-listing-without-a-data-product</td><td>Map(reputation -> 1, display_name -> CJVJR75, user_id -> 31611318, account_id -> 44165366, user_type -> registered, link -> https://stackoverflow.com/users/31611318/cjvjr75, profile_image -> https://www.gravatar.com/avatar/3e46ceea1a918cbe8ad7a3ce1977abb2?s=256&d=identicon&r=PG&f=y&so-version=2)</td><td>-2</td><td>List(snowflake-cloud-data-platform)</td><td>Snowflake Internal Marketplace - listing without a data product</td><td>19</td><td>null</td><td>1759349381</td><td>Not suitable for this site</td><td>null</td></tr><tr><td>79780397</td><td>1759345998</td><td>1759</td><td>1759345998</td><td>0</td><td>CC BY-SA 4.0</td><td>false</td><td>https://stackoverflow.com/questions/79780397/netsuite-php-find-sales-order-using-custom-field</td><td>Map(reputation -> 69, accept_rate -> 75, display_name -> John, user_id -> 4075715, account_id -> 4191570, user_type -> registered, link -> https://stackoverflow.com/users/4075715/john, profile_image -> https://www.gravatar.com/avatar/491af55ca0e5f191061276ae13df624b?s=256&d=identicon&r=PG&f=y&so-version=2)</td><td>0</td><td>List(php, netsuite, custom-fields, netsuite-rest-api)</td><td>Netsuite PHP find Sales Order using custom field</td><td>19</td><td>null</td><td>null</td><td>null</td><td>null</td></tr><tr><td>79780395</td><td>1759345848</td><td>1759</td><td>1759345848</td><td>0</td><td>CC BY-SA 4.0</td><td>false</td><td>https://stackoverflow.com/questions/79780395/is-it-possible-to-pull-the-date-a-cell-entry-occurred</td><td>Map(reputation -> 1, display_name -> logan hecht, user_id -> 31610860, account_id -> 44164469, user_type -> registered, link -> https://stackoverflow.com/users/31610860/logan-hecht, profile_image -> https://www.gravatar.com/avatar/0530e2d840302c968fb6cc3fdab48dd7?s=256&d=identicon&r=PG&f=y&so-version=2)</td><td>-3</td><td>List(excel, date, vlookup)</td><td>Is it possible to pull the date a cell entry occurred?</td><td>37</td><td>null</td><td>null</td><td>null</td><td>null</td></tr></tbody></table></div>"
      ]
     },
     "metadata": {
      "application/vnd.databricks.v1+output": {
       "addedWidgets": {},
       "aggData": [],
       "aggError": "",
       "aggOverflow": false,
       "aggSchema": [],
       "aggSeriesLimitReached": false,
       "aggType": "",
       "arguments": {},
       "columnCustomDisplayInfos": {},
       "data": [
        [
         79780634,
         1759381831,
         1759,
         1759381831,
         0,
         "CC BY-SA 4.0",
         false,
         "https://stackoverflow.com/questions/79780634/apt-update-fails-with-conflicting-values-set-for-option-signed-by-after-adding",
         {
          "account_id": "43916646",
          "display_name": "Mahavir vikrambhai Dodiya",
          "link": "https://stackoverflow.com/users/31613051/mahavir-vikrambhai-dodiya",
          "profile_image": "https://www.gravatar.com/avatar/20b395c743bde7b37ea5ac7dde88968d?s=256&d=identicon&r=PG&f=y&so-version=2",
          "reputation": "1",
          "user_id": "31613051",
          "user_type": "registered"
         },
         0,
         [
          "linux",
          "ubuntu"
         ],
         "apt update fails with &quot;Conflicting values set for option Signed-By&quot; after adding ROS 2 Jazzy repository on Ubuntu 24.04",
         2,
         null,
         null,
         null,
         null
        ],
        [
         79780632,
         1759381729,
         1759,
         1759381729,
         0,
         "CC BY-SA 4.0",
         false,
         "https://stackoverflow.com/questions/79780632/what-is-the-use-case-for-tanstack-start-useserverfn-hook",
         {
          "accept_rate": "75",
          "account_id": "9606741",
          "display_name": "Michał Turczyn",
          "link": "https://stackoverflow.com/users/7132550/micha%c5%82-turczyn",
          "profile_image": "https://graph.facebook.com/1063981417044495/picture?type=large",
          "reputation": "41028",
          "user_id": "7132550",
          "user_type": "registered"
         },
         0,
         [
          "reactjs",
          "tanstackreact-query",
          "tanstack",
          "tanstack-start"
         ],
         "What is the use case for TanStack Start useServerFn hook",
         3,
         null,
         null,
         null,
         null
        ],
        [
         79780631,
         1759381584,
         1759,
         1759381584,
         0,
         "CC BY-SA 4.0",
         false,
         "https://stackoverflow.com/questions/79780631/how-to-remove-the-arrow-in-the-shadcn-tooltip-component-without-changing-the-mai",
         {
          "account_id": "41126044",
          "display_name": "m112120",
          "link": "https://stackoverflow.com/users/30132998/m112120",
          "profile_image": "https://www.gravatar.com/avatar/75964ea76c37bcc48af3b05b178320e7?s=256&d=identicon&r=PG&f=y&so-version=2",
          "reputation": "29",
          "user_id": "30132998",
          "user_type": "registered"
         },
         0,
         [
          "shadcnui"
         ],
         "How to remove the arrow in the shadcn tooltip component without changing the main imported code?",
         3,
         null,
         null,
         null,
         null
        ],
        [
         79780627,
         1759381033,
         1759,
         1759381054,
         0,
         "CC BY-SA 4.0",
         false,
         "https://stackoverflow.com/questions/79780627/get-monthly-descending-date",
         {
          "account_id": "37523449",
          "display_name": "San Pedro Rhenz Idol II",
          "link": "https://stackoverflow.com/users/28289568/san-pedro-rhenz-idol-ii",
          "profile_image": "https://www.gravatar.com/avatar/e0c0f08c8e181357b467d0e28f9f13a6?s=256&d=identicon&r=PG&f=y&so-version=2",
          "reputation": "1",
          "user_id": "28289568",
          "user_type": "registered"
         },
         0,
         [
          "google-sheets",
          "excel-formula",
          "google-sheets-formula",
          "formula"
         ],
         "Get Monthly Descending Date",
         5,
         1759381054,
         null,
         null,
         null
        ],
        [
         79780625,
         1759380637,
         1759,
         1759380637,
         0,
         "CC BY-SA 4.0",
         false,
         "https://stackoverflow.com/questions/79780625/vs-code-remote-ssh-2fa-issue",
         {
          "account_id": "25719653",
          "display_name": "Ab_Ad ",
          "link": "https://stackoverflow.com/users/19476808/ab-ad",
          "profile_image": "https://lh3.googleusercontent.com/a/AATXAJxBAEmG3gCdTq7kGLpSSnqxTULQNnUaN2ldfTMdKw=k-s256",
          "reputation": "13",
          "user_id": "19476808",
          "user_type": "registered"
         },
         0,
         [
          "linux",
          "visual-studio-code",
          "vscode-remote-ssh"
         ],
         "VS code Remote SSH: 2FA issue",
         8,
         null,
         null,
         null,
         null
        ],
        [
         79780620,
         1759379061,
         1759,
         1759380101,
         0,
         "CC BY-SA 4.0",
         false,
         "https://stackoverflow.com/questions/79780620/access-to-external-ip-from-docker-container-via-linux-vm-via-host-windows-11-usi",
         {
          "account_id": "17052216",
          "display_name": "Сергей Новиков",
          "link": "https://stackoverflow.com/users/12337598/%d0%a1%d0%b5%d1%80%d0%b3%d0%b5%d0%b9-%d0%9d%d0%be%d0%b2%d0%b8%d0%ba%d0%be%d0%b2",
          "profile_image": "https://lh3.googleusercontent.com/-tcdCfbnNAnM/AAAAAAAAAAI/AAAAAAAAAAA/ACHi3rf9HcyXOqF8YIvpv4WSt7BKmfFNpQ/s256-rj/photo.jpg",
          "reputation": "1",
          "user_id": "12337598",
          "user_type": "registered"
         },
         0,
         [
          "linux",
          "windows",
          "docker",
          "vagrant",
          "virtualbox"
         ],
         "Access to external IP from docker container via Linux VM via host Windows 11 using Vagrant",
         20,
         1759380101,
         null,
         null,
         null
        ],
        [
         79780616,
         1759378232,
         1759,
         1759379100,
         1,
         "CC BY-SA 4.0",
         false,
         "https://stackoverflow.com/questions/79780616/vba-in-excel-to-auto-send-emails-skip-over-recipients-without-attachments",
         {
          "account_id": "44166461",
          "display_name": "user31611822",
          "link": "https://stackoverflow.com/users/31611822/user31611822",
          "profile_image": "https://www.gravatar.com/avatar/d20e0ee407ea121f39817575aeee8f1a?s=256&d=identicon&r=PG&f=y&so-version=2",
          "reputation": "11",
          "user_id": "31611822",
          "user_type": "registered"
         },
         1,
         [
          "excel",
          "vba",
          "email",
          "automation",
          "outlook"
         ],
         "VBA in Excel to auto send emails skip over recipients without attachments",
         16,
         null,
         null,
         null,
         null
        ],
        [
         79780615,
         1759377953,
         1759,
         1759377953,
         0,
         null,
         false,
         "https://stackoverflow.com/questions/79780615/self-hosting-map-server-for-real-time-tracker-web-app",
         {
          "account_id": "43596168",
          "display_name": "nzfaaaaaa",
          "link": "https://stackoverflow.com/users/31319665/nzfaaaaaa",
          "profile_image": "https://www.gravatar.com/avatar/4aec6b2099a7dcc4875d9ff68a773fab?s=256&d=identicon&r=PG&f=y&so-version=2",
          "reputation": "1",
          "user_id": "31319665",
          "user_type": "registered"
         },
         -2,
         [
          "server",
          "self-hosting",
          "mapserver"
         ],
         "Self-Hosting Map Server for Real-Time Tracker Web App",
         22,
         null,
         1759379474,
         "Not suitable for this site",
         null
        ],
        [
         79780613,
         1759377024,
         1759,
         1759377024,
         0,
         "CC BY-SA 4.0",
         false,
         "https://stackoverflow.com/questions/79780613/why-xero-prompts-for-company-selection-even-when-using-only-openid-email",
         {
          "account_id": "7033131",
          "display_name": "Thomas Lo",
          "link": "https://stackoverflow.com/users/5388148/thomas-lo",
          "profile_image": "https://graph.facebook.com/10153283560269037/picture?type=large",
          "reputation": "94",
          "user_id": "5388148",
          "user_type": "registered"
         },
         0,
         [
          "xero-api"
         ],
         "Why Xero Prompts for Company Selection Even When Using Only &#39;openid&#39;, &#39;email&#39;, &#39;profile&#39; Scopes for Login",
         21,
         null,
         null,
         null,
         null
        ],
        [
         79780612,
         1759376828,
         1759,
         1759379151,
         1,
         "CC BY-SA 4.0",
         true,
         "https://stackoverflow.com/questions/79780612/how-do-i-remove-duplicate-column-in-same-row-excel",
         {
          "account_id": "44094443",
          "display_name": "lRosettaStoned",
          "link": "https://stackoverflow.com/users/31574244/lrosettastoned",
          "profile_image": "https://www.gravatar.com/avatar/3140e2b1f7862a9bd1b27d244fedbc7b?s=256&d=identicon&r=PG&f=y&so-version=2",
          "reputation": "1",
          "user_id": "31574244",
          "user_type": "registered"
         },
         0,
         [
          "excel",
          "excel-formula",
          "multiple-columns"
         ],
         "How do i remove duplicate column in same row Excel?",
         18,
         1759376889,
         null,
         null,
         null
        ],
        [
         79780611,
         1759376619,
         1759,
         1759377720,
         0,
         "CC BY-SA 4.0",
         false,
         "https://stackoverflow.com/questions/79780611/what-is-wrong-with-python-subprocess",
         {
          "account_id": "44168462",
          "display_name": "Steve Chan",
          "link": "https://stackoverflow.com/users/31612749/steve-chan",
          "profile_image": "https://www.gravatar.com/avatar/0cc2f22fe3578e8379e2e99826b51e63?s=256&d=identicon&r=PG&f=y&so-version=2",
          "reputation": "1",
          "user_id": "31612749",
          "user_type": "registered"
         },
         -4,
         [
          "python",
          "subprocess"
         ],
         "What is wrong with python subprocess?",
         40,
         1759377720,
         null,
         null,
         null
        ],
        [
         79780610,
         1759376249,
         1759,
         1759376249,
         0,
         "CC BY-SA 4.0",
         false,
         "https://stackoverflow.com/questions/79780610/prisma-wont-execute-seeder-in-nextjs",
         {
          "account_id": "21402941",
          "display_name": "LVC",
          "link": "https://stackoverflow.com/users/15764662/lvc",
          "profile_image": "https://www.gravatar.com/avatar/1d2066ed2fa4318c1103be7565118f0d?s=256&d=identicon&r=PG&f=y&so-version=2",
          "reputation": "137",
          "user_id": "15764662",
          "user_type": "registered"
         },
         0,
         [
          "next.js",
          "prisma"
         ],
         "Prisma won&#39;t execute seeder in nextjs",
         20,
         null,
         null,
         null,
         null
        ],
        [
         79780608,
         1759375893,
         1759,
         1759375893,
         0,
         "CC BY-SA 4.0",
         false,
         "https://stackoverflow.com/questions/79780608/why-conda-deactivate-isnt-taken-into-account-and-java-version-used-is-still-th",
         {
          "account_id": "3366819",
          "display_name": "Marc Le Bihan",
          "link": "https://stackoverflow.com/users/2827181/marc-le-bihan",
          "profile_image": "https://i.sstatic.net/WJK16.jpg?s=256",
          "reputation": "3573",
          "user_id": "2827181",
          "user_type": "registered"
         },
         0,
         [
          "java",
          "spring-boot",
          "conda"
         ],
         "Why conda deactivate isn&#39;t taken into account, and java version used is still the one it offers and not the default one of my system?",
         13,
         null,
         null,
         null,
         null
        ],
        [
         79780607,
         1759375465,
         1759,
         1759375465,
         0,
         "CC BY-SA 4.0",
         false,
         "https://stackoverflow.com/questions/79780607/how-to-retrieve-all-permission-details-including-resources-policies-and-scopes",
         {
          "account_id": "29464404",
          "display_name": "J_Max",
          "link": "https://stackoverflow.com/users/22578404/j-max",
          "profile_image": "https://www.gravatar.com/avatar/a29afdd9ebf8e086e8fda8465d4d9547?s=256&d=identicon&r=PG&f=y&so-version=2",
          "reputation": "25",
          "user_id": "22578404",
          "user_type": "registered"
         },
         0,
         [
          "rest",
          "next.js",
          "permissions",
          "authorization",
          "keycloak"
         ],
         "How to retrieve all permission details including resources, policies, and scopes from Keycloak?",
         17,
         null,
         null,
         null,
         null
        ],
        [
         79780605,
         1759375271,
         1759,
         1759375271,
         0,
         "CC BY-SA 4.0",
         false,
         "https://stackoverflow.com/questions/79780605/adding-custom-div-to-compose-window-with-inboxsdk-makes-issues-with-height-when",
         {
          "accept_rate": "72",
          "account_id": "3016866",
          "display_name": "kecman",
          "link": "https://stackoverflow.com/users/2558764/kecman",
          "profile_image": "https://www.gravatar.com/avatar/81db839a7ab31ef6790518a9851782af?s=256&d=identicon&r=PG",
          "reputation": "863",
          "user_id": "2558764",
          "user_type": "registered"
         },
         0,
         [
          "css",
          "dom",
          "google-chrome-extension",
          "gmail",
          "inboxsdk"
         ],
         "Adding custom div to compose window with InboxSDK makes issues with height when going to fullscreen mode of compose window",
         9,
         null,
         null,
         null,
         null
        ],
        [
         79780604,
         1759375226,
         1759,
         1759375226,
         0,
         "CC BY-SA 4.0",
         false,
         "https://stackoverflow.com/questions/79780604/how-to-get-youtube-data-title-links-playlist-thumbnail-without-an-api-key",
         {
          "account_id": "44168359",
          "display_name": "Subhan Ansari",
          "link": "https://stackoverflow.com/users/31612690/subhan-ansari",
          "profile_image": "https://www.gravatar.com/avatar/a49335fe006b7ff5484714563c2146e3?s=256&d=identicon&r=PG&f=y&so-version=2",
          "reputation": "1",
          "user_id": "31612690",
          "user_type": "registered"
         },
         0,
         [
          "python",
          "web-scraping",
          "youtube",
          "youtube-data-api"
         ],
         "How to Get YouTube Data (Title, Links, Playlist, Thumbnail) Without an API Key",
         16,
         null,
         null,
         null,
         null
        ],
        [
         79780602,
         1759375024,
         1759,
         1759375024,
         0,
         "CC BY-SA 4.0",
         false,
         "https://stackoverflow.com/questions/79780602/sudden-issues-debugging-azure-functions-in-vs-code",
         {
          "accept_rate": "43",
          "account_id": "4142464",
          "display_name": "wooters",
          "link": "https://stackoverflow.com/users/3397281/wooters",
          "profile_image": "https://i.sstatic.net/1wOeS.jpg?s=256",
          "reputation": "1067",
          "user_id": "3397281",
          "user_type": "registered"
         },
         0,
         [
          "node.js",
          "typescript",
          "visual-studio-code",
          "azure-functions"
         ],
         "Sudden Issues Debugging Azure Functions in VS Code",
         8,
         null,
         null,
         null,
         null
        ],
        [
         79780598,
         1759373769,
         1759,
         1759373769,
         0,
         "CC BY-SA 4.0",
         false,
         "https://stackoverflow.com/questions/79780598/can-a-symbol-be-aliased-in-common-lisp",
         {
          "accept_rate": "57",
          "account_id": "42975",
          "display_name": "Dan Passaro",
          "link": "https://stackoverflow.com/users/125415/dan-passaro",
          "profile_image": "https://www.gravatar.com/avatar/25cd06518221e8ce6f3a4c8a5ccd711a?s=256&d=identicon&r=PG",
          "reputation": "4416",
          "user_id": "125415",
          "user_type": "registered"
         },
         0,
         [
          "common-lisp"
         ],
         "Can a symbol be aliased in Common Lisp?",
         13,
         null,
         null,
         null,
         null
        ],
        [
         79780596,
         1759373420,
         1759,
         1759373463,
         0,
         "CC BY-SA 4.0",
         false,
         "https://stackoverflow.com/questions/79780596/install-tailwind-css",
         {
          "account_id": "27480173",
          "display_name": "Nguyen Viet Tuan",
          "link": "https://stackoverflow.com/users/20967419/nguyen-viet-tuan",
          "profile_image": "https://lh3.googleusercontent.com/a/AEdFTp6VZbEuRS_-Gaun81S6yc1fqqUbUk9Fx_xPfKBx=k-s256",
          "reputation": "1",
          "user_id": "20967419",
          "user_type": "registered"
         },
         0,
         [
          "tailwind-css"
         ],
         "Install Tailwind CSS",
         13,
         1759373463,
         null,
         null,
         null
        ],
        [
         79780594,
         1759373057,
         1759,
         1759375429,
         1,
         "CC BY-SA 4.0",
         false,
         "https://stackoverflow.com/questions/79780594/hugging-face-module-not-found-error-websocket-asyncio",
         {
          "account_id": "13117733",
          "display_name": "Sada Shiva Prasad",
          "link": "https://stackoverflow.com/users/9476313/sada-shiva-prasad",
          "profile_image": "https://lh4.googleusercontent.com/-TNGyrpYDsLQ/AAAAAAAAAAI/AAAAAAAAACw/ciOPnShAh14/s256-rj/photo.jpg",
          "reputation": "1",
          "user_id": "9476313",
          "user_type": "registered"
         },
         -1,
         [
          "huggingface"
         ],
         "Hugging Face module not found error websocket.asyncio",
         25,
         null,
         null,
         null,
         null
        ],
        [
         79780593,
         1759372996,
         1759,
         1759373152,
         0,
         "CC BY-SA 4.0",
         false,
         "https://stackoverflow.com/questions/79780593/get-monthly-date",
         {
          "account_id": "37522139",
          "display_name": "Rhenz Idol Ii San Pedro",
          "link": "https://stackoverflow.com/users/28288924/rhenz-idol-ii-san-pedro",
          "profile_image": "https://www.gravatar.com/avatar/110c001f33c58159d659d12eb3aa11d9?s=256&d=identicon&r=PG&f=y&so-version=2",
          "reputation": "3",
          "user_id": "28288924",
          "user_type": "registered"
         },
         0,
         [
          "google-sheets",
          "excel-formula",
          "google-sheets-formula"
         ],
         "Get Monthly Date",
         13,
         1759373152,
         null,
         null,
         null
        ],
        [
         79780592,
         1759372669,
         1759,
         1759376037,
         0,
         "CC BY-SA 4.0",
         false,
         "https://stackoverflow.com/questions/79780592/sql-server-version-table-compare-dbt-type-2-for-scd-table",
         {
          "account_id": "33943309",
          "display_name": "Sơn B&#249;i",
          "link": "https://stackoverflow.com/users/26301227/s%c6%a1n-b%c3%b9i",
          "profile_image": "https://www.gravatar.com/avatar/9534bf6ed73c1e1ab5b5fe08c5eda6c9?s=256&d=identicon&r=PG&f=y&so-version=2",
          "reputation": "1",
          "user_id": "26301227",
          "user_type": "registered"
         },
         -1,
         [
          "sql-server",
          "dbt",
          "data-engineering",
          "scd2"
         ],
         "SQL Server version table compare dbt type 2 for scd table",
         20,
         1759376037,
         null,
         null,
         null
        ],
        [
         79780591,
         1759372528,
         1759,
         1759372528,
         0,
         "CC BY-SA 4.0",
         false,
         "https://stackoverflow.com/questions/79780591/how-do-i-disable-line-break-before-parenthesis-for-c-c-files-vs-code",
         {
          "account_id": "44168076",
          "display_name": "Akshay Kumar",
          "link": "https://stackoverflow.com/users/31612547/akshay-kumar",
          "profile_image": "https://www.gravatar.com/avatar/3a85402fcf01610b9dcad1185f7883a5?s=256&d=identicon&r=PG&f=y&so-version=2",
          "reputation": "1",
          "user_id": "31612547",
          "user_type": "registered"
         },
         0,
         [
          "c++",
          "visual-studio-code"
         ],
         "How do I disable line break before parenthesis for C/C++ files (VS code)",
         25,
         null,
         null,
         null,
         null
        ],
        [
         79780587,
         1759372169,
         1759,
         1759372169,
         0,
         "CC BY-SA 4.0",
         false,
         "https://stackoverflow.com/questions/79780587/does-xero-not-provide-an-api-or-built-in-function-to-fetch-daily-data",
         {
          "account_id": "44168066",
          "display_name": "MD SOHEL BABLU",
          "link": "https://stackoverflow.com/users/31612542/md-sohel-bablu",
          "profile_image": "https://i.sstatic.net/j0NogcFd.png?s=256",
          "reputation": "1",
          "user_id": "31612542",
          "user_type": "registered"
         },
         0,
         [
          "php",
          "xero-api"
         ],
         "Does Xero not provide an API or built-in function to fetch daily data?",
         22,
         null,
         null,
         null,
         null
        ],
        [
         79780584,
         1759371530,
         1759,
         1759371530,
         0,
         "CC BY-SA 4.0",
         false,
         "https://stackoverflow.com/questions/79780584/how-to-debug-iso-image-loading-via-ipxehttp",
         {
          "account_id": "27057333",
          "display_name": "IT FAPK",
          "link": "https://stackoverflow.com/users/20609847/it-fapk",
          "profile_image": "https://lh3.googleusercontent.com/a/ALm5wu2a3TFT9Nsv7JnnL1l3m_g9mRH_kwAiOn-HU1TS=k-s256",
          "reputation": "3",
          "user_id": "20609847",
          "user_type": "registered"
         },
         0,
         [
          "linux",
          "kernel",
          "iso",
          "ipxe"
         ],
         "How to debug ISO image loading via iPXE&amp;HTTP?",
         13,
         null,
         null,
         null,
         null
        ],
        [
         79780581,
         1759370381,
         1759,
         1759370381,
         0,
         "CC BY-SA 4.0",
         false,
         "https://stackoverflow.com/questions/79780581/plotly-r-annotations-showing-fixed-x-values-on-hover-despite-recalculating-clos",
         {
          "account_id": "19061913",
          "display_name": "MatCordTo",
          "link": "https://stackoverflow.com/users/13917839/matcordto",
          "profile_image": "https://www.gravatar.com/avatar/c54692c7dee6b36c51695664a9cca38b?s=256&d=identicon&r=PG&f=y&so-version=2",
          "reputation": "267",
          "user_id": "13917839",
          "user_type": "registered"
         },
         0,
         [
          "javascript",
          "r",
          "plotly",
          "visualization",
          "htmlwidgets"
         ],
         "Plotly R: Annotations showing fixed X values on hover despite recalculating closest points across subplots",
         11,
         null,
         null,
         null,
         null
        ],
        [
         79780579,
         1759370023,
         1759,
         1759373264,
         0,
         "CC BY-SA 4.0",
         false,
         "https://stackoverflow.com/questions/79780579/failure-to-display-jazzmin-header",
         {
          "account_id": "25998781",
          "display_name": "Ali Vleotsky",
          "link": "https://stackoverflow.com/users/19709665/ali-vleotsky",
          "profile_image": "https://lh3.googleusercontent.com/a/AItbvmkn5J9CTb8qNzi_Z6rMJyIUsyKRmkjnoKHeVyKB=k-s256",
          "reputation": "63",
          "user_id": "19709665",
          "user_type": "registered"
         },
         0,
         [
          "django",
          "django-templates"
         ],
         "failure to display jazzmin header",
         15,
         1759373264,
         null,
         null,
         null
        ],
        [
         79780578,
         1759369383,
         1759,
         1759369383,
         0,
         "CC BY-SA 4.0",
         false,
         "https://stackoverflow.com/questions/79780578/login-account-with-oauth2-flutter",
         {
          "account_id": "43690471",
          "display_name": "Mạnh Nguyễn",
          "link": "https://stackoverflow.com/users/31367696/m%e1%ba%a1nh-nguy%e1%bb%85n",
          "profile_image": "https://www.gravatar.com/avatar/5c33156fd1d37f9a7310ae4f51bb0ff8?s=256&d=identicon&r=PG&f=y&so-version=2",
          "reputation": "1",
          "user_id": "31367696",
          "user_type": "registered"
         },
         0,
         [
          "flutter",
          "authentication",
          "oauth-2.0",
          "appauth"
         ],
         "Login account with Oauth2 Flutter",
         10,
         null,
         null,
         null,
         null
        ],
        [
         79780573,
         1759368163,
         1759,
         1759368163,
         0,
         "CC BY-SA 4.0",
         false,
         "https://stackoverflow.com/questions/79780573/platform-independent-unifying-viewrepresentable-template-to-minimize-if-else",
         {
          "account_id": "337491",
          "display_name": "Leo",
          "link": "https://stackoverflow.com/users/665792/leo",
          "profile_image": "https://www.gravatar.com/avatar/4f9e86760ec2528f0c94fb658b22d34e?s=256&d=identicon&r=PG",
          "reputation": "837",
          "user_id": "665792",
          "user_type": "registered"
         },
         0,
         [
          "swiftui"
         ],
         "Platform Independent unifying ViewRepresentable template to minimize #if #else #endif in SwiftUI code",
         20,
         null,
         null,
         null,
         null
        ],
        [
         79780572,
         1759368141,
         1759,
         1759368141,
         0,
         "CC BY-SA 4.0",
         false,
         "https://stackoverflow.com/questions/79780572/where-does-xcode-store-watchos-simulator-runtimes-and-how-to-install-a-downloade",
         {
          "account_id": "26209410",
          "display_name": "Nattapat Wakhet",
          "link": "https://stackoverflow.com/users/19888537/nattapat-wakhet",
          "profile_image": "https://graph.facebook.com/1707478442948158/picture?type=large",
          "reputation": "1",
          "user_id": "19888537",
          "user_type": "registered"
         },
         -1,
         [
          "xcode",
          "simulator"
         ],
         "Where does Xcode store watchOS simulator runtimes and how to install a downloaded .simruntime file?",
         13,
         null,
         null,
         null,
         null
        ],
        [
         79780570,
         1759367498,
         1759,
         1759367498,
         0,
         "CC BY-SA 4.0",
         false,
         "https://stackoverflow.com/questions/79780570/vue-form-elements-desync-from-computed-refs",
         {
          "accept_rate": "63",
          "account_id": "1068606",
          "display_name": "dwjohnston",
          "link": "https://stackoverflow.com/users/1068446/dwjohnston",
          "profile_image": "https://i.sstatic.net/F5uzH.jpg?s=256",
          "reputation": "12429",
          "user_id": "1068446",
          "user_type": "registered"
         },
         0,
         [
          "vue.js"
         ],
         "Vue form elements desync from computed refs",
         23,
         null,
         null,
         null,
         null
        ],
        [
         79780567,
         1759366982,
         1759,
         1759367427,
         1,
         "CC BY-SA 4.0",
         false,
         "https://stackoverflow.com/questions/79780567/are-extension-properties-subject-to-being-displayed-in-the-debugger-by-default",
         {
          "accept_rate": "86",
          "account_id": "166270",
          "display_name": "Jeff Mercado",
          "link": "https://stackoverflow.com/users/390278/jeff-mercado",
          "profile_image": "https://www.gravatar.com/avatar/84715fec547362389d02f5be0ed12814?s=256&d=identicon&r=PG",
          "reputation": "135351",
          "user_id": "390278",
          "user_type": "registered"
         },
         0,
         [
          "c#",
          "debugging",
          ".net-10.0",
          "c#-14.0",
          "extension-members"
         ],
         "Are extension properties subject to being displayed in the debugger by default?",
         37,
         null,
         null,
         null,
         null
        ],
        [
         79780566,
         1759366953,
         1759,
         1759379328,
         0,
         "CC BY-SA 4.0",
         false,
         "https://stackoverflow.com/questions/79780566/microsoft-clarity-does-not-work-on-react-router-v7",
         {
          "accept_rate": "72",
          "account_id": "8569993",
          "display_name": "Maramal",
          "link": "https://stackoverflow.com/users/6421288/maramal",
          "profile_image": "https://www.gravatar.com/avatar/3313e605d0be3cc6cb7f5ed4f7347c1d?s=256&d=identicon&r=PG&f=y&so-version=2",
          "reputation": "3484",
          "user_id": "6421288",
          "user_type": "registered"
         },
         0,
         [
          "javascript",
          "node.js",
          "vite",
          "ms-clarity"
         ],
         "Microsoft Clarity does not work on React Router v7",
         25,
         1759379328,
         null,
         null,
         null
        ],
        [
         79780565,
         1759366393,
         1759,
         1759370366,
         1,
         "CC BY-SA 4.0",
         true,
         "https://stackoverflow.com/questions/79780565/python-cannot-install-torch",
         {
          "accept_rate": "23",
          "account_id": "2345937",
          "display_name": "Mich",
          "link": "https://stackoverflow.com/users/2056201/mich",
          "profile_image": "https://www.gravatar.com/avatar/bba9995d4071b28c1f54bcb8ae03a1f2?s=256&d=identicon&r=PG",
          "reputation": "3694",
          "user_id": "2056201",
          "user_type": "registered"
         },
         2,
         [
          "python",
          "pip"
         ],
         "Python cannot install torch",
         52,
         null,
         null,
         null,
         null
        ],
        [
         79780561,
         1759365598,
         1759,
         1759368245,
         0,
         "CC BY-SA 4.0",
         false,
         "https://stackoverflow.com/questions/79780561/how-to-make-carouselview-match-child-height-in-flutter",
         {
          "account_id": "14052833",
          "display_name": "flutroid",
          "link": "https://stackoverflow.com/users/10151066/flutroid",
          "profile_image": "https://www.gravatar.com/avatar/77438ca2e253c4463b5ad173b1c8cf79?s=256&d=identicon&r=PG&f=y&so-version=2",
          "reputation": "1438",
          "user_id": "10151066",
          "user_type": "registered"
         },
         0,
         [
          "flutter"
         ],
         "How to make CarouselView match child height in flutter?",
         28,
         1759368245,
         null,
         null,
         null
        ],
        [
         79780557,
         1759364949,
         1759,
         1759364949,
         0,
         "CC BY-SA 4.0",
         false,
         "https://stackoverflow.com/questions/79780557/how-can-i-include-the-user-email-claim-in-jwt-tokens-in-wso2-api-manager-without",
         {
          "account_id": "44167425",
          "display_name": "Alessandro Bertozzi",
          "link": "https://stackoverflow.com/users/31612221/alessandro-bertozzi",
          "profile_image": "https://www.gravatar.com/avatar/1f39d0724aadcae1eb50dc78378368ef?s=256&d=identicon&r=PG&f=y&so-version=2",
          "reputation": "1",
          "user_id": "31612221",
          "user_type": "registered"
         },
         0,
         [
          "wso2",
          "wso2-api-manager"
         ],
         "How can I include the user email claim in JWT tokens in WSO2 API Manager without manually editing each Service Provider?",
         33,
         null,
         null,
         null,
         null
        ],
        [
         79780555,
         1759364451,
         1759,
         1759364451,
         0,
         "CC BY-SA 4.0",
         false,
         "https://stackoverflow.com/questions/79780555/issue-with-storekit-2-in-app-purchases-unfinalized-statements-unfinished-bac",
         {
          "account_id": "17564018",
          "display_name": "Shireen Khan",
          "link": "https://stackoverflow.com/users/12741306/shireen-khan",
          "profile_image": "https://lh3.googleusercontent.com/-qI59-29FckU/AAAAAAAAAAI/AAAAAAAAAAA/ACHi3rdK5JL3UEGcBdt0FV4thdVUBaWfVA/s256-rj/photo.jpg",
          "reputation": "21",
          "user_id": "12741306",
          "user_type": "registered"
         },
         0,
         [
          "ios",
          "swift",
          "sqlite",
          "in-app-purchase",
          "storekit2"
         ],
         "Issue with StoreKit 2 In App Purchases: &quot;unfinalized statements / unfinished backups&quot; SQLite Crash",
         21,
         null,
         null,
         null,
         null
        ],
        [
         79780552,
         1759363913,
         1759,
         1759372062,
         0,
         "CC BY-SA 4.0",
         false,
         "https://stackoverflow.com/questions/79780552/difficulty-reading-volatile-memory",
         {
          "account_id": "15734288",
          "display_name": "Lee",
          "link": "https://stackoverflow.com/users/11353781/lee",
          "profile_image": "https://www.gravatar.com/avatar/1f1f762961c6fb8033214ea3b0bbe216?s=256&d=identicon&r=PG&f=y&so-version=2",
          "reputation": "41",
          "user_id": "11353781",
          "user_type": "registered"
         },
         0,
         [
          "c++",
          "volatile"
         ],
         "Difficulty reading volatile memory",
         67,
         1759372062,
         null,
         null,
         null
        ],
        [
         79780551,
         1759363298,
         1759,
         1759364227,
         1,
         "CC BY-SA 4.0",
         false,
         "https://stackoverflow.com/questions/79780551/what-is-an-alternative-to-the-curve-function-in-r-for-modeling-and-simulation",
         {
          "account_id": "44167304",
          "display_name": "Inaara Rajwani",
          "link": "https://stackoverflow.com/users/31612167/inaara-rajwani",
          "profile_image": "https://www.gravatar.com/avatar/b36384686d4469215d00a827ce4cdbda?s=256&d=identicon&r=PG&f=y&so-version=2",
          "reputation": "1",
          "user_id": "31612167",
          "user_type": "registered"
         },
         0,
         [
          "r",
          "ggplot2",
          "plot",
          "simulation",
          "modeling"
         ],
         "What is an alternative to the curve() function in R for modeling and simulation?",
         20,
         null,
         null,
         null,
         null
        ],
        [
         79780550,
         1759363104,
         1759,
         1759363104,
         0,
         "CC BY-SA 4.0",
         false,
         "https://stackoverflow.com/questions/79780550/expo-router-animationtypeforreplace-pop-is-not-respected",
         {
          "accept_rate": "76",
          "account_id": "112990",
          "display_name": "T3db0t",
          "link": "https://stackoverflow.com/users/297824/t3db0t",
          "profile_image": "https://www.gravatar.com/avatar/d1cf72408e13e38a3bf918413f762e94?s=256&d=identicon&r=PG",
          "reputation": "3561",
          "user_id": "297824",
          "user_type": "registered"
         },
         0,
         [
          "react-native",
          "expo",
          "expo-router"
         ],
         "Expo-Router: animationTypeForReplace: &quot;pop&quot; is not respected",
         14,
         null,
         null,
         null,
         null
        ],
        [
         79780549,
         1759362947,
         1759,
         1759362947,
         0,
         "CC BY-SA 4.0",
         false,
         "https://stackoverflow.com/questions/79780549/vb-net-535-5-7-3-authentication-unsuccessful-error-when-trying-to-send-mails",
         {
          "account_id": "32352389",
          "display_name": "8bitdev",
          "link": "https://stackoverflow.com/users/25127946/8bitdev",
          "profile_image": "https://www.gravatar.com/avatar/c48f3b028a0eebff8e03340c30b3a1dd?s=256&d=identicon&r=PG&f=y&so-version=2",
          "reputation": "1",
          "user_id": "25127946",
          "user_type": "registered"
         },
         0,
         [
          "vb.net",
          "outlook",
          "oauth",
          "microsoft-graph-api",
          "mailkit"
         ],
         "VB.NET: &#39;535: 5.7.3 Authentication unsuccessful&#39; error when trying to send mails using OAuth from an Outlook free account",
         23,
         null,
         null,
         null,
         null
        ],
        [
         79780546,
         1759362621,
         1759,
         1759380733,
         0,
         "CC BY-SA 4.0",
         false,
         "https://stackoverflow.com/questions/79780546/how-to-access-fields-in-a-generic-struct",
         {
          "account_id": "44167171",
          "display_name": "Rob B",
          "link": "https://stackoverflow.com/users/31612116/rob-b",
          "profile_image": "https://www.gravatar.com/avatar/9aff93dc5d71f495f7b1ed4139910353?s=256&d=identicon&r=PG",
          "reputation": "11",
          "user_id": "31612116",
          "user_type": "registered"
         },
         1,
         [
          "go",
          "generics"
         ],
         "How to access fields in a generic struct?",
         46,
         1759380733,
         null,
         null,
         null
        ],
        [
         79780544,
         1759362546,
         1759,
         1759362546,
         0,
         "CC BY-SA 4.0",
         false,
         "https://stackoverflow.com/questions/79780544/recycler-view-does-not-update-until-scrolled-when-using-diffutil-and-submitlist",
         {
          "account_id": "11799798",
          "display_name": "Notsileous",
          "link": "https://stackoverflow.com/users/8633758/notsileous",
          "profile_image": "https://www.gravatar.com/avatar/e14e86a668116b0882a3cd15144fba00?s=256&d=identicon&r=PG&f=y&so-version=2",
          "reputation": "572",
          "user_id": "8633758",
          "user_type": "registered"
         },
         1,
         [
          "java",
          "android",
          "android-recyclerview",
          "listadapter",
          "android-diffutils"
         ],
         "Recycler view does not update until scrolled when using DiffUtil and submitList() with a reversed Array List",
         27,
         null,
         null,
         null,
         null
        ],
        [
         79780541,
         1759361920,
         1759,
         1759361920,
         0,
         "CC BY-SA 4.0",
         false,
         "https://stackoverflow.com/questions/79780541/gorouter-redirect-to-initiallocation-after-riverpod-rebuild",
         {
          "account_id": "26879555",
          "display_name": "ilyasDev",
          "link": "https://stackoverflow.com/users/20460232/ilyasdev",
          "profile_image": "https://www.gravatar.com/avatar/19dd73af8ba7ffed299ae4840a1a713f?s=256&d=identicon&r=PG",
          "reputation": "71",
          "user_id": "20460232",
          "user_type": "registered"
         },
         0,
         [
          "flutter",
          "riverpod",
          "gorouter"
         ],
         "GoRouter redirect to initialLocation after riverpod rebuild",
         19,
         null,
         null,
         null,
         null
        ],
        [
         79780540,
         1759361892,
         1759,
         1759362340,
         0,
         "CC BY-SA 4.0",
         false,
         "https://stackoverflow.com/questions/79780540/how-to-properly-resolve-and-commit-conflicts-with-git-am-reject",
         {
          "accept_rate": "69",
          "account_id": "4865492",
          "display_name": "Steve Summit",
          "link": "https://stackoverflow.com/users/3923896/steve-summit",
          "profile_image": "https://i.sstatic.net/AcZuX.png?s=256",
          "reputation": "49046",
          "user_id": "3923896",
          "user_type": "registered"
         },
         0,
         [
          "git",
          "git-am"
         ],
         "how to properly resolve and commit conflicts with git am --reject?",
         17,
         1759362340,
         null,
         null,
         null
        ],
        [
         79780537,
         1759361155,
         1759,
         1759362765,
         1,
         "CC BY-SA 4.0",
         false,
         "https://stackoverflow.com/questions/79780537/remove-all-rows-from-data-frame-that-contain-a-value-without-specifying-column-n",
         {
          "account_id": "41672249",
          "display_name": "user30397791",
          "link": "https://stackoverflow.com/users/30397791/user30397791",
          "profile_image": "https://www.gravatar.com/avatar/176df76a95272b8f9087b2bb9efd4baf?s=256&d=identicon&r=PG&f=y&so-version=2",
          "reputation": "143",
          "user_id": "30397791",
          "user_type": "registered"
         },
         0,
         [
          "r"
         ],
         "Remove all rows from data frame that contain a value without specifying column names in R",
         26,
         null,
         null,
         null,
         null
        ],
        [
         79780536,
         1759361070,
         1759,
         1759368044,
         1,
         null,
         false,
         "https://stackoverflow.com/questions/79780536/in-streamlit-how-do-i-create-a-one-time-touch-button",
         {
          "account_id": "44166862",
          "display_name": "Karthik Chandran",
          "link": "https://stackoverflow.com/users/31611993/karthik-chandran",
          "profile_image": "https://www.gravatar.com/avatar/f133f6197187b23ea5bb543d36d79daa?s=256&d=identicon&r=PG&f=y&so-version=2",
          "reputation": "1",
          "user_id": "31611993",
          "user_type": "registered"
         },
         -1,
         [
          "python",
          "html",
          "streamlit",
          "web-development-server"
         ],
         "In streamlit how do I create a one time touch button",
         15,
         1759364070,
         1759368227,
         "Not suitable for this site",
         null
        ],
        [
         79780530,
         1759359753,
         1759,
         1759359753,
         0,
         "CC BY-SA 4.0",
         false,
         "https://stackoverflow.com/questions/79780530/xcode-project-in-icloud-drive-causes-the-file-documents-doesn-t-exist-error",
         {
          "account_id": "29430897",
          "display_name": "Paxton W",
          "link": "https://stackoverflow.com/users/22550636/paxton-w",
          "profile_image": "https://www.gravatar.com/avatar/94522a611f8e06d4cdbc3936be9abcce?s=256&d=identicon&r=PG&f=y&so-version=2",
          "reputation": "1",
          "user_id": "22550636",
          "user_type": "registered"
         },
         -1,
         [
          "xcode",
          "macos",
          "icloud",
          "xcode-project"
         ],
         "Xcode project in iCloud Drive causes “The file ‘Documents’ doesn’t exist” error loop",
         11,
         null,
         null,
         null,
         null
        ],
        [
         79780529,
         1759359300,
         1759,
         1759359300,
         0,
         "CC BY-SA 4.0",
         false,
         "https://stackoverflow.com/questions/79780529/mineflayer-assistance-with-block-interactions",
         {
          "account_id": "30390067",
          "display_name": "TrueFaxx",
          "link": "https://stackoverflow.com/users/23289018/truefaxx",
          "profile_image": "https://lh3.googleusercontent.com/a/ACg8ocKvy0f15Ebge8_frAdo-K0c5DYe4h0u76Fw8EoMiTNC=k-s256",
          "reputation": "1",
          "user_id": "23289018",
          "user_type": "registered"
         },
         -1,
         [
          "javascript",
          "mineflayer"
         ],
         "Mineflayer assistance with block interactions",
         18,
         null,
         null,
         null,
         null
        ],
        [
         79780527,
         1759358580,
         1759,
         1759360559,
         1,
         "CC BY-SA 4.0",
         false,
         "https://stackoverflow.com/questions/79780527/how-to-find-a-safe-path-in-a-room-where-tiles-increase-in-height-each-step",
         {
          "account_id": "14359873",
          "display_name": "wya",
          "link": "https://stackoverflow.com/users/17937186/wya",
          "profile_image": "https://www.gravatar.com/avatar/ded00046350a3c9124e0a9bab4b55d77?s=256&d=identicon&r=PG&f=y&so-version=2",
          "reputation": "27",
          "user_id": "17937186",
          "user_type": "registered"
         },
         0,
         [
          "algorithm",
          "matrix"
         ],
         "How to find a safe path in a room where tiles increase in height each step?",
         45,
         1759360559,
         null,
         null,
         null
        ],
        [
         79780518,
         1759357719,
         1759,
         1759363814,
         1,
         "CC BY-SA 4.0",
         false,
         "https://stackoverflow.com/questions/79780518/r-arrange-after-grouping",
         {
          "account_id": "17244476",
          "display_name": "ZayzayR",
          "link": "https://stackoverflow.com/users/12486623/zayzayr",
          "profile_image": "https://www.gravatar.com/avatar/856ae7db64f524af06a6afc85cc8b4d9?s=256&d=identicon&r=PG&f=y&so-version=2",
          "reputation": "305",
          "user_id": "12486623",
          "user_type": "registered"
         },
         0,
         [
          "r",
          "group-by"
         ],
         "R arrange after grouping",
         32,
         null,
         null,
         null,
         null
        ],
        [
         79780517,
         1759357696,
         1759,
         1759357696,
         0,
         null,
         false,
         "https://stackoverflow.com/questions/79780517/how-to-provide-the-safe-certificate-required-by-nextcloud-sync-client-version-3",
         {
          "account_id": "12995441",
          "display_name": "Jorge D",
          "link": "https://stackoverflow.com/users/9393272/jorge-d",
          "profile_image": "https://www.gravatar.com/avatar/8223b040cd29589d8e1b3cdfbec99126?s=256&d=identicon&r=PG&f=y&so-version=2",
          "reputation": "37",
          "user_id": "9393272",
          "user_type": "registered"
         },
         -3,
         [
          "windows",
          "ssl",
          "raspberry-pi",
          "synchronization",
          "nextcloud"
         ],
         "How to provide the safe certificate required by Nextcloud sync client version 3.17 for Windows?",
         13,
         null,
         1759365211,
         "Not suitable for this site",
         null
        ],
        [
         79780512,
         1759357213,
         1759,
         1759357468,
         1,
         "CC BY-SA 4.0",
         false,
         "https://stackoverflow.com/questions/79780512/i-get-a-server-error-please-try-again-later-error-when-calling-the-gmail-api",
         {
          "accept_rate": "33",
          "account_id": "5106713",
          "display_name": "Mario Moreno Gonz&#225;lez",
          "link": "https://stackoverflow.com/users/4094596/mario-moreno-gonz%c3%a1lez",
          "profile_image": "https://lh3.googleusercontent.com/-v_oGwAVOIP4/AAAAAAAAAAI/AAAAAAAAACw/_1DmkUZZKEs/s256-rj/photo.jpg",
          "reputation": "131",
          "user_id": "4094596",
          "user_type": "registered"
         },
         -3,
         [
          "javascript",
          "google-apps-script",
          "gmail-api"
         ],
         "I get a &quot;Server error. Please try again later&quot; error when calling the Gmail API",
         38,
         1759357338,
         null,
         null,
         null
        ],
        [
         79780511,
         1759357116,
         1759,
         1759357116,
         0,
         null,
         false,
         "https://stackoverflow.com/questions/79780511/how-change-docker-ip-to-hostname-in-milvus-etcd-address-by-dev-meta-session",
         {
          "accept_rate": "93",
          "account_id": "6695972",
          "display_name": "Nikolay Baranenko",
          "link": "https://stackoverflow.com/users/5163984/nikolay-baranenko",
          "profile_image": "https://i.sstatic.net/9Yev9.png?s=256",
          "reputation": "1696",
          "user_id": "5163984",
          "user_type": "registered"
         },
         -4,
         [
          "docker",
          "docker-compose",
          "etcd",
          "milvus"
         ],
         "How change docker ip to hostname in milvus etcd Address by-dev/meta/session?",
         13,
         null,
         1759358927,
         "Not suitable for this site",
         null
        ],
        [
         79780510,
         1759357098,
         1759,
         1759359356,
         1,
         "CC BY-SA 4.0",
         true,
         "https://stackoverflow.com/questions/79780510/replace-part-of-strings-with-corresponding-values-from-table-in-r",
         {
          "account_id": "7929701",
          "display_name": "Brian Fisher",
          "link": "https://stackoverflow.com/users/9093302/brian-fisher",
          "profile_image": "https://www.gravatar.com/avatar/e8dd79991171ba881a6d7a40488f3596?s=256&d=identicon&r=PG&f=y&so-version=2",
          "reputation": "1366",
          "user_id": "9093302",
          "user_type": "registered"
         },
         0,
         [
          "r",
          "string",
          "replace"
         ],
         "Replace part of strings with corresponding values from table in R",
         26,
         null,
         null,
         null,
         null
        ],
        [
         79780508,
         1759356769,
         1759,
         1759356769,
         0,
         "CC BY-SA 4.0",
         false,
         "https://stackoverflow.com/questions/79780508/teamsinfo-getmember-returns-unauthorized-in-microsoft-teams-bot",
         {
          "account_id": "29431175",
          "display_name": "Mateus Linhares",
          "link": "https://stackoverflow.com/users/22550866/mateus-linhares",
          "profile_image": "https://lh3.googleusercontent.com/a/ACg8ocKz9_jgOekAF_Vr5Uf_xTqvbCx1BJZfSgvrUomvC0yP=k-s256",
          "reputation": "1",
          "user_id": "22550866",
          "user_type": "registered"
         },
         0,
         [
          "typescript",
          "azure",
          "azure-bot-service"
         ],
         "&quot;TeamsInfo.getMember returns Unauthorized in Microsoft Teams bot&quot;",
         16,
         null,
         null,
         null,
         null
        ],
        [
         79780505,
         1759356019,
         1759,
         1759360224,
         1,
         "CC BY-SA 4.0",
         true,
         "https://stackoverflow.com/questions/79780505/add-icon-to-imagelist-without-duplicates",
         {
          "account_id": "420191",
          "display_name": "natraj",
          "link": "https://stackoverflow.com/users/797769/natraj",
          "profile_image": "https://www.gravatar.com/avatar/73a10568e30ef8fac39be9dc5364e61a?s=256&d=identicon&r=PG",
          "reputation": "35",
          "user_id": "797769",
          "user_type": "registered"
         },
         1,
         [
          "delphi",
          "icons",
          "timagelist"
         ],
         "Add Icon to ImageList without Duplicates",
         30,
         null,
         null,
         null,
         79780509
        ],
        [
         79780495,
         1759355206,
         1759,
         1759368440,
         0,
         "CC BY-SA 4.0",
         false,
         "https://stackoverflow.com/questions/79780495/why-does-firebase-app-check-think-that-my-app-is-not-registered",
         {
          "account_id": "30259905",
          "display_name": "5rod",
          "link": "https://stackoverflow.com/users/23190147/5rod",
          "profile_image": "https://www.gravatar.com/avatar/07992803be60cdf6c3193f438ca21164?s=256&d=identicon&r=PG&f=y&so-version=2",
          "reputation": "480",
          "user_id": "23190147",
          "user_type": "registered"
         },
         0,
         [
          "ios",
          "flutter",
          "firebase",
          "firebase-app-check"
         ],
         "Why does Firebase App Check think that my app is not registered?",
         22,
         1759368440,
         null,
         null,
         null
        ],
        [
         79780490,
         1759354715,
         1759,
         1759354715,
         0,
         "CC BY-SA 4.0",
         false,
         "https://stackoverflow.com/questions/79780490/how-to-pgp-decrypt-a-file-that-uses-aead-with-bouncy-castle",
         {
          "account_id": "16692869",
          "display_name": "Shane",
          "link": "https://stackoverflow.com/users/12064991/shane",
          "profile_image": "https://www.gravatar.com/avatar/27706c1170a1e725051758de8d7db541?s=256&d=identicon&r=PG&f=y&so-version=2",
          "reputation": "113",
          "user_id": "12064991",
          "user_type": "registered"
         },
         0,
         [
          "c#",
          "bouncycastle",
          "openpgp"
         ],
         "How to PGP decrypt a file that uses AEAD with bouncy castle?",
         21,
         null,
         null,
         null,
         null
        ],
        [
         79780489,
         1759354663,
         1759,
         1759354663,
         0,
         "CC BY-SA 4.0",
         false,
         "https://stackoverflow.com/questions/79780489/with-rust-pki-types-reading-private-key-from-file-throws-errornoitemsfound",
         {
          "account_id": "14812560",
          "display_name": "mwolfe 11",
          "link": "https://stackoverflow.com/users/12634797/mwolfe-11",
          "profile_image": "https://www.gravatar.com/avatar/063fdee69a90d4a9c518dbbac01b7ceb?s=256&d=identicon&r=PG&f=y&so-version=2",
          "reputation": "162",
          "user_id": "12634797",
          "user_type": "registered"
         },
         0,
         [
          "ssl",
          "rust",
          "private-key"
         ],
         "With rust_pki_types, reading private key from file throws Error::NoItemsFound",
         11,
         null,
         null,
         null,
         null
        ],
        [
         79780488,
         1759354337,
         1759,
         1759354615,
         0,
         "CC BY-SA 4.0",
         false,
         "https://stackoverflow.com/questions/79780488/how-to-get-images-on-html-site-to-stay-in-position-relative-to-background-image",
         {
          "account_id": "44166420",
          "display_name": "alaska22",
          "link": "https://stackoverflow.com/users/31611806/alaska22",
          "profile_image": "https://www.gravatar.com/avatar/263f08ff50caefa38330e81cb395f5bb?s=256&d=identicon&r=PG&f=y&so-version=2",
          "reputation": "11",
          "user_id": "31611806",
          "user_type": "registered"
         },
         0,
         [
          "html",
          "css"
         ],
         "How to get images on HTML site to stay in position relative to background image as it scales across screen sizes?",
         33,
         1759354615,
         null,
         null,
         null
        ],
        [
         79780486,
         1759354027,
         1759,
         1759377553,
         0,
         "CC BY-SA 4.0",
         false,
         "https://stackoverflow.com/questions/79780486/debugging-not-working-with-blazor-wasm-app-served-though-mvc-app-when-ran-throug",
         {
          "account_id": "17538143",
          "display_name": "Daniel Kelsch",
          "link": "https://stackoverflow.com/users/12720807/daniel-kelsch",
          "profile_image": "https://lh5.googleusercontent.com/-Xle2nyJowns/AAAAAAAAAAI/AAAAAAAAAAA/ACHi3recJtsLAiq5sKrFLZi7P-O24M5SXQ/s256-rj/photo.jpg",
          "reputation": "473",
          "user_id": "12720807",
          "user_type": "registered"
         },
         0,
         [
          "c#",
          "docker",
          "docker-compose",
          "blazor",
          "blazor-webassembly"
         ],
         "Debugging not working with Blazor WASM app served though MVC app when ran through Docker-Compose",
         16,
         1759377553,
         null,
         null,
         null
        ],
        [
         79780483,
         1759353612,
         1759,
         1759353612,
         0,
         "CC BY-SA 4.0",
         false,
         "https://stackoverflow.com/questions/79780483/how-to-reference-native-c-dll-in-a-net-maui-project",
         {
          "accept_rate": "61",
          "account_id": "377829",
          "display_name": "Peter",
          "link": "https://stackoverflow.com/users/730194/peter",
          "profile_image": "https://www.gravatar.com/avatar/fb75af7a871d88919d9cc7c0c9e687e9?s=256&d=identicon&r=PG",
          "reputation": "12118",
          "user_id": "730194",
          "user_type": "registered"
         },
         0,
         [
          "visual-studio",
          "maui",
          "maui-windows"
         ],
         "How to reference native C++ DLL in a .NET MAUI project?",
         11,
         null,
         null,
         null,
         null
        ],
        [
         79780477,
         1759353010,
         1759,
         1759353010,
         0,
         null,
         false,
         "https://stackoverflow.com/questions/79780477/custom-chat-gpt-failed-to-download-a-file-on-google-drive-with-api",
         {
          "account_id": "6408296",
          "display_name": "willy3cub",
          "link": "https://stackoverflow.com/users/4968797/willy3cub",
          "profile_image": "https://www.gravatar.com/avatar/1e7ae81469edcb6b7cee639782ccb785?s=256&d=identicon&r=PG&f=y&so-version=2",
          "reputation": "19",
          "user_id": "4968797",
          "user_type": "registered"
         },
         -2,
         [
          "google-drive-api",
          "chatgpt-api"
         ],
         "Custom Chat GPT failed to download a file on Google drive with API",
         24,
         null,
         1759365925,
         "Not suitable for this site",
         null
        ],
        [
         79780474,
         1759352484,
         1759,
         1759352484,
         0,
         null,
         false,
         "https://stackoverflow.com/questions/79780474/sql-server-2022-setup-fails-mof-compiler-cannot-connect-to-wmi-server-perflib",
         {
          "account_id": "23949229",
          "display_name": "Saif",
          "link": "https://stackoverflow.com/users/17941112/saif",
          "profile_image": "https://www.gravatar.com/avatar/8dc9b8be7aa70489185457d9cc17d653?s=256&d=identicon&r=PG&f=y&so-version=2",
          "reputation": "1",
          "user_id": "17941112",
          "user_type": "registered"
         },
         0,
         [
          "sql-server-2022"
         ],
         "SQL Server 2022 setup fails: MOF compiler cannot connect to WMI server &amp; PerfLib 2.0 counter removal failed",
         9,
         null,
         1759366550,
         "Not suitable for this site",
         null
        ],
        [
         79780473,
         1759352461,
         1759,
         1759352461,
         0,
         "CC BY-SA 4.0",
         false,
         "https://stackoverflow.com/questions/79780473/in-jenkins-how-do-i-import-some-but-not-all-functions-from-shared-library-var",
         {
          "account_id": "30025581",
          "display_name": "OmniZ",
          "link": "https://stackoverflow.com/users/23009910/omniz",
          "profile_image": "https://lh3.googleusercontent.com/a/ACg8ocJIfzaihF9TUZfiuhVxn1Inpp71oRIcvBCTCmq8p4Flzw=k-s256",
          "reputation": "143",
          "user_id": "23009910",
          "user_type": "registered"
         },
         0,
         [
          "jenkins",
          "jenkins-shared-libraries"
         ],
         "In Jenkins, how do I import some, but not all, functions from shared library vars folder?",
         4,
         null,
         null,
         null,
         null
        ],
        [
         79780469,
         1759352302,
         1759,
         1759365790,
         1,
         "CC BY-SA 4.0",
         false,
         "https://stackoverflow.com/questions/79780469/attributedstring-mixed-attributes-get-overwritten",
         {
          "account_id": "19852040",
          "display_name": "viedev",
          "link": "https://stackoverflow.com/users/14542345/viedev",
          "profile_image": "https://www.gravatar.com/avatar/d0dc7b5ad9f1809a9fb9df1d9a481f35?s=256&d=identicon&r=PG&f=y&so-version=2",
          "reputation": "1653",
          "user_id": "14542345",
          "user_type": "registered"
         },
         0,
         [
          "swift",
          "swiftui"
         ],
         "AttributedString: Mixed attributes get overwritten",
         17,
         1759352956,
         null,
         null,
         null
        ],
        [
         79780468,
         1759352229,
         1759,
         1759372380,
         1,
         "CC BY-SA 4.0",
         false,
         "https://stackoverflow.com/questions/79780468/apps-script-permissions-error-get-sheet-url",
         {
          "account_id": "30427428",
          "display_name": "Teens",
          "link": "https://stackoverflow.com/users/23317371/teens",
          "profile_image": "https://www.gravatar.com/avatar/9d4d8e3f5f445b2cd0e4e95e93648962?s=256&d=identicon&r=PG&f=y&so-version=2",
          "reputation": "11",
          "user_id": "23317371",
          "user_type": "registered"
         },
         -1,
         [
          "google-sheets",
          "google-apps-script",
          "custom-function"
         ],
         "Apps Script: Permissions Error: Get Sheet URL",
         15,
         1759372159,
         null,
         null,
         null
        ],
        [
         79780466,
         1759352107,
         1759,
         1759356713,
         1,
         "CC BY-SA 4.0",
         false,
         "https://stackoverflow.com/questions/79780466/create-plot-in-r-with-multiple-y-variables-and-two-lines-on-one-axis",
         {
          "account_id": "44165173",
          "display_name": "user31611212",
          "link": "https://stackoverflow.com/users/31611212/user31611212",
          "profile_image": "https://www.gravatar.com/avatar/4377a1c542faf19dc3b3d3d95bcacc95?s=256&d=identicon&r=PG&f=y&so-version=2",
          "reputation": "11",
          "user_id": "31611212",
          "user_type": "registered"
         },
         0,
         [
          "r",
          "ggplot2"
         ],
         "Create plot in R with multiple y variables and two lines on one axis",
         33,
         null,
         null,
         null,
         null
        ],
        [
         79780463,
         1759351938,
         1759,
         1759372277,
         0,
         "CC BY-SA 4.0",
         false,
         "https://stackoverflow.com/questions/79780463/how-do-i-refer-to-current-path-in-git-config-using-gnu-bash",
         {
          "account_id": "10903108",
          "display_name": "Dennis",
          "link": "https://stackoverflow.com/users/8014824/dennis",
          "profile_image": "https://www.gravatar.com/avatar/4b35612f8a1d89273608818a662d2838?s=256&d=identicon&r=PG&f=y&so-version=2",
          "reputation": "2098",
          "user_id": "8014824",
          "user_type": "registered"
         },
         -1,
         [
          "windows",
          "git",
          "git-bash",
          "pwd"
         ],
         "How do I refer to current path in Git config using GNU bash?",
         14,
         1759372277,
         null,
         null,
         null
        ],
        [
         79780460,
         1759351811,
         1759,
         1759351811,
         0,
         null,
         false,
         "https://stackoverflow.com/questions/79780460/steam-integration-kit-unreal-engine-5",
         {
          "account_id": "19381373",
          "display_name": "Bn&#39;R",
          "link": "https://stackoverflow.com/users/14172565/bnr",
          "profile_image": "https://www.gravatar.com/avatar/6c5057686075893db7fde65f0bc857d4?s=256&d=identicon&r=PG&f=y&so-version=2",
          "reputation": "41",
          "user_id": "14172565",
          "user_type": "registered"
         },
         0,
         [
          "steam",
          "unreal-engine5",
          "blueprint"
         ],
         "steam integration kit unreal engine 5",
         8,
         null,
         1759365193,
         "Not suitable for this site",
         null
        ],
        [
         79780455,
         1759351249,
         1759,
         1759351249,
         0,
         null,
         false,
         "https://stackoverflow.com/questions/79780455/tunnel-configuration-for-side-to-side-vpn-set-up",
         {
          "account_id": "44165971",
          "display_name": "khady lo seck",
          "link": "https://stackoverflow.com/users/31611622/khady-lo-seck",
          "profile_image": "https://www.gravatar.com/avatar/1a3f5d9fd7af259d088ddd172aebd872?s=256&d=identicon&r=PG&f=y&so-version=2",
          "reputation": "1",
          "user_id": "31611622",
          "user_type": "registered"
         },
         -2,
         [
          "amazon-web-services",
          "cloud",
          "strongswan",
          "libreswan"
         ],
         "Tunnel Configuration for side to side vpn set up",
         14,
         null,
         1759361318,
         "Not suitable for this site",
         null
        ],
        [
         79780452,
         1759351059,
         1759,
         1759353722,
         2,
         "CC BY-SA 4.0",
         true,
         "https://stackoverflow.com/questions/79780452/this-pointer-in-multiple-inheritance-of-c-class",
         {
          "accept_rate": "25",
          "account_id": "3932743",
          "display_name": "SuperBald",
          "link": "https://stackoverflow.com/users/3250528/superbald",
          "profile_image": "https://www.gravatar.com/avatar/3c8d4f2acd0e3ee503592eebb0c3f7a4?s=256&d=identicon&r=PG&f=y&so-version=2",
          "reputation": "233",
          "user_id": "3250528",
          "user_type": "registered"
         },
         5,
         [
          "c++",
          "multiple-inheritance"
         ],
         "&#39;this&#39; pointer in multiple inheritance of C++ class",
         110,
         1759353722,
         null,
         null,
         null
        ],
        [
         79780451,
         1759350990,
         1759,
         1759352549,
         0,
         null,
         false,
         "https://stackoverflow.com/questions/79780451/spark-session-session",
         {
          "account_id": "22266266",
          "display_name": "Th333w1",
          "link": "https://stackoverflow.com/users/16497016/th333w1",
          "profile_image": "https://lh3.googleusercontent.com/a/AATXAJzPRe8dQcDqjzagUjgHOMnzfEt0gOeNb82bJLyL=k-s256",
          "reputation": "31",
          "user_id": "16497016",
          "user_type": "registered"
         },
         -4,
         [
          "python",
          "unix",
          "pyspark"
         ],
         "Spark session session",
         23,
         1759352549,
         1759369794,
         "Needs details or clarity",
         null
        ],
        [
         79780448,
         1759350449,
         1759,
         1759350449,
         0,
         "CC BY-SA 4.0",
         false,
         "https://stackoverflow.com/questions/79780448/i-want-to-add-words-in-a-vector-db-with-a-embedding-model-never-be-trained-wit",
         {
          "account_id": "15824435",
          "display_name": "Martin G",
          "link": "https://stackoverflow.com/users/11417816/martin-g",
          "profile_image": "https://www.gravatar.com/avatar/cc840a20af14f1dcf9a74b3996789dd7?s=256&d=identicon&r=PG&f=y&so-version=2",
          "reputation": "1",
          "user_id": "11417816",
          "user_type": "registered"
         },
         -1,
         [
          "python",
          "embedded",
          "artificial-intelligence",
          "vectorization",
          "embedding"
         ],
         "i want to add &quot;words&quot; in a vector DB with a Embedding model never be trained with those &quot;words&quot;",
         21,
         null,
         null,
         null,
         null
        ],
        [
         79780447,
         1759350374,
         1759,
         1759350374,
         0,
         "CC BY-SA 4.0",
         false,
         "https://stackoverflow.com/questions/79780447/detecting-url-changes-in-iframe-in-blazor",
         {
          "accept_rate": "77",
          "account_id": "1886091",
          "display_name": "Sam",
          "link": "https://stackoverflow.com/users/1705266/sam",
          "profile_image": "https://i.sstatic.net/eV8wY.png?s=256",
          "reputation": "30954",
          "user_id": "1705266",
          "user_type": "registered"
         },
         0,
         [
          "blazor",
          "stripe-payments",
          "blazor-webassembly"
         ],
         "Detecting URL changes in iframe in Blazor",
         20,
         null,
         null,
         null,
         null
        ],
        [
         79780445,
         1759350284,
         1759,
         1759350284,
         0,
         null,
         false,
         "https://stackoverflow.com/questions/79780445/brand-new-user-cannot-log-into-m365-says-password-is-incorrect",
         {
          "account_id": "44165949",
          "display_name": "xanadian9",
          "link": "https://stackoverflow.com/users/31611614/xanadian9",
          "profile_image": "https://www.gravatar.com/avatar/1a120d3e50ee3807a9f96e1c41c4b42f?s=256&d=identicon&r=PG&f=y&so-version=2",
          "reputation": "1",
          "user_id": "31611614",
          "user_type": "registered"
         },
         -4,
         [
          "office365"
         ],
         "Brand new user cannot log into M365, says password is incorrect",
         16,
         null,
         1759351119,
         "Not suitable for this site",
         null
        ],
        [
         79780444,
         1759349966,
         1759,
         1759349966,
         0,
         "CC BY-SA 4.0",
         false,
         "https://stackoverflow.com/questions/79780444/using-vscode-for-p5-js-but-live-server-always-shows-up-blank",
         {
          "account_id": "44160097",
          "display_name": "LETTUCECOMPLEX",
          "link": "https://stackoverflow.com/users/31608530/lettucecomplex",
          "profile_image": "https://www.gravatar.com/avatar/1486ffaf6654bc376897c64d934b6e95?s=256&d=identicon&r=PG&f=y&so-version=2",
          "reputation": "1",
          "user_id": "31608530",
          "user_type": "registered"
         },
         -1,
         [
          "visual-studio-code",
          "p5.js"
         ],
         "Using Vscode for P5.js but live server always shows up blank",
         15,
         null,
         null,
         null,
         null
        ],
        [
         79780443,
         1759349943,
         1759,
         1759349943,
         0,
         null,
         false,
         "https://stackoverflow.com/questions/79780443/removealllisteners-not-provided-in-one-project-but-is-provided-in-another",
         {
          "accept_rate": "42",
          "account_id": "240821",
          "display_name": "Bluebaron",
          "link": "https://stackoverflow.com/users/511273/bluebaron",
          "profile_image": "https://www.gravatar.com/avatar/fb1efcad9bb707d1396bf86f56438fe0?s=256&d=identicon&r=PG",
          "reputation": "2508",
          "user_id": "511273",
          "user_type": "registered"
         },
         -2,
         [
          "javascript",
          "angular"
         ],
         "removeAllListeners not provided in one project but is provided in another",
         32,
         null,
         1759356377,
         "Needs details or clarity",
         null
        ],
        [
         79780439,
         1759349737,
         1759,
         1759350712,
         0,
         "CC BY-SA 4.0",
         false,
         "https://stackoverflow.com/questions/79780439/api-failed-to-open-stream-connection-refused",
         {
          "account_id": "44165466",
          "display_name": "OnceUpon",
          "link": "https://stackoverflow.com/users/31611375/onceupon",
          "profile_image": "https://www.gravatar.com/avatar/46c2f49d55c5d60824ebc66e88b28b2f?s=256&d=identicon&r=PG&f=y&so-version=2",
          "reputation": "1",
          "user_id": "31611375",
          "user_type": "registered"
         },
         -6,
         [
          "php"
         ],
         "API failed to open stream: connection refused",
         29,
         1759350712,
         null,
         null,
         null
        ],
        [
         79780437,
         1759349701,
         1759,
         1759349701,
         0,
         "CC BY-SA 4.0",
         false,
         "https://stackoverflow.com/questions/79780437/linkedin-marketing-api-how-to-filter-adcampaigns-by-multiple-statuses-using-sea",
         {
          "account_id": "44165158",
          "display_name": "Andro IDE",
          "link": "https://stackoverflow.com/users/31611205/andro-ide",
          "profile_image": "https://www.gravatar.com/avatar/517a24fcf1c097123e24872475aabb53?s=256&d=identicon&r=PG&f=y&so-version=2",
          "reputation": "1",
          "user_id": "31611205",
          "user_type": "registered"
         },
         0,
         [
          "linkedin-api"
         ],
         "LinkedIn Marketing API: How to filter adCampaigns by multiple statuses using search parameter without 400 error?",
         6,
         null,
         null,
         null,
         null
        ],
        [
         79780434,
         1759349442,
         1759,
         1759349442,
         0,
         null,
         false,
         "https://stackoverflow.com/questions/79780434/apple-developer-membership-renewal-issue",
         {
          "account_id": "11568709",
          "display_name": "IMAD UL-HASSAN",
          "link": "https://stackoverflow.com/users/8476100/imad-ul-hassan",
          "profile_image": "https://lh5.googleusercontent.com/-h2R-rosfcgg/AAAAAAAAAAI/AAAAAAAAAOY/bwawONOnBKs/s256-rj/photo.jpg",
          "reputation": "65",
          "user_id": "8476100",
          "user_type": "registered"
         },
         -3,
         [
          "ios",
          "payment",
          "apple-developer",
          "apple-developer-enterprise"
         ],
         "Apple developer memberShip Renewal Issue",
         16,
         null,
         1759349751,
         "Not suitable for this site",
         null
        ],
        [
         79780432,
         1759349174,
         1759,
         1759355204,
         1,
         "CC BY-SA 4.0",
         false,
         "https://stackoverflow.com/questions/79780432/gtsummary-header-counts-with-tbl-strata-nested-stack",
         {
          "account_id": "40973609",
          "display_name": "Ranjan Karmakar",
          "link": "https://stackoverflow.com/users/30055639/ranjan-karmakar",
          "profile_image": "https://www.gravatar.com/avatar/7cb0ab297214ae7085a898dabfaeb640?s=256&d=identicon&r=PG&f=y&so-version=2",
          "reputation": "167",
          "user_id": "30055639",
          "user_type": "registered"
         },
         1,
         [
          "r",
          "gtsummary"
         ],
         "GTSUMMARY Header counts with TBL_STRATA_NESTED_STACK",
         18,
         null,
         null,
         null,
         null
        ],
        [
         79780431,
         1759349068,
         1759,
         1759349068,
         0,
         "CC BY-SA 4.0",
         false,
         "https://stackoverflow.com/questions/79780431/n8n-rest-api-always-returns-401-unauthorized-ce-docker-desktop-on-windows-11",
         {
          "account_id": "44165059",
          "display_name": "PFL",
          "link": "https://stackoverflow.com/users/31611150/pfl",
          "profile_image": "https://www.gravatar.com/avatar/472ceba0d489ce7bd2b1e39f7790c274?s=256&d=identicon&r=PG&f=y&so-version=2",
          "reputation": "1",
          "user_id": "31611150",
          "user_type": "registered"
         },
         0,
         [
          "docker",
          "automation",
          "n8n"
         ],
         "n8n REST API always returns 401 Unauthorized (CE, Docker Desktop on Windows 11)",
         14,
         null,
         null,
         null,
         null
        ],
        [
         79780429,
         1759349043,
         1759,
         1759357009,
         1,
         null,
         false,
         "https://stackoverflow.com/questions/79780429/copy-and-cut-selected-text-using-javascript-and-paste-all-3-functions-on-button",
         {
          "account_id": "14989385",
          "display_name": "tomcaptain",
          "link": "https://stackoverflow.com/users/10821035/tomcaptain",
          "profile_image": "https://www.gravatar.com/avatar/5d63a1be8d8115d825d74bad99b4e2b9?s=256&d=identicon&r=PG&f=y&so-version=2",
          "reputation": "25",
          "user_id": "10821035",
          "user_type": "registered"
         },
         -2,
         [
          "javascript",
          "jquery"
         ],
         "Copy and Cut Selected Text using JavaScript and Paste, all 3 functions on button clicks",
         38,
         1759354453,
         1759354980,
         "Duplicate",
         null
        ],
        [
         79780428,
         1759349039,
         1759,
         1759355978,
         0,
         "CC BY-SA 4.0",
         false,
         "https://stackoverflow.com/questions/79780428/rust-windows-media-foundation-virtual-camera-fires-events-and-sample-but-no-vide",
         {
          "account_id": "21153321",
          "display_name": "Marko19907",
          "link": "https://stackoverflow.com/users/15553138/marko19907",
          "profile_image": "https://www.gravatar.com/avatar/03cab7f9ce6f886b3388b59533d349d6?s=256&d=identicon&r=PG&f=y&so-version=2",
          "reputation": "1",
          "user_id": "15553138",
          "user_type": "registered"
         },
         0,
         [
          "windows",
          "rust",
          "ms-media-foundation",
          "virtual-camera"
         ],
         "Rust Windows Media Foundation virtual camera fires events and sample but no video out is shown",
         15,
         1759355978,
         null,
         null,
         null
        ],
        [
         79780426,
         1759348605,
         1759,
         1759348605,
         0,
         null,
         false,
         "https://stackoverflow.com/questions/79780426/jsp-page-not-found-in-spring-boot-application",
         {
          "accept_rate": "95",
          "account_id": "10642398",
          "display_name": "runnerpaul",
          "link": "https://stackoverflow.com/users/7836976/runnerpaul",
          "profile_image": "https://www.gravatar.com/avatar/a57c0f1a2af768690957df659cc28f0f?s=256&d=identicon&r=PG&f=y&so-version=2",
          "reputation": "7532",
          "user_id": "7836976",
          "user_type": "registered"
         },
         -1,
         [
          "java",
          "spring-boot",
          "jsp"
         ],
         "JSP page not found in Spring Boot application",
         23,
         null,
         1759350280,
         "Not suitable for this site",
         null
        ],
        [
         79780423,
         1759348421,
         1759,
         1759348421,
         0,
         "CC BY-SA 4.0",
         false,
         "https://stackoverflow.com/questions/79780423/how-to-insert-an-image-from-google-drive-inside-a-google-sheet-cell-programmatic",
         {
          "account_id": "3534581",
          "display_name": "Lexe.Elf",
          "link": "https://stackoverflow.com/users/2953216/lexe-elf",
          "profile_image": "https://i.sstatic.net/Ag4Zp.png?s=256",
          "reputation": "71",
          "user_id": "2953216",
          "user_type": "registered"
         },
         0,
         [
          "google-sheets-api"
         ],
         "How to insert an image from Google Drive inside a Google Sheet Cell programmatically (via API)?",
         13,
         null,
         null,
         null,
         null
        ],
        [
         79780422,
         1759348420,
         1759,
         1759348420,
         0,
         "CC BY-SA 4.0",
         false,
         "https://stackoverflow.com/questions/79780422/multiple-frames-blendshape-failed-animation-in-reality-composer-pro",
         {
          "accept_rate": "88",
          "account_id": "2619360",
          "display_name": "Alfonso Santiago",
          "link": "https://stackoverflow.com/users/2730528/alfonso-santiago",
          "profile_image": "https://i.sstatic.net/OE0SH.jpg?s=256",
          "reputation": "531",
          "user_id": "2730528",
          "user_type": "registered"
         },
         0,
         [
          "realitykit",
          "reality-composer-pro",
          "usd",
          "vision-pro"
         ],
         "Multiple-frames BlendShape (failed) Animation in Reality Composer Pro",
         4,
         null,
         null,
         null,
         null
        ],
        [
         79780421,
         1759348350,
         1759,
         1759348350,
         0,
         null,
         false,
         "https://stackoverflow.com/questions/79780421/why-do-rising-temperatures-not-high-temperature-cause-a-usb-write-to-fail",
         {
          "account_id": "15024948",
          "display_name": "CarpenterSFO",
          "link": "https://stackoverflow.com/users/10845117/carpentersfo",
          "profile_image": "https://www.gravatar.com/avatar/afb7ecd191da3325362781e8defe2c0a?s=256&d=identicon&r=PG&f=y&so-version=2",
          "reputation": "158",
          "user_id": "10845117",
          "user_type": "registered"
         },
         -4,
         [
          "embedded",
          "usb"
         ],
         "Why do rising temperatures (not high temperature) cause a USB write to fail?",
         19,
         null,
         1759368160,
         "Not suitable for this site",
         null
        ],
        [
         79780419,
         1759348247,
         1759,
         1759348247,
         0,
         "CC BY-SA 4.0",
         false,
         "https://stackoverflow.com/questions/79780419/wix-quite-custom-action-not-working-when-running-exe-with-arguments",
         {
          "account_id": "22843991",
          "display_name": "Rohan Atyalkar",
          "link": "https://stackoverflow.com/users/16990576/rohan-atyalkar",
          "profile_image": "https://www.gravatar.com/avatar/d438452a7e2ecf6d92763fbfe7ff7218?s=256&d=identicon&r=PG",
          "reputation": "1",
          "user_id": "16990576",
          "user_type": "registered"
         },
         0,
         [
          "installation",
          "wix",
          "windows-installer"
         ],
         "Wix quite custom action not working when running exe with arguments",
         10,
         null,
         null,
         null,
         null
        ],
        [
         79780416,
         1759347715,
         1759,
         1759347715,
         0,
         null,
         false,
         "https://stackoverflow.com/questions/79780416/how-to-programmatically-insert-text-into-a-slate-js-contenteditable-so-it-regist",
         {
          "account_id": "44165531",
          "display_name": "HireHawk DevOps",
          "link": "https://stackoverflow.com/users/31611402/hirehawk-devops",
          "profile_image": "https://www.gravatar.com/avatar/0e68dcbd24205ff38f5a5b3da61df538?s=256&d=identicon&r=PG&f=y&so-version=2",
          "reputation": "1",
          "user_id": "31611402",
          "user_type": "registered"
         },
         0,
         [
          "javascript"
         ],
         "How to programmatically insert text into a Slate.js contenteditable so it registers as user input?",
         21,
         null,
         1759365686,
         "Duplicate",
         null
        ],
        [
         79780409,
         1759347449,
         1759,
         1759347449,
         0,
         "CC BY-SA 4.0",
         false,
         "https://stackoverflow.com/questions/79780409/conditionally-rendering-html-in-blazor",
         {
          "accept_rate": "77",
          "account_id": "1886091",
          "display_name": "Sam",
          "link": "https://stackoverflow.com/users/1705266/sam",
          "profile_image": "https://i.sstatic.net/eV8wY.png?s=256",
          "reputation": "30954",
          "user_id": "1705266",
          "user_type": "registered"
         },
         1,
         [
          "blazor",
          "blazor-webassembly"
         ],
         "Conditionally rendering HTML in Blazor",
         21,
         null,
         null,
         null,
         null
        ],
        [
         79780408,
         1759347374,
         1759,
         1759369228,
         1,
         "CC BY-SA 4.0",
         true,
         "https://stackoverflow.com/questions/79780408/powershell-captures-array-function-result-with-single-element-as-just-the-elemen",
         {
          "accept_rate": "70",
          "account_id": "2212",
          "display_name": "Joel Coehoorn",
          "link": "https://stackoverflow.com/users/3043/joel-coehoorn",
          "profile_image": "https://www.gravatar.com/avatar/61d2a0f034915fa9d2acd6f6b145bba8?s=256&d=identicon&r=PG",
          "reputation": "417987",
          "user_id": "3043",
          "user_type": "registered"
         },
         2,
         [
          "arrays",
          "powershell"
         ],
         "Powershell captures array function result with single element as just the element",
         45,
         1759358338,
         null,
         null,
         null
        ],
        [
         79780405,
         1759346925,
         1759,
         1759365726,
         1,
         "CC BY-SA 4.0",
         false,
         "https://stackoverflow.com/questions/79780405/does-the-pg-pool-from-node-postgres-support-acquiretimeoutmillis",
         {
          "accept_rate": "57",
          "account_id": "3331715",
          "display_name": "okhobb",
          "link": "https://stackoverflow.com/users/2800519/okhobb",
          "profile_image": "https://www.gravatar.com/avatar/e422b5dc2a5f6c725c8f84cce4df615e?s=256&d=identicon&r=PG&f=y&so-version=2",
          "reputation": "898",
          "user_id": "2800519",
          "user_type": "registered"
         },
         1,
         [
          "postgresql",
          "connection-pooling",
          "node-postgres"
         ],
         "Does the pg.Pool from node-postgres support acquireTimeoutMillis?",
         16,
         null,
         null,
         null,
         null
        ],
        [
         79780404,
         1759346629,
         1759,
         1759346629,
         0,
         "CC BY-SA 4.0",
         false,
         "https://stackoverflow.com/questions/79780404/liferay-auth0-integration",
         {
          "accept_rate": "78",
          "account_id": "179113",
          "display_name": "Vicky",
          "link": "https://stackoverflow.com/users/411540/vicky",
          "profile_image": "https://www.gravatar.com/avatar/f9e8c4c4d9ac2363ea6fce353a0e047f?s=256&d=identicon&r=PG",
          "reputation": "5540",
          "user_id": "411540",
          "user_type": "registered"
         },
         0,
         [
          "liferay",
          "openid-connect",
          "auth0",
          "liferay-dxp"
         ],
         "Liferay Auth0 Integration",
         11,
         null,
         null,
         null,
         null
        ],
        [
         79780403,
         1759346618,
         1759,
         1759366479,
         3,
         "CC BY-SA 4.0",
         true,
         "https://stackoverflow.com/questions/79780403/ggrepel-still-overlapping-text",
         {
          "account_id": "20905801",
          "display_name": "weendeen",
          "link": "https://stackoverflow.com/users/20843845/weendeen",
          "profile_image": "https://www.gravatar.com/avatar/51f8ab628be7e3099b005f50433c207c?s=256&d=identicon&r=PG&f=y&so-version=2",
          "reputation": "9",
          "user_id": "20843845",
          "user_type": "registered"
         },
         0,
         [
          "r",
          "ggplot2",
          "ggrepel"
         ],
         "ggrepel still overlapping text",
         30,
         null,
         null,
         null,
         null
        ],
        [
         79780401,
         1759346457,
         1759,
         1759346457,
         0,
         null,
         false,
         "https://stackoverflow.com/questions/79780401/snowflake-internal-marketplace-listing-without-a-data-product",
         {
          "account_id": "44165366",
          "display_name": "CJVJR75",
          "link": "https://stackoverflow.com/users/31611318/cjvjr75",
          "profile_image": "https://www.gravatar.com/avatar/3e46ceea1a918cbe8ad7a3ce1977abb2?s=256&d=identicon&r=PG&f=y&so-version=2",
          "reputation": "1",
          "user_id": "31611318",
          "user_type": "registered"
         },
         -2,
         [
          "snowflake-cloud-data-platform"
         ],
         "Snowflake Internal Marketplace - listing without a data product",
         19,
         null,
         1759349381,
         "Not suitable for this site",
         null
        ],
        [
         79780397,
         1759345998,
         1759,
         1759345998,
         0,
         "CC BY-SA 4.0",
         false,
         "https://stackoverflow.com/questions/79780397/netsuite-php-find-sales-order-using-custom-field",
         {
          "accept_rate": "75",
          "account_id": "4191570",
          "display_name": "John",
          "link": "https://stackoverflow.com/users/4075715/john",
          "profile_image": "https://www.gravatar.com/avatar/491af55ca0e5f191061276ae13df624b?s=256&d=identicon&r=PG&f=y&so-version=2",
          "reputation": "69",
          "user_id": "4075715",
          "user_type": "registered"
         },
         0,
         [
          "php",
          "netsuite",
          "custom-fields",
          "netsuite-rest-api"
         ],
         "Netsuite PHP find Sales Order using custom field",
         19,
         null,
         null,
         null,
         null
        ],
        [
         79780395,
         1759345848,
         1759,
         1759345848,
         0,
         "CC BY-SA 4.0",
         false,
         "https://stackoverflow.com/questions/79780395/is-it-possible-to-pull-the-date-a-cell-entry-occurred",
         {
          "account_id": "44164469",
          "display_name": "logan hecht",
          "link": "https://stackoverflow.com/users/31610860/logan-hecht",
          "profile_image": "https://www.gravatar.com/avatar/0530e2d840302c968fb6cc3fdab48dd7?s=256&d=identicon&r=PG&f=y&so-version=2",
          "reputation": "1",
          "user_id": "31610860",
          "user_type": "registered"
         },
         -3,
         [
          "excel",
          "date",
          "vlookup"
         ],
         "Is it possible to pull the date a cell entry occurred?",
         37,
         null,
         null,
         null,
         null
        ]
       ],
       "datasetInfos": [],
       "dbfsResultPath": null,
       "isJsonSchema": true,
       "metadata": {},
       "overflow": false,
       "plotOptions": {
        "customPlotOptions": {},
        "displayType": "table",
        "pivotAggregation": null,
        "pivotColumns": null,
        "xColumns": null,
        "yColumns": null
       },
       "removedWidgets": [],
       "schema": [
        {
         "metadata": "{}",
         "name": "question_id",
         "type": "\"long\""
        },
        {
         "metadata": "{}",
         "name": "creation_date",
         "type": "\"long\""
        },
        {
         "metadata": "{}",
         "name": "creation_period",
         "type": "\"long\""
        },
        {
         "metadata": "{}",
         "name": "last_activity_date",
         "type": "\"long\""
        },
        {
         "metadata": "{}",
         "name": "answer_count",
         "type": "\"long\""
        },
        {
         "metadata": "{}",
         "name": "content_license",
         "type": "\"string\""
        },
        {
         "metadata": "{}",
         "name": "is_answered",
         "type": "\"boolean\""
        },
        {
         "metadata": "{}",
         "name": "link",
         "type": "\"string\""
        },
        {
         "metadata": "{}",
         "name": "owner",
         "type": "{\"type\":\"map\",\"keyType\":\"string\",\"valueType\":\"string\",\"valueContainsNull\":true}"
        },
        {
         "metadata": "{}",
         "name": "score",
         "type": "\"long\""
        },
        {
         "metadata": "{}",
         "name": "tags",
         "type": "{\"type\":\"array\",\"elementType\":\"string\",\"containsNull\":true}"
        },
        {
         "metadata": "{}",
         "name": "title",
         "type": "\"string\""
        },
        {
         "metadata": "{}",
         "name": "view_count",
         "type": "\"long\""
        },
        {
         "metadata": "{}",
         "name": "last_edit_date",
         "type": "\"long\""
        },
        {
         "metadata": "{}",
         "name": "closed_date",
         "type": "\"long\""
        },
        {
         "metadata": "{}",
         "name": "closed_reason",
         "type": "\"string\""
        },
        {
         "metadata": "{}",
         "name": "accepted_answer_id",
         "type": "\"long\""
        }
       ],
       "type": "table"
      }
     },
     "output_type": "display_data"
    }
   ],
   "source": [
    "process_page(1).display()"
   ]
  },
  {
   "cell_type": "code",
   "execution_count": 0,
   "metadata": {
    "application/vnd.databricks.v1+cell": {
     "cellMetadata": {
      "byteLimit": 2048000,
      "implicitDf": true,
      "rowLimit": 10000
     },
     "inputWidgets": {},
     "nuid": "79477af5-2779-4972-87fd-821359046ce1",
     "showTitle": false,
     "tableResultSettingsMap": {},
     "title": ""
    }
   },
   "outputs": [
    {
     "output_type": "display_data",
     "data": {
      "text/plain": [
       "\u001B[0;31m---------------------------------------------------------------------------\u001B[0m\n",
       "\u001B[0;31mAnalysisException\u001B[0m                         Traceback (most recent call last)\n",
       "File \u001B[0;32m<command-4817661498311894>, line 1\u001B[0m\n",
       "\u001B[0;32m----> 1\u001B[0m get_ipython()\u001B[38;5;241m.\u001B[39mrun_cell_magic(\u001B[38;5;124m'\u001B[39m\u001B[38;5;124msql\u001B[39m\u001B[38;5;124m'\u001B[39m, \u001B[38;5;124m'\u001B[39m\u001B[38;5;124m'\u001B[39m, \u001B[38;5;124m\"\u001B[39m\u001B[38;5;124mCREATE DATABASE IF NOT EXISTS bronze;\u001B[39m\u001B[38;5;130;01m\\n\u001B[39;00m\u001B[38;5;124mCREATE DATABASE IF NOT EXISTS silver;\u001B[39m\u001B[38;5;130;01m\\n\u001B[39;00m\u001B[38;5;124mCREATE DATABASE IF NOT EXISTS gold;\u001B[39m\u001B[38;5;130;01m\\n\u001B[39;00m\u001B[38;5;130;01m\\n\u001B[39;00m\u001B[38;5;124mCREATE TABLE IF NOT EXISTS bronze.questions\u001B[39m\u001B[38;5;130;01m\\n\u001B[39;00m\u001B[38;5;124mUSING DELTA\u001B[39m\u001B[38;5;130;01m\\n\u001B[39;00m\u001B[38;5;124mPARTITIONED BY (creation_period)\u001B[39m\u001B[38;5;130;01m\\n\u001B[39;00m\u001B[38;5;124mLOCATION \u001B[39m\u001B[38;5;124m'\u001B[39m\u001B[38;5;124m/mnt/bronze/questions\u001B[39m\u001B[38;5;124m'\u001B[39m\u001B[38;5;124m;\u001B[39m\u001B[38;5;130;01m\\n\u001B[39;00m\u001B[38;5;130;01m\\n\u001B[39;00m\u001B[38;5;124mCREATE TABLE IF NOT EXISTS silver.questions\u001B[39m\u001B[38;5;130;01m\\n\u001B[39;00m\u001B[38;5;124mUSING DELTA\u001B[39m\u001B[38;5;130;01m\\n\u001B[39;00m\u001B[38;5;124mPARTITIONED BY (creation_period)\u001B[39m\u001B[38;5;130;01m\\n\u001B[39;00m\u001B[38;5;124mLOCATION \u001B[39m\u001B[38;5;124m'\u001B[39m\u001B[38;5;124m/mnt/silver/questions\u001B[39m\u001B[38;5;124m'\u001B[39m\u001B[38;5;124m;\u001B[39m\u001B[38;5;130;01m\\n\u001B[39;00m\u001B[38;5;124m\"\u001B[39m)\n",
       "\n",
       "File \u001B[0;32m/databricks/python/lib/python3.12/site-packages/IPython/core/interactiveshell.py:2541\u001B[0m, in \u001B[0;36mInteractiveShell.run_cell_magic\u001B[0;34m(self, magic_name, line, cell)\u001B[0m\n",
       "\u001B[1;32m   2539\u001B[0m \u001B[38;5;28;01mwith\u001B[39;00m \u001B[38;5;28mself\u001B[39m\u001B[38;5;241m.\u001B[39mbuiltin_trap:\n",
       "\u001B[1;32m   2540\u001B[0m     args \u001B[38;5;241m=\u001B[39m (magic_arg_s, cell)\n",
       "\u001B[0;32m-> 2541\u001B[0m     result \u001B[38;5;241m=\u001B[39m fn(\u001B[38;5;241m*\u001B[39margs, \u001B[38;5;241m*\u001B[39m\u001B[38;5;241m*\u001B[39mkwargs)\n",
       "\u001B[1;32m   2543\u001B[0m \u001B[38;5;66;03m# The code below prevents the output from being displayed\u001B[39;00m\n",
       "\u001B[1;32m   2544\u001B[0m \u001B[38;5;66;03m# when using magics with decorator @output_can_be_silenced\u001B[39;00m\n",
       "\u001B[1;32m   2545\u001B[0m \u001B[38;5;66;03m# when the last Python token in the expression is a ';'.\u001B[39;00m\n",
       "\u001B[1;32m   2546\u001B[0m \u001B[38;5;28;01mif\u001B[39;00m \u001B[38;5;28mgetattr\u001B[39m(fn, magic\u001B[38;5;241m.\u001B[39mMAGIC_OUTPUT_CAN_BE_SILENCED, \u001B[38;5;28;01mFalse\u001B[39;00m):\n",
       "\n",
       "File \u001B[0;32m/databricks/python_shell/lib/dbruntime/sql_magic/sql_magic.py:180\u001B[0m, in \u001B[0;36mSqlMagic.sql\u001B[0;34m(self, line, cell)\u001B[0m\n",
       "\u001B[1;32m    174\u001B[0m \u001B[38;5;28;01mexcept\u001B[39;00m \u001B[38;5;167;01mBaseException\u001B[39;00m \u001B[38;5;28;01mas\u001B[39;00m e:\n",
       "\u001B[1;32m    175\u001B[0m     \u001B[38;5;28mself\u001B[39m\u001B[38;5;241m.\u001B[39mdriver_activity_logger\u001B[38;5;241m.\u001B[39mlogExecuteCommandEvent(\n",
       "\u001B[1;32m    176\u001B[0m         \u001B[38;5;124m\"\u001B[39m\u001B[38;5;124mSQL_MAGIC_PY4J_FAILED\u001B[39m\u001B[38;5;124m\"\u001B[39m,\n",
       "\u001B[1;32m    177\u001B[0m         exceptionClassName\u001B[38;5;241m=\u001B[39me\u001B[38;5;241m.\u001B[39m\u001B[38;5;18m__class__\u001B[39m\u001B[38;5;241m.\u001B[39m\u001B[38;5;18m__name__\u001B[39m,\n",
       "\u001B[1;32m    178\u001B[0m         sqlState\u001B[38;5;241m=\u001B[39msafe_call(e, \u001B[38;5;124m\"\u001B[39m\u001B[38;5;124mgetSqlState\u001B[39m\u001B[38;5;124m\"\u001B[39m),\n",
       "\u001B[1;32m    179\u001B[0m         errorClass\u001B[38;5;241m=\u001B[39msafe_call(e, \u001B[38;5;124m\"\u001B[39m\u001B[38;5;124mgetCondition\u001B[39m\u001B[38;5;124m\"\u001B[39m))\n",
       "\u001B[0;32m--> 180\u001B[0m     \u001B[38;5;28;01mraise\u001B[39;00m e\n",
       "\u001B[1;32m    182\u001B[0m \u001B[38;5;28mself\u001B[39m\u001B[38;5;241m.\u001B[39mdriver_activity_logger\u001B[38;5;241m.\u001B[39mlogExecuteCommandEvent(\u001B[38;5;124m\"\u001B[39m\u001B[38;5;124mSQL_MAGIC_PY4J_SUCCEEDED\u001B[39m\u001B[38;5;124m\"\u001B[39m)\n",
       "\u001B[1;32m    183\u001B[0m \u001B[38;5;28;01mreturn\u001B[39;00m result\n",
       "\n",
       "File \u001B[0;32m/databricks/python_shell/lib/dbruntime/sql_magic/sql_magic.py:173\u001B[0m, in \u001B[0;36mSqlMagic.sql\u001B[0;34m(self, line, cell)\u001B[0m\n",
       "\u001B[1;32m    171\u001B[0m         query_text \u001B[38;5;241m=\u001B[39m sub_query\u001B[38;5;241m.\u001B[39mquery()\n",
       "\u001B[1;32m    172\u001B[0m         sql_directive \u001B[38;5;241m=\u001B[39m \u001B[38;5;28mself\u001B[39m\u001B[38;5;241m.\u001B[39mentry_point\u001B[38;5;241m.\u001B[39mgetSqlDirective(query_text)\n",
       "\u001B[0;32m--> 173\u001B[0m         result \u001B[38;5;241m=\u001B[39m \u001B[38;5;28mself\u001B[39m\u001B[38;5;241m.\u001B[39m_handle_sql_directive(sql_directive, i \u001B[38;5;241m==\u001B[39m number_of_sub_queries \u001B[38;5;241m-\u001B[39m \u001B[38;5;241m1\u001B[39m)\n",
       "\u001B[1;32m    174\u001B[0m \u001B[38;5;28;01mexcept\u001B[39;00m \u001B[38;5;167;01mBaseException\u001B[39;00m \u001B[38;5;28;01mas\u001B[39;00m e:\n",
       "\u001B[1;32m    175\u001B[0m     \u001B[38;5;28mself\u001B[39m\u001B[38;5;241m.\u001B[39mdriver_activity_logger\u001B[38;5;241m.\u001B[39mlogExecuteCommandEvent(\n",
       "\u001B[1;32m    176\u001B[0m         \u001B[38;5;124m\"\u001B[39m\u001B[38;5;124mSQL_MAGIC_PY4J_FAILED\u001B[39m\u001B[38;5;124m\"\u001B[39m,\n",
       "\u001B[1;32m    177\u001B[0m         exceptionClassName\u001B[38;5;241m=\u001B[39me\u001B[38;5;241m.\u001B[39m\u001B[38;5;18m__class__\u001B[39m\u001B[38;5;241m.\u001B[39m\u001B[38;5;18m__name__\u001B[39m,\n",
       "\u001B[1;32m    178\u001B[0m         sqlState\u001B[38;5;241m=\u001B[39msafe_call(e, \u001B[38;5;124m\"\u001B[39m\u001B[38;5;124mgetSqlState\u001B[39m\u001B[38;5;124m\"\u001B[39m),\n",
       "\u001B[1;32m    179\u001B[0m         errorClass\u001B[38;5;241m=\u001B[39msafe_call(e, \u001B[38;5;124m\"\u001B[39m\u001B[38;5;124mgetCondition\u001B[39m\u001B[38;5;124m\"\u001B[39m))\n",
       "\n",
       "File \u001B[0;32m/databricks/python_shell/lib/dbruntime/sql_magic/sql_magic.py:199\u001B[0m, in \u001B[0;36mSqlMagic._handle_sql_directive\u001B[0;34m(self, sql_directive, is_last_query)\u001B[0m\n",
       "\u001B[1;32m    197\u001B[0m query \u001B[38;5;241m=\u001B[39m sql_directive\u001B[38;5;241m.\u001B[39msql()\n",
       "\u001B[1;32m    198\u001B[0m \u001B[38;5;28mself\u001B[39m\u001B[38;5;241m.\u001B[39m_register_udf_if_needed(query)\n",
       "\u001B[0;32m--> 199\u001B[0m df \u001B[38;5;241m=\u001B[39m \u001B[38;5;28mself\u001B[39m\u001B[38;5;241m.\u001B[39m_get_query_request_result(query)\n",
       "\u001B[1;32m    200\u001B[0m \u001B[38;5;28;01mif\u001B[39;00m df \u001B[38;5;129;01mis\u001B[39;00m \u001B[38;5;28;01mNone\u001B[39;00m \u001B[38;5;129;01mor\u001B[39;00m \u001B[38;5;28mlen\u001B[39m(df\u001B[38;5;241m.\u001B[39mschema) \u001B[38;5;241m==\u001B[39m \u001B[38;5;241m0\u001B[39m:\n",
       "\u001B[1;32m    201\u001B[0m     \u001B[38;5;66;03m# E.g. \"create or replace temp view abc as select 1\" gets us here and we should not return a result in this case.\u001B[39;00m\n",
       "\u001B[1;32m    202\u001B[0m     \u001B[38;5;28;01mreturn\u001B[39;00m \u001B[38;5;28;01mNone\u001B[39;00m\n",
       "\n",
       "File \u001B[0;32m/databricks/python_shell/lib/dbruntime/sql_magic/sql_magic.py:137\u001B[0m, in \u001B[0;36mSqlMagic._get_query_request_result\u001B[0;34m(self, query)\u001B[0m\n",
       "\u001B[1;32m    135\u001B[0m \u001B[38;5;28;01mif\u001B[39;00m \u001B[38;5;28mlen\u001B[39m(widget_bindings \u001B[38;5;241m:=\u001B[39m \u001B[38;5;28mself\u001B[39m\u001B[38;5;241m.\u001B[39m_widget_cache\u001B[38;5;241m.\u001B[39mvalues) \u001B[38;5;241m>\u001B[39m \u001B[38;5;241m0\u001B[39m:\n",
       "\u001B[1;32m    136\u001B[0m     \u001B[38;5;28mself\u001B[39m\u001B[38;5;241m.\u001B[39mdriver_activity_logger\u001B[38;5;241m.\u001B[39mlogExecuteCommandEvent(\u001B[38;5;124m\"\u001B[39m\u001B[38;5;124mPARAM_SYNTAX_USAGE\u001B[39m\u001B[38;5;124m\"\u001B[39m)\n",
       "\u001B[0;32m--> 137\u001B[0m df \u001B[38;5;241m=\u001B[39m \u001B[38;5;28mself\u001B[39m\u001B[38;5;241m.\u001B[39mspark\u001B[38;5;241m.\u001B[39msql(query, widget_bindings)\n",
       "\u001B[1;32m    138\u001B[0m \u001B[38;5;28;01mreturn\u001B[39;00m df\n",
       "\n",
       "File \u001B[0;32m/databricks/spark/python/pyspark/instrumentation_utils.py:47\u001B[0m, in \u001B[0;36m_wrap_function.<locals>.wrapper\u001B[0;34m(*args, **kwargs)\u001B[0m\n",
       "\u001B[1;32m     45\u001B[0m start \u001B[38;5;241m=\u001B[39m time\u001B[38;5;241m.\u001B[39mperf_counter()\n",
       "\u001B[1;32m     46\u001B[0m \u001B[38;5;28;01mtry\u001B[39;00m:\n",
       "\u001B[0;32m---> 47\u001B[0m     res \u001B[38;5;241m=\u001B[39m func(\u001B[38;5;241m*\u001B[39margs, \u001B[38;5;241m*\u001B[39m\u001B[38;5;241m*\u001B[39mkwargs)\n",
       "\u001B[1;32m     48\u001B[0m     logger\u001B[38;5;241m.\u001B[39mlog_success(\n",
       "\u001B[1;32m     49\u001B[0m         module_name, class_name, function_name, time\u001B[38;5;241m.\u001B[39mperf_counter() \u001B[38;5;241m-\u001B[39m start, signature\n",
       "\u001B[1;32m     50\u001B[0m     )\n",
       "\u001B[1;32m     51\u001B[0m     \u001B[38;5;28;01mreturn\u001B[39;00m res\n",
       "\n",
       "File \u001B[0;32m/databricks/spark/python/pyspark/sql/session.py:1891\u001B[0m, in \u001B[0;36mSparkSession.sql\u001B[0;34m(self, sqlQuery, args, **kwargs)\u001B[0m\n",
       "\u001B[1;32m   1886\u001B[0m     \u001B[38;5;28;01melse\u001B[39;00m:\n",
       "\u001B[1;32m   1887\u001B[0m         \u001B[38;5;28;01mraise\u001B[39;00m PySparkTypeError(\n",
       "\u001B[1;32m   1888\u001B[0m             errorClass\u001B[38;5;241m=\u001B[39m\u001B[38;5;124m\"\u001B[39m\u001B[38;5;124mINVALID_TYPE\u001B[39m\u001B[38;5;124m\"\u001B[39m,\n",
       "\u001B[1;32m   1889\u001B[0m             messageParameters\u001B[38;5;241m=\u001B[39m{\u001B[38;5;124m\"\u001B[39m\u001B[38;5;124marg_name\u001B[39m\u001B[38;5;124m\"\u001B[39m: \u001B[38;5;124m\"\u001B[39m\u001B[38;5;124margs\u001B[39m\u001B[38;5;124m\"\u001B[39m, \u001B[38;5;124m\"\u001B[39m\u001B[38;5;124marg_type\u001B[39m\u001B[38;5;124m\"\u001B[39m: \u001B[38;5;28mtype\u001B[39m(args)\u001B[38;5;241m.\u001B[39m\u001B[38;5;18m__name__\u001B[39m},\n",
       "\u001B[1;32m   1890\u001B[0m         )\n",
       "\u001B[0;32m-> 1891\u001B[0m     \u001B[38;5;28;01mreturn\u001B[39;00m DataFrame(\u001B[38;5;28mself\u001B[39m\u001B[38;5;241m.\u001B[39m_jsparkSession\u001B[38;5;241m.\u001B[39msql(sqlQuery, litArgs), \u001B[38;5;28mself\u001B[39m)\n",
       "\u001B[1;32m   1892\u001B[0m \u001B[38;5;28;01mfinally\u001B[39;00m:\n",
       "\u001B[1;32m   1893\u001B[0m     \u001B[38;5;28;01mif\u001B[39;00m \u001B[38;5;28mlen\u001B[39m(kwargs) \u001B[38;5;241m>\u001B[39m \u001B[38;5;241m0\u001B[39m:\n",
       "\n",
       "File \u001B[0;32m/databricks/spark/python/lib/py4j-0.10.9.9-src.zip/py4j/java_gateway.py:1362\u001B[0m, in \u001B[0;36mJavaMember.__call__\u001B[0;34m(self, *args)\u001B[0m\n",
       "\u001B[1;32m   1356\u001B[0m command \u001B[38;5;241m=\u001B[39m proto\u001B[38;5;241m.\u001B[39mCALL_COMMAND_NAME \u001B[38;5;241m+\u001B[39m\\\n",
       "\u001B[1;32m   1357\u001B[0m     \u001B[38;5;28mself\u001B[39m\u001B[38;5;241m.\u001B[39mcommand_header \u001B[38;5;241m+\u001B[39m\\\n",
       "\u001B[1;32m   1358\u001B[0m     args_command \u001B[38;5;241m+\u001B[39m\\\n",
       "\u001B[1;32m   1359\u001B[0m     proto\u001B[38;5;241m.\u001B[39mEND_COMMAND_PART\n",
       "\u001B[1;32m   1361\u001B[0m answer \u001B[38;5;241m=\u001B[39m \u001B[38;5;28mself\u001B[39m\u001B[38;5;241m.\u001B[39mgateway_client\u001B[38;5;241m.\u001B[39msend_command(command)\n",
       "\u001B[0;32m-> 1362\u001B[0m return_value \u001B[38;5;241m=\u001B[39m get_return_value(\n",
       "\u001B[1;32m   1363\u001B[0m     answer, \u001B[38;5;28mself\u001B[39m\u001B[38;5;241m.\u001B[39mgateway_client, \u001B[38;5;28mself\u001B[39m\u001B[38;5;241m.\u001B[39mtarget_id, \u001B[38;5;28mself\u001B[39m\u001B[38;5;241m.\u001B[39mname)\n",
       "\u001B[1;32m   1365\u001B[0m \u001B[38;5;28;01mfor\u001B[39;00m temp_arg \u001B[38;5;129;01min\u001B[39;00m temp_args:\n",
       "\u001B[1;32m   1366\u001B[0m     \u001B[38;5;28;01mif\u001B[39;00m \u001B[38;5;28mhasattr\u001B[39m(temp_arg, \u001B[38;5;124m\"\u001B[39m\u001B[38;5;124m_detach\u001B[39m\u001B[38;5;124m\"\u001B[39m):\n",
       "\n",
       "File \u001B[0;32m/databricks/spark/python/pyspark/errors/exceptions/captured.py:310\u001B[0m, in \u001B[0;36mcapture_sql_exception.<locals>.deco\u001B[0;34m(*a, **kw)\u001B[0m\n",
       "\u001B[1;32m    306\u001B[0m converted \u001B[38;5;241m=\u001B[39m convert_exception(e\u001B[38;5;241m.\u001B[39mjava_exception)\n",
       "\u001B[1;32m    307\u001B[0m \u001B[38;5;28;01mif\u001B[39;00m \u001B[38;5;129;01mnot\u001B[39;00m \u001B[38;5;28misinstance\u001B[39m(converted, UnknownException):\n",
       "\u001B[1;32m    308\u001B[0m     \u001B[38;5;66;03m# Hide where the exception came from that shows a non-Pythonic\u001B[39;00m\n",
       "\u001B[1;32m    309\u001B[0m     \u001B[38;5;66;03m# JVM exception message.\u001B[39;00m\n",
       "\u001B[0;32m--> 310\u001B[0m     \u001B[38;5;28;01mraise\u001B[39;00m converted \u001B[38;5;28;01mfrom\u001B[39;00m \u001B[38;5;28;01mNone\u001B[39;00m\n",
       "\u001B[1;32m    311\u001B[0m \u001B[38;5;28;01melse\u001B[39;00m:\n",
       "\u001B[1;32m    312\u001B[0m     \u001B[38;5;28;01mraise\u001B[39;00m\n",
       "\n",
       "\u001B[0;31mAnalysisException\u001B[0m: It is not allowed to specify partitioning when the table schema is not defined."
      ]
     },
     "metadata": {
      "application/vnd.databricks.v1+output": {
       "addedWidgets": {},
       "arguments": {},
       "datasetInfos": [],
       "jupyterProps": {
        "ename": "AnalysisException",
        "evalue": "It is not allowed to specify partitioning when the table schema is not defined."
       },
       "metadata": {
        "errorSummary": "It is not allowed to specify partitioning when the table schema is not defined."
       },
       "removedWidgets": [],
       "sqlProps": {
        "breakingChangeInfo": null,
        "errorClass": "_LEGACY_ERROR_TEMP_1165",
        "pysparkCallSite": "",
        "pysparkFragment": "",
        "pysparkSummary": "",
        "sqlState": null,
        "stackTrace": null,
        "startIndex": null,
        "stopIndex": null
       },
       "stackFrames": [
        "\u001B[0;31m---------------------------------------------------------------------------\u001B[0m",
        "\u001B[0;31mAnalysisException\u001B[0m                         Traceback (most recent call last)",
        "File \u001B[0;32m<command-4817661498311894>, line 1\u001B[0m\n\u001B[0;32m----> 1\u001B[0m get_ipython()\u001B[38;5;241m.\u001B[39mrun_cell_magic(\u001B[38;5;124m'\u001B[39m\u001B[38;5;124msql\u001B[39m\u001B[38;5;124m'\u001B[39m, \u001B[38;5;124m'\u001B[39m\u001B[38;5;124m'\u001B[39m, \u001B[38;5;124m\"\u001B[39m\u001B[38;5;124mCREATE DATABASE IF NOT EXISTS bronze;\u001B[39m\u001B[38;5;130;01m\\n\u001B[39;00m\u001B[38;5;124mCREATE DATABASE IF NOT EXISTS silver;\u001B[39m\u001B[38;5;130;01m\\n\u001B[39;00m\u001B[38;5;124mCREATE DATABASE IF NOT EXISTS gold;\u001B[39m\u001B[38;5;130;01m\\n\u001B[39;00m\u001B[38;5;130;01m\\n\u001B[39;00m\u001B[38;5;124mCREATE TABLE IF NOT EXISTS bronze.questions\u001B[39m\u001B[38;5;130;01m\\n\u001B[39;00m\u001B[38;5;124mUSING DELTA\u001B[39m\u001B[38;5;130;01m\\n\u001B[39;00m\u001B[38;5;124mPARTITIONED BY (creation_period)\u001B[39m\u001B[38;5;130;01m\\n\u001B[39;00m\u001B[38;5;124mLOCATION \u001B[39m\u001B[38;5;124m'\u001B[39m\u001B[38;5;124m/mnt/bronze/questions\u001B[39m\u001B[38;5;124m'\u001B[39m\u001B[38;5;124m;\u001B[39m\u001B[38;5;130;01m\\n\u001B[39;00m\u001B[38;5;130;01m\\n\u001B[39;00m\u001B[38;5;124mCREATE TABLE IF NOT EXISTS silver.questions\u001B[39m\u001B[38;5;130;01m\\n\u001B[39;00m\u001B[38;5;124mUSING DELTA\u001B[39m\u001B[38;5;130;01m\\n\u001B[39;00m\u001B[38;5;124mPARTITIONED BY (creation_period)\u001B[39m\u001B[38;5;130;01m\\n\u001B[39;00m\u001B[38;5;124mLOCATION \u001B[39m\u001B[38;5;124m'\u001B[39m\u001B[38;5;124m/mnt/silver/questions\u001B[39m\u001B[38;5;124m'\u001B[39m\u001B[38;5;124m;\u001B[39m\u001B[38;5;130;01m\\n\u001B[39;00m\u001B[38;5;124m\"\u001B[39m)\n",
        "File \u001B[0;32m/databricks/python/lib/python3.12/site-packages/IPython/core/interactiveshell.py:2541\u001B[0m, in \u001B[0;36mInteractiveShell.run_cell_magic\u001B[0;34m(self, magic_name, line, cell)\u001B[0m\n\u001B[1;32m   2539\u001B[0m \u001B[38;5;28;01mwith\u001B[39;00m \u001B[38;5;28mself\u001B[39m\u001B[38;5;241m.\u001B[39mbuiltin_trap:\n\u001B[1;32m   2540\u001B[0m     args \u001B[38;5;241m=\u001B[39m (magic_arg_s, cell)\n\u001B[0;32m-> 2541\u001B[0m     result \u001B[38;5;241m=\u001B[39m fn(\u001B[38;5;241m*\u001B[39margs, \u001B[38;5;241m*\u001B[39m\u001B[38;5;241m*\u001B[39mkwargs)\n\u001B[1;32m   2543\u001B[0m \u001B[38;5;66;03m# The code below prevents the output from being displayed\u001B[39;00m\n\u001B[1;32m   2544\u001B[0m \u001B[38;5;66;03m# when using magics with decorator @output_can_be_silenced\u001B[39;00m\n\u001B[1;32m   2545\u001B[0m \u001B[38;5;66;03m# when the last Python token in the expression is a ';'.\u001B[39;00m\n\u001B[1;32m   2546\u001B[0m \u001B[38;5;28;01mif\u001B[39;00m \u001B[38;5;28mgetattr\u001B[39m(fn, magic\u001B[38;5;241m.\u001B[39mMAGIC_OUTPUT_CAN_BE_SILENCED, \u001B[38;5;28;01mFalse\u001B[39;00m):\n",
        "File \u001B[0;32m/databricks/python_shell/lib/dbruntime/sql_magic/sql_magic.py:180\u001B[0m, in \u001B[0;36mSqlMagic.sql\u001B[0;34m(self, line, cell)\u001B[0m\n\u001B[1;32m    174\u001B[0m \u001B[38;5;28;01mexcept\u001B[39;00m \u001B[38;5;167;01mBaseException\u001B[39;00m \u001B[38;5;28;01mas\u001B[39;00m e:\n\u001B[1;32m    175\u001B[0m     \u001B[38;5;28mself\u001B[39m\u001B[38;5;241m.\u001B[39mdriver_activity_logger\u001B[38;5;241m.\u001B[39mlogExecuteCommandEvent(\n\u001B[1;32m    176\u001B[0m         \u001B[38;5;124m\"\u001B[39m\u001B[38;5;124mSQL_MAGIC_PY4J_FAILED\u001B[39m\u001B[38;5;124m\"\u001B[39m,\n\u001B[1;32m    177\u001B[0m         exceptionClassName\u001B[38;5;241m=\u001B[39me\u001B[38;5;241m.\u001B[39m\u001B[38;5;18m__class__\u001B[39m\u001B[38;5;241m.\u001B[39m\u001B[38;5;18m__name__\u001B[39m,\n\u001B[1;32m    178\u001B[0m         sqlState\u001B[38;5;241m=\u001B[39msafe_call(e, \u001B[38;5;124m\"\u001B[39m\u001B[38;5;124mgetSqlState\u001B[39m\u001B[38;5;124m\"\u001B[39m),\n\u001B[1;32m    179\u001B[0m         errorClass\u001B[38;5;241m=\u001B[39msafe_call(e, \u001B[38;5;124m\"\u001B[39m\u001B[38;5;124mgetCondition\u001B[39m\u001B[38;5;124m\"\u001B[39m))\n\u001B[0;32m--> 180\u001B[0m     \u001B[38;5;28;01mraise\u001B[39;00m e\n\u001B[1;32m    182\u001B[0m \u001B[38;5;28mself\u001B[39m\u001B[38;5;241m.\u001B[39mdriver_activity_logger\u001B[38;5;241m.\u001B[39mlogExecuteCommandEvent(\u001B[38;5;124m\"\u001B[39m\u001B[38;5;124mSQL_MAGIC_PY4J_SUCCEEDED\u001B[39m\u001B[38;5;124m\"\u001B[39m)\n\u001B[1;32m    183\u001B[0m \u001B[38;5;28;01mreturn\u001B[39;00m result\n",
        "File \u001B[0;32m/databricks/python_shell/lib/dbruntime/sql_magic/sql_magic.py:173\u001B[0m, in \u001B[0;36mSqlMagic.sql\u001B[0;34m(self, line, cell)\u001B[0m\n\u001B[1;32m    171\u001B[0m         query_text \u001B[38;5;241m=\u001B[39m sub_query\u001B[38;5;241m.\u001B[39mquery()\n\u001B[1;32m    172\u001B[0m         sql_directive \u001B[38;5;241m=\u001B[39m \u001B[38;5;28mself\u001B[39m\u001B[38;5;241m.\u001B[39mentry_point\u001B[38;5;241m.\u001B[39mgetSqlDirective(query_text)\n\u001B[0;32m--> 173\u001B[0m         result \u001B[38;5;241m=\u001B[39m \u001B[38;5;28mself\u001B[39m\u001B[38;5;241m.\u001B[39m_handle_sql_directive(sql_directive, i \u001B[38;5;241m==\u001B[39m number_of_sub_queries \u001B[38;5;241m-\u001B[39m \u001B[38;5;241m1\u001B[39m)\n\u001B[1;32m    174\u001B[0m \u001B[38;5;28;01mexcept\u001B[39;00m \u001B[38;5;167;01mBaseException\u001B[39;00m \u001B[38;5;28;01mas\u001B[39;00m e:\n\u001B[1;32m    175\u001B[0m     \u001B[38;5;28mself\u001B[39m\u001B[38;5;241m.\u001B[39mdriver_activity_logger\u001B[38;5;241m.\u001B[39mlogExecuteCommandEvent(\n\u001B[1;32m    176\u001B[0m         \u001B[38;5;124m\"\u001B[39m\u001B[38;5;124mSQL_MAGIC_PY4J_FAILED\u001B[39m\u001B[38;5;124m\"\u001B[39m,\n\u001B[1;32m    177\u001B[0m         exceptionClassName\u001B[38;5;241m=\u001B[39me\u001B[38;5;241m.\u001B[39m\u001B[38;5;18m__class__\u001B[39m\u001B[38;5;241m.\u001B[39m\u001B[38;5;18m__name__\u001B[39m,\n\u001B[1;32m    178\u001B[0m         sqlState\u001B[38;5;241m=\u001B[39msafe_call(e, \u001B[38;5;124m\"\u001B[39m\u001B[38;5;124mgetSqlState\u001B[39m\u001B[38;5;124m\"\u001B[39m),\n\u001B[1;32m    179\u001B[0m         errorClass\u001B[38;5;241m=\u001B[39msafe_call(e, \u001B[38;5;124m\"\u001B[39m\u001B[38;5;124mgetCondition\u001B[39m\u001B[38;5;124m\"\u001B[39m))\n",
        "File \u001B[0;32m/databricks/python_shell/lib/dbruntime/sql_magic/sql_magic.py:199\u001B[0m, in \u001B[0;36mSqlMagic._handle_sql_directive\u001B[0;34m(self, sql_directive, is_last_query)\u001B[0m\n\u001B[1;32m    197\u001B[0m query \u001B[38;5;241m=\u001B[39m sql_directive\u001B[38;5;241m.\u001B[39msql()\n\u001B[1;32m    198\u001B[0m \u001B[38;5;28mself\u001B[39m\u001B[38;5;241m.\u001B[39m_register_udf_if_needed(query)\n\u001B[0;32m--> 199\u001B[0m df \u001B[38;5;241m=\u001B[39m \u001B[38;5;28mself\u001B[39m\u001B[38;5;241m.\u001B[39m_get_query_request_result(query)\n\u001B[1;32m    200\u001B[0m \u001B[38;5;28;01mif\u001B[39;00m df \u001B[38;5;129;01mis\u001B[39;00m \u001B[38;5;28;01mNone\u001B[39;00m \u001B[38;5;129;01mor\u001B[39;00m \u001B[38;5;28mlen\u001B[39m(df\u001B[38;5;241m.\u001B[39mschema) \u001B[38;5;241m==\u001B[39m \u001B[38;5;241m0\u001B[39m:\n\u001B[1;32m    201\u001B[0m     \u001B[38;5;66;03m# E.g. \"create or replace temp view abc as select 1\" gets us here and we should not return a result in this case.\u001B[39;00m\n\u001B[1;32m    202\u001B[0m     \u001B[38;5;28;01mreturn\u001B[39;00m \u001B[38;5;28;01mNone\u001B[39;00m\n",
        "File \u001B[0;32m/databricks/python_shell/lib/dbruntime/sql_magic/sql_magic.py:137\u001B[0m, in \u001B[0;36mSqlMagic._get_query_request_result\u001B[0;34m(self, query)\u001B[0m\n\u001B[1;32m    135\u001B[0m \u001B[38;5;28;01mif\u001B[39;00m \u001B[38;5;28mlen\u001B[39m(widget_bindings \u001B[38;5;241m:=\u001B[39m \u001B[38;5;28mself\u001B[39m\u001B[38;5;241m.\u001B[39m_widget_cache\u001B[38;5;241m.\u001B[39mvalues) \u001B[38;5;241m>\u001B[39m \u001B[38;5;241m0\u001B[39m:\n\u001B[1;32m    136\u001B[0m     \u001B[38;5;28mself\u001B[39m\u001B[38;5;241m.\u001B[39mdriver_activity_logger\u001B[38;5;241m.\u001B[39mlogExecuteCommandEvent(\u001B[38;5;124m\"\u001B[39m\u001B[38;5;124mPARAM_SYNTAX_USAGE\u001B[39m\u001B[38;5;124m\"\u001B[39m)\n\u001B[0;32m--> 137\u001B[0m df \u001B[38;5;241m=\u001B[39m \u001B[38;5;28mself\u001B[39m\u001B[38;5;241m.\u001B[39mspark\u001B[38;5;241m.\u001B[39msql(query, widget_bindings)\n\u001B[1;32m    138\u001B[0m \u001B[38;5;28;01mreturn\u001B[39;00m df\n",
        "File \u001B[0;32m/databricks/spark/python/pyspark/instrumentation_utils.py:47\u001B[0m, in \u001B[0;36m_wrap_function.<locals>.wrapper\u001B[0;34m(*args, **kwargs)\u001B[0m\n\u001B[1;32m     45\u001B[0m start \u001B[38;5;241m=\u001B[39m time\u001B[38;5;241m.\u001B[39mperf_counter()\n\u001B[1;32m     46\u001B[0m \u001B[38;5;28;01mtry\u001B[39;00m:\n\u001B[0;32m---> 47\u001B[0m     res \u001B[38;5;241m=\u001B[39m func(\u001B[38;5;241m*\u001B[39margs, \u001B[38;5;241m*\u001B[39m\u001B[38;5;241m*\u001B[39mkwargs)\n\u001B[1;32m     48\u001B[0m     logger\u001B[38;5;241m.\u001B[39mlog_success(\n\u001B[1;32m     49\u001B[0m         module_name, class_name, function_name, time\u001B[38;5;241m.\u001B[39mperf_counter() \u001B[38;5;241m-\u001B[39m start, signature\n\u001B[1;32m     50\u001B[0m     )\n\u001B[1;32m     51\u001B[0m     \u001B[38;5;28;01mreturn\u001B[39;00m res\n",
        "File \u001B[0;32m/databricks/spark/python/pyspark/sql/session.py:1891\u001B[0m, in \u001B[0;36mSparkSession.sql\u001B[0;34m(self, sqlQuery, args, **kwargs)\u001B[0m\n\u001B[1;32m   1886\u001B[0m     \u001B[38;5;28;01melse\u001B[39;00m:\n\u001B[1;32m   1887\u001B[0m         \u001B[38;5;28;01mraise\u001B[39;00m PySparkTypeError(\n\u001B[1;32m   1888\u001B[0m             errorClass\u001B[38;5;241m=\u001B[39m\u001B[38;5;124m\"\u001B[39m\u001B[38;5;124mINVALID_TYPE\u001B[39m\u001B[38;5;124m\"\u001B[39m,\n\u001B[1;32m   1889\u001B[0m             messageParameters\u001B[38;5;241m=\u001B[39m{\u001B[38;5;124m\"\u001B[39m\u001B[38;5;124marg_name\u001B[39m\u001B[38;5;124m\"\u001B[39m: \u001B[38;5;124m\"\u001B[39m\u001B[38;5;124margs\u001B[39m\u001B[38;5;124m\"\u001B[39m, \u001B[38;5;124m\"\u001B[39m\u001B[38;5;124marg_type\u001B[39m\u001B[38;5;124m\"\u001B[39m: \u001B[38;5;28mtype\u001B[39m(args)\u001B[38;5;241m.\u001B[39m\u001B[38;5;18m__name__\u001B[39m},\n\u001B[1;32m   1890\u001B[0m         )\n\u001B[0;32m-> 1891\u001B[0m     \u001B[38;5;28;01mreturn\u001B[39;00m DataFrame(\u001B[38;5;28mself\u001B[39m\u001B[38;5;241m.\u001B[39m_jsparkSession\u001B[38;5;241m.\u001B[39msql(sqlQuery, litArgs), \u001B[38;5;28mself\u001B[39m)\n\u001B[1;32m   1892\u001B[0m \u001B[38;5;28;01mfinally\u001B[39;00m:\n\u001B[1;32m   1893\u001B[0m     \u001B[38;5;28;01mif\u001B[39;00m \u001B[38;5;28mlen\u001B[39m(kwargs) \u001B[38;5;241m>\u001B[39m \u001B[38;5;241m0\u001B[39m:\n",
        "File \u001B[0;32m/databricks/spark/python/lib/py4j-0.10.9.9-src.zip/py4j/java_gateway.py:1362\u001B[0m, in \u001B[0;36mJavaMember.__call__\u001B[0;34m(self, *args)\u001B[0m\n\u001B[1;32m   1356\u001B[0m command \u001B[38;5;241m=\u001B[39m proto\u001B[38;5;241m.\u001B[39mCALL_COMMAND_NAME \u001B[38;5;241m+\u001B[39m\\\n\u001B[1;32m   1357\u001B[0m     \u001B[38;5;28mself\u001B[39m\u001B[38;5;241m.\u001B[39mcommand_header \u001B[38;5;241m+\u001B[39m\\\n\u001B[1;32m   1358\u001B[0m     args_command \u001B[38;5;241m+\u001B[39m\\\n\u001B[1;32m   1359\u001B[0m     proto\u001B[38;5;241m.\u001B[39mEND_COMMAND_PART\n\u001B[1;32m   1361\u001B[0m answer \u001B[38;5;241m=\u001B[39m \u001B[38;5;28mself\u001B[39m\u001B[38;5;241m.\u001B[39mgateway_client\u001B[38;5;241m.\u001B[39msend_command(command)\n\u001B[0;32m-> 1362\u001B[0m return_value \u001B[38;5;241m=\u001B[39m get_return_value(\n\u001B[1;32m   1363\u001B[0m     answer, \u001B[38;5;28mself\u001B[39m\u001B[38;5;241m.\u001B[39mgateway_client, \u001B[38;5;28mself\u001B[39m\u001B[38;5;241m.\u001B[39mtarget_id, \u001B[38;5;28mself\u001B[39m\u001B[38;5;241m.\u001B[39mname)\n\u001B[1;32m   1365\u001B[0m \u001B[38;5;28;01mfor\u001B[39;00m temp_arg \u001B[38;5;129;01min\u001B[39;00m temp_args:\n\u001B[1;32m   1366\u001B[0m     \u001B[38;5;28;01mif\u001B[39;00m \u001B[38;5;28mhasattr\u001B[39m(temp_arg, \u001B[38;5;124m\"\u001B[39m\u001B[38;5;124m_detach\u001B[39m\u001B[38;5;124m\"\u001B[39m):\n",
        "File \u001B[0;32m/databricks/spark/python/pyspark/errors/exceptions/captured.py:310\u001B[0m, in \u001B[0;36mcapture_sql_exception.<locals>.deco\u001B[0;34m(*a, **kw)\u001B[0m\n\u001B[1;32m    306\u001B[0m converted \u001B[38;5;241m=\u001B[39m convert_exception(e\u001B[38;5;241m.\u001B[39mjava_exception)\n\u001B[1;32m    307\u001B[0m \u001B[38;5;28;01mif\u001B[39;00m \u001B[38;5;129;01mnot\u001B[39;00m \u001B[38;5;28misinstance\u001B[39m(converted, UnknownException):\n\u001B[1;32m    308\u001B[0m     \u001B[38;5;66;03m# Hide where the exception came from that shows a non-Pythonic\u001B[39;00m\n\u001B[1;32m    309\u001B[0m     \u001B[38;5;66;03m# JVM exception message.\u001B[39;00m\n\u001B[0;32m--> 310\u001B[0m     \u001B[38;5;28;01mraise\u001B[39;00m converted \u001B[38;5;28;01mfrom\u001B[39;00m \u001B[38;5;28;01mNone\u001B[39;00m\n\u001B[1;32m    311\u001B[0m \u001B[38;5;28;01melse\u001B[39;00m:\n\u001B[1;32m    312\u001B[0m     \u001B[38;5;28;01mraise\u001B[39;00m\n",
        "\u001B[0;31mAnalysisException\u001B[0m: It is not allowed to specify partitioning when the table schema is not defined."
       ],
       "type": "baseError"
      }
     },
     "output_type": "display_data"
    }
   ],
   "source": [
    "%sql\n",
    "CREATE DATABASE IF NOT EXISTS bronze;\n",
    "CREATE TABLE IF NOT EXISTS bronze.questions\n",
    "USING DELTA\n",
    "LOCATION '/mnt/bronze/questions';\n",
    "\n"
   ]
  },
  {
   "cell_type": "markdown",
   "metadata": {
    "application/vnd.databricks.v1+cell": {
     "cellMetadata": {},
     "inputWidgets": {},
     "nuid": "eb415ad5-5446-471e-8dfa-37f9e964e5c3",
     "showTitle": false,
     "tableResultSettingsMap": {},
     "title": ""
    }
   },
   "source": [
    "With a given (API key, IP) pair, we have 1000 API calls per day.\n",
    "\n",
    "Each call gives us 100 entries (questions).\n",
    "\n",
    "To avoid hitting the limit (since we've made some calls already), let's say we have 900.\n",
    "\n",
    "What we could do is to use 10 workers in parallel..."
   ]
  },
  {
   "cell_type": "code",
   "execution_count": 0,
   "metadata": {
    "application/vnd.databricks.v1+cell": {
     "cellMetadata": {
      "byteLimit": 2048000,
      "rowLimit": 10000
     },
     "inputWidgets": {},
     "nuid": "dde5d140-9b33-46ae-9875-d098f103c7b2",
     "showTitle": false,
     "tableResultSettingsMap": {},
     "title": ""
    }
   },
   "outputs": [
    {
     "output_type": "stream",
     "name": "stdout",
     "output_type": "stream",
     "text": [
      "✅ Written 90000 rows to /mnt/bronze/questions\n"
     ]
    }
   ],
   "source": [
    "from concurrent.futures import ThreadPoolExecutor\n",
    "from typing import List\n",
    "from functools import reduce\n",
    "\n",
    "def fetch_and_write_parallel(\n",
    "    pages: List[int],\n",
    "    table_name: str = \"bronze.questions\",\n",
    "    max_workers: int = 10\n",
    "):\n",
    "    \n",
    "    # fetch  in parallel\n",
    "    dfs = []\n",
    "    with ThreadPoolExecutor(max_workers=max_workers) as executor:\n",
    "        results = executor.map(process_page, pages)\n",
    "        dfs = [df for df in results if df is not None]\n",
    "    \n",
    "    # combine using unionByName (handles different columns)\n",
    "    combined_df = reduce(\n",
    "        lambda df1, df2: df1.unionByName(df2, allowMissingColumns=True),\n",
    "        dfs\n",
    "    )\n",
    "    \n",
    "    # write to delta lake\n",
    "    combined_df.write \\\n",
    "        .format(\"delta\") \\\n",
    "        .mode(\"append\") \\\n",
    "        .partitionBy(\"creation_period\") \\\n",
    "        .saveAsTable(\"bronze.questions\")\n",
    "\n",
    "fetch_and_write_parallel(\n",
    "    pages=range(1,901),\n",
    "    table_name=\"bronze.questions\",\n",
    "    max_workers=10\n",
    ")"
   ]
  },
  {
   "cell_type": "code",
   "execution_count": 0,
   "metadata": {
    "application/vnd.databricks.v1+cell": {
     "cellMetadata": {
      "byteLimit": 2048000,
      "implicitDf": true,
      "rowLimit": 10000
     },
     "inputWidgets": {},
     "nuid": "ce04e537-b441-4ed5-825c-b6c6f74f2185",
     "showTitle": false,
     "tableResultSettingsMap": {},
     "title": ""
    }
   },
   "outputs": [
    {
     "output_type": "display_data",
     "data": {
      "text/html": [
       "<style scoped>\n",
       "  .table-result-container {\n",
       "    max-height: 300px;\n",
       "    overflow: auto;\n",
       "  }\n",
       "  table, th, td {\n",
       "    border: 1px solid black;\n",
       "    border-collapse: collapse;\n",
       "  }\n",
       "  th, td {\n",
       "    padding: 5px;\n",
       "  }\n",
       "  th {\n",
       "    text-align: left;\n",
       "  }\n",
       "</style><div class='table-result-container'><table class='table-result'><thead style='background-color: white'><tr><th>format</th><th>id</th><th>name</th><th>description</th><th>location</th><th>createdAt</th><th>lastModified</th><th>partitionColumns</th><th>clusteringColumns</th><th>numFiles</th><th>sizeInBytes</th><th>properties</th><th>minReaderVersion</th><th>minWriterVersion</th><th>tableFeatures</th><th>statistics</th><th>clusterByAuto</th></tr></thead><tbody><tr><td>delta</td><td>a263128f-fee4-4665-847a-6c321fb79d64</td><td>null</td><td>null</td><td>dbfs:/mnt/bronze/questions</td><td>2025-10-02T05:27:33.096Z</td><td>2025-10-02T05:42:09Z</td><td>List(creation_period)</td><td>List()</td><td>3620</td><td>52815757</td><td>Map(delta.enableDeletionVectors -> true)</td><td>3</td><td>7</td><td>List(appendOnly, deletionVectors, invariants)</td><td>Map(numRowsDeletedByDeletionVectors -> 0, numDeletionVectors -> 0)</td><td>false</td></tr></tbody></table></div>"
      ]
     },
     "metadata": {
      "application/vnd.databricks.v1+output": {
       "addedWidgets": {},
       "aggData": [],
       "aggError": "",
       "aggOverflow": false,
       "aggSchema": [],
       "aggSeriesLimitReached": false,
       "aggType": "",
       "arguments": {},
       "columnCustomDisplayInfos": {},
       "data": [
        [
         "delta",
         "a263128f-fee4-4665-847a-6c321fb79d64",
         null,
         null,
         "dbfs:/mnt/bronze/questions",
         "2025-10-02T05:27:33.096Z",
         "2025-10-02T05:42:09Z",
         [
          "creation_period"
         ],
         [],
         3620,
         52815757,
         {
          "delta.enableDeletionVectors": "true"
         },
         3,
         7,
         [
          "appendOnly",
          "deletionVectors",
          "invariants"
         ],
         {
          "numDeletionVectors": 0,
          "numRowsDeletedByDeletionVectors": 0
         },
         false
        ]
       ],
       "datasetInfos": [
        {
         "name": "_sqldf",
         "schema": {
          "fields": [
           {
            "metadata": {},
            "name": "format",
            "nullable": true,
            "type": "string"
           },
           {
            "metadata": {},
            "name": "id",
            "nullable": true,
            "type": "string"
           },
           {
            "metadata": {},
            "name": "name",
            "nullable": true,
            "type": "string"
           },
           {
            "metadata": {},
            "name": "description",
            "nullable": true,
            "type": "string"
           },
           {
            "metadata": {},
            "name": "location",
            "nullable": true,
            "type": "string"
           },
           {
            "metadata": {},
            "name": "createdAt",
            "nullable": true,
            "type": "timestamp"
           },
           {
            "metadata": {},
            "name": "lastModified",
            "nullable": true,
            "type": "timestamp"
           },
           {
            "metadata": {},
            "name": "partitionColumns",
            "nullable": true,
            "type": {
             "containsNull": true,
             "elementType": "string",
             "type": "array"
            }
           },
           {
            "metadata": {},
            "name": "clusteringColumns",
            "nullable": true,
            "type": {
             "containsNull": true,
             "elementType": "string",
             "type": "array"
            }
           },
           {
            "metadata": {},
            "name": "numFiles",
            "nullable": true,
            "type": "long"
           },
           {
            "metadata": {},
            "name": "sizeInBytes",
            "nullable": true,
            "type": "long"
           },
           {
            "metadata": {},
            "name": "properties",
            "nullable": true,
            "type": {
             "keyType": "string",
             "type": "map",
             "valueContainsNull": true,
             "valueType": "string"
            }
           },
           {
            "metadata": {},
            "name": "minReaderVersion",
            "nullable": true,
            "type": "integer"
           },
           {
            "metadata": {},
            "name": "minWriterVersion",
            "nullable": true,
            "type": "integer"
           },
           {
            "metadata": {},
            "name": "tableFeatures",
            "nullable": true,
            "type": {
             "containsNull": true,
             "elementType": "string",
             "type": "array"
            }
           },
           {
            "metadata": {},
            "name": "statistics",
            "nullable": true,
            "type": {
             "keyType": "string",
             "type": "map",
             "valueContainsNull": true,
             "valueType": "long"
            }
           },
           {
            "metadata": {},
            "name": "clusterByAuto",
            "nullable": false,
            "type": "boolean"
           }
          ],
          "type": "struct"
         },
         "tableIdentifier": null,
         "typeStr": "pyspark.sql.dataframe.DataFrame"
        }
       ],
       "dbfsResultPath": null,
       "isJsonSchema": true,
       "metadata": {
        "createTempViewForImplicitDf": true,
        "dataframeName": "_sqldf",
        "executionCount": 62
       },
       "overflow": false,
       "plotOptions": {
        "customPlotOptions": {},
        "displayType": "table",
        "pivotAggregation": null,
        "pivotColumns": null,
        "xColumns": null,
        "yColumns": null
       },
       "removedWidgets": [],
       "schema": [
        {
         "metadata": "{}",
         "name": "format",
         "type": "\"string\""
        },
        {
         "metadata": "{}",
         "name": "id",
         "type": "\"string\""
        },
        {
         "metadata": "{}",
         "name": "name",
         "type": "\"string\""
        },
        {
         "metadata": "{}",
         "name": "description",
         "type": "\"string\""
        },
        {
         "metadata": "{}",
         "name": "location",
         "type": "\"string\""
        },
        {
         "metadata": "{}",
         "name": "createdAt",
         "type": "\"timestamp\""
        },
        {
         "metadata": "{}",
         "name": "lastModified",
         "type": "\"timestamp\""
        },
        {
         "metadata": "{}",
         "name": "partitionColumns",
         "type": "{\"type\":\"array\",\"elementType\":\"string\",\"containsNull\":true}"
        },
        {
         "metadata": "{}",
         "name": "clusteringColumns",
         "type": "{\"type\":\"array\",\"elementType\":\"string\",\"containsNull\":true}"
        },
        {
         "metadata": "{}",
         "name": "numFiles",
         "type": "\"long\""
        },
        {
         "metadata": "{}",
         "name": "sizeInBytes",
         "type": "\"long\""
        },
        {
         "metadata": "{}",
         "name": "properties",
         "type": "{\"type\":\"map\",\"keyType\":\"string\",\"valueType\":\"string\",\"valueContainsNull\":true}"
        },
        {
         "metadata": "{}",
         "name": "minReaderVersion",
         "type": "\"integer\""
        },
        {
         "metadata": "{}",
         "name": "minWriterVersion",
         "type": "\"integer\""
        },
        {
         "metadata": "{}",
         "name": "tableFeatures",
         "type": "{\"type\":\"array\",\"elementType\":\"string\",\"containsNull\":true}"
        },
        {
         "metadata": "{}",
         "name": "statistics",
         "type": "{\"type\":\"map\",\"keyType\":\"string\",\"valueType\":\"long\",\"valueContainsNull\":true}"
        },
        {
         "metadata": "{}",
         "name": "clusterByAuto",
         "type": "\"boolean\""
        }
       ],
       "type": "table"
      }
     },
     "output_type": "display_data"
    }
   ],
   "source": [
    "%sql\n",
    "DESCRIBE DETAIL bronze.questions;"
   ]
  },
  {
   "cell_type": "code",
   "execution_count": 0,
   "metadata": {
    "application/vnd.databricks.v1+cell": {
     "cellMetadata": {
      "byteLimit": 2048000,
      "implicitDf": true,
      "rowLimit": 10000
     },
     "inputWidgets": {},
     "nuid": "e5527f7d-461f-4a2f-b238-d07d2406669e",
     "showTitle": false,
     "tableResultSettingsMap": {},
     "title": ""
    }
   },
   "outputs": [
    {
     "output_type": "display_data",
     "data": {
      "text/html": [
       "<style scoped>\n",
       "  .table-result-container {\n",
       "    max-height: 300px;\n",
       "    overflow: auto;\n",
       "  }\n",
       "  table, th, td {\n",
       "    border: 1px solid black;\n",
       "    border-collapse: collapse;\n",
       "  }\n",
       "  th, td {\n",
       "    padding: 5px;\n",
       "  }\n",
       "  th {\n",
       "    text-align: left;\n",
       "  }\n",
       "</style><div class='table-result-container'><table class='table-result'><thead style='background-color: white'><tr><th>path</th><th>metrics</th></tr></thead><tbody><tr><td>dbfs:/mnt/bronze/questions</td><td>List(21, 3620, List(344470, 1756914, 965396.5238095238, 21, 20273327), List(7341, 24111, 14589.988121546961, 3620, 52815757), 21, List(minCubeSize(107374182400), List(0, 0), List(3620, 52815757), 0, List(3620, 52815757), 21, null), null, 0, 1, 3620, 0, false, 0, 0, 1759390099002, 1759390109957, 4, 21, null, List(0, 0), null, 24, 24, 4565, 0, null)</td></tr></tbody></table></div>"
      ]
     },
     "metadata": {
      "application/vnd.databricks.v1+output": {
       "addedWidgets": {},
       "aggData": [],
       "aggError": "",
       "aggOverflow": false,
       "aggSchema": [],
       "aggSeriesLimitReached": false,
       "aggType": "",
       "arguments": {},
       "columnCustomDisplayInfos": {},
       "data": [
        [
         "dbfs:/mnt/bronze/questions",
         [
          21,
          3620,
          [
           344470,
           1756914,
           965396.5238095238,
           21,
           20273327
          ],
          [
           7341,
           24111,
           14589.988121546961,
           3620,
           52815757
          ],
          21,
          [
           "minCubeSize(107374182400)",
           [
            0,
            0
           ],
           [
            3620,
            52815757
           ],
           0,
           [
            3620,
            52815757
           ],
           21,
           null
          ],
          null,
          0,
          1,
          3620,
          0,
          false,
          0,
          0,
          1759390099002,
          1759390109957,
          4,
          21,
          null,
          [
           0,
           0
          ],
          null,
          24,
          24,
          4565,
          0,
          null
         ]
        ]
       ],
       "datasetInfos": [
        {
         "name": "_sqldf",
         "schema": {
          "fields": [
           {
            "metadata": {},
            "name": "path",
            "nullable": true,
            "type": "string"
           },
           {
            "metadata": {},
            "name": "metrics",
            "nullable": true,
            "type": {
             "fields": [
              {
               "metadata": {},
               "name": "numFilesAdded",
               "nullable": false,
               "type": "long"
              },
              {
               "metadata": {},
               "name": "numFilesRemoved",
               "nullable": false,
               "type": "long"
              },
              {
               "metadata": {},
               "name": "filesAdded",
               "nullable": true,
               "type": {
                "fields": [
                 {
                  "metadata": {},
                  "name": "min",
                  "nullable": true,
                  "type": "long"
                 },
                 {
                  "metadata": {},
                  "name": "max",
                  "nullable": true,
                  "type": "long"
                 },
                 {
                  "metadata": {},
                  "name": "avg",
                  "nullable": false,
                  "type": "double"
                 },
                 {
                  "metadata": {},
                  "name": "totalFiles",
                  "nullable": false,
                  "type": "long"
                 },
                 {
                  "metadata": {},
                  "name": "totalSize",
                  "nullable": false,
                  "type": "long"
                 }
                ],
                "type": "struct"
               }
              },
              {
               "metadata": {},
               "name": "filesRemoved",
               "nullable": true,
               "type": {
                "fields": [
                 {
                  "metadata": {},
                  "name": "min",
                  "nullable": true,
                  "type": "long"
                 },
                 {
                  "metadata": {},
                  "name": "max",
                  "nullable": true,
                  "type": "long"
                 },
                 {
                  "metadata": {},
                  "name": "avg",
                  "nullable": false,
                  "type": "double"
                 },
                 {
                  "metadata": {},
                  "name": "totalFiles",
                  "nullable": false,
                  "type": "long"
                 },
                 {
                  "metadata": {},
                  "name": "totalSize",
                  "nullable": false,
                  "type": "long"
                 }
                ],
                "type": "struct"
               }
              },
              {
               "metadata": {},
               "name": "partitionsOptimized",
               "nullable": false,
               "type": "long"
              },
              {
               "metadata": {},
               "name": "zOrderStats",
               "nullable": true,
               "type": {
                "fields": [
                 {
                  "metadata": {},
                  "name": "strategyName",
                  "nullable": true,
                  "type": "string"
                 },
                 {
                  "metadata": {},
                  "name": "inputCubeFiles",
                  "nullable": true,
                  "type": {
                   "fields": [
                    {
                     "metadata": {},
                     "name": "num",
                     "nullable": false,
                     "type": "long"
                    },
                    {
                     "metadata": {},
                     "name": "size",
                     "nullable": false,
                     "type": "long"
                    }
                   ],
                   "type": "struct"
                  }
                 },
                 {
                  "metadata": {},
                  "name": "inputOtherFiles",
                  "nullable": true,
                  "type": {
                   "fields": [
                    {
                     "metadata": {},
                     "name": "num",
                     "nullable": false,
                     "type": "long"
                    },
                    {
                     "metadata": {},
                     "name": "size",
                     "nullable": false,
                     "type": "long"
                    }
                   ],
                   "type": "struct"
                  }
                 },
                 {
                  "metadata": {},
                  "name": "inputNumCubes",
                  "nullable": false,
                  "type": "long"
                 },
                 {
                  "metadata": {},
                  "name": "mergedFiles",
                  "nullable": true,
                  "type": {
                   "fields": [
                    {
                     "metadata": {},
                     "name": "num",
                     "nullable": false,
                     "type": "long"
                    },
                    {
                     "metadata": {},
                     "name": "size",
                     "nullable": false,
                     "type": "long"
                    }
                   ],
                   "type": "struct"
                  }
                 },
                 {
                  "metadata": {},
                  "name": "numOutputCubes",
                  "nullable": false,
                  "type": "long"
                 },
                 {
                  "metadata": {},
                  "name": "mergedNumCubes",
                  "nullable": true,
                  "type": "long"
                 }
                ],
                "type": "struct"
               }
              },
              {
               "metadata": {},
               "name": "clusteringStats",
               "nullable": true,
               "type": {
                "fields": [
                 {
                  "metadata": {},
                  "name": "inputZCubeFiles",
                  "nullable": true,
                  "type": {
                   "fields": [
                    {
                     "metadata": {},
                     "name": "numFiles",
                     "nullable": false,
                     "type": "long"
                    },
                    {
                     "metadata": {},
                     "name": "size",
                     "nullable": false,
                     "type": "long"
                    }
                   ],
                   "type": "struct"
                  }
                 },
                 {
                  "metadata": {},
                  "name": "inputOtherFiles",
                  "nullable": true,
                  "type": {
                   "fields": [
                    {
                     "metadata": {},
                     "name": "numFiles",
                     "nullable": false,
                     "type": "long"
                    },
                    {
                     "metadata": {},
                     "name": "size",
                     "nullable": false,
                     "type": "long"
                    }
                   ],
                   "type": "struct"
                  }
                 },
                 {
                  "metadata": {},
                  "name": "inputNumZCubes",
                  "nullable": false,
                  "type": "long"
                 },
                 {
                  "metadata": {},
                  "name": "mergedFiles",
                  "nullable": true,
                  "type": {
                   "fields": [
                    {
                     "metadata": {},
                     "name": "numFiles",
                     "nullable": false,
                     "type": "long"
                    },
                    {
                     "metadata": {},
                     "name": "size",
                     "nullable": false,
                     "type": "long"
                    }
                   ],
                   "type": "struct"
                  }
                 },
                 {
                  "metadata": {},
                  "name": "numOutputZCubes",
                  "nullable": false,
                  "type": "long"
                 }
                ],
                "type": "struct"
               }
              },
              {
               "metadata": {},
               "name": "numBins",
               "nullable": false,
               "type": "long"
              },
              {
               "metadata": {},
               "name": "numBatches",
               "nullable": false,
               "type": "long"
              },
              {
               "metadata": {},
               "name": "totalConsideredFiles",
               "nullable": false,
               "type": "long"
              },
              {
               "metadata": {},
               "name": "totalFilesSkipped",
               "nullable": false,
               "type": "long"
              },
              {
               "metadata": {},
               "name": "preserveInsertionOrder",
               "nullable": false,
               "type": "boolean"
              },
              {
               "metadata": {},
               "name": "numFilesSkippedToReduceWriteAmplification",
               "nullable": false,
               "type": "long"
              },
              {
               "metadata": {},
               "name": "numBytesSkippedToReduceWriteAmplification",
               "nullable": false,
               "type": "long"
              },
              {
               "metadata": {},
               "name": "startTimeMs",
               "nullable": false,
               "type": "long"
              },
              {
               "metadata": {},
               "name": "endTimeMs",
               "nullable": false,
               "type": "long"
              },
              {
               "metadata": {},
               "name": "totalClusterParallelism",
               "nullable": false,
               "type": "long"
              },
              {
               "metadata": {},
               "name": "totalScheduledTasks",
               "nullable": false,
               "type": "long"
              },
              {
               "metadata": {},
               "name": "autoCompactParallelismStats",
               "nullable": true,
               "type": {
                "fields": [
                 {
                  "metadata": {},
                  "name": "maxClusterActiveParallelism",
                  "nullable": true,
                  "type": "long"
                 },
                 {
                  "metadata": {},
                  "name": "minClusterActiveParallelism",
                  "nullable": true,
                  "type": "long"
                 },
                 {
                  "metadata": {},
                  "name": "maxSessionActiveParallelism",
                  "nullable": true,
                  "type": "long"
                 },
                 {
                  "metadata": {},
                  "name": "minSessionActiveParallelism",
                  "nullable": true,
                  "type": "long"
                 }
                ],
                "type": "struct"
               }
              },
              {
               "metadata": {},
               "name": "deletionVectorStats",
               "nullable": true,
               "type": {
                "fields": [
                 {
                  "metadata": {},
                  "name": "numDeletionVectorsRemoved",
                  "nullable": false,
                  "type": "long"
                 },
                 {
                  "metadata": {},
                  "name": "numDeletionVectorRowsRemoved",
                  "nullable": false,
                  "type": "long"
                 }
                ],
                "type": "struct"
               }
              },
              {
               "metadata": {},
               "name": "recompressionCodec",
               "nullable": true,
               "type": "string"
              },
              {
               "metadata": {},
               "name": "numTableColumns",
               "nullable": false,
               "type": "long"
              },
              {
               "metadata": {},
               "name": "numTableColumnsWithStats",
               "nullable": false,
               "type": "long"
              },
              {
               "metadata": {},
               "name": "totalTaskExecutionTimeMs",
               "nullable": false,
               "type": "long"
              },
              {
               "metadata": {},
               "name": "skippedArchivedFiles",
               "nullable": false,
               "type": "long"
              },
              {
               "metadata": {},
               "name": "clusteringMetrics",
               "nullable": true,
               "type": {
                "fields": [
                 {
                  "metadata": {},
                  "name": "sizeOfTableInBytesBeforeLazyClustering",
                  "nullable": false,
                  "type": "long"
                 },
                 {
                  "metadata": {},
                  "name": "isNewMetadataCreated",
                  "nullable": false,
                  "type": "boolean"
                 },
                 {
                  "metadata": {},
                  "name": "isPOTriggered",
                  "nullable": false,
                  "type": "boolean"
                 },
                 {
                  "metadata": {},
                  "name": "isFull",
                  "nullable": false,
                  "type": "boolean"
                 },
                 {
                  "metadata": {},
                  "name": "approxClusteringQuality",
                  "nullable": true,
                  "type": "double"
                 },
                 {
                  "metadata": {},
                  "name": "approxClusteringQualityPerColumn",
                  "nullable": true,
                  "type": {
                   "containsNull": false,
                   "elementType": "double",
                   "type": "array"
                  }
                 },
                 {
                  "metadata": {},
                  "name": "approxClusteringCoverage",
                  "nullable": true,
                  "type": "double"
                 },
                 {
                  "metadata": {},
                  "name": "compactionType",
                  "nullable": true,
                  "type": "string"
                 },
                 {
                  "metadata": {},
                  "name": "numFilesSkippedWithoutStats",
                  "nullable": false,
                  "type": "long"
                 },
                 {
                  "metadata": {},
                  "name": "numFilesClassifiedToIntermediateNodes",
                  "nullable": false,
                  "type": "long"
                 },
                 {
                  "metadata": {},
                  "name": "sizeOfFilesClassifiedToIntermediateNodesInBytes",
                  "nullable": false,
                  "type": "long"
                 },
                 {
                  "metadata": {},
                  "name": "logicalSizeOfFilesClassifiedToIntermediateNodesInBytes",
                  "nullable": false,
                  "type": "long"
                 },
                 {
                  "metadata": {},
                  "name": "numFilesClassifiedToLeafNodes",
                  "nullable": false,
                  "type": "long"
                 },
                 {
                  "metadata": {},
                  "name": "sizeOfFilesClassifiedToLeafNodesInBytes",
                  "nullable": false,
                  "type": "long"
                 },
                 {
                  "metadata": {},
                  "name": "logicalSizeOfFilesClassifiedToLeafNodesInBytes",
                  "nullable": false,
                  "type": "long"
                 },
                 {
                  "metadata": {},
                  "name": "numThreadsForClassifier",
                  "nullable": true,
                  "type": "integer"
                 },
                 {
                  "metadata": {},
                  "name": "clusterThresholdStrategy",
                  "nullable": true,
                  "type": "string"
                 },
                 {
                  "metadata": {},
                  "name": "minFileSize",
                  "nullable": false,
                  "type": "long"
                 },
                 {
                  "metadata": {},
                  "name": "maxFileSize",
                  "nullable": false,
                  "type": "long"
                 },
                 {
                  "metadata": {},
                  "name": "nodeMinNumFilesToCompact",
                  "nullable": false,
                  "type": "long"
                 },
                 {
                  "metadata": {},
                  "name": "numIdealFiles",
                  "nullable": false,
                  "type": "long"
                 },
                 {
                  "metadata": {},
                  "name": "numIdealFilesWithTrimmedStringMaxValue",
                  "nullable": false,
                  "type": "long"
                 },
                 {
                  "metadata": {},
                  "name": "numAddedFilesWithSameMinMaxOnClusteringColumns",
                  "nullable": true,
                  "type": {
                   "containsNull": false,
                   "elementType": "long",
                   "type": "array"
                  }
                 },
                 {
                  "metadata": {},
                  "name": "numClusteringTasksPlanned",
                  "nullable": false,
                  "type": "integer"
                 },
                 {
                  "metadata": {},
                  "name": "numClusteringTasksNotPlannedDueToPO",
                  "nullable": false,
                  "type": "integer"
                 },
                 {
                  "metadata": {},
                  "name": "numCompactionTasksPlanned",
                  "nullable": false,
                  "type": "integer"
                 },
                 {
                  "metadata": {},
                  "name": "numCompactionTasksPlannedUndoneDueToPO",
                  "nullable": false,
                  "type": "integer"
                 },
                 {
                  "metadata": {},
                  "name": "numOptimizeBatchesPlanned",
                  "nullable": false,
                  "type": "integer"
                 },
                 {
                  "metadata": {},
                  "name": "numLeafNodesExpanded",
                  "nullable": false,
                  "type": "long"
                 },
                 {
                  "metadata": {},
                  "name": "numLeafNodesClustered",
                  "nullable": false,
                  "type": "long"
                 },
                 {
                  "metadata": {},
                  "name": "numGetFilesForNodeCalls",
                  "nullable": false,
                  "type": "long"
                 },
                 {
                  "metadata": {},
                  "name": "numSamplingJobs",
                  "nullable": false,
                  "type": "long"
                 },
                 {
                  "metadata": {},
                  "name": "numLeafNodesCompacted",
                  "nullable": false,
                  "type": "long"
                 },
                 {
                  "metadata": {},
                  "name": "numLeafNodesCompactedUndoneDueToPO",
                  "nullable": false,
                  "type": "long"
                 },
                 {
                  "metadata": {},
                  "name": "numIntermediateNodesCompacted",
                  "nullable": false,
                  "type": "long"
                 },
                 {
                  "metadata": {},
                  "name": "numIntermediateNodesCompactedUndoneDueToPO",
                  "nullable": false,
                  "type": "long"
                 },
                 {
                  "metadata": {},
                  "name": "totalSizeOfDataToCompactInBytes",
                  "nullable": false,
                  "type": "long"
                 },
                 {
                  "metadata": {},
                  "name": "totalSizeOfDataToCompactInBytesUndoneDueToPO",
                  "nullable": false,
                  "type": "long"
                 },
                 {
                  "metadata": {},
                  "name": "totalLogicalSizeOfDataToCompactInBytes",
                  "nullable": false,
                  "type": "long"
                 },
                 {
                  "metadata": {},
                  "name": "totalLogicalSizeOfDataToCompactInBytesUndoneDueToPO",
                  "nullable": false,
                  "type": "long"
                 },
                 {
                  "metadata": {},
                  "name": "numIntermediateNodesClustered",
                  "nullable": false,
                  "type": "long"
                 },
                 {
                  "metadata": {},
                  "name": "numFilesSkippedAfterExpansion",
                  "nullable": false,
                  "type": "long"
                 },
                 {
                  "metadata": {},
                  "name": "totalSizeOfFilesSkippedAfterExpansionInBytes",
                  "nullable": false,
                  "type": "long"
                 },
                 {
                  "metadata": {},
                  "name": "totalLogicalSizeOfFilesSkippedAfterExpansionInBytes",
                  "nullable": false,
                  "type": "long"
                 },
                 {
                  "metadata": {},
                  "name": "totalSizeOfDataToRewriteInBytes",
                  "nullable": false,
                  "type": "long"
                 },
                 {
                  "metadata": {},
                  "name": "totalLogicalSizeOfDataToRewriteInBytes",
                  "nullable": false,
                  "type": "long"
                 },
                 {
                  "metadata": {},
                  "name": "timeMetrics",
                  "nullable": true,
                  "type": {
                   "fields": [
                    {
                     "metadata": {},
                     "name": "classifierTimeMs",
                     "nullable": false,
                     "type": "long"
                    },
                    {
                     "metadata": {},
                     "name": "optimizerTimeMs",
                     "nullable": false,
                     "type": "long"
                    },
                    {
                     "metadata": {},
                     "name": "metadataLoadTimeMs",
                     "nullable": false,
                     "type": "long"
                    },
                    {
                     "metadata": {},
                     "name": "totalGetFilesForNodeCallsTimeMs",
                     "nullable": false,
                     "type": "long"
                    },
                    {
                     "metadata": {},
                     "name": "totalSamplingTimeMs",
                     "nullable": false,
                     "type": "long"
                    },
                    {
                     "metadata": {},
                     "name": "metadataCreationTimeMs",
                     "nullable": false,
                     "type": "long"
                    }
                   ],
                   "type": "struct"
                  }
                 },
                 {
                  "metadata": {},
                  "name": "maxOptimizeBatchesInParallel",
                  "nullable": false,
                  "type": "long"
                 },
                 {
                  "metadata": {},
                  "name": "currentIteration",
                  "nullable": false,
                  "type": "integer"
                 },
                 {
                  "metadata": {},
                  "name": "maxIterations",
                  "nullable": false,
                  "type": "integer"
                 },
                 {
                  "metadata": {},
                  "name": "clusteringStrategy",
                  "nullable": true,
                  "type": "string"
                 }
                ],
                "type": "struct"
               }
              }
             ],
             "type": "struct"
            }
           }
          ],
          "type": "struct"
         },
         "tableIdentifier": null,
         "typeStr": "pyspark.sql.dataframe.DataFrame"
        }
       ],
       "dbfsResultPath": null,
       "isJsonSchema": true,
       "metadata": {
        "createTempViewForImplicitDf": true,
        "dataframeName": "_sqldf",
        "executionCount": 64
       },
       "overflow": false,
       "plotOptions": {
        "customPlotOptions": {},
        "displayType": "table",
        "pivotAggregation": null,
        "pivotColumns": null,
        "xColumns": null,
        "yColumns": null
       },
       "removedWidgets": [],
       "schema": [
        {
         "metadata": "{}",
         "name": "path",
         "type": "\"string\""
        },
        {
         "metadata": "{}",
         "name": "metrics",
         "type": "{\"type\":\"struct\",\"fields\":[{\"name\":\"numFilesAdded\",\"type\":\"long\",\"nullable\":false,\"metadata\":{}},{\"name\":\"numFilesRemoved\",\"type\":\"long\",\"nullable\":false,\"metadata\":{}},{\"name\":\"filesAdded\",\"type\":{\"type\":\"struct\",\"fields\":[{\"name\":\"min\",\"type\":\"long\",\"nullable\":true,\"metadata\":{}},{\"name\":\"max\",\"type\":\"long\",\"nullable\":true,\"metadata\":{}},{\"name\":\"avg\",\"type\":\"double\",\"nullable\":false,\"metadata\":{}},{\"name\":\"totalFiles\",\"type\":\"long\",\"nullable\":false,\"metadata\":{}},{\"name\":\"totalSize\",\"type\":\"long\",\"nullable\":false,\"metadata\":{}}]},\"nullable\":true,\"metadata\":{}},{\"name\":\"filesRemoved\",\"type\":{\"type\":\"struct\",\"fields\":[{\"name\":\"min\",\"type\":\"long\",\"nullable\":true,\"metadata\":{}},{\"name\":\"max\",\"type\":\"long\",\"nullable\":true,\"metadata\":{}},{\"name\":\"avg\",\"type\":\"double\",\"nullable\":false,\"metadata\":{}},{\"name\":\"totalFiles\",\"type\":\"long\",\"nullable\":false,\"metadata\":{}},{\"name\":\"totalSize\",\"type\":\"long\",\"nullable\":false,\"metadata\":{}}]},\"nullable\":true,\"metadata\":{}},{\"name\":\"partitionsOptimized\",\"type\":\"long\",\"nullable\":false,\"metadata\":{}},{\"name\":\"zOrderStats\",\"type\":{\"type\":\"struct\",\"fields\":[{\"name\":\"strategyName\",\"type\":\"string\",\"nullable\":true,\"metadata\":{}},{\"name\":\"inputCubeFiles\",\"type\":{\"type\":\"struct\",\"fields\":[{\"name\":\"num\",\"type\":\"long\",\"nullable\":false,\"metadata\":{}},{\"name\":\"size\",\"type\":\"long\",\"nullable\":false,\"metadata\":{}}]},\"nullable\":true,\"metadata\":{}},{\"name\":\"inputOtherFiles\",\"type\":{\"type\":\"struct\",\"fields\":[{\"name\":\"num\",\"type\":\"long\",\"nullable\":false,\"metadata\":{}},{\"name\":\"size\",\"type\":\"long\",\"nullable\":false,\"metadata\":{}}]},\"nullable\":true,\"metadata\":{}},{\"name\":\"inputNumCubes\",\"type\":\"long\",\"nullable\":false,\"metadata\":{}},{\"name\":\"mergedFiles\",\"type\":{\"type\":\"struct\",\"fields\":[{\"name\":\"num\",\"type\":\"long\",\"nullable\":false,\"metadata\":{}},{\"name\":\"size\",\"type\":\"long\",\"nullable\":false,\"metadata\":{}}]},\"nullable\":true,\"metadata\":{}},{\"name\":\"numOutputCubes\",\"type\":\"long\",\"nullable\":false,\"metadata\":{}},{\"name\":\"mergedNumCubes\",\"type\":\"long\",\"nullable\":true,\"metadata\":{}}]},\"nullable\":true,\"metadata\":{}},{\"name\":\"clusteringStats\",\"type\":{\"type\":\"struct\",\"fields\":[{\"name\":\"inputZCubeFiles\",\"type\":{\"type\":\"struct\",\"fields\":[{\"name\":\"numFiles\",\"type\":\"long\",\"nullable\":false,\"metadata\":{}},{\"name\":\"size\",\"type\":\"long\",\"nullable\":false,\"metadata\":{}}]},\"nullable\":true,\"metadata\":{}},{\"name\":\"inputOtherFiles\",\"type\":{\"type\":\"struct\",\"fields\":[{\"name\":\"numFiles\",\"type\":\"long\",\"nullable\":false,\"metadata\":{}},{\"name\":\"size\",\"type\":\"long\",\"nullable\":false,\"metadata\":{}}]},\"nullable\":true,\"metadata\":{}},{\"name\":\"inputNumZCubes\",\"type\":\"long\",\"nullable\":false,\"metadata\":{}},{\"name\":\"mergedFiles\",\"type\":{\"type\":\"struct\",\"fields\":[{\"name\":\"numFiles\",\"type\":\"long\",\"nullable\":false,\"metadata\":{}},{\"name\":\"size\",\"type\":\"long\",\"nullable\":false,\"metadata\":{}}]},\"nullable\":true,\"metadata\":{}},{\"name\":\"numOutputZCubes\",\"type\":\"long\",\"nullable\":false,\"metadata\":{}}]},\"nullable\":true,\"metadata\":{}},{\"name\":\"numBins\",\"type\":\"long\",\"nullable\":false,\"metadata\":{}},{\"name\":\"numBatches\",\"type\":\"long\",\"nullable\":false,\"metadata\":{}},{\"name\":\"totalConsideredFiles\",\"type\":\"long\",\"nullable\":false,\"metadata\":{}},{\"name\":\"totalFilesSkipped\",\"type\":\"long\",\"nullable\":false,\"metadata\":{}},{\"name\":\"preserveInsertionOrder\",\"type\":\"boolean\",\"nullable\":false,\"metadata\":{}},{\"name\":\"numFilesSkippedToReduceWriteAmplification\",\"type\":\"long\",\"nullable\":false,\"metadata\":{}},{\"name\":\"numBytesSkippedToReduceWriteAmplification\",\"type\":\"long\",\"nullable\":false,\"metadata\":{}},{\"name\":\"startTimeMs\",\"type\":\"long\",\"nullable\":false,\"metadata\":{}},{\"name\":\"endTimeMs\",\"type\":\"long\",\"nullable\":false,\"metadata\":{}},{\"name\":\"totalClusterParallelism\",\"type\":\"long\",\"nullable\":false,\"metadata\":{}},{\"name\":\"totalScheduledTasks\",\"type\":\"long\",\"nullable\":false,\"metadata\":{}},{\"name\":\"autoCompactParallelismStats\",\"type\":{\"type\":\"struct\",\"fields\":[{\"name\":\"maxClusterActiveParallelism\",\"type\":\"long\",\"nullable\":true,\"metadata\":{}},{\"name\":\"minClusterActiveParallelism\",\"type\":\"long\",\"nullable\":true,\"metadata\":{}},{\"name\":\"maxSessionActiveParallelism\",\"type\":\"long\",\"nullable\":true,\"metadata\":{}},{\"name\":\"minSessionActiveParallelism\",\"type\":\"long\",\"nullable\":true,\"metadata\":{}}]},\"nullable\":true,\"metadata\":{}},{\"name\":\"deletionVectorStats\",\"type\":{\"type\":\"struct\",\"fields\":[{\"name\":\"numDeletionVectorsRemoved\",\"type\":\"long\",\"nullable\":false,\"metadata\":{}},{\"name\":\"numDeletionVectorRowsRemoved\",\"type\":\"long\",\"nullable\":false,\"metadata\":{}}]},\"nullable\":true,\"metadata\":{}},{\"name\":\"recompressionCodec\",\"type\":\"string\",\"nullable\":true,\"metadata\":{}},{\"name\":\"numTableColumns\",\"type\":\"long\",\"nullable\":false,\"metadata\":{}},{\"name\":\"numTableColumnsWithStats\",\"type\":\"long\",\"nullable\":false,\"metadata\":{}},{\"name\":\"totalTaskExecutionTimeMs\",\"type\":\"long\",\"nullable\":false,\"metadata\":{}},{\"name\":\"skippedArchivedFiles\",\"type\":\"long\",\"nullable\":false,\"metadata\":{}},{\"name\":\"clusteringMetrics\",\"type\":{\"type\":\"struct\",\"fields\":[{\"name\":\"sizeOfTableInBytesBeforeLazyClustering\",\"type\":\"long\",\"nullable\":false,\"metadata\":{}},{\"name\":\"isNewMetadataCreated\",\"type\":\"boolean\",\"nullable\":false,\"metadata\":{}},{\"name\":\"isPOTriggered\",\"type\":\"boolean\",\"nullable\":false,\"metadata\":{}},{\"name\":\"isFull\",\"type\":\"boolean\",\"nullable\":false,\"metadata\":{}},{\"name\":\"approxClusteringQuality\",\"type\":\"double\",\"nullable\":true,\"metadata\":{}},{\"name\":\"approxClusteringQualityPerColumn\",\"type\":{\"type\":\"array\",\"elementType\":\"double\",\"containsNull\":false},\"nullable\":true,\"metadata\":{}},{\"name\":\"approxClusteringCoverage\",\"type\":\"double\",\"nullable\":true,\"metadata\":{}},{\"name\":\"compactionType\",\"type\":\"string\",\"nullable\":true,\"metadata\":{}},{\"name\":\"numFilesSkippedWithoutStats\",\"type\":\"long\",\"nullable\":false,\"metadata\":{}},{\"name\":\"numFilesClassifiedToIntermediateNodes\",\"type\":\"long\",\"nullable\":false,\"metadata\":{}},{\"name\":\"sizeOfFilesClassifiedToIntermediateNodesInBytes\",\"type\":\"long\",\"nullable\":false,\"metadata\":{}},{\"name\":\"logicalSizeOfFilesClassifiedToIntermediateNodesInBytes\",\"type\":\"long\",\"nullable\":false,\"metadata\":{}},{\"name\":\"numFilesClassifiedToLeafNodes\",\"type\":\"long\",\"nullable\":false,\"metadata\":{}},{\"name\":\"sizeOfFilesClassifiedToLeafNodesInBytes\",\"type\":\"long\",\"nullable\":false,\"metadata\":{}},{\"name\":\"logicalSizeOfFilesClassifiedToLeafNodesInBytes\",\"type\":\"long\",\"nullable\":false,\"metadata\":{}},{\"name\":\"numThreadsForClassifier\",\"type\":\"integer\",\"nullable\":true,\"metadata\":{}},{\"name\":\"clusterThresholdStrategy\",\"type\":\"string\",\"nullable\":true,\"metadata\":{}},{\"name\":\"minFileSize\",\"type\":\"long\",\"nullable\":false,\"metadata\":{}},{\"name\":\"maxFileSize\",\"type\":\"long\",\"nullable\":false,\"metadata\":{}},{\"name\":\"nodeMinNumFilesToCompact\",\"type\":\"long\",\"nullable\":false,\"metadata\":{}},{\"name\":\"numIdealFiles\",\"type\":\"long\",\"nullable\":false,\"metadata\":{}},{\"name\":\"numIdealFilesWithTrimmedStringMaxValue\",\"type\":\"long\",\"nullable\":false,\"metadata\":{}},{\"name\":\"numAddedFilesWithSameMinMaxOnClusteringColumns\",\"type\":{\"type\":\"array\",\"elementType\":\"long\",\"containsNull\":false},\"nullable\":true,\"metadata\":{}},{\"name\":\"numClusteringTasksPlanned\",\"type\":\"integer\",\"nullable\":false,\"metadata\":{}},{\"name\":\"numClusteringTasksNotPlannedDueToPO\",\"type\":\"integer\",\"nullable\":false,\"metadata\":{}},{\"name\":\"numCompactionTasksPlanned\",\"type\":\"integer\",\"nullable\":false,\"metadata\":{}},{\"name\":\"numCompactionTasksPlannedUndoneDueToPO\",\"type\":\"integer\",\"nullable\":false,\"metadata\":{}},{\"name\":\"numOptimizeBatchesPlanned\",\"type\":\"integer\",\"nullable\":false,\"metadata\":{}},{\"name\":\"numLeafNodesExpanded\",\"type\":\"long\",\"nullable\":false,\"metadata\":{}},{\"name\":\"numLeafNodesClustered\",\"type\":\"long\",\"nullable\":false,\"metadata\":{}},{\"name\":\"numGetFilesForNodeCalls\",\"type\":\"long\",\"nullable\":false,\"metadata\":{}},{\"name\":\"numSamplingJobs\",\"type\":\"long\",\"nullable\":false,\"metadata\":{}},{\"name\":\"numLeafNodesCompacted\",\"type\":\"long\",\"nullable\":false,\"metadata\":{}},{\"name\":\"numLeafNodesCompactedUndoneDueToPO\",\"type\":\"long\",\"nullable\":false,\"metadata\":{}},{\"name\":\"numIntermediateNodesCompacted\",\"type\":\"long\",\"nullable\":false,\"metadata\":{}},{\"name\":\"numIntermediateNodesCompactedUndoneDueToPO\",\"type\":\"long\",\"nullable\":false,\"metadata\":{}},{\"name\":\"totalSizeOfDataToCompactInBytes\",\"type\":\"long\",\"nullable\":false,\"metadata\":{}},{\"name\":\"totalSizeOfDataToCompactInBytesUndoneDueToPO\",\"type\":\"long\",\"nullable\":false,\"metadata\":{}},{\"name\":\"totalLogicalSizeOfDataToCompactInBytes\",\"type\":\"long\",\"nullable\":false,\"metadata\":{}},{\"name\":\"totalLogicalSizeOfDataToCompactInBytesUndoneDueToPO\",\"type\":\"long\",\"nullable\":false,\"metadata\":{}},{\"name\":\"numIntermediateNodesClustered\",\"type\":\"long\",\"nullable\":false,\"metadata\":{}},{\"name\":\"numFilesSkippedAfterExpansion\",\"type\":\"long\",\"nullable\":false,\"metadata\":{}},{\"name\":\"totalSizeOfFilesSkippedAfterExpansionInBytes\",\"type\":\"long\",\"nullable\":false,\"metadata\":{}},{\"name\":\"totalLogicalSizeOfFilesSkippedAfterExpansionInBytes\",\"type\":\"long\",\"nullable\":false,\"metadata\":{}},{\"name\":\"totalSizeOfDataToRewriteInBytes\",\"type\":\"long\",\"nullable\":false,\"metadata\":{}},{\"name\":\"totalLogicalSizeOfDataToRewriteInBytes\",\"type\":\"long\",\"nullable\":false,\"metadata\":{}},{\"name\":\"timeMetrics\",\"type\":{\"type\":\"struct\",\"fields\":[{\"name\":\"classifierTimeMs\",\"type\":\"long\",\"nullable\":false,\"metadata\":{}},{\"name\":\"optimizerTimeMs\",\"type\":\"long\",\"nullable\":false,\"metadata\":{}},{\"name\":\"metadataLoadTimeMs\",\"type\":\"long\",\"nullable\":false,\"metadata\":{}},{\"name\":\"totalGetFilesForNodeCallsTimeMs\",\"type\":\"long\",\"nullable\":false,\"metadata\":{}},{\"name\":\"totalSamplingTimeMs\",\"type\":\"long\",\"nullable\":false,\"metadata\":{}},{\"name\":\"metadataCreationTimeMs\",\"type\":\"long\",\"nullable\":false,\"metadata\":{}}]},\"nullable\":true,\"metadata\":{}},{\"name\":\"maxOptimizeBatchesInParallel\",\"type\":\"long\",\"nullable\":false,\"metadata\":{}},{\"name\":\"currentIteration\",\"type\":\"integer\",\"nullable\":false,\"metadata\":{}},{\"name\":\"maxIterations\",\"type\":\"integer\",\"nullable\":false,\"metadata\":{}},{\"name\":\"clusteringStrategy\",\"type\":\"string\",\"nullable\":true,\"metadata\":{}}]},\"nullable\":true,\"metadata\":{}}]}"
        }
       ],
       "type": "table"
      }
     },
     "output_type": "display_data"
    }
   ],
   "source": [
    "%sql\n",
    "OPTIMIZE bronze.questions \n",
    "ZORDER BY (question_id)"
   ]
  },
  {
   "cell_type": "code",
   "execution_count": 0,
   "metadata": {
    "application/vnd.databricks.v1+cell": {
     "cellMetadata": {
      "byteLimit": 2048000,
      "implicitDf": true,
      "rowLimit": 10000
     },
     "inputWidgets": {},
     "nuid": "dc5fdb80-299e-45fc-aeb0-e87d5184cc12",
     "showTitle": false,
     "tableResultSettingsMap": {},
     "title": ""
    }
   },
   "outputs": [
    {
     "output_type": "display_data",
     "data": {
      "text/html": [
       "<style scoped>\n",
       "  .table-result-container {\n",
       "    max-height: 300px;\n",
       "    overflow: auto;\n",
       "  }\n",
       "  table, th, td {\n",
       "    border: 1px solid black;\n",
       "    border-collapse: collapse;\n",
       "  }\n",
       "  th, td {\n",
       "    padding: 5px;\n",
       "  }\n",
       "  th {\n",
       "    text-align: left;\n",
       "  }\n",
       "</style><div class='table-result-container'><table class='table-result'><thead style='background-color: white'><tr><th>format</th><th>id</th><th>name</th><th>description</th><th>location</th><th>createdAt</th><th>lastModified</th><th>partitionColumns</th><th>clusteringColumns</th><th>numFiles</th><th>sizeInBytes</th><th>properties</th><th>minReaderVersion</th><th>minWriterVersion</th><th>tableFeatures</th><th>statistics</th><th>clusterByAuto</th></tr></thead><tbody><tr><td>delta</td><td>a263128f-fee4-4665-847a-6c321fb79d64</td><td>spark_catalog.bronze.questions</td><td>null</td><td>dbfs:/mnt/bronze/questions</td><td>2025-10-02T05:27:33.096Z</td><td>2025-10-02T07:28:29Z</td><td>List(creation_period)</td><td>List()</td><td>21</td><td>20273327</td><td>Map(delta.enableDeletionVectors -> true)</td><td>3</td><td>7</td><td>List(appendOnly, deletionVectors, invariants)</td><td>Map(numRowsDeletedByDeletionVectors -> 0, numDeletionVectors -> 0)</td><td>false</td></tr></tbody></table></div>"
      ]
     },
     "metadata": {
      "application/vnd.databricks.v1+output": {
       "addedWidgets": {},
       "aggData": [],
       "aggError": "",
       "aggOverflow": false,
       "aggSchema": [],
       "aggSeriesLimitReached": false,
       "aggType": "",
       "arguments": {},
       "columnCustomDisplayInfos": {},
       "data": [
        [
         "delta",
         "a263128f-fee4-4665-847a-6c321fb79d64",
         "spark_catalog.bronze.questions",
         null,
         "dbfs:/mnt/bronze/questions",
         "2025-10-02T05:27:33.096Z",
         "2025-10-02T07:28:29Z",
         [
          "creation_period"
         ],
         [],
         21,
         20273327,
         {
          "delta.enableDeletionVectors": "true"
         },
         3,
         7,
         [
          "appendOnly",
          "deletionVectors",
          "invariants"
         ],
         {
          "numDeletionVectors": 0,
          "numRowsDeletedByDeletionVectors": 0
         },
         false
        ]
       ],
       "datasetInfos": [
        {
         "name": "_sqldf",
         "schema": {
          "fields": [
           {
            "metadata": {},
            "name": "format",
            "nullable": true,
            "type": "string"
           },
           {
            "metadata": {},
            "name": "id",
            "nullable": true,
            "type": "string"
           },
           {
            "metadata": {},
            "name": "name",
            "nullable": true,
            "type": "string"
           },
           {
            "metadata": {},
            "name": "description",
            "nullable": true,
            "type": "string"
           },
           {
            "metadata": {},
            "name": "location",
            "nullable": true,
            "type": "string"
           },
           {
            "metadata": {},
            "name": "createdAt",
            "nullable": true,
            "type": "timestamp"
           },
           {
            "metadata": {},
            "name": "lastModified",
            "nullable": true,
            "type": "timestamp"
           },
           {
            "metadata": {},
            "name": "partitionColumns",
            "nullable": true,
            "type": {
             "containsNull": true,
             "elementType": "string",
             "type": "array"
            }
           },
           {
            "metadata": {},
            "name": "clusteringColumns",
            "nullable": true,
            "type": {
             "containsNull": true,
             "elementType": "string",
             "type": "array"
            }
           },
           {
            "metadata": {},
            "name": "numFiles",
            "nullable": true,
            "type": "long"
           },
           {
            "metadata": {},
            "name": "sizeInBytes",
            "nullable": true,
            "type": "long"
           },
           {
            "metadata": {},
            "name": "properties",
            "nullable": true,
            "type": {
             "keyType": "string",
             "type": "map",
             "valueContainsNull": true,
             "valueType": "string"
            }
           },
           {
            "metadata": {},
            "name": "minReaderVersion",
            "nullable": true,
            "type": "integer"
           },
           {
            "metadata": {},
            "name": "minWriterVersion",
            "nullable": true,
            "type": "integer"
           },
           {
            "metadata": {},
            "name": "tableFeatures",
            "nullable": true,
            "type": {
             "containsNull": true,
             "elementType": "string",
             "type": "array"
            }
           },
           {
            "metadata": {},
            "name": "statistics",
            "nullable": true,
            "type": {
             "keyType": "string",
             "type": "map",
             "valueContainsNull": true,
             "valueType": "long"
            }
           },
           {
            "metadata": {},
            "name": "clusterByAuto",
            "nullable": false,
            "type": "boolean"
           }
          ],
          "type": "struct"
         },
         "tableIdentifier": null,
         "typeStr": "pyspark.sql.dataframe.DataFrame"
        }
       ],
       "dbfsResultPath": null,
       "isJsonSchema": true,
       "metadata": {
        "createTempViewForImplicitDf": true,
        "dataframeName": "_sqldf",
        "executionCount": 69
       },
       "overflow": false,
       "plotOptions": {
        "customPlotOptions": {},
        "displayType": "table",
        "pivotAggregation": null,
        "pivotColumns": null,
        "xColumns": null,
        "yColumns": null
       },
       "removedWidgets": [],
       "schema": [
        {
         "metadata": "{}",
         "name": "format",
         "type": "\"string\""
        },
        {
         "metadata": "{}",
         "name": "id",
         "type": "\"string\""
        },
        {
         "metadata": "{}",
         "name": "name",
         "type": "\"string\""
        },
        {
         "metadata": "{}",
         "name": "description",
         "type": "\"string\""
        },
        {
         "metadata": "{}",
         "name": "location",
         "type": "\"string\""
        },
        {
         "metadata": "{}",
         "name": "createdAt",
         "type": "\"timestamp\""
        },
        {
         "metadata": "{}",
         "name": "lastModified",
         "type": "\"timestamp\""
        },
        {
         "metadata": "{}",
         "name": "partitionColumns",
         "type": "{\"type\":\"array\",\"elementType\":\"string\",\"containsNull\":true}"
        },
        {
         "metadata": "{}",
         "name": "clusteringColumns",
         "type": "{\"type\":\"array\",\"elementType\":\"string\",\"containsNull\":true}"
        },
        {
         "metadata": "{}",
         "name": "numFiles",
         "type": "\"long\""
        },
        {
         "metadata": "{}",
         "name": "sizeInBytes",
         "type": "\"long\""
        },
        {
         "metadata": "{}",
         "name": "properties",
         "type": "{\"type\":\"map\",\"keyType\":\"string\",\"valueType\":\"string\",\"valueContainsNull\":true}"
        },
        {
         "metadata": "{}",
         "name": "minReaderVersion",
         "type": "\"integer\""
        },
        {
         "metadata": "{}",
         "name": "minWriterVersion",
         "type": "\"integer\""
        },
        {
         "metadata": "{}",
         "name": "tableFeatures",
         "type": "{\"type\":\"array\",\"elementType\":\"string\",\"containsNull\":true}"
        },
        {
         "metadata": "{}",
         "name": "statistics",
         "type": "{\"type\":\"map\",\"keyType\":\"string\",\"valueType\":\"long\",\"valueContainsNull\":true}"
        },
        {
         "metadata": "{}",
         "name": "clusterByAuto",
         "type": "\"boolean\""
        }
       ],
       "type": "table"
      }
     },
     "output_type": "display_data"
    }
   ],
   "source": [
    "%sql\n",
    "DESCRIBE DETAIL bronze.questions"
   ]
  },
  {
   "cell_type": "code",
   "execution_count": 0,
   "metadata": {
    "application/vnd.databricks.v1+cell": {
     "cellMetadata": {
      "byteLimit": 2048000,
      "implicitDf": true,
      "rowLimit": 10000
     },
     "inputWidgets": {},
     "nuid": "6156b4a1-b8d8-4c15-857a-d3dc7cba23d9",
     "showTitle": false,
     "tableResultSettingsMap": {},
     "title": ""
    }
   },
   "outputs": [
    {
     "output_type": "display_data",
     "data": {
      "text/html": [
       "<style scoped>\n",
       "  .table-result-container {\n",
       "    max-height: 300px;\n",
       "    overflow: auto;\n",
       "  }\n",
       "  table, th, td {\n",
       "    border: 1px solid black;\n",
       "    border-collapse: collapse;\n",
       "  }\n",
       "  th, td {\n",
       "    padding: 5px;\n",
       "  }\n",
       "  th {\n",
       "    text-align: left;\n",
       "  }\n",
       "</style><div class='table-result-container'><table class='table-result'><thead style='background-color: white'><tr><th>question_id</th><th>creation_date</th><th>creation_period</th><th>last_activity_date</th><th>tags</th><th>answer_count</th><th>is_answered</th><th>view_count</th></tr></thead><tbody><tr><td>79484450</td><td>2025-03-04T17:32:49Z</td><td>1741</td><td>2025-03-06T13:40:40Z</td><td>List(reactjs, three.js, react-three-fiber)</td><td>1</td><td>false</td><td>63</td></tr><tr><td>79507704</td><td>2025-03-13T21:48:47Z</td><td>1741</td><td>2025-03-13T21:48:47Z</td><td>List(python-unittest, python-unittest.mock, odoo-17)</td><td>0</td><td>false</td><td>21</td></tr><tr><td>79502686</td><td>2025-03-12T05:10:11Z</td><td>1741</td><td>2025-03-12T07:00:15Z</td><td>List(c#, wpf)</td><td>0</td><td>false</td><td>70</td></tr><tr><td>79490443</td><td>2025-03-06T19:12:41Z</td><td>1741</td><td>2025-04-15T14:45:05Z</td><td>List(apache, http, devops, artifactory)</td><td>0</td><td>false</td><td>114</td></tr><tr><td>79496652</td><td>2025-03-09T21:50:33Z</td><td>1741</td><td>2025-03-10T17:02:46Z</td><td>List(flutter, dart, debugging, intellij-idea, dart-pub)</td><td>2</td><td>true</td><td>108</td></tr><tr><td>79496633</td><td>2025-03-09T21:34:26Z</td><td>1741</td><td>2025-03-10T11:42:07Z</td><td>List(javascript, konvajs)</td><td>1</td><td>true</td><td>86</td></tr><tr><td>79496615</td><td>2025-03-09T21:12:29Z</td><td>1741</td><td>2025-03-09T22:47:09Z</td><td>List(html, css, alignment, text-align)</td><td>2</td><td>true</td><td>73</td></tr><tr><td>79501928</td><td>2025-03-11T19:35:39Z</td><td>1741</td><td>2025-06-30T08:08:35Z</td><td>List(c#, multithreading, asynchronous, concurrency, task-parallel-library)</td><td>2</td><td>true</td><td>119</td></tr><tr><td>79501845</td><td>2025-03-11T18:58:39Z</td><td>1741</td><td>2025-03-14T12:39:19Z</td><td>List(python, hdf5, h5py)</td><td>1</td><td>false</td><td>51</td></tr><tr><td>79507917</td><td>2025-03-14T00:19:56Z</td><td>1741</td><td>2025-03-14T00:19:56Z</td><td>List(stm32, stm32cubeide, stm32f1, stm32cubemx)</td><td>0</td><td>false</td><td>110</td></tr><tr><td>79498560</td><td>2025-03-10T16:09:37Z</td><td>1741</td><td>2025-04-20T18:57:38Z</td><td>List(c#, compilation, visual-studio-2017, visual-studio-2022, 32bit-64bit)</td><td>1</td><td>true</td><td>85</td></tr><tr><td>79483452</td><td>2025-03-04T10:55:59Z</td><td>1741</td><td>2025-03-04T10:55:59Z</td><td>List(javascript, drag-and-drop)</td><td>0</td><td>false</td><td>64</td></tr><tr><td>79483405</td><td>2025-03-04T10:41:19Z</td><td>1741</td><td>2025-03-04T10:41:19Z</td><td>List(google-cloud-platform, google-workspace)</td><td>0</td><td>false</td><td>76</td></tr><tr><td>79497374</td><td>2025-03-10T08:07:58Z</td><td>1741</td><td>2025-03-10T09:20:27Z</td><td>List(angular, data-binding)</td><td>2</td><td>true</td><td>54</td></tr><tr><td>79504147</td><td>2025-03-12T15:54:44Z</td><td>1741</td><td>2025-03-12T17:16:21Z</td><td>List(chapel)</td><td>1</td><td>true</td><td>74</td></tr><tr><td>79494083</td><td>2025-03-08T08:11:51Z</td><td>1741</td><td>2025-03-13T03:55:06Z</td><td>List(state, mouse, sikuli-x)</td><td>1</td><td>true</td><td>53</td></tr><tr><td>79494026</td><td>2025-03-08T07:13:02Z</td><td>1741</td><td>2025-03-08T19:18:39Z</td><td>List(c++, buffer-overflow)</td><td>2</td><td>true</td><td>89</td></tr><tr><td>79490650</td><td>2025-03-06T20:45:17Z</td><td>1741</td><td>2025-03-06T20:45:17Z</td><td>List(docker, docker-desktop)</td><td>0</td><td>false</td><td>29</td></tr><tr><td>79483072</td><td>2025-03-04T08:32:24Z</td><td>1741</td><td>2025-03-05T15:30:45Z</td><td>List(javascript, node.js, extjs, apache-superset)</td><td>1</td><td>false</td><td>90</td></tr><tr><td>79483706</td><td>2025-03-04T12:27:42Z</td><td>1741</td><td>2025-03-04T12:27:42Z</td><td>List(java, sql, spring, jsonb, criteria-api)</td><td>0</td><td>false</td><td>47</td></tr></tbody></table></div>"
      ]
     },
     "metadata": {
      "application/vnd.databricks.v1+output": {
       "addedWidgets": {},
       "aggData": [],
       "aggError": "",
       "aggOverflow": false,
       "aggSchema": [],
       "aggSeriesLimitReached": false,
       "aggType": "",
       "arguments": {},
       "columnCustomDisplayInfos": {},
       "data": [
        [
         79484450,
         "2025-03-04T17:32:49Z",
         1741,
         "2025-03-06T13:40:40Z",
         [
          "reactjs",
          "three.js",
          "react-three-fiber"
         ],
         1,
         false,
         63
        ],
        [
         79507704,
         "2025-03-13T21:48:47Z",
         1741,
         "2025-03-13T21:48:47Z",
         [
          "python-unittest",
          "python-unittest.mock",
          "odoo-17"
         ],
         0,
         false,
         21
        ],
        [
         79502686,
         "2025-03-12T05:10:11Z",
         1741,
         "2025-03-12T07:00:15Z",
         [
          "c#",
          "wpf"
         ],
         0,
         false,
         70
        ],
        [
         79490443,
         "2025-03-06T19:12:41Z",
         1741,
         "2025-04-15T14:45:05Z",
         [
          "apache",
          "http",
          "devops",
          "artifactory"
         ],
         0,
         false,
         114
        ],
        [
         79496652,
         "2025-03-09T21:50:33Z",
         1741,
         "2025-03-10T17:02:46Z",
         [
          "flutter",
          "dart",
          "debugging",
          "intellij-idea",
          "dart-pub"
         ],
         2,
         true,
         108
        ],
        [
         79496633,
         "2025-03-09T21:34:26Z",
         1741,
         "2025-03-10T11:42:07Z",
         [
          "javascript",
          "konvajs"
         ],
         1,
         true,
         86
        ],
        [
         79496615,
         "2025-03-09T21:12:29Z",
         1741,
         "2025-03-09T22:47:09Z",
         [
          "html",
          "css",
          "alignment",
          "text-align"
         ],
         2,
         true,
         73
        ],
        [
         79501928,
         "2025-03-11T19:35:39Z",
         1741,
         "2025-06-30T08:08:35Z",
         [
          "c#",
          "multithreading",
          "asynchronous",
          "concurrency",
          "task-parallel-library"
         ],
         2,
         true,
         119
        ],
        [
         79501845,
         "2025-03-11T18:58:39Z",
         1741,
         "2025-03-14T12:39:19Z",
         [
          "python",
          "hdf5",
          "h5py"
         ],
         1,
         false,
         51
        ],
        [
         79507917,
         "2025-03-14T00:19:56Z",
         1741,
         "2025-03-14T00:19:56Z",
         [
          "stm32",
          "stm32cubeide",
          "stm32f1",
          "stm32cubemx"
         ],
         0,
         false,
         110
        ],
        [
         79498560,
         "2025-03-10T16:09:37Z",
         1741,
         "2025-04-20T18:57:38Z",
         [
          "c#",
          "compilation",
          "visual-studio-2017",
          "visual-studio-2022",
          "32bit-64bit"
         ],
         1,
         true,
         85
        ],
        [
         79483452,
         "2025-03-04T10:55:59Z",
         1741,
         "2025-03-04T10:55:59Z",
         [
          "javascript",
          "drag-and-drop"
         ],
         0,
         false,
         64
        ],
        [
         79483405,
         "2025-03-04T10:41:19Z",
         1741,
         "2025-03-04T10:41:19Z",
         [
          "google-cloud-platform",
          "google-workspace"
         ],
         0,
         false,
         76
        ],
        [
         79497374,
         "2025-03-10T08:07:58Z",
         1741,
         "2025-03-10T09:20:27Z",
         [
          "angular",
          "data-binding"
         ],
         2,
         true,
         54
        ],
        [
         79504147,
         "2025-03-12T15:54:44Z",
         1741,
         "2025-03-12T17:16:21Z",
         [
          "chapel"
         ],
         1,
         true,
         74
        ],
        [
         79494083,
         "2025-03-08T08:11:51Z",
         1741,
         "2025-03-13T03:55:06Z",
         [
          "state",
          "mouse",
          "sikuli-x"
         ],
         1,
         true,
         53
        ],
        [
         79494026,
         "2025-03-08T07:13:02Z",
         1741,
         "2025-03-08T19:18:39Z",
         [
          "c++",
          "buffer-overflow"
         ],
         2,
         true,
         89
        ],
        [
         79490650,
         "2025-03-06T20:45:17Z",
         1741,
         "2025-03-06T20:45:17Z",
         [
          "docker",
          "docker-desktop"
         ],
         0,
         false,
         29
        ],
        [
         79483072,
         "2025-03-04T08:32:24Z",
         1741,
         "2025-03-05T15:30:45Z",
         [
          "javascript",
          "node.js",
          "extjs",
          "apache-superset"
         ],
         1,
         false,
         90
        ],
        [
         79483706,
         "2025-03-04T12:27:42Z",
         1741,
         "2025-03-04T12:27:42Z",
         [
          "java",
          "sql",
          "spring",
          "jsonb",
          "criteria-api"
         ],
         0,
         false,
         47
        ]
       ],
       "datasetInfos": [
        {
         "name": "_sqldf",
         "schema": {
          "fields": [
           {
            "metadata": {},
            "name": "question_id",
            "nullable": true,
            "type": "long"
           },
           {
            "metadata": {},
            "name": "creation_date",
            "nullable": true,
            "type": "timestamp"
           },
           {
            "metadata": {},
            "name": "creation_period",
            "nullable": true,
            "type": "long"
           },
           {
            "metadata": {},
            "name": "last_activity_date",
            "nullable": true,
            "type": "timestamp"
           },
           {
            "metadata": {},
            "name": "tags",
            "nullable": true,
            "type": {
             "containsNull": true,
             "elementType": "string",
             "type": "array"
            }
           },
           {
            "metadata": {},
            "name": "answer_count",
            "nullable": true,
            "type": "integer"
           },
           {
            "metadata": {},
            "name": "is_answered",
            "nullable": true,
            "type": "boolean"
           },
           {
            "metadata": {},
            "name": "view_count",
            "nullable": true,
            "type": "integer"
           }
          ],
          "type": "struct"
         },
         "tableIdentifier": null,
         "typeStr": "pyspark.sql.dataframe.DataFrame"
        }
       ],
       "dbfsResultPath": null,
       "isJsonSchema": true,
       "metadata": {
        "createTempViewForImplicitDf": true,
        "dataframeName": "_sqldf",
        "executionCount": 73
       },
       "overflow": false,
       "plotOptions": {
        "customPlotOptions": {},
        "displayType": "table",
        "pivotAggregation": null,
        "pivotColumns": null,
        "xColumns": null,
        "yColumns": null
       },
       "removedWidgets": [],
       "schema": [
        {
         "metadata": "{}",
         "name": "question_id",
         "type": "\"long\""
        },
        {
         "metadata": "{}",
         "name": "creation_date",
         "type": "\"timestamp\""
        },
        {
         "metadata": "{}",
         "name": "creation_period",
         "type": "\"long\""
        },
        {
         "metadata": "{}",
         "name": "last_activity_date",
         "type": "\"timestamp\""
        },
        {
         "metadata": "{}",
         "name": "tags",
         "type": "{\"type\":\"array\",\"elementType\":\"string\",\"containsNull\":true}"
        },
        {
         "metadata": "{}",
         "name": "answer_count",
         "type": "\"integer\""
        },
        {
         "metadata": "{}",
         "name": "is_answered",
         "type": "\"boolean\""
        },
        {
         "metadata": "{}",
         "name": "view_count",
         "type": "\"integer\""
        }
       ],
       "type": "table"
      }
     },
     "output_type": "display_data"
    }
   ],
   "source": [
    "%sql SELECT * FROM silver.questions LIMIT 20"
   ]
  }
 ],
 "metadata": {
  "application/vnd.databricks.v1+notebook": {
   "computePreferences": null,
   "dashboards": [],
   "environmentMetadata": {
    "base_environment": "",
    "environment_version": "3"
   },
   "inputWidgetPreferences": null,
   "language": "python",
   "notebookMetadata": {
    "mostRecentlyExecutedCommandWithImplicitDF": {
     "commandId": 4817661498311888,
     "dataframes": [
      "_sqldf"
     ]
    },
    "pythonIndentUnit": 4
   },
   "notebookName": "01_bronze_ingest",
   "widgets": {}
  },
  "language_info": {
   "name": "python"
  }
 },
 "nbformat": 4,
 "nbformat_minor": 0
}
