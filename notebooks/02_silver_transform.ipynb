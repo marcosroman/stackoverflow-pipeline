{
 "cells": [
  {
   "cell_type": "code",
   "execution_count": 0,
   "metadata": {
    "application/vnd.databricks.v1+cell": {
     "cellMetadata": {},
     "inputWidgets": {},
     "nuid": "3797e541-0813-4cce-a7e5-a679b8d2805d",
     "showTitle": false,
     "tableResultSettingsMap": {},
     "title": ""
    }
   },
   "outputs": [],
   "source": [
    "%sql\n",
    "CREATE DATABASE IF NOT EXISTS silver;\n",
    "\n",
    "CREATE TABLE IF NOT EXISTS silver.questions\n",
    "USING DELTA\n",
    "LOCATION '/mnt/silver/questions';"
   ]
  },
  {
   "cell_type": "code",
   "execution_count": 0,
   "metadata": {
    "application/vnd.databricks.v1+cell": {
     "cellMetadata": {
      "byteLimit": 2048000,
      "rowLimit": 10000
     },
     "inputWidgets": {},
     "nuid": "470fa6f6-c6e0-44ef-8fa5-79435653684b",
     "showTitle": false,
     "tableResultSettingsMap": {},
     "title": ""
    }
   },
   "outputs": [],
   "source": [
    "from pyspark.sql import functions as F\n",
    "\n",
    "bronze_df = spark.table(\"bronze.questions\")\n",
    "\n",
    "silver_df = bronze_df.select(\n",
    "    F.col(\"question_id\"),\n",
    "    F.from_unixtime(F.col(\"creation_date\")).cast(\"timestamp\").alias(\"creation_timestamp\"),\n",
    "    F.col(\"creation_period\"),\n",
    "    F.from_unixtime(F.col(\"last_activity_date\")).cast(\"timestamp\").alias(\"last_activity_timestamp\"),\n",
    "    F.col(\"tags\"),\n",
    "    F.col(\"answer_count\").cast(\"int\"),\n",
    "    F.col(\"is_answered\").cast(\"boolean\"),\n",
    "    F.col(\"view_count\").cast(\"int\")\n",
    ").filter(\n",
    "    F.col(\"question_id\").isNotNull()\n",
    ").dropDuplicates([\"question_id\"])\n",
    "\n",
    "silver_df.write \\\n",
    "    .format(\"delta\") \\\n",
    "    .mode(\"overwrite\") \\\n",
    "    .option(\"overwriteSchema\", \"true\") \\\n",
    "    .partitionBy(\"creation_period\") \\\n",
    "    .saveAsTable(\"silver.questions\")"
   ]
  },
  {
   "cell_type": "code",
   "execution_count": 0,
   "metadata": {
    "application/vnd.databricks.v1+cell": {
     "cellMetadata": {
      "byteLimit": 2048000,
      "implicitDf": true,
      "rowLimit": 10000
     },
     "inputWidgets": {},
     "nuid": "cd3874c3-0adf-40f3-9f8c-b9d57a5f0b2c",
     "showTitle": false,
     "tableResultSettingsMap": {
      "0": {
       "dataGridStateBlob": "{\"version\":1,\"tableState\":{\"columnPinning\":{\"left\":[\"#row_number#\"],\"right\":[]},\"columnSizing\":{},\"columnVisibility\":{}},\"settings\":{\"columns\":{}},\"syncTimestamp\":1759393104528}",
       "filterBlob": null,
       "queryPlanFiltersBlob": null,
       "tableResultIndex": 0
      }
     },
     "title": ""
    }
   },
   "outputs": [
    {
     "output_type": "display_data",
     "data": {
      "text/html": [
       "<style scoped>\n",
       "  .table-result-container {\n",
       "    max-height: 300px;\n",
       "    overflow: auto;\n",
       "  }\n",
       "  table, th, td {\n",
       "    border: 1px solid black;\n",
       "    border-collapse: collapse;\n",
       "  }\n",
       "  th, td {\n",
       "    padding: 5px;\n",
       "  }\n",
       "  th {\n",
       "    text-align: left;\n",
       "  }\n",
       "</style><div class='table-result-container'><table class='table-result'><thead style='background-color: white'><tr><th>question_id</th><th>creation_date</th><th>creation_period</th><th>last_activity_date</th><th>tags</th><th>answer_count</th><th>is_answered</th><th>view_count</th></tr></thead><tbody><tr><td>79484450</td><td>2025-03-04T17:32:49Z</td><td>1741</td><td>2025-03-06T13:40:40Z</td><td>List(reactjs, three.js, react-three-fiber)</td><td>1</td><td>false</td><td>63</td></tr><tr><td>79507704</td><td>2025-03-13T21:48:47Z</td><td>1741</td><td>2025-03-13T21:48:47Z</td><td>List(python-unittest, python-unittest.mock, odoo-17)</td><td>0</td><td>false</td><td>21</td></tr><tr><td>79502686</td><td>2025-03-12T05:10:11Z</td><td>1741</td><td>2025-03-12T07:00:15Z</td><td>List(c#, wpf)</td><td>0</td><td>false</td><td>70</td></tr><tr><td>79490443</td><td>2025-03-06T19:12:41Z</td><td>1741</td><td>2025-04-15T14:45:05Z</td><td>List(apache, http, devops, artifactory)</td><td>0</td><td>false</td><td>114</td></tr><tr><td>79496652</td><td>2025-03-09T21:50:33Z</td><td>1741</td><td>2025-03-10T17:02:46Z</td><td>List(flutter, dart, debugging, intellij-idea, dart-pub)</td><td>2</td><td>true</td><td>108</td></tr><tr><td>79496633</td><td>2025-03-09T21:34:26Z</td><td>1741</td><td>2025-03-10T11:42:07Z</td><td>List(javascript, konvajs)</td><td>1</td><td>true</td><td>86</td></tr><tr><td>79496615</td><td>2025-03-09T21:12:29Z</td><td>1741</td><td>2025-03-09T22:47:09Z</td><td>List(html, css, alignment, text-align)</td><td>2</td><td>true</td><td>73</td></tr><tr><td>79501928</td><td>2025-03-11T19:35:39Z</td><td>1741</td><td>2025-06-30T08:08:35Z</td><td>List(c#, multithreading, asynchronous, concurrency, task-parallel-library)</td><td>2</td><td>true</td><td>119</td></tr><tr><td>79501845</td><td>2025-03-11T18:58:39Z</td><td>1741</td><td>2025-03-14T12:39:19Z</td><td>List(python, hdf5, h5py)</td><td>1</td><td>false</td><td>51</td></tr><tr><td>79507917</td><td>2025-03-14T00:19:56Z</td><td>1741</td><td>2025-03-14T00:19:56Z</td><td>List(stm32, stm32cubeide, stm32f1, stm32cubemx)</td><td>0</td><td>false</td><td>110</td></tr><tr><td>79498560</td><td>2025-03-10T16:09:37Z</td><td>1741</td><td>2025-04-20T18:57:38Z</td><td>List(c#, compilation, visual-studio-2017, visual-studio-2022, 32bit-64bit)</td><td>1</td><td>true</td><td>85</td></tr><tr><td>79483452</td><td>2025-03-04T10:55:59Z</td><td>1741</td><td>2025-03-04T10:55:59Z</td><td>List(javascript, drag-and-drop)</td><td>0</td><td>false</td><td>64</td></tr><tr><td>79483405</td><td>2025-03-04T10:41:19Z</td><td>1741</td><td>2025-03-04T10:41:19Z</td><td>List(google-cloud-platform, google-workspace)</td><td>0</td><td>false</td><td>76</td></tr><tr><td>79497374</td><td>2025-03-10T08:07:58Z</td><td>1741</td><td>2025-03-10T09:20:27Z</td><td>List(angular, data-binding)</td><td>2</td><td>true</td><td>54</td></tr><tr><td>79504147</td><td>2025-03-12T15:54:44Z</td><td>1741</td><td>2025-03-12T17:16:21Z</td><td>List(chapel)</td><td>1</td><td>true</td><td>74</td></tr><tr><td>79494083</td><td>2025-03-08T08:11:51Z</td><td>1741</td><td>2025-03-13T03:55:06Z</td><td>List(state, mouse, sikuli-x)</td><td>1</td><td>true</td><td>53</td></tr><tr><td>79494026</td><td>2025-03-08T07:13:02Z</td><td>1741</td><td>2025-03-08T19:18:39Z</td><td>List(c++, buffer-overflow)</td><td>2</td><td>true</td><td>89</td></tr><tr><td>79490650</td><td>2025-03-06T20:45:17Z</td><td>1741</td><td>2025-03-06T20:45:17Z</td><td>List(docker, docker-desktop)</td><td>0</td><td>false</td><td>29</td></tr><tr><td>79483072</td><td>2025-03-04T08:32:24Z</td><td>1741</td><td>2025-03-05T15:30:45Z</td><td>List(javascript, node.js, extjs, apache-superset)</td><td>1</td><td>false</td><td>90</td></tr><tr><td>79483706</td><td>2025-03-04T12:27:42Z</td><td>1741</td><td>2025-03-04T12:27:42Z</td><td>List(java, sql, spring, jsonb, criteria-api)</td><td>0</td><td>false</td><td>47</td></tr></tbody></table></div>"
      ]
     },
     "metadata": {
      "application/vnd.databricks.v1+output": {
       "addedWidgets": {},
       "aggData": [],
       "aggError": "",
       "aggOverflow": false,
       "aggSchema": [],
       "aggSeriesLimitReached": false,
       "aggType": "",
       "arguments": {},
       "columnCustomDisplayInfos": {},
       "data": [
        [
         79484450,
         "2025-03-04T17:32:49Z",
         1741,
         "2025-03-06T13:40:40Z",
         [
          "reactjs",
          "three.js",
          "react-three-fiber"
         ],
         1,
         false,
         63
        ],
        [
         79507704,
         "2025-03-13T21:48:47Z",
         1741,
         "2025-03-13T21:48:47Z",
         [
          "python-unittest",
          "python-unittest.mock",
          "odoo-17"
         ],
         0,
         false,
         21
        ],
        [
         79502686,
         "2025-03-12T05:10:11Z",
         1741,
         "2025-03-12T07:00:15Z",
         [
          "c#",
          "wpf"
         ],
         0,
         false,
         70
        ],
        [
         79490443,
         "2025-03-06T19:12:41Z",
         1741,
         "2025-04-15T14:45:05Z",
         [
          "apache",
          "http",
          "devops",
          "artifactory"
         ],
         0,
         false,
         114
        ],
        [
         79496652,
         "2025-03-09T21:50:33Z",
         1741,
         "2025-03-10T17:02:46Z",
         [
          "flutter",
          "dart",
          "debugging",
          "intellij-idea",
          "dart-pub"
         ],
         2,
         true,
         108
        ],
        [
         79496633,
         "2025-03-09T21:34:26Z",
         1741,
         "2025-03-10T11:42:07Z",
         [
          "javascript",
          "konvajs"
         ],
         1,
         true,
         86
        ],
        [
         79496615,
         "2025-03-09T21:12:29Z",
         1741,
         "2025-03-09T22:47:09Z",
         [
          "html",
          "css",
          "alignment",
          "text-align"
         ],
         2,
         true,
         73
        ],
        [
         79501928,
         "2025-03-11T19:35:39Z",
         1741,
         "2025-06-30T08:08:35Z",
         [
          "c#",
          "multithreading",
          "asynchronous",
          "concurrency",
          "task-parallel-library"
         ],
         2,
         true,
         119
        ],
        [
         79501845,
         "2025-03-11T18:58:39Z",
         1741,
         "2025-03-14T12:39:19Z",
         [
          "python",
          "hdf5",
          "h5py"
         ],
         1,
         false,
         51
        ],
        [
         79507917,
         "2025-03-14T00:19:56Z",
         1741,
         "2025-03-14T00:19:56Z",
         [
          "stm32",
          "stm32cubeide",
          "stm32f1",
          "stm32cubemx"
         ],
         0,
         false,
         110
        ],
        [
         79498560,
         "2025-03-10T16:09:37Z",
         1741,
         "2025-04-20T18:57:38Z",
         [
          "c#",
          "compilation",
          "visual-studio-2017",
          "visual-studio-2022",
          "32bit-64bit"
         ],
         1,
         true,
         85
        ],
        [
         79483452,
         "2025-03-04T10:55:59Z",
         1741,
         "2025-03-04T10:55:59Z",
         [
          "javascript",
          "drag-and-drop"
         ],
         0,
         false,
         64
        ],
        [
         79483405,
         "2025-03-04T10:41:19Z",
         1741,
         "2025-03-04T10:41:19Z",
         [
          "google-cloud-platform",
          "google-workspace"
         ],
         0,
         false,
         76
        ],
        [
         79497374,
         "2025-03-10T08:07:58Z",
         1741,
         "2025-03-10T09:20:27Z",
         [
          "angular",
          "data-binding"
         ],
         2,
         true,
         54
        ],
        [
         79504147,
         "2025-03-12T15:54:44Z",
         1741,
         "2025-03-12T17:16:21Z",
         [
          "chapel"
         ],
         1,
         true,
         74
        ],
        [
         79494083,
         "2025-03-08T08:11:51Z",
         1741,
         "2025-03-13T03:55:06Z",
         [
          "state",
          "mouse",
          "sikuli-x"
         ],
         1,
         true,
         53
        ],
        [
         79494026,
         "2025-03-08T07:13:02Z",
         1741,
         "2025-03-08T19:18:39Z",
         [
          "c++",
          "buffer-overflow"
         ],
         2,
         true,
         89
        ],
        [
         79490650,
         "2025-03-06T20:45:17Z",
         1741,
         "2025-03-06T20:45:17Z",
         [
          "docker",
          "docker-desktop"
         ],
         0,
         false,
         29
        ],
        [
         79483072,
         "2025-03-04T08:32:24Z",
         1741,
         "2025-03-05T15:30:45Z",
         [
          "javascript",
          "node.js",
          "extjs",
          "apache-superset"
         ],
         1,
         false,
         90
        ],
        [
         79483706,
         "2025-03-04T12:27:42Z",
         1741,
         "2025-03-04T12:27:42Z",
         [
          "java",
          "sql",
          "spring",
          "jsonb",
          "criteria-api"
         ],
         0,
         false,
         47
        ]
       ],
       "datasetInfos": [
        {
         "name": "_sqldf",
         "schema": {
          "fields": [
           {
            "metadata": {},
            "name": "question_id",
            "nullable": true,
            "type": "long"
           },
           {
            "metadata": {},
            "name": "creation_date",
            "nullable": true,
            "type": "timestamp"
           },
           {
            "metadata": {},
            "name": "creation_period",
            "nullable": true,
            "type": "long"
           },
           {
            "metadata": {},
            "name": "last_activity_date",
            "nullable": true,
            "type": "timestamp"
           },
           {
            "metadata": {},
            "name": "tags",
            "nullable": true,
            "type": {
             "containsNull": true,
             "elementType": "string",
             "type": "array"
            }
           },
           {
            "metadata": {},
            "name": "answer_count",
            "nullable": true,
            "type": "integer"
           },
           {
            "metadata": {},
            "name": "is_answered",
            "nullable": true,
            "type": "boolean"
           },
           {
            "metadata": {},
            "name": "view_count",
            "nullable": true,
            "type": "integer"
           }
          ],
          "type": "struct"
         },
         "tableIdentifier": null,
         "typeStr": "pyspark.sql.dataframe.DataFrame"
        }
       ],
       "dbfsResultPath": null,
       "isJsonSchema": true,
       "metadata": {
        "createTempViewForImplicitDf": true,
        "dataframeName": "_sqldf",
        "executionCount": 3
       },
       "overflow": false,
       "plotOptions": {
        "customPlotOptions": {},
        "displayType": "table",
        "pivotAggregation": null,
        "pivotColumns": null,
        "xColumns": null,
        "yColumns": null
       },
       "removedWidgets": [],
       "schema": [
        {
         "metadata": "{}",
         "name": "question_id",
         "type": "\"long\""
        },
        {
         "metadata": "{}",
         "name": "creation_date",
         "type": "\"timestamp\""
        },
        {
         "metadata": "{}",
         "name": "creation_period",
         "type": "\"long\""
        },
        {
         "metadata": "{}",
         "name": "last_activity_date",
         "type": "\"timestamp\""
        },
        {
         "metadata": "{}",
         "name": "tags",
         "type": "{\"type\":\"array\",\"elementType\":\"string\",\"containsNull\":true}"
        },
        {
         "metadata": "{}",
         "name": "answer_count",
         "type": "\"integer\""
        },
        {
         "metadata": "{}",
         "name": "is_answered",
         "type": "\"boolean\""
        },
        {
         "metadata": "{}",
         "name": "view_count",
         "type": "\"integer\""
        }
       ],
       "type": "table"
      }
     },
     "output_type": "display_data"
    }
   ],
   "source": [
    "%sql SELECT * FROM silver.questions LIMIT 20"
   ]
  }
 ],
 "metadata": {
  "application/vnd.databricks.v1+notebook": {
   "computePreferences": null,
   "dashboards": [],
   "environmentMetadata": {
    "base_environment": "",
    "environment_version": "3"
   },
   "inputWidgetPreferences": null,
   "language": "python",
   "notebookMetadata": {
    "mostRecentlyExecutedCommandWithImplicitDF": {
     "commandId": 4817661498311897,
     "dataframes": [
      "_sqldf"
     ]
    },
    "pythonIndentUnit": 4
   },
   "notebookName": "02_silver_transform",
   "widgets": {}
  },
  "language_info": {
   "name": "python"
  }
 },
 "nbformat": 4,
 "nbformat_minor": 0
}
