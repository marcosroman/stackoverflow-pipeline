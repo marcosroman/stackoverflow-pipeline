{
 "cells": [
  {
   "cell_type": "code",
   "execution_count": 0,
   "metadata": {
    "application/vnd.databricks.v1+cell": {
     "cellMetadata": {},
     "inputWidgets": {},
     "nuid": "3797e541-0813-4cce-a7e5-a679b8d2805d",
     "showTitle": false,
     "tableResultSettingsMap": {},
     "title": ""
    }
   },
   "outputs": [],
   "source": [
    "%sql\n",
    "CREATE DATABASE IF NOT EXISTS silver;\n",
    "\n",
    "CREATE TABLE IF NOT EXISTS silver.questions\n",
    "USING DELTA\n",
    "LOCATION '/mnt/silver/questions';"
   ]
  },
  {
   "cell_type": "code",
   "execution_count": 0,
   "metadata": {
    "application/vnd.databricks.v1+cell": {
     "cellMetadata": {
      "byteLimit": 2048000,
      "rowLimit": 10000
     },
     "inputWidgets": {},
     "nuid": "470fa6f6-c6e0-44ef-8fa5-79435653684b",
     "showTitle": false,
     "tableResultSettingsMap": {},
     "title": ""
    }
   },
   "outputs": [],
   "source": [
    "from pyspark.sql import functions as F\n",
    "\n",
    "bronze_df = spark.table(\"bronze.questions\")\n",
    "\n",
    "silver_df = bronze_df.select(\n",
    "    F.col(\"question_id\"),\n",
    "    F.from_unixtime(F.col(\"creation_date\")).cast(\"timestamp\").alias(\"creation_timestamp\"),\n",
    "    F.col(\"creation_period\"),\n",
    "    F.from_unixtime(F.col(\"last_activity_date\")).cast(\"timestamp\").alias(\"last_activity_timestamp\"),\n",
    "    F.col(\"tags\"),\n",
    "    F.col(\"answer_count\").cast(\"int\"),\n",
    "    F.col(\"is_answered\").cast(\"boolean\"),\n",
    "    F.col(\"view_count\").cast(\"int\")\n",
    ").filter(\n",
    "    F.col(\"question_id\").isNotNull()\n",
    ").dropDuplicates([\"question_id\"])\n",
    "\n",
    "silver_df.write \\\n",
    "    .format(\"delta\") \\\n",
    "    .mode(\"overwrite\") \\\n",
    "    .option(\"overwriteSchema\", \"true\") \\\n",
    "    .partitionBy(\"creation_period\") \\\n",
    "    .saveAsTable(\"silver.questions\")"
   ]
  },
  {
   "cell_type": "code",
   "execution_count": 0,
   "metadata": {
    "application/vnd.databricks.v1+cell": {
     "cellMetadata": {
      "byteLimit": 2048000,
      "implicitDf": true,
      "rowLimit": 10000
     },
     "inputWidgets": {},
     "nuid": "cd3874c3-0adf-40f3-9f8c-b9d57a5f0b2c",
     "showTitle": false,
     "tableResultSettingsMap": {
      "0": {
       "dataGridStateBlob": "{\"version\":1,\"tableState\":{\"columnPinning\":{\"left\":[\"#row_number#\"],\"right\":[]},\"columnSizing\":{},\"columnVisibility\":{}},\"settings\":{\"columns\":{}},\"syncTimestamp\":1759393104528}",
       "filterBlob": null,
       "queryPlanFiltersBlob": null,
       "tableResultIndex": 0
      }
     },
     "title": ""
    }
   },
   "outputs": [],
   "source": [
    "%sql SELECT * FROM silver.questions LIMIT 20"
   ]
  }
 ],
 "metadata": {
  "application/vnd.databricks.v1+notebook": {
   "computePreferences": null,
   "dashboards": [],
   "environmentMetadata": {
    "base_environment": "",
    "environment_version": "3"
   },
   "inputWidgetPreferences": null,
   "language": "python",
   "notebookMetadata": {
    "mostRecentlyExecutedCommandWithImplicitDF": {
     "commandId": 4817661498311897,
     "dataframes": [
      "_sqldf"
     ]
    },
    "pythonIndentUnit": 4
   },
   "notebookName": "02_silver_transform",
   "widgets": {}
  },
  "language_info": {
   "name": "python"
  }
 },
 "nbformat": 4,
 "nbformat_minor": 0
}
